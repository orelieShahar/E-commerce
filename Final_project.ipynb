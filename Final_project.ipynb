{
 "cells": [
  {
   "cell_type": "markdown",
   "metadata": {
    "colab_type": "text",
    "id": "u3eoIFnL3yCX"
   },
   "source": [
    "## Final project  of E-commerce course\n",
    "\n",
    "#### By Orelie Shahar"
   ]
  },
  {
   "cell_type": "markdown",
   "metadata": {
    "colab_type": "text",
    "id": "aEaMvTzk4SlP"
   },
   "source": []
  },
  {
   "cell_type": "code",
   "execution_count": 0,
   "metadata": {
    "colab": {
     "autoexec": {
      "startup": false,
      "wait_interval": 0
     }
    },
    "colab_type": "code",
    "id": "uuvysxMh4J7K"
   },
   "outputs": [],
   "source": [
    "### I use google colaboratory to run this code - so all the path are empty if you wish to run localy please add the correct path of movielen 100k dataset."
   ]
  },
  {
   "cell_type": "code",
   "execution_count": 0,
   "metadata": {
    "colab": {
     "autoexec": {
      "startup": false,
      "wait_interval": 0
     }
    },
    "colab_type": "code",
    "id": "23LfTmi94yEk"
   },
   "outputs": [],
   "source": [
    "from google.colab import auth\n",
    "auth.authenticate_user()"
   ]
  },
  {
   "cell_type": "code",
   "execution_count": 0,
   "metadata": {
    "colab": {
     "autoexec": {
      "startup": false,
      "wait_interval": 0
     }
    },
    "colab_type": "code",
    "id": "z7CqK7YV4yPR"
   },
   "outputs": [],
   "source": [
    "# Generate creds for the Drive FUSE library.\n",
    "from oauth2client.client import GoogleCredentials\n",
    "creds = GoogleCredentials.get_application_default()\n",
    "import getpass"
   ]
  },
  {
   "cell_type": "code",
   "execution_count": 8,
   "metadata": {
    "colab": {
     "autoexec": {
      "startup": false,
      "wait_interval": 0
     },
     "base_uri": "https://localhost:8080/",
     "height": 307,
     "resources": {
      "http://localhost:8080/nbextensions/google.colab/files.js": {
       "data": "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",
       "headers": [
        [
         "content-type",
         "application/javascript"
        ]
       ],
       "ok": true,
       "status": 200,
       "status_text": ""
      }
     }
    },
    "colab_type": "code",
    "executionInfo": {
     "elapsed": 65913,
     "status": "ok",
     "timestamp": 1532958262293,
     "user": {
      "displayName": "orelie shahar",
      "photoUrl": "https://lh3.googleusercontent.com/a/default-user=s128",
      "userId": "104271544169794618728"
     },
     "user_tz": -180
    },
    "id": "_Bq8hpdH4yZ3",
    "outputId": "ad17cd5d-fcb8-4963-cfdc-a5a1ea230b0a"
   },
   "outputs": [
    {
     "data": {
      "text/html": [
       "\n",
       "     <input type=\"file\" id=\"files-bf10a947-7968-4b75-9994-883240dacebb\" name=\"files[]\" multiple disabled />\n",
       "     <output id=\"result-bf10a947-7968-4b75-9994-883240dacebb\">\n",
       "      Upload widget is only available when the cell has been executed in the\n",
       "      current browser session. Please rerun this cell to enable.\n",
       "      </output>\n",
       "      <script src=\"/nbextensions/google.colab/files.js\"></script> "
      ],
      "text/plain": [
       "<IPython.core.display.HTML object>"
      ]
     },
     "metadata": {
      "tags": []
     },
     "output_type": "display_data"
    },
    {
     "name": "stdout",
     "output_type": "stream",
     "text": [
      "Saving u1.base to u1.base\n",
      "Saving u1.test to u1.test\n",
      "Saving u.data to u.data\n",
      "Saving u.genre to u.genre\n",
      "Saving u.info to u.info\n",
      "Saving u.item to u.item\n",
      "Saving u.occupation to u.occupation\n",
      "Saving u.user to u.user\n"
     ]
    }
   ],
   "source": [
    "from google.colab import files\n",
    "uploaded = files.upload()"
   ]
  },
  {
   "cell_type": "markdown",
   "metadata": {
    "colab_type": "text",
    "id": "ULbUBZsi3yCZ"
   },
   "source": [
    "### Part 1 - MF and GMF"
   ]
  },
  {
   "cell_type": "markdown",
   "metadata": {
    "colab_type": "text",
    "id": "BdOhS0z23yCa"
   },
   "source": [
    "#### Matrix Factorization"
   ]
  },
  {
   "cell_type": "code",
   "execution_count": 0,
   "metadata": {
    "colab": {
     "autoexec": {
      "startup": false,
      "wait_interval": 0
     }
    },
    "colab_type": "code",
    "id": "IVerCXNz3yCb"
   },
   "outputs": [],
   "source": [
    "import numpy as np\n",
    "import pandas as pd\n",
    "import os\n",
    "import tensorflow as T\n",
    "import keras\n",
    "from keras import backend as K\n",
    "from keras import initializers\n",
    "from keras.initializers import RandomNormal\n",
    "from keras.models import Sequential, Model, load_model, save_model\n",
    "from keras.layers.core import Dense , Dropout, Lambda, Activation\n",
    "from keras.layers import Embedding, Input, Dense, merge, Reshape, Flatten\n",
    "from keras.optimizers import Adagrad, Adam, SGD, RMSprop\n",
    "from keras.regularizers import l2\n",
    "from keras.layers import Multiply, Concatenate\n",
    "from keras.callbacks import Callback, EarlyStopping, ModelCheckpoint\n",
    "from time import time\n",
    "import multiprocessing as mp\n",
    "import sys\n",
    "import math\n",
    "import argparse\n",
    "import matplotlib.pyplot as plt"
   ]
  },
  {
   "cell_type": "code",
   "execution_count": 10,
   "metadata": {
    "colab": {
     "autoexec": {
      "startup": false,
      "wait_interval": 0
     },
     "base_uri": "https://localhost:8080/",
     "height": 34
    },
    "colab_type": "code",
    "executionInfo": {
     "elapsed": 1662,
     "status": "ok",
     "timestamp": 1532958315848,
     "user": {
      "displayName": "orelie shahar",
      "photoUrl": "https://lh3.googleusercontent.com/a/default-user=s128",
      "userId": "104271544169794618728"
     },
     "user_tz": -180
    },
    "id": "SC4zVW753yCe",
    "outputId": "7965967d-6a04-4422-91db-1682071db157"
   },
   "outputs": [
    {
     "name": "stdout",
     "output_type": "stream",
     "text": [
      "80000 ratings loaded - for train\n"
     ]
    }
   ],
   "source": [
    "##add your path here if you run localy and not with google colaboratry\n",
    "MOVIELENS_DIR = ''\n",
    "RATING_DATA_FILE = 'u1.base'\n",
    "RATINGS_CSV_FILE = 'u_emb.data'\n",
    "MODEL_WEIGHTS_FILE = 'u_emb_weights.h5'\n",
    "\n",
    "\n",
    "ratings = pd.read_csv(os.path.join(MOVIELENS_DIR, RATING_DATA_FILE), \n",
    "                    sep='\\t', \n",
    "                    engine='python', \n",
    "                    encoding='latin-1',\n",
    "                    names=['userid', 'movieid', 'rating', 'timestamp'])\n",
    "max_userid = ratings['userid'].drop_duplicates().max()\n",
    "max_movieid = ratings['movieid'].drop_duplicates().max()\n",
    "ratings['user_emb_id'] = ratings['userid'] - 1\n",
    "ratings['movie_emb_id'] = ratings['movieid'] - 1\n",
    "print(str(len(ratings))+' ratings loaded - for train')\n",
    "ratings.to_csv(RATINGS_CSV_FILE, \n",
    "               sep='\\t', \n",
    "               header=True, \n",
    "               encoding='latin-1', \n",
    "               columns=['userid', 'movieid', 'rating', 'timestamp', 'user_emb_id', 'movie_emb_id'])\n",
    "\n",
    "\n",
    "ratings = pd.read_csv(RATINGS_CSV_FILE, \n",
    "                      sep='\\t', \n",
    "                      encoding='latin-1', \n",
    "                      usecols=['userid', 'movieid', 'user_emb_id', 'movie_emb_id', 'rating'])\n",
    "max_userid = ratings['userid'].drop_duplicates().max()\n",
    "max_movieid = ratings['movieid'].drop_duplicates().max()\n",
    "\n",
    "shuffled_ratings = ratings.sample(frac=1.)\n",
    "Users = shuffled_ratings['user_emb_id'].values\n",
    "Movies = shuffled_ratings['movie_emb_id'].values\n",
    "Ratings = shuffled_ratings['rating'].values\n"
   ]
  },
  {
   "cell_type": "code",
   "execution_count": 11,
   "metadata": {
    "colab": {
     "autoexec": {
      "startup": false,
      "wait_interval": 0
     },
     "base_uri": "https://localhost:8080/",
     "height": 34
    },
    "colab_type": "code",
    "executionInfo": {
     "elapsed": 875,
     "status": "ok",
     "timestamp": 1532958319693,
     "user": {
      "displayName": "orelie shahar",
      "photoUrl": "https://lh3.googleusercontent.com/a/default-user=s128",
      "userId": "104271544169794618728"
     },
     "user_tz": -180
    },
    "id": "OwuAgJv23yCg",
    "outputId": "b5c9f6ed-f768-43d6-857a-d78486552f87"
   },
   "outputs": [
    {
     "name": "stdout",
     "output_type": "stream",
     "text": [
      "20000 ratings loaded for tests\n"
     ]
    }
   ],
   "source": [
    "MOVIELENS_DIR = ''\n",
    "RATING_DATA_FILE = 'u1.test'\n",
    "RATINGS_CSV_FILE = 'u_emb1.data'\n",
    "MODEL_WEIGHTS_FILE = 'u_emb1_weights.h5'\n",
    "\n",
    "\n",
    "ratings1 = pd.read_csv(os.path.join(MOVIELENS_DIR, RATING_DATA_FILE), \n",
    "                    sep='\\t', \n",
    "                    engine='python', \n",
    "                    encoding='latin-1',\n",
    "                    names=['userid', 'movieid', 'rating', 'timestamp'])\n",
    "max_userid1 = ratings1['userid'].drop_duplicates().max()\n",
    "max_movieid1 = ratings1['movieid'].drop_duplicates().max()\n",
    "ratings1['user_emb_id'] = ratings1['userid'] - 1\n",
    "ratings1['movie_emb_id'] = ratings1['movieid'] - 1\n",
    "print(str(len(ratings1))+' ratings loaded for tests')\n",
    "ratings1.to_csv(RATINGS_CSV_FILE, \n",
    "               sep='\\t', \n",
    "               header=True, \n",
    "               encoding='latin-1', \n",
    "               columns=['userid', 'movieid', 'rating', 'timestamp', 'user_emb_id', 'movie_emb_id'])\n",
    "\n",
    "\n",
    "\n",
    "ratings1 = pd.read_csv(RATINGS_CSV_FILE, \n",
    "                      sep='\\t', \n",
    "                      encoding='latin-1', \n",
    "                      usecols=['userid', 'movieid', 'user_emb_id', 'movie_emb_id', 'rating'])\n",
    "max_userid1 = ratings1['userid'].drop_duplicates().max()\n",
    "max_movieid1 = ratings1['movieid'].drop_duplicates().max()\n",
    "\n",
    "\n",
    "shuffled_ratings1 = ratings1.sample(frac=1.)\n",
    "Users1 = shuffled_ratings1['user_emb_id'].values\n",
    "Movies1 = shuffled_ratings1['movie_emb_id'].values\n",
    "Ratings1 = shuffled_ratings1['rating'].values\n"
   ]
  },
  {
   "cell_type": "code",
   "execution_count": 0,
   "metadata": {
    "colab": {
     "autoexec": {
      "startup": false,
      "wait_interval": 0
     }
    },
    "colab_type": "code",
    "id": "wcZOXgCqQM4e"
   },
   "outputs": [],
   "source": [
    "\n"
   ]
  },
  {
   "cell_type": "markdown",
   "metadata": {
    "colab_type": "text",
    "id": "iB9sp5Uv3yCj"
   },
   "source": [
    "### we will calculate the result and MAE with:\n",
    "#### embedding of: user-item, item-user\n",
    "#### drop-out of: 0.1, 0.5"
   ]
  },
  {
   "cell_type": "code",
   "execution_count": 0,
   "metadata": {
    "colab": {
     "autoexec": {
      "startup": false,
      "wait_interval": 0
     }
    },
    "colab_type": "code",
    "id": "wuDbn4RTT2VR"
   },
   "outputs": [],
   "source": [
    "#embedding item-user\n",
    "def get_model_item_user(num_users, num_items, latent_dim,dropout_size):\n",
    "    # Input variables\n",
    "    user_input = Input(shape=(1,), dtype='int32', name = 'user_input')\n",
    "    item_input = Input(shape=(1,), dtype='int32', name = 'item_input')\n",
    "\n",
    "    MF_Embedding_User = Embedding(input_dim = num_users, output_dim = latent_dim, name = 'user_embedding', input_length=1)\n",
    "    MF_Embedding_Item = Embedding(input_dim = num_items, output_dim = latent_dim, name = 'item_embedding', input_length=1)   \n",
    "    \n",
    "    # Crucial to flatten an embedding vector!\n",
    "    user_latent = Flatten()(MF_Embedding_User(user_input))\n",
    "    item_latent = Flatten()(MF_Embedding_Item(item_input))\n",
    "    \n",
    "    # Element-wise product of user and item embeddings\n",
    "    prediction = merge([item_latent,user_latent], mode = 'dot')\n",
    "    prediction = Dropout(dropout_size)(prediction)\n",
    "\n",
    "    \n",
    "    model = Model(input=[item_input, user_input], output=prediction)\n",
    "\n",
    "    return model\n",
    "  \n",
    "  \n",
    "  \n",
    "  \n",
    "#embedding user-item\n",
    "def get_model_user_item(num_users, num_items, latent_dim,dropout_size):\n",
    "    # Input variables\n",
    "    user_input = Input(shape=(1,), dtype='int32', name = 'user_input')\n",
    "    item_input = Input(shape=(1,), dtype='int32', name = 'item_input')\n",
    "\n",
    "    MF_Embedding_User = Embedding(input_dim = num_users, output_dim = latent_dim, name = 'user_embedding', input_length=1)\n",
    "    MF_Embedding_Item = Embedding(input_dim = num_items, output_dim = latent_dim, name = 'item_embedding', input_length=1)   \n",
    "    \n",
    "    # Crucial to flatten an embedding vector!\n",
    "    user_latent = Flatten()(MF_Embedding_User(user_input))\n",
    "    item_latent = Flatten()(MF_Embedding_Item(item_input))\n",
    "    \n",
    "    # Element-wise product of user and item embeddings\n",
    "    prediction = merge([user_latent,item_latent], mode = 'dot')\n",
    "    prediction = Dropout(dropout_size)(prediction)\n",
    "\n",
    "    \n",
    "    model = Model(input=[ user_input,item_input], output=prediction)\n",
    "\n",
    "    return model\n",
    "  \n"
   ]
  },
  {
   "cell_type": "markdown",
   "metadata": {
    "colab_type": "text",
    "id": "NWBzFxSw3yCk"
   },
   "source": [
    "### embedding = Item-User , Dropout = 0.5\n"
   ]
  },
  {
   "cell_type": "code",
   "execution_count": 13,
   "metadata": {
    "colab": {
     "autoexec": {
      "startup": false,
      "wait_interval": 0
     },
     "base_uri": "https://localhost:8080/",
     "height": 1873
    },
    "colab_type": "code",
    "executionInfo": {
     "elapsed": 201496,
     "status": "ok",
     "timestamp": 1532958538146,
     "user": {
      "displayName": "orelie shahar",
      "photoUrl": "https://lh3.googleusercontent.com/a/default-user=s128",
      "userId": "104271544169794618728"
     },
     "user_tz": -180
    },
    "id": "AIJVp4Lo3yCl",
    "outputId": "303f84e5-d38a-453c-ec79-8b0f3d10c931"
   },
   "outputs": [
    {
     "name": "stderr",
     "output_type": "stream",
     "text": [
      "/usr/local/lib/python3.6/dist-packages/ipykernel_launcher.py:14: UserWarning: The `merge` function is deprecated and will be removed after 08/2017. Use instead layers from `keras.layers.merge`, e.g. `add`, `concatenate`, etc.\n",
      "  \n",
      "/usr/local/lib/python3.6/dist-packages/keras/legacy/layers.py:465: UserWarning: The `Merge` layer is deprecated and will be removed after 08/2017. Use instead layers from `keras.layers.merge`, e.g. `add`, `concatenate`, etc.\n",
      "  name=name)\n",
      "/usr/local/lib/python3.6/dist-packages/ipykernel_launcher.py:18: UserWarning: Update your `Model` call to the Keras 2 API: `Model(inputs=[<tf.Tenso..., outputs=Tensor(\"dr...)`\n",
      "/usr/local/lib/python3.6/dist-packages/ipykernel_launcher.py:12: UserWarning: The `nb_epoch` argument in `fit` has been renamed `epochs`.\n",
      "  if sys.path[0] == '':\n"
     ]
    },
    {
     "name": "stdout",
     "output_type": "stream",
     "text": [
      "Train on 80000 samples, validate on 20000 samples\n",
      "Epoch 1/100\n",
      "80000/80000 [==============================] - 4s 54us/step - loss: 3.5278 - mean_absolute_error: 3.5278 - val_loss: 3.5338 - val_mean_absolute_error: 3.5338\n",
      "Epoch 2/100\n",
      "80000/80000 [==============================] - 4s 51us/step - loss: 3.5004 - mean_absolute_error: 3.5004 - val_loss: 3.4788 - val_mean_absolute_error: 3.4788\n",
      "Epoch 3/100\n",
      "80000/80000 [==============================] - 4s 51us/step - loss: 3.3314 - mean_absolute_error: 3.3314 - val_loss: 3.2706 - val_mean_absolute_error: 3.2706\n",
      "Epoch 4/100\n",
      "41024/80000 [==============>...............] - ETA: 1s - loss: 3.0865 - mean_absolute_error: 3.086580000/80000 [==============================] - 4s 51us/step - loss: 2.9961 - mean_absolute_error: 2.9961 - val_loss: 2.9389 - val_mean_absolute_error: 2.9389\n",
      "Epoch 5/100\n",
      "80000/80000 [==============================] - 4s 50us/step - loss: 2.7156 - mean_absolute_error: 2.7156 - val_loss: 2.6372 - val_mean_absolute_error: 2.6372\n",
      "Epoch 6/100\n",
      "80000/80000 [==============================] - 4s 50us/step - loss: 2.5412 - mean_absolute_error: 2.5412 - val_loss: 2.4221 - val_mean_absolute_error: 2.4221\n",
      "Epoch 7/100\n",
      "79392/80000 [============================>.] - ETA: 0s - loss: 2.4316 - mean_absolute_error: 2.431680000/80000 [==============================] - 4s 50us/step - loss: 2.4308 - mean_absolute_error: 2.4308 - val_loss: 2.2754 - val_mean_absolute_error: 2.2754\n",
      "Epoch 8/100\n",
      "80000/80000 [==============================] - 4s 50us/step - loss: 2.3629 - mean_absolute_error: 2.3629 - val_loss: 2.1740 - val_mean_absolute_error: 2.1740\n",
      "Epoch 9/100\n",
      "80000/80000 [==============================] - 4s 51us/step - loss: 2.3022 - mean_absolute_error: 2.3022 - val_loss: 2.1050 - val_mean_absolute_error: 2.1050\n",
      "Epoch 10/100\n",
      "80000/80000 [==============================] - 4s 50us/step - loss: 2.2522 - mean_absolute_error: 2.2522 - val_loss: 2.0454 - val_mean_absolute_error: 2.0454\n",
      "Epoch 11/100\n",
      " 1184/80000 [..............................] - ETA: 3s - loss: 2.2089 - mean_absolute_error: 2.2089 80000/80000 [==============================] - 4s 50us/step - loss: 2.2398 - mean_absolute_error: 2.2398 - val_loss: 2.0058 - val_mean_absolute_error: 2.0058\n",
      "Epoch 12/100\n",
      "80000/80000 [==============================] - 4s 51us/step - loss: 2.2234 - mean_absolute_error: 2.2234 - val_loss: 1.9716 - val_mean_absolute_error: 1.9716\n",
      "Epoch 13/100\n",
      "80000/80000 [==============================] - 4s 51us/step - loss: 2.2031 - mean_absolute_error: 2.2031 - val_loss: 1.9510 - val_mean_absolute_error: 1.9510\n",
      "Epoch 14/100\n",
      "69408/80000 [=========================>....] - ETA: 0s - loss: 2.1951 - mean_absolute_error: 2.195180000/80000 [==============================] - 4s 51us/step - loss: 2.1926 - mean_absolute_error: 2.1926 - val_loss: 1.9311 - val_mean_absolute_error: 1.9311\n",
      "Epoch 15/100\n",
      "80000/80000 [==============================] - 4s 51us/step - loss: 2.1808 - mean_absolute_error: 2.1808 - val_loss: 1.9152 - val_mean_absolute_error: 1.9152\n",
      "Epoch 16/100\n",
      "80000/80000 [==============================] - 4s 51us/step - loss: 2.1701 - mean_absolute_error: 2.1701 - val_loss: 1.8983 - val_mean_absolute_error: 1.8983\n",
      "Epoch 17/100\n",
      "80000/80000 [==============================] - 4s 51us/step - loss: 2.1696 - mean_absolute_error: 2.1696 - val_loss: 1.8855 - val_mean_absolute_error: 1.8855\n",
      "Epoch 18/100\n",
      "80000/80000 [==============================] - 4s 51us/step - loss: 2.1646 - mean_absolute_error: 2.1646 - val_loss: 1.8819 - val_mean_absolute_error: 1.8819\n",
      "Epoch 19/100\n",
      "80000/80000 [==============================] - 4s 50us/step - loss: 2.1600 - mean_absolute_error: 2.1600 - val_loss: 1.8709 - val_mean_absolute_error: 1.8709\n",
      "Epoch 20/100\n",
      "80000/80000 [==============================] - 4s 50us/step - loss: 2.1483 - mean_absolute_error: 2.1483 - val_loss: 1.8559 - val_mean_absolute_error: 1.8559\n",
      "Epoch 21/100\n",
      "65600/80000 [=======================>......] - ETA: 0s - loss: 2.1604 - mean_absolute_error: 2.160480000/80000 [==============================] - 4s 51us/step - loss: 2.1554 - mean_absolute_error: 2.1554 - val_loss: 1.8543 - val_mean_absolute_error: 1.8543\n",
      "Epoch 22/100\n",
      "80000/80000 [==============================] - 4s 50us/step - loss: 2.1471 - mean_absolute_error: 2.1471 - val_loss: 1.8532 - val_mean_absolute_error: 1.8532\n",
      "Epoch 23/100\n",
      "80000/80000 [==============================] - 4s 50us/step - loss: 2.1411 - mean_absolute_error: 2.1411 - val_loss: 1.8486 - val_mean_absolute_error: 1.8486\n",
      "Epoch 24/100\n",
      "80000/80000 [==============================] - 4s 50us/step - loss: 2.1537 - mean_absolute_error: 2.1537 - val_loss: 1.8416 - val_mean_absolute_error: 1.8416\n",
      "Epoch 25/100\n",
      " 1184/80000 [..............................] - ETA: 3s - loss: 2.0593 - mean_absolute_error: 2.0593 80000/80000 [==============================] - 4s 50us/step - loss: 2.1356 - mean_absolute_error: 2.1356 - val_loss: 1.8354 - val_mean_absolute_error: 1.8354\n",
      "Epoch 26/100\n",
      "80000/80000 [==============================] - 4s 50us/step - loss: 2.1337 - mean_absolute_error: 2.1337 - val_loss: 1.8326 - val_mean_absolute_error: 1.8326\n",
      "Epoch 27/100\n",
      "80000/80000 [==============================] - 4s 50us/step - loss: 2.1352 - mean_absolute_error: 2.1352 - val_loss: 1.8341 - val_mean_absolute_error: 1.8341\n",
      "Epoch 28/100\n",
      "72032/80000 [==========================>...] - ETA: 0s - loss: 2.1394 - mean_absolute_error: 2.139480000/80000 [==============================] - 4s 51us/step - loss: 2.1377 - mean_absolute_error: 2.1377 - val_loss: 1.8322 - val_mean_absolute_error: 1.8322\n",
      "Epoch 29/100\n",
      "80000/80000 [==============================] - 4s 51us/step - loss: 2.1255 - mean_absolute_error: 2.1255 - val_loss: 1.8314 - val_mean_absolute_error: 1.8314\n",
      "Epoch 30/100\n",
      "80000/80000 [==============================] - 4s 51us/step - loss: 2.1281 - mean_absolute_error: 2.1281 - val_loss: 1.8244 - val_mean_absolute_error: 1.8244\n",
      "Epoch 31/100\n",
      "80000/80000 [==============================] - 4s 50us/step - loss: 2.1386 - mean_absolute_error: 2.1386 - val_loss: 1.8238 - val_mean_absolute_error: 1.8238\n",
      "Epoch 32/100\n",
      " 1152/80000 [..............................] - ETA: 3s - loss: 2.1045 - mean_absolute_error: 2.1045 80000/80000 [==============================] - 4s 50us/step - loss: 2.1356 - mean_absolute_error: 2.1356 - val_loss: 1.8151 - val_mean_absolute_error: 1.8151\n",
      "Epoch 33/100\n",
      "80000/80000 [==============================] - 4s 51us/step - loss: 2.1243 - mean_absolute_error: 2.1243 - val_loss: 1.8132 - val_mean_absolute_error: 1.8132\n",
      "Epoch 34/100\n",
      "80000/80000 [==============================] - 4s 50us/step - loss: 2.1302 - mean_absolute_error: 2.1302 - val_loss: 1.8120 - val_mean_absolute_error: 1.8120\n",
      "Epoch 35/100\n",
      "71488/80000 [=========================>....] - ETA: 0s - loss: 2.1396 - mean_absolute_error: 2.139680000/80000 [==============================] - 4s 50us/step - loss: 2.1370 - mean_absolute_error: 2.1370 - val_loss: 1.8159 - val_mean_absolute_error: 1.8159\n",
      "Epoch 36/100\n",
      "80000/80000 [==============================] - 4s 50us/step - loss: 2.1271 - mean_absolute_error: 2.1271 - val_loss: 1.8115 - val_mean_absolute_error: 1.8115\n",
      "Epoch 37/100\n",
      "80000/80000 [==============================] - 4s 51us/step - loss: 2.1211 - mean_absolute_error: 2.1211 - val_loss: 1.8149 - val_mean_absolute_error: 1.8149\n",
      "Epoch 38/100\n",
      "80000/80000 [==============================] - 4s 50us/step - loss: 2.1272 - mean_absolute_error: 2.1272 - val_loss: 1.8086 - val_mean_absolute_error: 1.8086\n",
      "Epoch 39/100\n",
      " 1120/80000 [..............................] - ETA: 3s - loss: 2.1258 - mean_absolute_error: 2.1258 80000/80000 [==============================] - 4s 51us/step - loss: 2.1225 - mean_absolute_error: 2.1225 - val_loss: 1.8116 - val_mean_absolute_error: 1.8116\n",
      "Epoch 40/100\n",
      "80000/80000 [==============================] - 4s 51us/step - loss: 2.1263 - mean_absolute_error: 2.1263 - val_loss: 1.8111 - val_mean_absolute_error: 1.8111\n",
      "Epoch 41/100\n",
      "80000/80000 [==============================] - 4s 53us/step - loss: 2.1261 - mean_absolute_error: 2.1261 - val_loss: 1.8083 - val_mean_absolute_error: 1.8083\n",
      "Epoch 42/100\n",
      "64064/80000 [=======================>......] - ETA: 0s - loss: 2.1266 - mean_absolute_error: 2.126680000/80000 [==============================] - 4s 53us/step - loss: 2.1248 - mean_absolute_error: 2.1248 - val_loss: 1.8084 - val_mean_absolute_error: 1.8084\n",
      "Epoch 43/100\n",
      "80000/80000 [==============================] - 4s 53us/step - loss: 2.1204 - mean_absolute_error: 2.1204 - val_loss: 1.8085 - val_mean_absolute_error: 1.8085\n",
      "Epoch 44/100\n",
      "80000/80000 [==============================] - 4s 54us/step - loss: 2.1157 - mean_absolute_error: 2.1157 - val_loss: 1.8038 - val_mean_absolute_error: 1.8038\n",
      "Epoch 45/100\n"
     ]
    },
    {
     "name": "stdout",
     "output_type": "stream",
     "text": [
      "74400/80000 [==========================>...] - ETA: 0s - loss: 2.1174 - mean_absolute_error: 2.117480000/80000 [==============================] - 4s 51us/step - loss: 2.1180 - mean_absolute_error: 2.1180 - val_loss: 1.8067 - val_mean_absolute_error: 1.8067\n",
      "Epoch 46/100\n",
      "80000/80000 [==============================] - 4s 51us/step - loss: 2.1076 - mean_absolute_error: 2.1076 - val_loss: 1.8017 - val_mean_absolute_error: 1.8017\n",
      "Epoch 47/100\n",
      "80000/80000 [==============================] - 4s 52us/step - loss: 2.1126 - mean_absolute_error: 2.1126 - val_loss: 1.8030 - val_mean_absolute_error: 1.8030\n",
      "Epoch 48/100\n",
      "75648/80000 [===========================>..] - ETA: 0s - loss: 2.1125 - mean_absolute_error: 2.112580000/80000 [==============================] - 4s 53us/step - loss: 2.1111 - mean_absolute_error: 2.1111 - val_loss: 1.8019 - val_mean_absolute_error: 1.8019\n",
      "Epoch 49/100\n",
      "80000/80000 [==============================] - 4s 53us/step - loss: 2.1157 - mean_absolute_error: 2.1157 - val_loss: 1.8033 - val_mean_absolute_error: 1.8033\n",
      "Total time :  200.90217280387878\n",
      "MAE :  1.8017194688796998\n"
     ]
    }
   ],
   "source": [
    "\n",
    "\n",
    "K_LATENT = 20\n",
    "dropout = 0.5\n",
    "\n",
    "MF_model = get_model_item_user(max_userid,max_movieid,K_LATENT,dropout)\n",
    "MF_model.compile(loss='mae', optimizer='adamax',metrics=['mae'])\n",
    "import time\n",
    "ini = time.time()\n",
    "callbacks = [EarlyStopping('val_loss', patience=3), \n",
    "             ModelCheckpoint(MODEL_WEIGHTS_FILE, save_best_only=True)]\n",
    "history = MF_model.fit([Movies, Users], Ratings, nb_epoch=100,  verbose=1, validation_data=([Movies1,Users1], Ratings1), callbacks=callbacks)\n",
    "\n",
    "\n",
    "end = time.time()\n",
    "print (\"Total time : \",end-ini)\n",
    "print(\"MAE : \" , min(history.history['val_loss']))"
   ]
  },
  {
   "cell_type": "code",
   "execution_count": 25,
   "metadata": {
    "colab": {
     "autoexec": {
      "startup": false,
      "wait_interval": 0
     },
     "base_uri": "https://localhost:8080/",
     "height": 68
    },
    "colab_type": "code",
    "executionInfo": {
     "elapsed": 962,
     "status": "ok",
     "timestamp": 1532959812534,
     "user": {
      "displayName": "orelie shahar",
      "photoUrl": "https://lh3.googleusercontent.com/a/default-user=s128",
      "userId": "104271544169794618728"
     },
     "user_tz": -180
    },
    "id": "einfDxHkSdIV",
    "outputId": "e923f44c-4a11-4f4f-b27f-2b88eac110b0"
   },
   "outputs": [
    {
     "name": "stdout",
     "output_type": "stream",
     "text": [
      "20000/20000 [==============================] - 0s 23us/step\n",
      "Test MSE: 1.8032565315246583\n",
      "Test MAE: 1.8032565315246583\n"
     ]
    }
   ],
   "source": [
    "#score = model.evaluate(x_test, y_test, verbose=0)\n",
    "score =MF_model.evaluate([Movies1,Users1], Ratings1,verbose=1)\n",
    "print('Test MSE:', score[0])\n",
    "print('Test MAE:', score[1])\n"
   ]
  },
  {
   "cell_type": "markdown",
   "metadata": {
    "colab_type": "text",
    "id": "Z4eIcQ3_3yCn"
   },
   "source": [
    "### embedding = Item-User , Dropout = 0.1\n"
   ]
  },
  {
   "cell_type": "code",
   "execution_count": 26,
   "metadata": {
    "colab": {
     "autoexec": {
      "startup": false,
      "wait_interval": 0
     },
     "base_uri": "https://localhost:8080/",
     "height": 2145
    },
    "colab_type": "code",
    "executionInfo": {
     "elapsed": 233981,
     "status": "ok",
     "timestamp": 1532960484051,
     "user": {
      "displayName": "orelie shahar",
      "photoUrl": "https://lh3.googleusercontent.com/a/default-user=s128",
      "userId": "104271544169794618728"
     },
     "user_tz": -180
    },
    "id": "uPWlnhNE3yCo",
    "outputId": "55a5350e-d163-4cb9-8cc9-c662de300e49"
   },
   "outputs": [
    {
     "name": "stderr",
     "output_type": "stream",
     "text": [
      "/usr/local/lib/python3.6/dist-packages/ipykernel_launcher.py:14: UserWarning: The `merge` function is deprecated and will be removed after 08/2017. Use instead layers from `keras.layers.merge`, e.g. `add`, `concatenate`, etc.\n",
      "  \n",
      "/usr/local/lib/python3.6/dist-packages/keras/legacy/layers.py:465: UserWarning: The `Merge` layer is deprecated and will be removed after 08/2017. Use instead layers from `keras.layers.merge`, e.g. `add`, `concatenate`, etc.\n",
      "  name=name)\n",
      "/usr/local/lib/python3.6/dist-packages/ipykernel_launcher.py:18: UserWarning: Update your `Model` call to the Keras 2 API: `Model(inputs=[<tf.Tenso..., outputs=Tensor(\"dr...)`\n",
      "/usr/local/lib/python3.6/dist-packages/ipykernel_launcher.py:12: UserWarning: The `nb_epoch` argument in `fit` has been renamed `epochs`.\n",
      "  if sys.path[0] == '':\n"
     ]
    },
    {
     "name": "stdout",
     "output_type": "stream",
     "text": [
      "Train on 80000 samples, validate on 20000 samples\n",
      "Epoch 1/100\n",
      "80000/80000 [==============================] - 4s 53us/step - loss: 3.5197 - mean_absolute_error: 3.5197 - val_loss: 3.5010 - val_mean_absolute_error: 3.5010\n",
      "Epoch 2/100\n",
      "80000/80000 [==============================] - 4s 51us/step - loss: 3.2684 - mean_absolute_error: 3.2684 - val_loss: 3.1022 - val_mean_absolute_error: 3.1022\n",
      "Epoch 3/100\n",
      "80000/80000 [==============================] - 4s 51us/step - loss: 2.5328 - mean_absolute_error: 2.5328 - val_loss: 2.3864 - val_mean_absolute_error: 2.3864\n",
      "Epoch 4/100\n",
      "40640/80000 [==============>...............] - ETA: 1s - loss: 2.0292 - mean_absolute_error: 2.029280000/80000 [==============================] - 4s 51us/step - loss: 1.9278 - mean_absolute_error: 1.9278 - val_loss: 1.8471 - val_mean_absolute_error: 1.8471\n",
      "Epoch 5/100\n",
      "80000/80000 [==============================] - 4s 51us/step - loss: 1.5971 - mean_absolute_error: 1.5971 - val_loss: 1.5125 - val_mean_absolute_error: 1.5125\n",
      "Epoch 6/100\n",
      "80000/80000 [==============================] - 4s 50us/step - loss: 1.4083 - mean_absolute_error: 1.4083 - val_loss: 1.3217 - val_mean_absolute_error: 1.3217\n",
      "Epoch 7/100\n",
      "79168/80000 [============================>.] - ETA: 0s - loss: 1.2876 - mean_absolute_error: 1.287680000/80000 [==============================] - 4s 50us/step - loss: 1.2872 - mean_absolute_error: 1.2872 - val_loss: 1.1942 - val_mean_absolute_error: 1.1942\n",
      "Epoch 8/100\n",
      "80000/80000 [==============================] - 4s 51us/step - loss: 1.2073 - mean_absolute_error: 1.2073 - val_loss: 1.1062 - val_mean_absolute_error: 1.1062\n",
      "Epoch 9/100\n",
      "80000/80000 [==============================] - 4s 51us/step - loss: 1.1636 - mean_absolute_error: 1.1636 - val_loss: 1.0439 - val_mean_absolute_error: 1.0439\n",
      "Epoch 10/100\n",
      "80000/80000 [==============================] - 4s 51us/step - loss: 1.1222 - mean_absolute_error: 1.1222 - val_loss: 0.9986 - val_mean_absolute_error: 0.9986\n",
      "Epoch 11/100\n",
      " 1088/80000 [..............................] - ETA: 4s - loss: 1.0939 - mean_absolute_error: 1.0939 80000/80000 [==============================] - 4s 51us/step - loss: 1.1025 - mean_absolute_error: 1.1025 - val_loss: 0.9667 - val_mean_absolute_error: 0.9667\n",
      "Epoch 12/100\n",
      "80000/80000 [==============================] - 4s 51us/step - loss: 1.0828 - mean_absolute_error: 1.0828 - val_loss: 0.9447 - val_mean_absolute_error: 0.9447\n",
      "Epoch 13/100\n",
      "80000/80000 [==============================] - 4s 51us/step - loss: 1.0660 - mean_absolute_error: 1.0660 - val_loss: 0.9227 - val_mean_absolute_error: 0.9227\n",
      "Epoch 14/100\n",
      "71232/80000 [=========================>....] - ETA: 0s - loss: 1.0573 - mean_absolute_error: 1.057380000/80000 [==============================] - 4s 51us/step - loss: 1.0577 - mean_absolute_error: 1.0577 - val_loss: 0.9103 - val_mean_absolute_error: 0.9103\n",
      "Epoch 15/100\n",
      "80000/80000 [==============================] - 4s 51us/step - loss: 1.0527 - mean_absolute_error: 1.0527 - val_loss: 0.8974 - val_mean_absolute_error: 0.8974\n",
      "Epoch 16/100\n",
      "80000/80000 [==============================] - 4s 51us/step - loss: 1.0345 - mean_absolute_error: 1.0345 - val_loss: 0.8855 - val_mean_absolute_error: 0.8855\n",
      "Epoch 17/100\n",
      "80000/80000 [==============================] - 4s 51us/step - loss: 1.0401 - mean_absolute_error: 1.0401 - val_loss: 0.8759 - val_mean_absolute_error: 0.8759\n",
      "Epoch 18/100\n",
      "80000/80000 [==============================] - 4s 51us/step - loss: 1.0355 - mean_absolute_error: 1.0355 - val_loss: 0.8698 - val_mean_absolute_error: 0.8698\n",
      "Epoch 19/100\n",
      "80000/80000 [==============================] - 4s 51us/step - loss: 1.0329 - mean_absolute_error: 1.0329 - val_loss: 0.8638 - val_mean_absolute_error: 0.8638\n",
      "Epoch 20/100\n",
      "80000/80000 [==============================] - 4s 51us/step - loss: 1.0194 - mean_absolute_error: 1.0194 - val_loss: 0.8555 - val_mean_absolute_error: 0.8555\n",
      "Epoch 21/100\n",
      "63296/80000 [======================>.......] - ETA: 0s - loss: 1.0192 - mean_absolute_error: 1.019280000/80000 [==============================] - 4s 51us/step - loss: 1.0212 - mean_absolute_error: 1.0212 - val_loss: 0.8536 - val_mean_absolute_error: 0.8536\n",
      "Epoch 22/100\n",
      "80000/80000 [==============================] - 4s 51us/step - loss: 1.0186 - mean_absolute_error: 1.0186 - val_loss: 0.8492 - val_mean_absolute_error: 0.8492\n",
      "Epoch 23/100\n",
      "80000/80000 [==============================] - 4s 51us/step - loss: 1.0221 - mean_absolute_error: 1.0221 - val_loss: 0.8465 - val_mean_absolute_error: 0.8465\n",
      "Epoch 24/100\n",
      "80000/80000 [==============================] - 4s 51us/step - loss: 1.0165 - mean_absolute_error: 1.0165 - val_loss: 0.8419 - val_mean_absolute_error: 0.8419\n",
      "Epoch 25/100\n",
      "80000/80000 [==============================] - 4s 51us/step - loss: 1.0126 - mean_absolute_error: 1.0126 - val_loss: 0.8404 - val_mean_absolute_error: 0.8404\n",
      "Epoch 26/100\n",
      "80000/80000 [==============================] - 4s 51us/step - loss: 1.0016 - mean_absolute_error: 1.0016 - val_loss: 0.8368 - val_mean_absolute_error: 0.8368\n",
      "Epoch 27/100\n",
      "80000/80000 [==============================] - 4s 51us/step - loss: 1.0051 - mean_absolute_error: 1.0051 - val_loss: 0.8357 - val_mean_absolute_error: 0.8357\n",
      "Epoch 28/100\n",
      "63968/80000 [======================>.......] - ETA: 0s - loss: 0.9988 - mean_absolute_error: 0.998880000/80000 [==============================] - 4s 51us/step - loss: 1.0020 - mean_absolute_error: 1.0020 - val_loss: 0.8324 - val_mean_absolute_error: 0.8324\n",
      "Epoch 29/100\n",
      "80000/80000 [==============================] - 4s 50us/step - loss: 1.0048 - mean_absolute_error: 1.0048 - val_loss: 0.8292 - val_mean_absolute_error: 0.8292\n",
      "Epoch 30/100\n",
      "80000/80000 [==============================] - 4s 51us/step - loss: 1.0012 - mean_absolute_error: 1.0012 - val_loss: 0.8282 - val_mean_absolute_error: 0.8282\n",
      "Epoch 31/100\n",
      "80000/80000 [==============================] - 4s 51us/step - loss: 0.9979 - mean_absolute_error: 0.9979 - val_loss: 0.8265 - val_mean_absolute_error: 0.8265\n",
      "Epoch 32/100\n",
      "80000/80000 [==============================] - 4s 51us/step - loss: 0.9962 - mean_absolute_error: 0.9962 - val_loss: 0.8259 - val_mean_absolute_error: 0.8259\n",
      "Epoch 33/100\n",
      "80000/80000 [==============================] - 4s 51us/step - loss: 0.9920 - mean_absolute_error: 0.9920 - val_loss: 0.8232 - val_mean_absolute_error: 0.8232\n",
      "Epoch 34/100\n",
      "80000/80000 [==============================] - 4s 51us/step - loss: 0.9926 - mean_absolute_error: 0.9926 - val_loss: 0.8232 - val_mean_absolute_error: 0.8232\n",
      "Epoch 35/100\n",
      "63392/80000 [======================>.......] - ETA: 0s - loss: 0.9853 - mean_absolute_error: 0.985380000/80000 [==============================] - 4s 51us/step - loss: 0.9855 - mean_absolute_error: 0.9855 - val_loss: 0.8210 - val_mean_absolute_error: 0.8210\n",
      "Epoch 36/100\n",
      "80000/80000 [==============================] - 4s 51us/step - loss: 0.9847 - mean_absolute_error: 0.9847 - val_loss: 0.8185 - val_mean_absolute_error: 0.8185\n",
      "Epoch 37/100\n",
      "80000/80000 [==============================] - 4s 51us/step - loss: 0.9807 - mean_absolute_error: 0.9807 - val_loss: 0.8162 - val_mean_absolute_error: 0.8162\n",
      "Epoch 38/100\n",
      "77536/80000 [============================>.] - ETA: 0s - loss: 0.9773 - mean_absolute_error: 0.977380000/80000 [==============================] - 4s 51us/step - loss: 0.9781 - mean_absolute_error: 0.9781 - val_loss: 0.8179 - val_mean_absolute_error: 0.8179\n",
      "Epoch 39/100\n",
      "80000/80000 [==============================] - 4s 51us/step - loss: 0.9787 - mean_absolute_error: 0.9787 - val_loss: 0.8135 - val_mean_absolute_error: 0.8135\n",
      "Epoch 40/100\n",
      "80000/80000 [==============================] - 4s 51us/step - loss: 0.9641 - mean_absolute_error: 0.9641 - val_loss: 0.8131 - val_mean_absolute_error: 0.8131\n",
      "Epoch 41/100\n",
      "80000/80000 [==============================] - 4s 51us/step - loss: 0.9733 - mean_absolute_error: 0.9733 - val_loss: 0.8141 - val_mean_absolute_error: 0.8141\n",
      "Epoch 42/100\n",
      "   32/80000 [..............................] - ETA: 24s - loss: 1.0227 - mean_absolute_error: 1.022780000/80000 [==============================] - 4s 51us/step - loss: 0.9707 - mean_absolute_error: 0.9707 - val_loss: 0.8106 - val_mean_absolute_error: 0.8106\n",
      "Epoch 43/100\n",
      "80000/80000 [==============================] - 4s 51us/step - loss: 0.9695 - mean_absolute_error: 0.9695 - val_loss: 0.8105 - val_mean_absolute_error: 0.8105\n",
      "Epoch 44/100\n",
      "80000/80000 [==============================] - 4s 51us/step - loss: 0.9549 - mean_absolute_error: 0.9549 - val_loss: 0.8093 - val_mean_absolute_error: 0.8093\n",
      "Epoch 45/100\n"
     ]
    },
    {
     "name": "stdout",
     "output_type": "stream",
     "text": [
      "70752/80000 [=========================>....] - ETA: 0s - loss: 0.9544 - mean_absolute_error: 0.954480000/80000 [==============================] - 4s 51us/step - loss: 0.9546 - mean_absolute_error: 0.9546 - val_loss: 0.8084 - val_mean_absolute_error: 0.8084\n",
      "Epoch 46/100\n",
      "80000/80000 [==============================] - 4s 51us/step - loss: 0.9481 - mean_absolute_error: 0.9481 - val_loss: 0.8081 - val_mean_absolute_error: 0.8081\n",
      "Epoch 47/100\n",
      "80000/80000 [==============================] - 4s 51us/step - loss: 0.9472 - mean_absolute_error: 0.9472 - val_loss: 0.8072 - val_mean_absolute_error: 0.8072\n",
      "Epoch 48/100\n",
      "78080/80000 [============================>.] - ETA: 0s - loss: 0.9432 - mean_absolute_error: 0.943280000/80000 [==============================] - 4s 51us/step - loss: 0.9425 - mean_absolute_error: 0.9425 - val_loss: 0.8034 - val_mean_absolute_error: 0.8034\n",
      "Epoch 49/100\n",
      "80000/80000 [==============================] - 4s 51us/step - loss: 0.9446 - mean_absolute_error: 0.9446 - val_loss: 0.8042 - val_mean_absolute_error: 0.8042\n",
      "Epoch 50/100\n",
      "80000/80000 [==============================] - 4s 51us/step - loss: 0.9436 - mean_absolute_error: 0.9436 - val_loss: 0.8033 - val_mean_absolute_error: 0.8033\n",
      "Epoch 51/100\n",
      "80000/80000 [==============================] - 4s 51us/step - loss: 0.9297 - mean_absolute_error: 0.9297 - val_loss: 0.8047 - val_mean_absolute_error: 0.8047\n",
      "Epoch 52/100\n",
      "   32/80000 [..............................] - ETA: 21s - loss: 0.9684 - mean_absolute_error: 0.968480000/80000 [==============================] - 4s 51us/step - loss: 0.9326 - mean_absolute_error: 0.9326 - val_loss: 0.8023 - val_mean_absolute_error: 0.8023\n",
      "Epoch 53/100\n",
      "80000/80000 [==============================] - 4s 51us/step - loss: 0.9256 - mean_absolute_error: 0.9256 - val_loss: 0.8031 - val_mean_absolute_error: 0.8031\n",
      "Epoch 54/100\n",
      "80000/80000 [==============================] - 4s 51us/step - loss: 0.9222 - mean_absolute_error: 0.9222 - val_loss: 0.8013 - val_mean_absolute_error: 0.8013\n",
      "Epoch 55/100\n",
      "69536/80000 [=========================>....] - ETA: 0s - loss: 0.9222 - mean_absolute_error: 0.922280000/80000 [==============================] - 4s 51us/step - loss: 0.9214 - mean_absolute_error: 0.9214 - val_loss: 0.8015 - val_mean_absolute_error: 0.8015\n",
      "Epoch 56/100\n",
      "80000/80000 [==============================] - 4s 51us/step - loss: 0.9151 - mean_absolute_error: 0.9151 - val_loss: 0.8018 - val_mean_absolute_error: 0.8018\n",
      "Epoch 57/100\n",
      "80000/80000 [==============================] - 4s 51us/step - loss: 0.9186 - mean_absolute_error: 0.9186 - val_loss: 0.8021 - val_mean_absolute_error: 0.8021\n",
      "Total time :  233.1664650440216\n",
      "MAE :  0.8012585189819336\n"
     ]
    }
   ],
   "source": [
    "import time\n",
    "\n",
    "K_LATENT = 20\n",
    "dropout = 0.1\n",
    "\n",
    "MF_model = get_model_item_user(max_userid,max_movieid,K_LATENT,dropout)\n",
    "MF_model.compile(loss='mae', optimizer='adamax',metrics=['mae'])\n",
    "\n",
    "ini = time.time()\n",
    "callbacks = [EarlyStopping('val_loss', patience=3), \n",
    "             ModelCheckpoint(MODEL_WEIGHTS_FILE, save_best_only=True)]\n",
    "history = MF_model.fit([Movies, Users], Ratings, nb_epoch=100, validation_split=.1, verbose=1,validation_data=([Movies1,Users1], Ratings1), callbacks=callbacks, batch_size = 32)\n",
    "\n",
    "\n",
    "end = time.time()\n",
    "print (\"Total time : \",end-ini)\n",
    "print(\"MAE : \" , min(history.history['val_loss']))"
   ]
  },
  {
   "cell_type": "code",
   "execution_count": 27,
   "metadata": {
    "colab": {
     "autoexec": {
      "startup": false,
      "wait_interval": 0
     },
     "base_uri": "https://localhost:8080/",
     "height": 68
    },
    "colab_type": "code",
    "executionInfo": {
     "elapsed": 1352,
     "status": "ok",
     "timestamp": 1532960485550,
     "user": {
      "displayName": "orelie shahar",
      "photoUrl": "https://lh3.googleusercontent.com/a/default-user=s128",
      "userId": "104271544169794618728"
     },
     "user_tz": -180
    },
    "id": "olpmb_RrhtrP",
    "outputId": "58a539ab-b2c7-4a6e-a197-4438302255af"
   },
   "outputs": [
    {
     "name": "stdout",
     "output_type": "stream",
     "text": [
      "20000/20000 [==============================] - 0s 23us/step\n",
      "Test MSE: 0.8021336905479431\n",
      "Test MAE: 0.8021336905479431\n"
     ]
    }
   ],
   "source": [
    "score =MF_model.evaluate([Movies1,Users1], Ratings1,verbose=1)\n",
    "print('Test MSE:', score[0])\n",
    "print('Test MAE:', score[1])"
   ]
  },
  {
   "cell_type": "markdown",
   "metadata": {
    "colab_type": "text",
    "id": "dgpFr5Z03yCq"
   },
   "source": [
    "### embedding= User-item , Dropout = 0.5\n"
   ]
  },
  {
   "cell_type": "code",
   "execution_count": 28,
   "metadata": {
    "colab": {
     "autoexec": {
      "startup": false,
      "wait_interval": 0
     },
     "base_uri": "https://localhost:8080/",
     "height": 1890
    },
    "colab_type": "code",
    "executionInfo": {
     "elapsed": 210766,
     "status": "ok",
     "timestamp": 1532960696503,
     "user": {
      "displayName": "orelie shahar",
      "photoUrl": "https://lh3.googleusercontent.com/a/default-user=s128",
      "userId": "104271544169794618728"
     },
     "user_tz": -180
    },
    "id": "2dGWdoGT3yCq",
    "outputId": "db7c01c8-bb44-4c43-a6ee-cfb74d0e9d36"
   },
   "outputs": [
    {
     "name": "stderr",
     "output_type": "stream",
     "text": [
      "/usr/local/lib/python3.6/dist-packages/ipykernel_launcher.py:39: UserWarning: The `merge` function is deprecated and will be removed after 08/2017. Use instead layers from `keras.layers.merge`, e.g. `add`, `concatenate`, etc.\n",
      "/usr/local/lib/python3.6/dist-packages/keras/legacy/layers.py:465: UserWarning: The `Merge` layer is deprecated and will be removed after 08/2017. Use instead layers from `keras.layers.merge`, e.g. `add`, `concatenate`, etc.\n",
      "  name=name)\n",
      "/usr/local/lib/python3.6/dist-packages/ipykernel_launcher.py:43: UserWarning: Update your `Model` call to the Keras 2 API: `Model(inputs=[<tf.Tenso..., outputs=Tensor(\"dr...)`\n",
      "/usr/local/lib/python3.6/dist-packages/ipykernel_launcher.py:13: UserWarning: The `nb_epoch` argument in `fit` has been renamed `epochs`.\n",
      "  del sys.path[0]\n"
     ]
    },
    {
     "name": "stdout",
     "output_type": "stream",
     "text": [
      "Train on 80000 samples, validate on 20000 samples\n",
      "Epoch 1/100\n",
      "80000/80000 [==============================] - 4s 53us/step - loss: 3.5272 - mean_absolute_error: 3.5272 - val_loss: 3.5321 - val_mean_absolute_error: 3.5321\n",
      "Epoch 2/100\n",
      "80000/80000 [==============================] - 4s 51us/step - loss: 3.4902 - mean_absolute_error: 3.4902 - val_loss: 3.4642 - val_mean_absolute_error: 3.4642\n",
      "Epoch 3/100\n",
      "80000/80000 [==============================] - 4s 51us/step - loss: 3.3040 - mean_absolute_error: 3.3040 - val_loss: 3.2420 - val_mean_absolute_error: 3.2420\n",
      "Epoch 4/100\n",
      "41024/80000 [==============>...............] - ETA: 1s - loss: 3.0450 - mean_absolute_error: 3.045080000/80000 [==============================] - 4s 51us/step - loss: 2.9641 - mean_absolute_error: 2.9641 - val_loss: 2.9103 - val_mean_absolute_error: 2.9103\n",
      "Epoch 5/100\n",
      "80000/80000 [==============================] - 4s 51us/step - loss: 2.6871 - mean_absolute_error: 2.6871 - val_loss: 2.6097 - val_mean_absolute_error: 2.6097\n",
      "Epoch 6/100\n",
      "80000/80000 [==============================] - 4s 51us/step - loss: 2.5178 - mean_absolute_error: 2.5178 - val_loss: 2.4007 - val_mean_absolute_error: 2.4007\n",
      "Epoch 7/100\n",
      "76704/80000 [===========================>..] - ETA: 0s - loss: 2.4162 - mean_absolute_error: 2.416280000/80000 [==============================] - 4s 51us/step - loss: 2.4139 - mean_absolute_error: 2.4139 - val_loss: 2.2598 - val_mean_absolute_error: 2.2598\n",
      "Epoch 8/100\n",
      "80000/80000 [==============================] - 4s 51us/step - loss: 2.3425 - mean_absolute_error: 2.3425 - val_loss: 2.1612 - val_mean_absolute_error: 2.1612\n",
      "Epoch 9/100\n",
      "80000/80000 [==============================] - 4s 51us/step - loss: 2.2875 - mean_absolute_error: 2.2875 - val_loss: 2.0937 - val_mean_absolute_error: 2.0937\n",
      "Epoch 10/100\n",
      "80000/80000 [==============================] - 4s 52us/step - loss: 2.2576 - mean_absolute_error: 2.2576 - val_loss: 2.0408 - val_mean_absolute_error: 2.0408\n",
      "Epoch 11/100\n",
      "80000/80000 [==============================] - 4s 51us/step - loss: 2.2249 - mean_absolute_error: 2.2249 - val_loss: 1.9982 - val_mean_absolute_error: 1.9982\n",
      "Epoch 12/100\n",
      "80000/80000 [==============================] - 4s 52us/step - loss: 2.2143 - mean_absolute_error: 2.2143 - val_loss: 1.9697 - val_mean_absolute_error: 1.9697\n",
      "Epoch 13/100\n",
      "80000/80000 [==============================] - 4s 52us/step - loss: 2.1971 - mean_absolute_error: 2.1971 - val_loss: 1.9417 - val_mean_absolute_error: 1.9417\n",
      "Epoch 14/100\n",
      "60544/80000 [=====================>........] - ETA: 0s - loss: 2.1869 - mean_absolute_error: 2.186980000/80000 [==============================] - 4s 52us/step - loss: 2.1848 - mean_absolute_error: 2.1848 - val_loss: 1.9288 - val_mean_absolute_error: 1.9288\n",
      "Epoch 15/100\n",
      "80000/80000 [==============================] - 4s 52us/step - loss: 2.1814 - mean_absolute_error: 2.1814 - val_loss: 1.9110 - val_mean_absolute_error: 1.9110\n",
      "Epoch 16/100\n",
      "80000/80000 [==============================] - 4s 52us/step - loss: 2.1644 - mean_absolute_error: 2.1644 - val_loss: 1.8970 - val_mean_absolute_error: 1.8970\n",
      "Epoch 17/100\n",
      "77248/80000 [===========================>..] - ETA: 0s - loss: 2.1648 - mean_absolute_error: 2.164880000/80000 [==============================] - 4s 52us/step - loss: 2.1638 - mean_absolute_error: 2.1638 - val_loss: 1.8855 - val_mean_absolute_error: 1.8855\n",
      "Epoch 18/100\n",
      "80000/80000 [==============================] - 4s 52us/step - loss: 2.1603 - mean_absolute_error: 2.1603 - val_loss: 1.8745 - val_mean_absolute_error: 1.8745\n",
      "Epoch 19/100\n",
      "80000/80000 [==============================] - 4s 51us/step - loss: 2.1522 - mean_absolute_error: 2.1522 - val_loss: 1.8695 - val_mean_absolute_error: 1.8695\n",
      "Epoch 20/100\n",
      "80000/80000 [==============================] - 4s 51us/step - loss: 2.1467 - mean_absolute_error: 2.1467 - val_loss: 1.8602 - val_mean_absolute_error: 1.8602\n",
      "Epoch 21/100\n",
      "   32/80000 [..............................] - ETA: 13s - loss: 2.3884 - mean_absolute_error: 2.388480000/80000 [==============================] - 4s 51us/step - loss: 2.1492 - mean_absolute_error: 2.1492 - val_loss: 1.8532 - val_mean_absolute_error: 1.8532\n",
      "Epoch 22/100\n",
      "80000/80000 [==============================] - 4s 51us/step - loss: 2.1393 - mean_absolute_error: 2.1393 - val_loss: 1.8505 - val_mean_absolute_error: 1.8505\n",
      "Epoch 23/100\n",
      "80000/80000 [==============================] - 4s 51us/step - loss: 2.1310 - mean_absolute_error: 2.1310 - val_loss: 1.8478 - val_mean_absolute_error: 1.8478\n",
      "Epoch 24/100\n",
      "68352/80000 [========================>.....] - ETA: 0s - loss: 2.1414 - mean_absolute_error: 2.141480000/80000 [==============================] - 4s 51us/step - loss: 2.1413 - mean_absolute_error: 2.1413 - val_loss: 1.8437 - val_mean_absolute_error: 1.8437\n",
      "Epoch 25/100\n",
      "80000/80000 [==============================] - 4s 51us/step - loss: 2.1293 - mean_absolute_error: 2.1293 - val_loss: 1.8373 - val_mean_absolute_error: 1.8373\n",
      "Epoch 26/100\n",
      "80000/80000 [==============================] - 4s 51us/step - loss: 2.1460 - mean_absolute_error: 2.1460 - val_loss: 1.8364 - val_mean_absolute_error: 1.8364\n",
      "Epoch 27/100\n",
      "80000/80000 [==============================] - 4s 51us/step - loss: 2.1363 - mean_absolute_error: 2.1363 - val_loss: 1.8300 - val_mean_absolute_error: 1.8300\n",
      "Epoch 28/100\n",
      "80000/80000 [==============================] - 4s 51us/step - loss: 2.1390 - mean_absolute_error: 2.1390 - val_loss: 1.8267 - val_mean_absolute_error: 1.8267\n",
      "Epoch 29/100\n",
      "80000/80000 [==============================] - 4s 51us/step - loss: 2.1348 - mean_absolute_error: 2.1348 - val_loss: 1.8250 - val_mean_absolute_error: 1.8250\n",
      "Epoch 30/100\n",
      "80000/80000 [==============================] - 4s 52us/step - loss: 2.1392 - mean_absolute_error: 2.1392 - val_loss: 1.8246 - val_mean_absolute_error: 1.8246\n",
      "Epoch 31/100\n",
      "62368/80000 [======================>.......] - ETA: 0s - loss: 2.1306 - mean_absolute_error: 2.130680000/80000 [==============================] - 4s 51us/step - loss: 2.1280 - mean_absolute_error: 2.1280 - val_loss: 1.8193 - val_mean_absolute_error: 1.8193\n",
      "Epoch 32/100\n",
      "80000/80000 [==============================] - 4s 52us/step - loss: 2.1309 - mean_absolute_error: 2.1309 - val_loss: 1.8239 - val_mean_absolute_error: 1.8239\n",
      "Epoch 33/100\n",
      "80000/80000 [==============================] - 4s 51us/step - loss: 2.1248 - mean_absolute_error: 2.1248 - val_loss: 1.8224 - val_mean_absolute_error: 1.8224\n",
      "Epoch 34/100\n",
      "78976/80000 [============================>.] - ETA: 0s - loss: 2.1275 - mean_absolute_error: 2.127580000/80000 [==============================] - 4s 51us/step - loss: 2.1278 - mean_absolute_error: 2.1278 - val_loss: 1.8177 - val_mean_absolute_error: 1.8177\n",
      "Epoch 35/100\n",
      "80000/80000 [==============================] - 4s 52us/step - loss: 2.1288 - mean_absolute_error: 2.1288 - val_loss: 1.8177 - val_mean_absolute_error: 1.8177\n",
      "Epoch 36/100\n",
      "80000/80000 [==============================] - 4s 51us/step - loss: 2.1258 - mean_absolute_error: 2.1258 - val_loss: 1.8163 - val_mean_absolute_error: 1.8163\n",
      "Epoch 37/100\n",
      "80000/80000 [==============================] - 4s 52us/step - loss: 2.1206 - mean_absolute_error: 2.1206 - val_loss: 1.8110 - val_mean_absolute_error: 1.8110\n",
      "Epoch 38/100\n",
      "80000/80000 [==============================] - 4s 52us/step - loss: 2.1257 - mean_absolute_error: 2.1257 - val_loss: 1.8142 - val_mean_absolute_error: 1.8142\n",
      "Epoch 39/100\n",
      "80000/80000 [==============================] - 4s 52us/step - loss: 2.1116 - mean_absolute_error: 2.1116 - val_loss: 1.8097 - val_mean_absolute_error: 1.8097\n",
      "Epoch 40/100\n",
      "80000/80000 [==============================] - 4s 51us/step - loss: 2.1267 - mean_absolute_error: 2.1267 - val_loss: 1.8124 - val_mean_absolute_error: 1.8124\n",
      "Epoch 41/100\n",
      "61344/80000 [======================>.......] - ETA: 0s - loss: 2.1189 - mean_absolute_error: 2.118980000/80000 [==============================] - 4s 51us/step - loss: 2.1177 - mean_absolute_error: 2.1177 - val_loss: 1.8115 - val_mean_absolute_error: 1.8115\n",
      "Epoch 42/100\n",
      "80000/80000 [==============================] - 4s 51us/step - loss: 2.1086 - mean_absolute_error: 2.1086 - val_loss: 1.8044 - val_mean_absolute_error: 1.8044\n",
      "Epoch 43/100\n",
      "80000/80000 [==============================] - 4s 52us/step - loss: 2.1120 - mean_absolute_error: 2.1120 - val_loss: 1.8089 - val_mean_absolute_error: 1.8089\n",
      "Epoch 44/100\n"
     ]
    },
    {
     "name": "stdout",
     "output_type": "stream",
     "text": [
      "77632/80000 [============================>.] - ETA: 0s - loss: 2.1110 - mean_absolute_error: 2.111080000/80000 [==============================] - 4s 51us/step - loss: 2.1110 - mean_absolute_error: 2.1110 - val_loss: 1.8035 - val_mean_absolute_error: 1.8035\n",
      "Epoch 45/100\n",
      "80000/80000 [==============================] - 4s 51us/step - loss: 2.1049 - mean_absolute_error: 2.1049 - val_loss: 1.8054 - val_mean_absolute_error: 1.8054\n",
      "Epoch 46/100\n",
      "80000/80000 [==============================] - 4s 52us/step - loss: 2.1145 - mean_absolute_error: 2.1145 - val_loss: 1.8017 - val_mean_absolute_error: 1.8017\n",
      "Epoch 47/100\n",
      "80000/80000 [==============================] - 4s 51us/step - loss: 2.1147 - mean_absolute_error: 2.1147 - val_loss: 1.7994 - val_mean_absolute_error: 1.7994\n",
      "Epoch 48/100\n",
      "80000/80000 [==============================] - 4s 51us/step - loss: 2.1165 - mean_absolute_error: 2.1165 - val_loss: 1.8078 - val_mean_absolute_error: 1.8078\n",
      "Epoch 49/100\n",
      "80000/80000 [==============================] - 4s 52us/step - loss: 2.1102 - mean_absolute_error: 2.1102 - val_loss: 1.8055 - val_mean_absolute_error: 1.8055\n",
      "Epoch 50/100\n",
      "80000/80000 [==============================] - 4s 52us/step - loss: 2.1113 - mean_absolute_error: 2.1113 - val_loss: 1.8085 - val_mean_absolute_error: 1.8085\n",
      "Total time :  206.7634265422821\n",
      "MAE :  1.7993655550003052\n"
     ]
    }
   ],
   "source": [
    "\n",
    "import time\n",
    "\n",
    "K_LATENT = 20\n",
    "dropout = 0.5\n",
    "\n",
    "MF_model = get_model_user_item(max_userid,max_movieid,K_LATENT,dropout)\n",
    "MF_model.compile(loss='mae', optimizer='adamax',metrics=['mae'])\n",
    "\n",
    "ini = time.time()\n",
    "callbacks = [EarlyStopping('val_loss', patience=3), \n",
    "             ModelCheckpoint(MODEL_WEIGHTS_FILE, save_best_only=True)]\n",
    "history = MF_model.fit([Users,Movies], Ratings, nb_epoch=100, validation_split=.1, verbose=1,validation_data=([Users1,Movies1], Ratings1), callbacks=callbacks, batch_size = 32)\n",
    "\n",
    "\n",
    "end = time.time()\n",
    "print (\"Total time : \",end-ini)\n",
    "print(\"MAE : \" , min(history.history['val_loss']))"
   ]
  },
  {
   "cell_type": "code",
   "execution_count": 31,
   "metadata": {
    "colab": {
     "autoexec": {
      "startup": false,
      "wait_interval": 0
     },
     "base_uri": "https://localhost:8080/",
     "height": 68
    },
    "colab_type": "code",
    "executionInfo": {
     "elapsed": 1019,
     "status": "ok",
     "timestamp": 1532961232639,
     "user": {
      "displayName": "orelie shahar",
      "photoUrl": "https://lh3.googleusercontent.com/a/default-user=s128",
      "userId": "104271544169794618728"
     },
     "user_tz": -180
    },
    "id": "b8e6NrDThvyA",
    "outputId": "9846cd9a-7d16-4803-a9f1-669b2d3adb11"
   },
   "outputs": [
    {
     "name": "stdout",
     "output_type": "stream",
     "text": [
      "20000/20000 [==============================] - 0s 23us/step\n",
      "Test MSE: 1.8085132280349732\n",
      "Test MAE: 1.8085132280349732\n"
     ]
    }
   ],
   "source": [
    "score =MF_model.evaluate([Users1,Movies1], Ratings1,verbose=1)\n",
    "print('Test MSE:', score[0])\n",
    "print('Test MAE:', score[1])"
   ]
  },
  {
   "cell_type": "markdown",
   "metadata": {
    "colab_type": "text",
    "id": "FGKLjuQ33yCu"
   },
   "source": [
    "#### embedding = User-item , Dropout = 0.1\n"
   ]
  },
  {
   "cell_type": "code",
   "execution_count": 32,
   "metadata": {
    "colab": {
     "autoexec": {
      "startup": false,
      "wait_interval": 0
     },
     "base_uri": "https://localhost:8080/",
     "height": 2094
    },
    "colab_type": "code",
    "executionInfo": {
     "elapsed": 232088,
     "status": "ok",
     "timestamp": 1532961478776,
     "user": {
      "displayName": "orelie shahar",
      "photoUrl": "https://lh3.googleusercontent.com/a/default-user=s128",
      "userId": "104271544169794618728"
     },
     "user_tz": -180
    },
    "id": "fY1Hu6IN3yCv",
    "outputId": "05bcbd57-693d-404d-de03-0f8c116bac63"
   },
   "outputs": [
    {
     "name": "stderr",
     "output_type": "stream",
     "text": [
      "/usr/local/lib/python3.6/dist-packages/ipykernel_launcher.py:39: UserWarning: The `merge` function is deprecated and will be removed after 08/2017. Use instead layers from `keras.layers.merge`, e.g. `add`, `concatenate`, etc.\n",
      "/usr/local/lib/python3.6/dist-packages/keras/legacy/layers.py:465: UserWarning: The `Merge` layer is deprecated and will be removed after 08/2017. Use instead layers from `keras.layers.merge`, e.g. `add`, `concatenate`, etc.\n",
      "  name=name)\n",
      "/usr/local/lib/python3.6/dist-packages/ipykernel_launcher.py:43: UserWarning: Update your `Model` call to the Keras 2 API: `Model(inputs=[<tf.Tenso..., outputs=Tensor(\"dr...)`\n",
      "/usr/local/lib/python3.6/dist-packages/ipykernel_launcher.py:13: UserWarning: The `nb_epoch` argument in `fit` has been renamed `epochs`.\n",
      "  del sys.path[0]\n"
     ]
    },
    {
     "name": "stdout",
     "output_type": "stream",
     "text": [
      "Train on 80000 samples, validate on 20000 samples\n",
      "Epoch 1/100\n",
      "80000/80000 [==============================] - 4s 54us/step - loss: 3.5207 - mean_absolute_error: 3.5207 - val_loss: 3.5050 - val_mean_absolute_error: 3.5050\n",
      "Epoch 2/100\n",
      "80000/80000 [==============================] - 4s 51us/step - loss: 3.3029 - mean_absolute_error: 3.3029 - val_loss: 3.1503 - val_mean_absolute_error: 3.1503\n",
      "Epoch 3/100\n",
      "80000/80000 [==============================] - 4s 51us/step - loss: 2.6035 - mean_absolute_error: 2.6035 - val_loss: 2.4442 - val_mean_absolute_error: 2.4442\n",
      "Epoch 4/100\n",
      "40256/80000 [==============>...............] - ETA: 1s - loss: 2.0799 - mean_absolute_error: 2.079980000/80000 [==============================] - 4s 51us/step - loss: 1.9647 - mean_absolute_error: 1.9647 - val_loss: 1.8859 - val_mean_absolute_error: 1.8859\n",
      "Epoch 5/100\n",
      "80000/80000 [==============================] - 4s 51us/step - loss: 1.6165 - mean_absolute_error: 1.6165 - val_loss: 1.5401 - val_mean_absolute_error: 1.5401\n",
      "Epoch 6/100\n",
      "80000/80000 [==============================] - 4s 51us/step - loss: 1.4249 - mean_absolute_error: 1.4249 - val_loss: 1.3345 - val_mean_absolute_error: 1.3345\n",
      "Epoch 7/100\n",
      "77024/80000 [===========================>..] - ETA: 0s - loss: 1.3036 - mean_absolute_error: 1.303680000/80000 [==============================] - 4s 51us/step - loss: 1.3023 - mean_absolute_error: 1.3023 - val_loss: 1.2024 - val_mean_absolute_error: 1.2024\n",
      "Epoch 8/100\n",
      "80000/80000 [==============================] - 4s 52us/step - loss: 1.2219 - mean_absolute_error: 1.2219 - val_loss: 1.1133 - val_mean_absolute_error: 1.1133\n",
      "Epoch 9/100\n",
      "80000/80000 [==============================] - 4s 51us/step - loss: 1.1696 - mean_absolute_error: 1.1696 - val_loss: 1.0502 - val_mean_absolute_error: 1.0502\n",
      "Epoch 10/100\n",
      "80000/80000 [==============================] - 4s 51us/step - loss: 1.1350 - mean_absolute_error: 1.1350 - val_loss: 1.0047 - val_mean_absolute_error: 1.0047\n",
      "Epoch 11/100\n",
      "   32/80000 [..............................] - ETA: 13s - loss: 0.9636 - mean_absolute_error: 0.963680000/80000 [==============================] - 4s 51us/step - loss: 1.1074 - mean_absolute_error: 1.1074 - val_loss: 0.9729 - val_mean_absolute_error: 0.9729\n",
      "Epoch 12/100\n",
      "80000/80000 [==============================] - 4s 51us/step - loss: 1.0876 - mean_absolute_error: 1.0876 - val_loss: 0.9446 - val_mean_absolute_error: 0.9446\n",
      "Epoch 13/100\n",
      "80000/80000 [==============================] - 4s 51us/step - loss: 1.0683 - mean_absolute_error: 1.0683 - val_loss: 0.9249 - val_mean_absolute_error: 0.9249\n",
      "Epoch 14/100\n",
      "68928/80000 [========================>.....] - ETA: 0s - loss: 1.0530 - mean_absolute_error: 1.053080000/80000 [==============================] - 4s 51us/step - loss: 1.0530 - mean_absolute_error: 1.0530 - val_loss: 0.9109 - val_mean_absolute_error: 0.9109\n",
      "Epoch 15/100\n",
      "80000/80000 [==============================] - 4s 51us/step - loss: 1.0513 - mean_absolute_error: 1.0513 - val_loss: 0.8973 - val_mean_absolute_error: 0.8973\n",
      "Epoch 16/100\n",
      "80000/80000 [==============================] - 4s 51us/step - loss: 1.0475 - mean_absolute_error: 1.0475 - val_loss: 0.8891 - val_mean_absolute_error: 0.8891\n",
      "Epoch 17/100\n",
      "80000/80000 [==============================] - 4s 51us/step - loss: 1.0359 - mean_absolute_error: 1.0359 - val_loss: 0.8798 - val_mean_absolute_error: 0.8798\n",
      "Epoch 18/100\n",
      "80000/80000 [==============================] - 4s 51us/step - loss: 1.0342 - mean_absolute_error: 1.0342 - val_loss: 0.8700 - val_mean_absolute_error: 0.8700\n",
      "Epoch 19/100\n",
      "80000/80000 [==============================] - 4s 51us/step - loss: 1.0280 - mean_absolute_error: 1.0280 - val_loss: 0.8627 - val_mean_absolute_error: 0.8627\n",
      "Epoch 20/100\n",
      "80000/80000 [==============================] - 4s 51us/step - loss: 1.0203 - mean_absolute_error: 1.0203 - val_loss: 0.8613 - val_mean_absolute_error: 0.8613\n",
      "Epoch 21/100\n",
      "62496/80000 [======================>.......] - ETA: 0s - loss: 1.0238 - mean_absolute_error: 1.023880000/80000 [==============================] - 4s 51us/step - loss: 1.0230 - mean_absolute_error: 1.0230 - val_loss: 0.8551 - val_mean_absolute_error: 0.8551\n",
      "Epoch 22/100\n",
      "80000/80000 [==============================] - 4s 51us/step - loss: 1.0111 - mean_absolute_error: 1.0111 - val_loss: 0.8504 - val_mean_absolute_error: 0.8504\n",
      "Epoch 23/100\n",
      "80000/80000 [==============================] - 4s 51us/step - loss: 1.0121 - mean_absolute_error: 1.0121 - val_loss: 0.8477 - val_mean_absolute_error: 0.8477\n",
      "Epoch 24/100\n",
      "79264/80000 [============================>.] - ETA: 0s - loss: 1.0109 - mean_absolute_error: 1.010980000/80000 [==============================] - 4s 52us/step - loss: 1.0105 - mean_absolute_error: 1.0105 - val_loss: 0.8420 - val_mean_absolute_error: 0.8420\n",
      "Epoch 25/100\n",
      "80000/80000 [==============================] - 4s 52us/step - loss: 1.0104 - mean_absolute_error: 1.0104 - val_loss: 0.8368 - val_mean_absolute_error: 0.8368\n",
      "Epoch 26/100\n",
      "80000/80000 [==============================] - 4s 51us/step - loss: 1.0046 - mean_absolute_error: 1.0046 - val_loss: 0.8380 - val_mean_absolute_error: 0.8380\n",
      "Epoch 27/100\n",
      "80000/80000 [==============================] - 4s 51us/step - loss: 1.0060 - mean_absolute_error: 1.0060 - val_loss: 0.8334 - val_mean_absolute_error: 0.8334\n",
      "Epoch 28/100\n",
      "   32/80000 [..............................] - ETA: 12s - loss: 1.1668 - mean_absolute_error: 1.166880000/80000 [==============================] - 4s 51us/step - loss: 0.9928 - mean_absolute_error: 0.9928 - val_loss: 0.8323 - val_mean_absolute_error: 0.8323\n",
      "Epoch 29/100\n",
      "80000/80000 [==============================] - 4s 52us/step - loss: 0.9963 - mean_absolute_error: 0.9963 - val_loss: 0.8295 - val_mean_absolute_error: 0.8295\n",
      "Epoch 30/100\n",
      "80000/80000 [==============================] - 4s 51us/step - loss: 0.9887 - mean_absolute_error: 0.9887 - val_loss: 0.8285 - val_mean_absolute_error: 0.8285\n",
      "Epoch 31/100\n",
      "68096/80000 [========================>.....] - ETA: 0s - loss: 0.9863 - mean_absolute_error: 0.986380000/80000 [==============================] - 4s 51us/step - loss: 0.9857 - mean_absolute_error: 0.9857 - val_loss: 0.8259 - val_mean_absolute_error: 0.8259\n",
      "Epoch 32/100\n",
      "80000/80000 [==============================] - 4s 51us/step - loss: 0.9813 - mean_absolute_error: 0.9813 - val_loss: 0.8200 - val_mean_absolute_error: 0.8200\n",
      "Epoch 33/100\n",
      "80000/80000 [==============================] - 4s 51us/step - loss: 0.9866 - mean_absolute_error: 0.9866 - val_loss: 0.8196 - val_mean_absolute_error: 0.8196\n",
      "Epoch 34/100\n",
      "79936/80000 [============================>.] - ETA: 0s - loss: 0.9818 - mean_absolute_error: 0.981880000/80000 [==============================] - 4s 51us/step - loss: 0.9820 - mean_absolute_error: 0.9820 - val_loss: 0.8203 - val_mean_absolute_error: 0.8203\n",
      "Epoch 35/100\n",
      "80000/80000 [==============================] - 4s 51us/step - loss: 0.9805 - mean_absolute_error: 0.9805 - val_loss: 0.8155 - val_mean_absolute_error: 0.8155\n",
      "Epoch 36/100\n",
      "80000/80000 [==============================] - 4s 51us/step - loss: 0.9793 - mean_absolute_error: 0.9793 - val_loss: 0.8160 - val_mean_absolute_error: 0.8160\n",
      "Epoch 37/100\n",
      "80000/80000 [==============================] - 4s 51us/step - loss: 0.9731 - mean_absolute_error: 0.9731 - val_loss: 0.8140 - val_mean_absolute_error: 0.8140\n",
      "Epoch 38/100\n",
      "   32/80000 [..............................] - ETA: 13s - loss: 0.9149 - mean_absolute_error: 0.914980000/80000 [==============================] - 4s 51us/step - loss: 0.9702 - mean_absolute_error: 0.9702 - val_loss: 0.8130 - val_mean_absolute_error: 0.8130\n",
      "Epoch 39/100\n",
      "80000/80000 [==============================] - 4s 52us/step - loss: 0.9645 - mean_absolute_error: 0.9645 - val_loss: 0.8134 - val_mean_absolute_error: 0.8134\n",
      "Epoch 40/100\n",
      "80000/80000 [==============================] - 4s 52us/step - loss: 0.9641 - mean_absolute_error: 0.9641 - val_loss: 0.8103 - val_mean_absolute_error: 0.8103\n",
      "Epoch 41/100\n",
      "68576/80000 [========================>.....] - ETA: 0s - loss: 0.9580 - mean_absolute_error: 0.958080000/80000 [==============================] - 4s 51us/step - loss: 0.9570 - mean_absolute_error: 0.9570 - val_loss: 0.8093 - val_mean_absolute_error: 0.8093\n",
      "Epoch 42/100\n",
      "80000/80000 [==============================] - 4s 51us/step - loss: 0.9609 - mean_absolute_error: 0.9609 - val_loss: 0.8077 - val_mean_absolute_error: 0.8077\n",
      "Epoch 43/100\n",
      "80000/80000 [==============================] - 4s 51us/step - loss: 0.9606 - mean_absolute_error: 0.9606 - val_loss: 0.8064 - val_mean_absolute_error: 0.8064\n",
      "Epoch 44/100\n"
     ]
    },
    {
     "name": "stdout",
     "output_type": "stream",
     "text": [
      "79552/80000 [============================>.] - ETA: 0s - loss: 0.9521 - mean_absolute_error: 0.952180000/80000 [==============================] - 4s 52us/step - loss: 0.9520 - mean_absolute_error: 0.9520 - val_loss: 0.8084 - val_mean_absolute_error: 0.8084\n",
      "Epoch 45/100\n",
      "80000/80000 [==============================] - 4s 52us/step - loss: 0.9473 - mean_absolute_error: 0.9473 - val_loss: 0.8068 - val_mean_absolute_error: 0.8068\n",
      "Epoch 46/100\n",
      "80000/80000 [==============================] - 4s 52us/step - loss: 0.9507 - mean_absolute_error: 0.9507 - val_loss: 0.8058 - val_mean_absolute_error: 0.8058\n",
      "Epoch 47/100\n",
      "78496/80000 [============================>.] - ETA: 0s - loss: 0.9401 - mean_absolute_error: 0.940180000/80000 [==============================] - 4s 52us/step - loss: 0.9394 - mean_absolute_error: 0.9394 - val_loss: 0.8042 - val_mean_absolute_error: 0.8042\n",
      "Epoch 48/100\n",
      "80000/80000 [==============================] - 4s 51us/step - loss: 0.9449 - mean_absolute_error: 0.9449 - val_loss: 0.8048 - val_mean_absolute_error: 0.8048\n",
      "Epoch 49/100\n",
      "80000/80000 [==============================] - 4s 51us/step - loss: 0.9339 - mean_absolute_error: 0.9339 - val_loss: 0.8049 - val_mean_absolute_error: 0.8049\n",
      "Epoch 50/100\n",
      "80000/80000 [==============================] - 4s 51us/step - loss: 0.9355 - mean_absolute_error: 0.9355 - val_loss: 0.8036 - val_mean_absolute_error: 0.8036\n",
      "Epoch 51/100\n",
      "80000/80000 [==============================] - 4s 52us/step - loss: 0.9303 - mean_absolute_error: 0.9303 - val_loss: 0.8046 - val_mean_absolute_error: 0.8046\n",
      "Epoch 52/100\n",
      "80000/80000 [==============================] - 4s 51us/step - loss: 0.9263 - mean_absolute_error: 0.9263 - val_loss: 0.8041 - val_mean_absolute_error: 0.8041\n",
      "Epoch 53/100\n",
      "80000/80000 [==============================] - 4s 51us/step - loss: 0.9189 - mean_absolute_error: 0.9189 - val_loss: 0.8022 - val_mean_absolute_error: 0.8022\n",
      "Epoch 54/100\n",
      "61216/80000 [=====================>........] - ETA: 0s - loss: 0.9258 - mean_absolute_error: 0.925880000/80000 [==============================] - 4s 51us/step - loss: 0.9285 - mean_absolute_error: 0.9285 - val_loss: 0.8029 - val_mean_absolute_error: 0.8029\n",
      "Epoch 55/100\n",
      "80000/80000 [==============================] - 4s 51us/step - loss: 0.9200 - mean_absolute_error: 0.9200 - val_loss: 0.8030 - val_mean_absolute_error: 0.8030\n",
      "Epoch 56/100\n",
      "80000/80000 [==============================] - 4s 52us/step - loss: 0.9166 - mean_absolute_error: 0.9166 - val_loss: 0.8035 - val_mean_absolute_error: 0.8035\n",
      "Total time :  231.27222228050232\n",
      "MAE :  0.8022415518760682\n"
     ]
    }
   ],
   "source": [
    "\n",
    "import time\n",
    "\n",
    "K_LATENT = 20\n",
    "dropout = 0.1\n",
    "\n",
    "MF_model = get_model_user_item(max_userid,max_movieid,K_LATENT,dropout)\n",
    "MF_model.compile(loss='mae', optimizer='adamax',metrics=['mae'])\n",
    "\n",
    "ini = time.time()\n",
    "callbacks = [EarlyStopping('val_loss', patience=3), \n",
    "             ModelCheckpoint(MODEL_WEIGHTS_FILE, save_best_only=True)]\n",
    "history = MF_model.fit([Users,Movies], Ratings, nb_epoch=100, validation_split=.1, verbose=1,validation_data=([Users1,Movies1], Ratings1), callbacks=callbacks, batch_size = 32)\n",
    "\n",
    "\n",
    "end = time.time()\n",
    "print (\"Total time : \",end-ini)\n",
    "print(\"MAE : \" , min(history.history['val_loss']))"
   ]
  },
  {
   "cell_type": "code",
   "execution_count": 33,
   "metadata": {
    "colab": {
     "autoexec": {
      "startup": false,
      "wait_interval": 0
     },
     "base_uri": "https://localhost:8080/",
     "height": 68
    },
    "colab_type": "code",
    "executionInfo": {
     "elapsed": 1369,
     "status": "ok",
     "timestamp": 1532961480368,
     "user": {
      "displayName": "orelie shahar",
      "photoUrl": "https://lh3.googleusercontent.com/a/default-user=s128",
      "userId": "104271544169794618728"
     },
     "user_tz": -180
    },
    "id": "8U5cNeF-hxc3",
    "outputId": "e695320c-8e88-44c8-a2d7-fd7eca4f59bb"
   },
   "outputs": [
    {
     "name": "stdout",
     "output_type": "stream",
     "text": [
      "20000/20000 [==============================] - 0s 24us/step\n",
      "Test MSE: 0.8035083614349365\n",
      "Test MAE: 0.8035083614349365\n"
     ]
    }
   ],
   "source": [
    "score =MF_model.evaluate([Users1,Movies1], Ratings1,verbose=1)\n",
    "print('Test MSE:', score[0])\n",
    "print('Test MAE:', score[1])"
   ]
  },
  {
   "cell_type": "markdown",
   "metadata": {
    "colab_type": "text",
    "id": "oyOXlHS53yCy"
   },
   "source": [
    "### End of MF part - all result in the pdf."
   ]
  },
  {
   "cell_type": "markdown",
   "metadata": {
    "colab_type": "text",
    "id": "9ADf9IUA3yC0"
   },
   "source": [
    "#### General Matrix Factorization - GMF"
   ]
  },
  {
   "cell_type": "code",
   "execution_count": 34,
   "metadata": {
    "colab": {
     "autoexec": {
      "startup": false,
      "wait_interval": 0
     },
     "base_uri": "https://localhost:8080/",
     "height": 34
    },
    "colab_type": "code",
    "executionInfo": {
     "elapsed": 1826,
     "status": "ok",
     "timestamp": 1532961482879,
     "user": {
      "displayName": "orelie shahar",
      "photoUrl": "https://lh3.googleusercontent.com/a/default-user=s128",
      "userId": "104271544169794618728"
     },
     "user_tz": -180
    },
    "id": "O549MG4tY-pU",
    "outputId": "0058c0ec-9c7d-422d-e9fe-ff6ea9cbfca0"
   },
   "outputs": [
    {
     "name": "stdout",
     "output_type": "stream",
     "text": [
      "80000 ratings loaded - for train\n"
     ]
    }
   ],
   "source": [
    "##add your path here if you run localy and not with google colaboratry\n",
    "MOVIELENS_DIR = ''\n",
    "RATING_DATA_FILE = 'u1.base'\n",
    "RATINGS_CSV_FILE = 'u_emb.data'\n",
    "MODEL_WEIGHTS_FILE = 'u_emb_weights.h5'\n",
    "\n",
    "\n",
    "ratings = pd.read_csv(os.path.join(MOVIELENS_DIR, RATING_DATA_FILE), \n",
    "                    sep='\\t', \n",
    "                    engine='python', \n",
    "                    encoding='latin-1',\n",
    "                    names=['userid', 'movieid', 'rating', 'timestamp'])\n",
    "max_userid = ratings['userid'].drop_duplicates().max()\n",
    "max_movieid = ratings['movieid'].drop_duplicates().max()\n",
    "ratings['user_emb_id'] = ratings['userid'] - 1\n",
    "ratings['movie_emb_id'] = ratings['movieid'] - 1\n",
    "print(str(len(ratings))+' ratings loaded - for train')\n",
    "ratings.to_csv(RATINGS_CSV_FILE, \n",
    "               sep='\\t', \n",
    "               header=True, \n",
    "               encoding='latin-1', \n",
    "               columns=['userid', 'movieid', 'rating', 'timestamp', 'user_emb_id', 'movie_emb_id'])\n",
    "\n",
    "\n",
    "ratings = pd.read_csv(RATINGS_CSV_FILE, \n",
    "                      sep='\\t', \n",
    "                      encoding='latin-1', \n",
    "                      usecols=['userid', 'movieid', 'user_emb_id', 'movie_emb_id', 'rating'])\n",
    "max_userid = ratings['userid'].drop_duplicates().max()\n",
    "max_movieid = ratings['movieid'].drop_duplicates().max()\n",
    "\n",
    "shuffled_ratings = ratings.sample(frac=1.)\n",
    "Users = shuffled_ratings['user_emb_id'].values\n",
    "Movies = shuffled_ratings['movie_emb_id'].values\n",
    "Ratings = shuffled_ratings['rating'].values"
   ]
  },
  {
   "cell_type": "code",
   "execution_count": 35,
   "metadata": {
    "colab": {
     "autoexec": {
      "startup": false,
      "wait_interval": 0
     },
     "base_uri": "https://localhost:8080/",
     "height": 34
    },
    "colab_type": "code",
    "executionInfo": {
     "elapsed": 2168,
     "status": "ok",
     "timestamp": 1532961485220,
     "user": {
      "displayName": "orelie shahar",
      "photoUrl": "https://lh3.googleusercontent.com/a/default-user=s128",
      "userId": "104271544169794618728"
     },
     "user_tz": -180
    },
    "id": "ujoQS3V4Y-lH",
    "outputId": "ec01628d-80db-4d22-e832-e02a530ce667"
   },
   "outputs": [
    {
     "name": "stdout",
     "output_type": "stream",
     "text": [
      "20000 ratings loaded for tests\n"
     ]
    }
   ],
   "source": [
    "MOVIELENS_DIR = ''\n",
    "RATING_DATA_FILE = 'u1.test'\n",
    "RATINGS_CSV_FILE = 'u_emb1.data'\n",
    "MODEL_WEIGHTS_FILE = 'u_emb1_weights.h5'\n",
    "MODEL_WEIGHTS_FILE_CORE = 'u_emb_weights'\n",
    "\n",
    "ratings1 = pd.read_csv(os.path.join(MOVIELENS_DIR, RATING_DATA_FILE), \n",
    "                    sep='\\t', \n",
    "                    engine='python', \n",
    "                    encoding='latin-1',\n",
    "                    names=['userid', 'movieid', 'rating', 'timestamp'])\n",
    "max_userid1 = ratings1['userid'].drop_duplicates().max()\n",
    "max_movieid1 = ratings1['movieid'].drop_duplicates().max()\n",
    "ratings1['user_emb_id'] = ratings1['userid'] - 1\n",
    "ratings1['movie_emb_id'] = ratings1['movieid'] - 1\n",
    "print(str(len(ratings1))+' ratings loaded for tests')\n",
    "ratings1.to_csv(RATINGS_CSV_FILE, \n",
    "               sep='\\t', \n",
    "               header=True, \n",
    "               encoding='latin-1', \n",
    "               columns=['userid', 'movieid', 'rating', 'timestamp', 'user_emb_id', 'movie_emb_id'])\n",
    "\n",
    "\n",
    "\n",
    "ratings1 = pd.read_csv(RATINGS_CSV_FILE, \n",
    "                      sep='\\t', \n",
    "                      encoding='latin-1', \n",
    "                      usecols=['userid', 'movieid', 'user_emb_id', 'movie_emb_id', 'rating'])\n",
    "max_userid1 = ratings1['userid'].drop_duplicates().max()\n",
    "max_movieid1 = ratings1['movieid'].drop_duplicates().max()\n",
    "\n",
    "\n",
    "shuffled_ratings1 = ratings1.sample(frac=1.)\n",
    "Users1 = shuffled_ratings1['user_emb_id'].values\n",
    "Movies1 = shuffled_ratings1['movie_emb_id'].values\n",
    "Ratings1 = shuffled_ratings1['rating'].values\n",
    "\n"
   ]
  },
  {
   "cell_type": "code",
   "execution_count": 0,
   "metadata": {
    "colab": {
     "autoexec": {
      "startup": false,
      "wait_interval": 0
     }
    },
    "colab_type": "code",
    "id": "wxi5oOzqY-ed"
   },
   "outputs": [],
   "source": [
    "#embedding user-item\n",
    "def get_gmf_model(num_users, num_items, latent_dim,do):\n",
    "    # Input variables\n",
    "    user_input = Input(shape=(1,), dtype='int32', name = 'user_input')\n",
    "    item_input = Input(shape=(1,), dtype='int32', name = 'item_input')\n",
    "\n",
    "    MF_Embedding_User = Embedding(input_dim = num_users, output_dim = latent_dim, name = 'user_embedding', input_length=1)\n",
    "    MF_Embedding_Item = Embedding(input_dim = num_items, output_dim = latent_dim, name = 'item_embedding', input_length=1)   \n",
    "    \n",
    "    # Crucial to flatten an embedding vector!\n",
    "    user_latent = Flatten()(MF_Embedding_User(user_input))\n",
    "    item_latent = Flatten()(MF_Embedding_Item(item_input))\n",
    "    \n",
    "    # Element-wise product of user and item embeddings\n",
    "    hidden1 = Multiply()([user_latent, item_latent])\n",
    "    drop = Dropout(do)(hidden1)\n",
    "    prediction = Dense(1, activation='relu', kernel_initializer='lecun_uniform', name = 'prediction')(drop)\n",
    "    \n",
    "    \n",
    "    model = Model(input=[user_input, item_input], output=prediction)\n",
    "\n",
    "    return model"
   ]
  },
  {
   "cell_type": "markdown",
   "metadata": {
    "colab_type": "text",
    "id": "JYzmjsGq3yC9"
   },
   "source": [
    "### we will calculate the result and MAE with:\n",
    "#### embedding of: user-item\n",
    "#### drop-out of: 0.1, 0.5"
   ]
  },
  {
   "cell_type": "markdown",
   "metadata": {
    "colab_type": "text",
    "id": "dAZaoF-p3yC-"
   },
   "source": [
    "### embedding  = User-Item , Dropout  = 0.5\n"
   ]
  },
  {
   "cell_type": "code",
   "execution_count": 37,
   "metadata": {
    "colab": {
     "autoexec": {
      "startup": false,
      "wait_interval": 0
     },
     "base_uri": "https://localhost:8080/",
     "height": 2859
    },
    "colab_type": "code",
    "executionInfo": {
     "elapsed": 339914,
     "status": "ok",
     "timestamp": 1532961827443,
     "user": {
      "displayName": "orelie shahar",
      "photoUrl": "https://lh3.googleusercontent.com/a/default-user=s128",
      "userId": "104271544169794618728"
     },
     "user_tz": -180
    },
    "id": "UWVxvIxBLyds",
    "outputId": "a4a0057b-4b9c-4494-ca1b-d9a0c1269b42"
   },
   "outputs": [
    {
     "name": "stderr",
     "output_type": "stream",
     "text": [
      "/usr/local/lib/python3.6/dist-packages/ipykernel_launcher.py:19: UserWarning: Update your `Model` call to the Keras 2 API: `Model(inputs=[<tf.Tenso..., outputs=Tensor(\"pr...)`\n",
      "/usr/local/lib/python3.6/dist-packages/ipykernel_launcher.py:10: UserWarning: The `nb_epoch` argument in `fit` has been renamed `epochs`.\n",
      "  # Remove the CWD from sys.path while we load stuff.\n"
     ]
    },
    {
     "name": "stdout",
     "output_type": "stream",
     "text": [
      "Train on 80000 samples, validate on 20000 samples\n",
      "Epoch 1/100\n",
      "80000/80000 [==============================] - 5s 58us/step - loss: 4.7144 - mean_absolute_error: 1.8064 - val_loss: 1.3486 - val_mean_absolute_error: 0.9836\n",
      "Epoch 2/100\n",
      "80000/80000 [==============================] - 4s 53us/step - loss: 1.2510 - mean_absolute_error: 0.9401 - val_loss: 1.3291 - val_mean_absolute_error: 0.9684\n",
      "Epoch 3/100\n",
      "80000/80000 [==============================] - 4s 52us/step - loss: 1.2409 - mean_absolute_error: 0.9345 - val_loss: 1.3172 - val_mean_absolute_error: 0.9642\n",
      "Epoch 4/100\n",
      "36704/80000 [============>.................] - ETA: 2s - loss: 1.2227 - mean_absolute_error: 0.926680000/80000 [==============================] - 4s 52us/step - loss: 1.2086 - mean_absolute_error: 0.9198 - val_loss: 1.2798 - val_mean_absolute_error: 0.9471\n",
      "Epoch 5/100\n",
      "80000/80000 [==============================] - 4s 52us/step - loss: 1.1476 - mean_absolute_error: 0.8886 - val_loss: 1.2199 - val_mean_absolute_error: 0.9174\n",
      "Epoch 6/100\n",
      "80000/80000 [==============================] - 4s 53us/step - loss: 1.0893 - mean_absolute_error: 0.8561 - val_loss: 1.1685 - val_mean_absolute_error: 0.8889\n",
      "Epoch 7/100\n",
      "70784/80000 [=========================>....] - ETA: 0s - loss: 1.0504 - mean_absolute_error: 0.832680000/80000 [==============================] - 4s 52us/step - loss: 1.0453 - mean_absolute_error: 0.8299 - val_loss: 1.1304 - val_mean_absolute_error: 0.8665\n",
      "Epoch 8/100\n",
      "80000/80000 [==============================] - 4s 52us/step - loss: 1.0104 - mean_absolute_error: 0.8104 - val_loss: 1.1005 - val_mean_absolute_error: 0.8494\n",
      "Epoch 9/100\n",
      "80000/80000 [==============================] - 4s 52us/step - loss: 0.9800 - mean_absolute_error: 0.7937 - val_loss: 1.0741 - val_mean_absolute_error: 0.8335\n",
      "Epoch 10/100\n",
      "77088/80000 [===========================>..] - ETA: 0s - loss: 0.9540 - mean_absolute_error: 0.779380000/80000 [==============================] - 4s 52us/step - loss: 0.9536 - mean_absolute_error: 0.7790 - val_loss: 1.0513 - val_mean_absolute_error: 0.8214\n",
      "Epoch 11/100\n",
      "80000/80000 [==============================] - 4s 52us/step - loss: 0.9274 - mean_absolute_error: 0.7664 - val_loss: 1.0317 - val_mean_absolute_error: 0.8108\n",
      "Epoch 12/100\n",
      "80000/80000 [==============================] - 4s 52us/step - loss: 0.9061 - mean_absolute_error: 0.7563 - val_loss: 1.0151 - val_mean_absolute_error: 0.8025\n",
      "Epoch 13/100\n",
      "78176/80000 [============================>.] - ETA: 0s - loss: 0.8905 - mean_absolute_error: 0.747480000/80000 [==============================] - 4s 52us/step - loss: 0.8906 - mean_absolute_error: 0.7472 - val_loss: 1.0020 - val_mean_absolute_error: 0.7975\n",
      "Epoch 14/100\n",
      "80000/80000 [==============================] - 4s 52us/step - loss: 0.8719 - mean_absolute_error: 0.7394 - val_loss: 0.9900 - val_mean_absolute_error: 0.7905\n",
      "Epoch 15/100\n",
      "80000/80000 [==============================] - 4s 52us/step - loss: 0.8638 - mean_absolute_error: 0.7347 - val_loss: 0.9804 - val_mean_absolute_error: 0.7856\n",
      "Epoch 16/100\n",
      "77664/80000 [============================>.] - ETA: 0s - loss: 0.8505 - mean_absolute_error: 0.728680000/80000 [==============================] - 4s 53us/step - loss: 0.8513 - mean_absolute_error: 0.7289 - val_loss: 0.9719 - val_mean_absolute_error: 0.7823\n",
      "Epoch 17/100\n",
      "80000/80000 [==============================] - 4s 53us/step - loss: 0.8429 - mean_absolute_error: 0.7245 - val_loss: 0.9653 - val_mean_absolute_error: 0.7796\n",
      "Epoch 18/100\n",
      "80000/80000 [==============================] - 4s 53us/step - loss: 0.8295 - mean_absolute_error: 0.7178 - val_loss: 0.9595 - val_mean_absolute_error: 0.7773\n",
      "Epoch 19/100\n",
      "75936/80000 [===========================>..] - ETA: 0s - loss: 0.8245 - mean_absolute_error: 0.716580000/80000 [==============================] - 4s 52us/step - loss: 0.8235 - mean_absolute_error: 0.7159 - val_loss: 0.9542 - val_mean_absolute_error: 0.7732\n",
      "Epoch 20/100\n",
      "80000/80000 [==============================] - 4s 53us/step - loss: 0.8137 - mean_absolute_error: 0.7103 - val_loss: 0.9491 - val_mean_absolute_error: 0.7723\n",
      "Epoch 21/100\n",
      "80000/80000 [==============================] - 4s 52us/step - loss: 0.8131 - mean_absolute_error: 0.7093 - val_loss: 0.9449 - val_mean_absolute_error: 0.7710\n",
      "Epoch 22/100\n",
      "76960/80000 [===========================>..] - ETA: 0s - loss: 0.8049 - mean_absolute_error: 0.706080000/80000 [==============================] - 4s 52us/step - loss: 0.8046 - mean_absolute_error: 0.7064 - val_loss: 0.9422 - val_mean_absolute_error: 0.7674\n",
      "Epoch 23/100\n",
      "80000/80000 [==============================] - 4s 52us/step - loss: 0.7996 - mean_absolute_error: 0.7034 - val_loss: 0.9393 - val_mean_absolute_error: 0.7674\n",
      "Epoch 24/100\n",
      "80000/80000 [==============================] - 4s 53us/step - loss: 0.7963 - mean_absolute_error: 0.7013 - val_loss: 0.9356 - val_mean_absolute_error: 0.7662\n",
      "Epoch 25/100\n",
      "76896/80000 [===========================>..] - ETA: 0s - loss: 0.7925 - mean_absolute_error: 0.699780000/80000 [==============================] - 4s 53us/step - loss: 0.7922 - mean_absolute_error: 0.6997 - val_loss: 0.9334 - val_mean_absolute_error: 0.7639\n",
      "Epoch 26/100\n",
      "80000/80000 [==============================] - 4s 52us/step - loss: 0.7837 - mean_absolute_error: 0.6964 - val_loss: 0.9307 - val_mean_absolute_error: 0.7625\n",
      "Epoch 27/100\n",
      "80000/80000 [==============================] - 4s 52us/step - loss: 0.7780 - mean_absolute_error: 0.6939 - val_loss: 0.9279 - val_mean_absolute_error: 0.7619\n",
      "Epoch 28/100\n",
      "77984/80000 [============================>.] - ETA: 0s - loss: 0.7765 - mean_absolute_error: 0.692380000/80000 [==============================] - 4s 53us/step - loss: 0.7766 - mean_absolute_error: 0.6923 - val_loss: 0.9270 - val_mean_absolute_error: 0.7606\n",
      "Epoch 29/100\n",
      "80000/80000 [==============================] - 4s 52us/step - loss: 0.7714 - mean_absolute_error: 0.6893 - val_loss: 0.9249 - val_mean_absolute_error: 0.7607\n",
      "Epoch 30/100\n",
      "80000/80000 [==============================] - 4s 52us/step - loss: 0.7698 - mean_absolute_error: 0.6885 - val_loss: 0.9238 - val_mean_absolute_error: 0.7592\n",
      "Epoch 31/100\n",
      "77664/80000 [============================>.] - ETA: 0s - loss: 0.7673 - mean_absolute_error: 0.686280000/80000 [==============================] - 4s 53us/step - loss: 0.7681 - mean_absolute_error: 0.6869 - val_loss: 0.9222 - val_mean_absolute_error: 0.7589\n",
      "Epoch 32/100\n",
      "80000/80000 [==============================] - 4s 52us/step - loss: 0.7613 - mean_absolute_error: 0.6843 - val_loss: 0.9205 - val_mean_absolute_error: 0.7596\n",
      "Epoch 33/100\n",
      "80000/80000 [==============================] - 4s 52us/step - loss: 0.7594 - mean_absolute_error: 0.6833 - val_loss: 0.9189 - val_mean_absolute_error: 0.7581\n",
      "Epoch 34/100\n",
      "77824/80000 [============================>.] - ETA: 0s - loss: 0.7586 - mean_absolute_error: 0.682780000/80000 [==============================] - 4s 53us/step - loss: 0.7579 - mean_absolute_error: 0.6825 - val_loss: 0.9180 - val_mean_absolute_error: 0.7572\n",
      "Epoch 35/100\n",
      "80000/80000 [==============================] - 4s 53us/step - loss: 0.7568 - mean_absolute_error: 0.6827 - val_loss: 0.9167 - val_mean_absolute_error: 0.7567\n",
      "Epoch 36/100\n",
      "80000/80000 [==============================] - 4s 52us/step - loss: 0.7527 - mean_absolute_error: 0.6794 - val_loss: 0.9151 - val_mean_absolute_error: 0.7551\n",
      "Epoch 37/100\n",
      "77184/80000 [===========================>..] - ETA: 0s - loss: 0.7472 - mean_absolute_error: 0.677480000/80000 [==============================] - 4s 52us/step - loss: 0.7476 - mean_absolute_error: 0.6775 - val_loss: 0.9138 - val_mean_absolute_error: 0.7543\n",
      "Epoch 38/100\n",
      "80000/80000 [==============================] - 4s 52us/step - loss: 0.7509 - mean_absolute_error: 0.6796 - val_loss: 0.9135 - val_mean_absolute_error: 0.7563\n",
      "Epoch 39/100\n",
      "80000/80000 [==============================] - 4s 52us/step - loss: 0.7464 - mean_absolute_error: 0.6771 - val_loss: 0.9135 - val_mean_absolute_error: 0.7552\n",
      "Epoch 40/100\n",
      "78432/80000 [============================>.] - ETA: 0s - loss: 0.7407 - mean_absolute_error: 0.674780000/80000 [==============================] - 4s 52us/step - loss: 0.7405 - mean_absolute_error: 0.6748 - val_loss: 0.9135 - val_mean_absolute_error: 0.7544\n",
      "Epoch 41/100\n",
      "80000/80000 [==============================] - 4s 53us/step - loss: 0.7406 - mean_absolute_error: 0.6744 - val_loss: 0.9124 - val_mean_absolute_error: 0.7552\n",
      "Epoch 42/100\n",
      "80000/80000 [==============================] - 4s 52us/step - loss: 0.7354 - mean_absolute_error: 0.6716 - val_loss: 0.9117 - val_mean_absolute_error: 0.7546\n",
      "Epoch 43/100\n"
     ]
    },
    {
     "name": "stdout",
     "output_type": "stream",
     "text": [
      "77952/80000 [============================>.] - ETA: 0s - loss: 0.7393 - mean_absolute_error: 0.672380000/80000 [==============================] - 4s 53us/step - loss: 0.7388 - mean_absolute_error: 0.6720 - val_loss: 0.9112 - val_mean_absolute_error: 0.7539\n",
      "Epoch 44/100\n",
      "80000/80000 [==============================] - 4s 53us/step - loss: 0.7328 - mean_absolute_error: 0.6704 - val_loss: 0.9105 - val_mean_absolute_error: 0.7537\n",
      "Epoch 45/100\n",
      "80000/80000 [==============================] - 4s 52us/step - loss: 0.7362 - mean_absolute_error: 0.6714 - val_loss: 0.9099 - val_mean_absolute_error: 0.7533\n",
      "Epoch 46/100\n",
      "78080/80000 [============================>.] - ETA: 0s - loss: 0.7310 - mean_absolute_error: 0.668580000/80000 [==============================] - 4s 52us/step - loss: 0.7303 - mean_absolute_error: 0.6682 - val_loss: 0.9092 - val_mean_absolute_error: 0.7532\n",
      "Epoch 47/100\n",
      "80000/80000 [==============================] - 4s 53us/step - loss: 0.7300 - mean_absolute_error: 0.6675 - val_loss: 0.9086 - val_mean_absolute_error: 0.7525\n",
      "Epoch 48/100\n",
      "80000/80000 [==============================] - 4s 53us/step - loss: 0.7246 - mean_absolute_error: 0.6660 - val_loss: 0.9084 - val_mean_absolute_error: 0.7518\n",
      "Epoch 49/100\n",
      "76992/80000 [===========================>..] - ETA: 0s - loss: 0.7235 - mean_absolute_error: 0.665180000/80000 [==============================] - 4s 53us/step - loss: 0.7244 - mean_absolute_error: 0.6655 - val_loss: 0.9072 - val_mean_absolute_error: 0.7511\n",
      "Epoch 50/100\n",
      "80000/80000 [==============================] - 4s 53us/step - loss: 0.7235 - mean_absolute_error: 0.6657 - val_loss: 0.9067 - val_mean_absolute_error: 0.7518\n",
      "Epoch 51/100\n",
      "80000/80000 [==============================] - 4s 53us/step - loss: 0.7260 - mean_absolute_error: 0.6668 - val_loss: 0.9060 - val_mean_absolute_error: 0.7519\n",
      "Epoch 52/100\n",
      "74176/80000 [==========================>...] - ETA: 0s - loss: 0.7169 - mean_absolute_error: 0.662180000/80000 [==============================] - 4s 54us/step - loss: 0.7204 - mean_absolute_error: 0.6639 - val_loss: 0.9057 - val_mean_absolute_error: 0.7510\n",
      "Epoch 53/100\n",
      "80000/80000 [==============================] - 4s 53us/step - loss: 0.7223 - mean_absolute_error: 0.6650 - val_loss: 0.9057 - val_mean_absolute_error: 0.7522\n",
      "Epoch 54/100\n",
      "80000/80000 [==============================] - 4s 53us/step - loss: 0.7188 - mean_absolute_error: 0.6624 - val_loss: 0.9056 - val_mean_absolute_error: 0.7513\n",
      "Epoch 55/100\n",
      "77056/80000 [===========================>..] - ETA: 0s - loss: 0.7189 - mean_absolute_error: 0.662080000/80000 [==============================] - 4s 53us/step - loss: 0.7198 - mean_absolute_error: 0.6623 - val_loss: 0.9049 - val_mean_absolute_error: 0.7515\n",
      "Epoch 56/100\n",
      "80000/80000 [==============================] - 4s 53us/step - loss: 0.7171 - mean_absolute_error: 0.6623 - val_loss: 0.9055 - val_mean_absolute_error: 0.7509\n",
      "Epoch 57/100\n",
      "80000/80000 [==============================] - 4s 53us/step - loss: 0.7159 - mean_absolute_error: 0.6616 - val_loss: 0.9056 - val_mean_absolute_error: 0.7513\n",
      "Epoch 58/100\n",
      "75584/80000 [===========================>..] - ETA: 0s - loss: 0.7158 - mean_absolute_error: 0.660880000/80000 [==============================] - 4s 53us/step - loss: 0.7173 - mean_absolute_error: 0.6613 - val_loss: 0.9049 - val_mean_absolute_error: 0.7510\n",
      "Epoch 59/100\n",
      "80000/80000 [==============================] - 4s 53us/step - loss: 0.7128 - mean_absolute_error: 0.6602 - val_loss: 0.9045 - val_mean_absolute_error: 0.7508\n",
      "Epoch 60/100\n",
      "80000/80000 [==============================] - 4s 53us/step - loss: 0.7122 - mean_absolute_error: 0.6595 - val_loss: 0.9043 - val_mean_absolute_error: 0.7500\n",
      "Epoch 61/100\n",
      "75808/80000 [===========================>..] - ETA: 0s - loss: 0.7098 - mean_absolute_error: 0.658280000/80000 [==============================] - 4s 52us/step - loss: 0.7098 - mean_absolute_error: 0.6582 - val_loss: 0.9044 - val_mean_absolute_error: 0.7517\n",
      "Epoch 62/100\n",
      "80000/80000 [==============================] - 4s 52us/step - loss: 0.7117 - mean_absolute_error: 0.6605 - val_loss: 0.9042 - val_mean_absolute_error: 0.7510\n",
      "Epoch 63/100\n",
      "80000/80000 [==============================] - 4s 53us/step - loss: 0.7108 - mean_absolute_error: 0.6585 - val_loss: 0.9049 - val_mean_absolute_error: 0.7518\n",
      "Epoch 64/100\n",
      "75808/80000 [===========================>..] - ETA: 0s - loss: 0.7097 - mean_absolute_error: 0.658480000/80000 [==============================] - 4s 53us/step - loss: 0.7099 - mean_absolute_error: 0.6586 - val_loss: 0.9041 - val_mean_absolute_error: 0.7510\n",
      "Epoch 65/100\n",
      "80000/80000 [==============================] - 4s 52us/step - loss: 0.7087 - mean_absolute_error: 0.6572 - val_loss: 0.9037 - val_mean_absolute_error: 0.7509\n",
      "Epoch 66/100\n",
      "80000/80000 [==============================] - 4s 53us/step - loss: 0.7046 - mean_absolute_error: 0.6554 - val_loss: 0.9035 - val_mean_absolute_error: 0.7503\n",
      "Epoch 67/100\n",
      "75744/80000 [===========================>..] - ETA: 0s - loss: 0.7078 - mean_absolute_error: 0.657080000/80000 [==============================] - 4s 53us/step - loss: 0.7087 - mean_absolute_error: 0.6576 - val_loss: 0.9031 - val_mean_absolute_error: 0.7505\n",
      "Epoch 68/100\n",
      "80000/80000 [==============================] - 4s 52us/step - loss: 0.7058 - mean_absolute_error: 0.6563 - val_loss: 0.9033 - val_mean_absolute_error: 0.7503\n",
      "Epoch 69/100\n",
      "80000/80000 [==============================] - 4s 53us/step - loss: 0.7057 - mean_absolute_error: 0.6569 - val_loss: 0.9029 - val_mean_absolute_error: 0.7503\n",
      "Epoch 70/100\n",
      "77088/80000 [===========================>..] - ETA: 0s - loss: 0.7019 - mean_absolute_error: 0.654980000/80000 [==============================] - 4s 52us/step - loss: 0.7013 - mean_absolute_error: 0.6547 - val_loss: 0.9033 - val_mean_absolute_error: 0.7504\n",
      "Epoch 71/100\n",
      "80000/80000 [==============================] - 4s 53us/step - loss: 0.6988 - mean_absolute_error: 0.6535 - val_loss: 0.9029 - val_mean_absolute_error: 0.7495\n",
      "Epoch 72/100\n",
      "80000/80000 [==============================] - 4s 53us/step - loss: 0.7040 - mean_absolute_error: 0.6552 - val_loss: 0.9025 - val_mean_absolute_error: 0.7501\n",
      "Epoch 73/100\n",
      "77664/80000 [============================>.] - ETA: 0s - loss: 0.7013 - mean_absolute_error: 0.654680000/80000 [==============================] - 4s 53us/step - loss: 0.7013 - mean_absolute_error: 0.6546 - val_loss: 0.9026 - val_mean_absolute_error: 0.7503\n",
      "Epoch 74/100\n",
      "80000/80000 [==============================] - 4s 53us/step - loss: 0.7008 - mean_absolute_error: 0.6525 - val_loss: 0.9026 - val_mean_absolute_error: 0.7505\n",
      "Epoch 75/100\n",
      "80000/80000 [==============================] - 4s 53us/step - loss: 0.6953 - mean_absolute_error: 0.6513 - val_loss: 0.9022 - val_mean_absolute_error: 0.7495\n",
      "Epoch 76/100\n",
      "76096/80000 [===========================>..] - ETA: 0s - loss: 0.6969 - mean_absolute_error: 0.652780000/80000 [==============================] - 4s 52us/step - loss: 0.6970 - mean_absolute_error: 0.6527 - val_loss: 0.9024 - val_mean_absolute_error: 0.7493\n",
      "Epoch 77/100\n",
      "80000/80000 [==============================] - 4s 53us/step - loss: 0.6971 - mean_absolute_error: 0.6519 - val_loss: 0.9016 - val_mean_absolute_error: 0.7494\n",
      "Epoch 78/100\n",
      "80000/80000 [==============================] - 4s 53us/step - loss: 0.7025 - mean_absolute_error: 0.6547 - val_loss: 0.9024 - val_mean_absolute_error: 0.7481\n",
      "Epoch 79/100\n",
      "75552/80000 [===========================>..] - ETA: 0s - loss: 0.6979 - mean_absolute_error: 0.653480000/80000 [==============================] - 4s 53us/step - loss: 0.6978 - mean_absolute_error: 0.6534 - val_loss: 0.9016 - val_mean_absolute_error: 0.7492\n",
      "Epoch 80/100\n",
      "80000/80000 [==============================] - 4s 53us/step - loss: 0.6966 - mean_absolute_error: 0.6524 - val_loss: 0.9016 - val_mean_absolute_error: 0.7488\n",
      "Total time for embedding = User-Item , Dropout = 0.5:  338.7126569747925\n",
      "MAE for embedding = User-Item , Dropout = 0.5:  0.9015507272243499\n"
     ]
    }
   ],
   "source": [
    "K_LATENT = 20\n",
    "hidden_dim = 20\n",
    "do = 0.5\n",
    "GMF_model = get_gmf_model(max_userid,max_movieid,K_LATENT,do)\n",
    "GMF_model.compile(loss='mse',optimizer='adamax',metrics=['mae'])\n",
    "\n",
    "\n",
    "ini = time.time()\n",
    "callbacks_gmf = [EarlyStopping('val_loss', patience=3), ModelCheckpoint(MODEL_WEIGHTS_FILE_CORE+'_gmf_'+str(do)+'_'+str(K_LATENT)+'.h5', save_best_only=True)]\n",
    "history = GMF_model.fit([Users, Movies], Ratings, nb_epoch=100, validation_split=.1,validation_data=([Users1,Movies1], Ratings1), verbose=1, callbacks=callbacks_gmf, batch_size = 32)\n",
    "\n",
    "end = time.time()\n",
    "print (\"Total time for embedding = User-Item , Dropout = 0.5: \",end-ini)\n",
    "print(\"MAE for embedding = User-Item , Dropout = 0.5: \" , min(history.history['val_loss']))"
   ]
  },
  {
   "cell_type": "code",
   "execution_count": 38,
   "metadata": {
    "colab": {
     "autoexec": {
      "startup": false,
      "wait_interval": 0
     },
     "base_uri": "https://localhost:8080/",
     "height": 68
    },
    "colab_type": "code",
    "executionInfo": {
     "elapsed": 1262,
     "status": "ok",
     "timestamp": 1532961828756,
     "user": {
      "displayName": "orelie shahar",
      "photoUrl": "https://lh3.googleusercontent.com/a/default-user=s128",
      "userId": "104271544169794618728"
     },
     "user_tz": -180
    },
    "id": "dPquMKFrh1Uz",
    "outputId": "a5384317-3c5b-48db-fd75-1e16c27f46fb"
   },
   "outputs": [
    {
     "name": "stdout",
     "output_type": "stream",
     "text": [
      "20000/20000 [==============================] - 0s 24us/step\n",
      "Test MSE: 0.9016449202060699\n",
      "Test MAE: 0.7488374603748321\n"
     ]
    }
   ],
   "source": [
    "score =GMF_model.evaluate([Users1,Movies1], Ratings1,verbose=1)\n",
    "print('Test MSE:', score[0])\n",
    "print('Test MAE:', score[1])"
   ]
  },
  {
   "cell_type": "markdown",
   "metadata": {
    "colab_type": "text",
    "id": "BFsqyrBT3yDB"
   },
   "source": [
    "### embedding = User- Item , Dropout = 0.1"
   ]
  },
  {
   "cell_type": "code",
   "execution_count": 39,
   "metadata": {
    "colab": {
     "autoexec": {
      "startup": false,
      "wait_interval": 0
     },
     "base_uri": "https://localhost:8080/",
     "height": 717
    },
    "colab_type": "code",
    "executionInfo": {
     "elapsed": 73636,
     "status": "ok",
     "timestamp": 1532961903187,
     "user": {
      "displayName": "orelie shahar",
      "photoUrl": "https://lh3.googleusercontent.com/a/default-user=s128",
      "userId": "104271544169794618728"
     },
     "user_tz": -180
    },
    "id": "fmg3eUV_3yDB",
    "outputId": "59b62aeb-4b6d-420b-9d95-31f5decc698d"
   },
   "outputs": [
    {
     "name": "stderr",
     "output_type": "stream",
     "text": [
      "/usr/local/lib/python3.6/dist-packages/ipykernel_launcher.py:19: UserWarning: Update your `Model` call to the Keras 2 API: `Model(inputs=[<tf.Tenso..., outputs=Tensor(\"pr...)`\n",
      "/usr/local/lib/python3.6/dist-packages/ipykernel_launcher.py:10: UserWarning: The `nb_epoch` argument in `fit` has been renamed `epochs`.\n",
      "  # Remove the CWD from sys.path while we load stuff.\n"
     ]
    },
    {
     "name": "stdout",
     "output_type": "stream",
     "text": [
      "Train on 80000 samples, validate on 20000 samples\n",
      "Epoch 1/100\n",
      "80000/80000 [==============================] - 5s 57us/step - loss: 4.6975 - mean_absolute_error: 1.8012 - val_loss: 1.3466 - val_mean_absolute_error: 0.9829\n",
      "Epoch 2/100\n",
      "80000/80000 [==============================] - 4s 53us/step - loss: 1.2252 - mean_absolute_error: 0.9290 - val_loss: 1.2812 - val_mean_absolute_error: 0.9470\n",
      "Epoch 3/100\n",
      "80000/80000 [==============================] - 4s 53us/step - loss: 1.1263 - mean_absolute_error: 0.8775 - val_loss: 1.1799 - val_mean_absolute_error: 0.8959\n",
      "Epoch 4/100\n",
      "35168/80000 [============>.................] - ETA: 2s - loss: 1.0641 - mean_absolute_error: 0.840980000/80000 [==============================] - 4s 53us/step - loss: 1.0389 - mean_absolute_error: 0.8271 - val_loss: 1.1171 - val_mean_absolute_error: 0.8582\n",
      "Epoch 5/100\n",
      "80000/80000 [==============================] - 4s 53us/step - loss: 0.9802 - mean_absolute_error: 0.7928 - val_loss: 1.0726 - val_mean_absolute_error: 0.8308\n",
      "Epoch 6/100\n",
      "80000/80000 [==============================] - 4s 53us/step - loss: 0.9278 - mean_absolute_error: 0.7648 - val_loss: 1.0356 - val_mean_absolute_error: 0.8107\n",
      "Epoch 7/100\n",
      "69792/80000 [=========================>....] - ETA: 0s - loss: 0.8794 - mean_absolute_error: 0.740980000/80000 [==============================] - 4s 53us/step - loss: 0.8785 - mean_absolute_error: 0.7404 - val_loss: 1.0050 - val_mean_absolute_error: 0.7949\n",
      "Epoch 8/100\n",
      "80000/80000 [==============================] - 4s 53us/step - loss: 0.8365 - mean_absolute_error: 0.7206 - val_loss: 0.9822 - val_mean_absolute_error: 0.7840\n",
      "Epoch 9/100\n",
      "80000/80000 [==============================] - 4s 53us/step - loss: 0.7999 - mean_absolute_error: 0.7030 - val_loss: 0.9655 - val_mean_absolute_error: 0.7765\n",
      "Epoch 10/100\n",
      "75456/80000 [===========================>..] - ETA: 0s - loss: 0.7720 - mean_absolute_error: 0.689080000/80000 [==============================] - 4s 53us/step - loss: 0.7699 - mean_absolute_error: 0.6881 - val_loss: 0.9536 - val_mean_absolute_error: 0.7709\n",
      "Epoch 11/100\n",
      "80000/80000 [==============================] - 4s 53us/step - loss: 0.7425 - mean_absolute_error: 0.6747 - val_loss: 0.9463 - val_mean_absolute_error: 0.7660\n",
      "Epoch 12/100\n",
      "80000/80000 [==============================] - 4s 53us/step - loss: 0.7200 - mean_absolute_error: 0.6632 - val_loss: 0.9406 - val_mean_absolute_error: 0.7649\n",
      "Epoch 13/100\n",
      "75520/80000 [===========================>..] - ETA: 0s - loss: 0.6987 - mean_absolute_error: 0.651880000/80000 [==============================] - 4s 53us/step - loss: 0.6983 - mean_absolute_error: 0.6517 - val_loss: 0.9377 - val_mean_absolute_error: 0.7618\n",
      "Epoch 14/100\n",
      "80000/80000 [==============================] - 4s 53us/step - loss: 0.6803 - mean_absolute_error: 0.6419 - val_loss: 0.9359 - val_mean_absolute_error: 0.7614\n",
      "Epoch 15/100\n",
      "80000/80000 [==============================] - 4s 53us/step - loss: 0.6631 - mean_absolute_error: 0.6330 - val_loss: 0.9368 - val_mean_absolute_error: 0.7602\n",
      "Epoch 16/100\n",
      "75840/80000 [===========================>..] - ETA: 0s - loss: 0.6459 - mean_absolute_error: 0.623880000/80000 [==============================] - 4s 53us/step - loss: 0.6463 - mean_absolute_error: 0.6240 - val_loss: 0.9370 - val_mean_absolute_error: 0.7608\n",
      "Epoch 17/100\n",
      "80000/80000 [==============================] - 4s 53us/step - loss: 0.6321 - mean_absolute_error: 0.6160 - val_loss: 0.9382 - val_mean_absolute_error: 0.7613\n",
      "Total time for embedding = User-Item , Dropout = 0.5:  72.92786073684692\n",
      "MAE for embedding = User-Item , Dropout = 0.5:  0.9359496831893921\n"
     ]
    }
   ],
   "source": [
    "K_LATENT = 20\n",
    "hidden_dim = 20\n",
    "do = 0.1\n",
    "GMF_model = get_gmf_model(max_userid,max_movieid,K_LATENT,do)\n",
    "GMF_model.compile(loss='mse',optimizer='adamax',metrics=['mae'])\n",
    "\n",
    "\n",
    "ini = time.time()\n",
    "callbacks_gmf = [EarlyStopping('val_loss', patience=3), ModelCheckpoint(MODEL_WEIGHTS_FILE_CORE+'_gmf_'+str(do)+'_'+str(K_LATENT)+'.h5', save_best_only=True)]\n",
    "history = GMF_model.fit([Users, Movies], Ratings, nb_epoch=100, validation_split=.1,validation_data=([Users1,Movies1], Ratings1), verbose=1, callbacks=callbacks_gmf, batch_size = 32)\n",
    "\n",
    "end = time.time()\n",
    "print (\"Total time for embedding = User-Item , Dropout = 0.5: \",end-ini)\n",
    "print(\"MAE for embedding = User-Item , Dropout = 0.5: \" , min(history.history['val_loss']))"
   ]
  },
  {
   "cell_type": "code",
   "execution_count": 41,
   "metadata": {
    "colab": {
     "autoexec": {
      "startup": false,
      "wait_interval": 0
     },
     "base_uri": "https://localhost:8080/",
     "height": 68
    },
    "colab_type": "code",
    "executionInfo": {
     "elapsed": 1003,
     "status": "ok",
     "timestamp": 1532962182311,
     "user": {
      "displayName": "orelie shahar",
      "photoUrl": "https://lh3.googleusercontent.com/a/default-user=s128",
      "userId": "104271544169794618728"
     },
     "user_tz": -180
    },
    "id": "Z2TrIUo-h55S",
    "outputId": "7f79c856-0f8a-44d8-dab4-2ec7d1b7cafb"
   },
   "outputs": [
    {
     "name": "stdout",
     "output_type": "stream",
     "text": [
      "20000/20000 [==============================] - 0s 24us/step\n",
      "Test MSE: 0.9381665133953094\n",
      "Test MAE: 0.7613480550765991\n"
     ]
    }
   ],
   "source": [
    "score =GMF_model.evaluate([Users1,Movies1], Ratings1,verbose=1)\n",
    "print('Test MSE:', score[0])\n",
    "print('Test MAE:', score[1])"
   ]
  },
  {
   "cell_type": "markdown",
   "metadata": {
    "colab_type": "text",
    "id": "Rj53Yqze3yDF"
   },
   "source": [
    "### End of GMF part - all result in the pdf."
   ]
  },
  {
   "cell_type": "markdown",
   "metadata": {
    "colab_type": "text",
    "id": "HwMSFzzv3yDG"
   },
   "source": [
    "#### result for the non-Personalized based on rating avrege from HW2 in the pdf. "
   ]
  },
  {
   "cell_type": "markdown",
   "metadata": {
    "colab_type": "text",
    "id": "ap1NPjAA3yDG"
   },
   "source": [
    "### Part 2 - neural collaborative filtering - NCF"
   ]
  },
  {
   "cell_type": "code",
   "execution_count": 42,
   "metadata": {
    "colab": {
     "autoexec": {
      "startup": false,
      "wait_interval": 0
     },
     "base_uri": "https://localhost:8080/",
     "height": 34
    },
    "colab_type": "code",
    "executionInfo": {
     "elapsed": 1998,
     "status": "ok",
     "timestamp": 1532962191430,
     "user": {
      "displayName": "orelie shahar",
      "photoUrl": "https://lh3.googleusercontent.com/a/default-user=s128",
      "userId": "104271544169794618728"
     },
     "user_tz": -180
    },
    "id": "hC0oGAU-d6as",
    "outputId": "0c60ce75-b2bb-4439-dfab-5f42e4ed6105"
   },
   "outputs": [
    {
     "name": "stdout",
     "output_type": "stream",
     "text": [
      "80000 ratings loaded - for train\n"
     ]
    }
   ],
   "source": [
    "##add your path here if you run localy and not with google colaboratry\n",
    "MOVIELENS_DIR = ''\n",
    "RATING_DATA_FILE = 'u1.base'\n",
    "RATINGS_CSV_FILE = 'u_emb.data'\n",
    "MODEL_WEIGHTS_FILE = 'u_emb_weights.h5'\n",
    "\n",
    "\n",
    "ratings = pd.read_csv(os.path.join(MOVIELENS_DIR, RATING_DATA_FILE), \n",
    "                    sep='\\t', \n",
    "                    engine='python', \n",
    "                    encoding='latin-1',\n",
    "                    names=['userid', 'movieid', 'rating', 'timestamp'])\n",
    "max_userid = ratings['userid'].drop_duplicates().max()\n",
    "max_movieid = ratings['movieid'].drop_duplicates().max()\n",
    "ratings['user_emb_id'] = ratings['userid'] - 1\n",
    "ratings['movie_emb_id'] = ratings['movieid'] - 1\n",
    "print(str(len(ratings))+' ratings loaded - for train')\n",
    "ratings.to_csv(RATINGS_CSV_FILE, \n",
    "               sep='\\t', \n",
    "               header=True, \n",
    "               encoding='latin-1', \n",
    "               columns=['userid', 'movieid', 'rating', 'timestamp', 'user_emb_id', 'movie_emb_id'])\n",
    "\n",
    "\n",
    "ratings = pd.read_csv(RATINGS_CSV_FILE, \n",
    "                      sep='\\t', \n",
    "                      encoding='latin-1', \n",
    "                      usecols=['userid', 'movieid', 'user_emb_id', 'movie_emb_id', 'rating'])\n",
    "max_userid = ratings['userid'].drop_duplicates().max()\n",
    "max_movieid = ratings['movieid'].drop_duplicates().max()\n",
    "\n",
    "shuffled_ratings = ratings.sample(frac=1.)\n",
    "Users = shuffled_ratings['user_emb_id'].values\n",
    "Movies = shuffled_ratings['movie_emb_id'].values\n",
    "Ratings = shuffled_ratings['rating'].values"
   ]
  },
  {
   "cell_type": "code",
   "execution_count": 43,
   "metadata": {
    "colab": {
     "autoexec": {
      "startup": false,
      "wait_interval": 0
     },
     "base_uri": "https://localhost:8080/",
     "height": 34
    },
    "colab_type": "code",
    "executionInfo": {
     "elapsed": 1438,
     "status": "ok",
     "timestamp": 1532962193188,
     "user": {
      "displayName": "orelie shahar",
      "photoUrl": "https://lh3.googleusercontent.com/a/default-user=s128",
      "userId": "104271544169794618728"
     },
     "user_tz": -180
    },
    "id": "EHAhQ-e0eX7L",
    "outputId": "410ae9b4-a4c7-484a-ea24-4e81e753808d"
   },
   "outputs": [
    {
     "name": "stdout",
     "output_type": "stream",
     "text": [
      "20000 ratings loaded for tests\n"
     ]
    }
   ],
   "source": [
    "MOVIELENS_DIR = ''\n",
    "RATING_DATA_FILE = 'u1.test'\n",
    "RATINGS_CSV_FILE = 'u_emb1.data'\n",
    "MODEL_WEIGHTS_FILE = 'u_emb1_weights.h5'\n",
    "MODEL_WEIGHTS_FILE_CORE = 'u_emb_weights'\n",
    "\n",
    "ratings1 = pd.read_csv(os.path.join(MOVIELENS_DIR, RATING_DATA_FILE), \n",
    "                    sep='\\t', \n",
    "                    engine='python', \n",
    "                    encoding='latin-1',\n",
    "                    names=['userid', 'movieid', 'rating', 'timestamp'])\n",
    "max_userid1 = ratings1['userid'].drop_duplicates().max()\n",
    "max_movieid1 = ratings1['movieid'].drop_duplicates().max()\n",
    "ratings1['user_emb_id'] = ratings1['userid'] - 1\n",
    "ratings1['movie_emb_id'] = ratings1['movieid'] - 1\n",
    "print(str(len(ratings1))+' ratings loaded for tests')\n",
    "ratings1.to_csv(RATINGS_CSV_FILE, \n",
    "               sep='\\t', \n",
    "               header=True, \n",
    "               encoding='latin-1', \n",
    "               columns=['userid', 'movieid', 'rating', 'timestamp', 'user_emb_id', 'movie_emb_id'])\n",
    "\n",
    "\n",
    "\n",
    "ratings1 = pd.read_csv(RATINGS_CSV_FILE, \n",
    "                      sep='\\t', \n",
    "                      encoding='latin-1', \n",
    "                      usecols=['userid', 'movieid', 'user_emb_id', 'movie_emb_id', 'rating'])\n",
    "max_userid1 = ratings1['userid'].drop_duplicates().max()\n",
    "max_movieid1 = ratings1['movieid'].drop_duplicates().max()\n",
    "\n",
    "\n",
    "shuffled_ratings1 = ratings1.sample(frac=1.)\n",
    "Users1 = shuffled_ratings1['user_emb_id'].values\n",
    "Movies1 = shuffled_ratings1['movie_emb_id'].values\n",
    "Ratings1 = shuffled_ratings1['rating'].values\n",
    "\n"
   ]
  },
  {
   "cell_type": "code",
   "execution_count": 0,
   "metadata": {
    "colab": {
     "autoexec": {
      "startup": false,
      "wait_interval": 0
     }
    },
    "colab_type": "code",
    "id": "uyDD1KZSeX0m"
   },
   "outputs": [],
   "source": [
    "# hidden_dim = layer size, do  = drop-out\n",
    "def get_ncf_model(num_users, num_items, latent_dim,hidden_dim,do,activation_name):\n",
    "    # Input variables\n",
    "    user_input = Input(shape=(1,), dtype='int32', name = 'user_input')\n",
    "    item_input = Input(shape=(1,), dtype='int32', name = 'item_input')\n",
    "\n",
    "    MF_Embedding_User = Embedding(input_dim = num_users, output_dim = latent_dim, name = 'user_embedding', input_length=1)\n",
    "    MF_Embedding_Item = Embedding(input_dim = num_items, output_dim = latent_dim, name = 'item_embedding', input_length=1)   \n",
    "    \n",
    "    # Crucial to flatten an embedding vector!\n",
    "    user_latent = Flatten()(MF_Embedding_User(user_input))\n",
    "    item_latent = Flatten()(MF_Embedding_Item(item_input))\n",
    "    \n",
    "    # Element-wise product of user and item embeddings\n",
    "    conc = Concatenate()([user_latent, item_latent])\n",
    "    drop = Dropout(0.5)(conc)\n",
    "    hid1 = Dense(hidden_dim, activation=activation_name)(conc)\n",
    "    drop2  = Dropout(do)(hid1)\n",
    "    prediction = Dense(1, activation=activation_name, kernel_initializer='lecun_uniform', name = 'prediction')(drop2)\n",
    "    prediction = Dropout(do)(prediction)\n",
    "\n",
    "    \n",
    "    model = Model(input=[user_input, item_input], output=prediction)\n",
    "\n",
    "    return model"
   ]
  },
  {
   "cell_type": "markdown",
   "metadata": {
    "colab_type": "text",
    "id": "aSOQzsR-3yDO"
   },
   "source": [
    "### we will calculate the result and MAE with:\n",
    "#### Size of Layer: 8, 16, 50, 100\n",
    "#### Optimizer = sgd, adam, Nadam, Adadelta\n",
    "#### Function Loss = mean absolute error, mean squared error,  mean_absolute_percentage_error\n",
    "#### Activation Function = relu, tanh, linear, selu\n",
    "#### drop-out of: 0.1, 0.5"
   ]
  },
  {
   "cell_type": "markdown",
   "metadata": {
    "colab_type": "text",
    "id": "M_4iPTiD7vKn"
   },
   "source": [
    "### Size of Layer: 8 "
   ]
  },
  {
   "cell_type": "code",
   "execution_count": 45,
   "metadata": {
    "colab": {
     "autoexec": {
      "startup": false,
      "wait_interval": 0
     },
     "base_uri": "https://localhost:8080/",
     "height": 479
    },
    "colab_type": "code",
    "executionInfo": {
     "elapsed": 47893,
     "status": "ok",
     "timestamp": 1532962243465,
     "user": {
      "displayName": "orelie shahar",
      "photoUrl": "https://lh3.googleusercontent.com/a/default-user=s128",
      "userId": "104271544169794618728"
     },
     "user_tz": -180
    },
    "id": "B3NRL3fD7ixz",
    "outputId": "4144f6d7-e824-4495-e5eb-4811f5d68e6c"
   },
   "outputs": [
    {
     "name": "stderr",
     "output_type": "stream",
     "text": [
      "/usr/local/lib/python3.6/dist-packages/ipykernel_launcher.py:22: UserWarning: Update your `Model` call to the Keras 2 API: `Model(inputs=[<tf.Tenso..., outputs=Tensor(\"dr...)`\n",
      "/usr/local/lib/python3.6/dist-packages/ipykernel_launcher.py:12: UserWarning: The `nb_epoch` argument in `fit` has been renamed `epochs`.\n",
      "  if sys.path[0] == '':\n"
     ]
    },
    {
     "name": "stdout",
     "output_type": "stream",
     "text": [
      "Train on 80000 samples, validate on 20000 samples\n",
      "Epoch 1/100\n",
      "80000/80000 [==============================] - 5s 62us/step - loss: 8.0544 - mean_absolute_error: 2.3775 - val_loss: 4.5824 - val_mean_absolute_error: 1.9155\n",
      "Epoch 2/100\n",
      "80000/80000 [==============================] - 5s 57us/step - loss: 7.4111 - mean_absolute_error: 2.1865 - val_loss: 4.2931 - val_mean_absolute_error: 1.8560\n",
      "Epoch 3/100\n",
      "80000/80000 [==============================] - 5s 57us/step - loss: 7.3733 - mean_absolute_error: 2.1688 - val_loss: 4.2839 - val_mean_absolute_error: 1.8548\n",
      "Epoch 4/100\n",
      "27104/80000 [=========>....................] - ETA: 2s - loss: 7.3212 - mean_absolute_error: 2.158080000/80000 [==============================] - 5s 57us/step - loss: 7.3567 - mean_absolute_error: 2.1641 - val_loss: 4.1772 - val_mean_absolute_error: 1.8280\n",
      "Epoch 5/100\n",
      "80000/80000 [==============================] - 5s 58us/step - loss: 7.3369 - mean_absolute_error: 2.1586 - val_loss: 4.1448 - val_mean_absolute_error: 1.8201\n",
      "Epoch 6/100\n",
      "80000/80000 [==============================] - 5s 57us/step - loss: 7.2928 - mean_absolute_error: 2.1492 - val_loss: 4.1598 - val_mean_absolute_error: 1.8235\n",
      "Epoch 7/100\n",
      "58144/80000 [====================>.........] - ETA: 1s - loss: 7.3342 - mean_absolute_error: 2.158880000/80000 [==============================] - 5s 57us/step - loss: 7.3353 - mean_absolute_error: 2.1586 - val_loss: 4.1880 - val_mean_absolute_error: 1.8314\n",
      "Epoch 8/100\n",
      "80000/80000 [==============================] - 5s 57us/step - loss: 7.3002 - mean_absolute_error: 2.1459 - val_loss: 4.2296 - val_mean_absolute_error: 1.8404\n",
      "Epoch 9/100\n",
      "80000/80000 [==============================] - 5s 57us/step - loss: 7.3160 - mean_absolute_error: 2.1506 - val_loss: 4.1762 - val_mean_absolute_error: 1.8279\n",
      "Epoch 10/100\n",
      "63136/80000 [======================>.......] - ETA: 0s - loss: 7.2797 - mean_absolute_error: 2.141680000/80000 [==============================] - 5s 57us/step - loss: 7.2798 - mean_absolute_error: 2.1411 - val_loss: 4.2167 - val_mean_absolute_error: 1.8367\n",
      "Total time :  46.79758930206299\n",
      "MAE :  4.144798488998413\n"
     ]
    }
   ],
   "source": [
    "K_LATENT = 20\n",
    "hidden_dim = 8\n",
    "do = 0.5\n",
    "oprimaizer_name = 'adamax'\n",
    "loss_function = 'mse'\n",
    "activ_func ='relu'\n",
    "\n",
    "NCF_model = get_ncf_model(max_userid,max_movieid,K_LATENT,hidden_dim,do,activ_func)\n",
    "NCF_model.compile(loss=loss_function,optimizer=oprimaizer_name,metrics=['mae'])\n",
    "ini = time.time()\n",
    "callbacks_ncf = [EarlyStopping('val_loss', patience=5), ModelCheckpoint(MODEL_WEIGHTS_FILE_CORE+'_ncf_'+str(do)+'_'+str(K_LATENT)+'_'+str(hidden_dim)+'.h5', save_best_only=True)]\n",
    "history = NCF_model.fit([Users, Movies], Ratings, nb_epoch=100,validation_data=([Users1,Movies1], Ratings1), validation_split=.1, verbose=1, callbacks=callbacks_ncf, batch_size = 32)\n",
    "\n",
    "end = time.time()\n",
    "print (\"Total time : \",end-ini)\n",
    "print(\"MAE : \" , min(history.history['val_loss']))                                    "
   ]
  },
  {
   "cell_type": "code",
   "execution_count": 46,
   "metadata": {
    "colab": {
     "autoexec": {
      "startup": false,
      "wait_interval": 0
     },
     "base_uri": "https://localhost:8080/",
     "height": 68
    },
    "colab_type": "code",
    "executionInfo": {
     "elapsed": 2141,
     "status": "ok",
     "timestamp": 1532962245764,
     "user": {
      "displayName": "orelie shahar",
      "photoUrl": "https://lh3.googleusercontent.com/a/default-user=s128",
      "userId": "104271544169794618728"
     },
     "user_tz": -180
    },
    "id": "lYR7HRwNh8AT",
    "outputId": "4fafd88b-b0bf-4b1e-ed65-097d00dbfecc"
   },
   "outputs": [
    {
     "name": "stdout",
     "output_type": "stream",
     "text": [
      "20000/20000 [==============================] - 1s 29us/step\n",
      "Test MSE: 4.216665811920166\n",
      "Test MAE: 1.8366843547821046\n"
     ]
    }
   ],
   "source": [
    "score =NCF_model.evaluate([Users1,Movies1], Ratings1,verbose=1)\n",
    "print('Test MSE:', score[0])\n",
    "print('Test MAE:', score[1])"
   ]
  },
  {
   "cell_type": "markdown",
   "metadata": {
    "colab_type": "text",
    "id": "5lMdyaZt7yuW"
   },
   "source": [
    "### Size of Layer: 16 "
   ]
  },
  {
   "cell_type": "code",
   "execution_count": 47,
   "metadata": {
    "colab": {
     "autoexec": {
      "startup": false,
      "wait_interval": 0
     },
     "base_uri": "https://localhost:8080/",
     "height": 445
    },
    "colab_type": "code",
    "executionInfo": {
     "elapsed": 43662,
     "status": "ok",
     "timestamp": 1532962289819,
     "user": {
      "displayName": "orelie shahar",
      "photoUrl": "https://lh3.googleusercontent.com/a/default-user=s128",
      "userId": "104271544169794618728"
     },
     "user_tz": -180
    },
    "id": "kjDypJLb7i_E",
    "outputId": "601c0125-d45a-4834-f965-b366bee7f6ac"
   },
   "outputs": [
    {
     "name": "stderr",
     "output_type": "stream",
     "text": [
      "/usr/local/lib/python3.6/dist-packages/ipykernel_launcher.py:22: UserWarning: Update your `Model` call to the Keras 2 API: `Model(inputs=[<tf.Tenso..., outputs=Tensor(\"dr...)`\n",
      "/usr/local/lib/python3.6/dist-packages/ipykernel_launcher.py:13: UserWarning: The `nb_epoch` argument in `fit` has been renamed `epochs`.\n",
      "  del sys.path[0]\n"
     ]
    },
    {
     "name": "stdout",
     "output_type": "stream",
     "text": [
      "Train on 80000 samples, validate on 20000 samples\n",
      "Epoch 1/100\n",
      "80000/80000 [==============================] - 5s 63us/step - loss: 8.0391 - mean_absolute_error: 2.3706 - val_loss: 4.5439 - val_mean_absolute_error: 1.9064\n",
      "Epoch 2/100\n",
      "80000/80000 [==============================] - 5s 57us/step - loss: 7.3491 - mean_absolute_error: 2.1764 - val_loss: 4.2720 - val_mean_absolute_error: 1.8475\n",
      "Epoch 3/100\n",
      "80000/80000 [==============================] - 5s 57us/step - loss: 7.3298 - mean_absolute_error: 2.1554 - val_loss: 4.1804 - val_mean_absolute_error: 1.8267\n",
      "Epoch 4/100\n",
      "24960/80000 [========>.....................] - ETA: 2s - loss: 7.2805 - mean_absolute_error: 2.143680000/80000 [==============================] - 5s 57us/step - loss: 7.3334 - mean_absolute_error: 2.1518 - val_loss: 4.1336 - val_mean_absolute_error: 1.8176\n",
      "Epoch 5/100\n",
      "80000/80000 [==============================] - 5s 58us/step - loss: 7.2970 - mean_absolute_error: 2.1421 - val_loss: 4.1978 - val_mean_absolute_error: 1.8331\n",
      "Epoch 6/100\n",
      "80000/80000 [==============================] - 5s 58us/step - loss: 7.2707 - mean_absolute_error: 2.1362 - val_loss: 4.1864 - val_mean_absolute_error: 1.8307\n",
      "Epoch 7/100\n",
      "56512/80000 [====================>.........] - ETA: 1s - loss: 7.2824 - mean_absolute_error: 2.140080000/80000 [==============================] - 5s 58us/step - loss: 7.2837 - mean_absolute_error: 2.1401 - val_loss: 4.1723 - val_mean_absolute_error: 1.8279\n",
      "Epoch 8/100\n",
      "80000/80000 [==============================] - 5s 58us/step - loss: 7.2994 - mean_absolute_error: 2.1399 - val_loss: 4.2017 - val_mean_absolute_error: 1.8340\n",
      "Epoch 9/100\n",
      "80000/80000 [==============================] - 5s 58us/step - loss: 7.2880 - mean_absolute_error: 2.1392 - val_loss: 4.1552 - val_mean_absolute_error: 1.8234\n",
      "Total time :  42.671321392059326\n",
      "MAE :  4.133626210784912\n"
     ]
    }
   ],
   "source": [
    "K_LATENT = 20\n",
    "hidden_dim = 16\n",
    "do = 0.5\n",
    "ac = 'relu'\n",
    "oprimaizer_name = 'adamax'\n",
    "loss_function = 'mse'\n",
    "activ_func ='relu'\n",
    "\n",
    "NCF_model = get_ncf_model(max_userid,max_movieid,K_LATENT,hidden_dim,do,activ_func)\n",
    "NCF_model.compile(loss=loss_function,optimizer=oprimaizer_name,metrics=['mae'])\n",
    "ini = time.time()\n",
    "callbacks_ncf = [EarlyStopping('val_loss', patience=5), ModelCheckpoint(MODEL_WEIGHTS_FILE_CORE+'_ncf_'+str(do)+'_'+str(K_LATENT)+'_'+str(hidden_dim)+'.h5', save_best_only=True)]\n",
    "history = NCF_model.fit([Users, Movies], Ratings, nb_epoch=100,validation_data=([Users1,Movies1], Ratings1), validation_split=.1, verbose=1, callbacks=callbacks_ncf, batch_size = 32)\n",
    "\n",
    "end = time.time()\n",
    "print (\"Total time : \",end-ini)\n",
    "print(\"MAE : \" , min(history.history['val_loss']))                                    "
   ]
  },
  {
   "cell_type": "code",
   "execution_count": 48,
   "metadata": {
    "colab": {
     "autoexec": {
      "startup": false,
      "wait_interval": 0
     },
     "base_uri": "https://localhost:8080/",
     "height": 68
    },
    "colab_type": "code",
    "executionInfo": {
     "elapsed": 1431,
     "status": "ok",
     "timestamp": 1532962291298,
     "user": {
      "displayName": "orelie shahar",
      "photoUrl": "https://lh3.googleusercontent.com/a/default-user=s128",
      "userId": "104271544169794618728"
     },
     "user_tz": -180
    },
    "id": "EQ9WIuSSiFn6",
    "outputId": "037155f1-7648-4fd6-821b-49f9ed115b25"
   },
   "outputs": [
    {
     "name": "stdout",
     "output_type": "stream",
     "text": [
      "20000/20000 [==============================] - 1s 30us/step\n",
      "Test MSE: 4.155227939987182\n",
      "Test MAE: 1.8234093242645264\n"
     ]
    }
   ],
   "source": [
    "score =NCF_model.evaluate([Users1,Movies1], Ratings1,verbose=1)\n",
    "print('Test MSE:', score[0])\n",
    "print('Test MAE:', score[1])"
   ]
  },
  {
   "cell_type": "markdown",
   "metadata": {
    "colab_type": "text",
    "id": "ZyFYz1nK72dy"
   },
   "source": [
    "### Size of Layer: 50"
   ]
  },
  {
   "cell_type": "code",
   "execution_count": 49,
   "metadata": {
    "colab": {
     "autoexec": {
      "startup": false,
      "wait_interval": 0
     },
     "base_uri": "https://localhost:8080/",
     "height": 717
    },
    "colab_type": "code",
    "executionInfo": {
     "elapsed": 83767,
     "status": "ok",
     "timestamp": 1532962375432,
     "user": {
      "displayName": "orelie shahar",
      "photoUrl": "https://lh3.googleusercontent.com/a/default-user=s128",
      "userId": "104271544169794618728"
     },
     "user_tz": -180
    },
    "id": "nTUYjG6l7ja4",
    "outputId": "4baa732e-8cb7-4548-de6a-a40d99f43987"
   },
   "outputs": [
    {
     "name": "stderr",
     "output_type": "stream",
     "text": [
      "/usr/local/lib/python3.6/dist-packages/ipykernel_launcher.py:22: UserWarning: Update your `Model` call to the Keras 2 API: `Model(inputs=[<tf.Tenso..., outputs=Tensor(\"dr...)`\n",
      "/usr/local/lib/python3.6/dist-packages/ipykernel_launcher.py:13: UserWarning: The `nb_epoch` argument in `fit` has been renamed `epochs`.\n",
      "  del sys.path[0]\n"
     ]
    },
    {
     "name": "stdout",
     "output_type": "stream",
     "text": [
      "Train on 80000 samples, validate on 20000 samples\n",
      "Epoch 1/100\n",
      "80000/80000 [==============================] - 5s 67us/step - loss: 7.7441 - mean_absolute_error: 2.2877 - val_loss: 4.5346 - val_mean_absolute_error: 1.9091\n",
      "Epoch 2/100\n",
      "80000/80000 [==============================] - 5s 60us/step - loss: 7.3701 - mean_absolute_error: 2.1779 - val_loss: 4.2471 - val_mean_absolute_error: 1.8449\n",
      "Epoch 3/100\n",
      "80000/80000 [==============================] - 5s 60us/step - loss: 7.3105 - mean_absolute_error: 2.1540 - val_loss: 4.2110 - val_mean_absolute_error: 1.8364\n",
      "Epoch 4/100\n",
      "18016/80000 [=====>........................] - ETA: 3s - loss: 7.2462 - mean_absolute_error: 2.137480000/80000 [==============================] - 5s 60us/step - loss: 7.3080 - mean_absolute_error: 2.1490 - val_loss: 4.1461 - val_mean_absolute_error: 1.8215\n",
      "Epoch 5/100\n",
      "80000/80000 [==============================] - 5s 59us/step - loss: 7.2977 - mean_absolute_error: 2.1404 - val_loss: 4.1907 - val_mean_absolute_error: 1.8315\n",
      "Epoch 6/100\n",
      "80000/80000 [==============================] - 5s 59us/step - loss: 7.2851 - mean_absolute_error: 2.1373 - val_loss: 4.0786 - val_mean_absolute_error: 1.8050\n",
      "Epoch 7/100\n",
      "51072/80000 [==================>...........] - ETA: 1s - loss: 7.2786 - mean_absolute_error: 2.131980000/80000 [==============================] - 5s 59us/step - loss: 7.2827 - mean_absolute_error: 2.1347 - val_loss: 4.2206 - val_mean_absolute_error: 1.8404\n",
      "Epoch 8/100\n",
      "80000/80000 [==============================] - 5s 59us/step - loss: 7.3265 - mean_absolute_error: 2.1400 - val_loss: 4.2083 - val_mean_absolute_error: 1.8389\n",
      "Epoch 9/100\n",
      "80000/80000 [==============================] - 5s 59us/step - loss: 7.2834 - mean_absolute_error: 2.1334 - val_loss: 4.2473 - val_mean_absolute_error: 1.8479\n",
      "Epoch 10/100\n",
      "57600/80000 [====================>.........] - ETA: 1s - loss: 7.2981 - mean_absolute_error: 2.132980000/80000 [==============================] - 5s 60us/step - loss: 7.2870 - mean_absolute_error: 2.1305 - val_loss: 4.0762 - val_mean_absolute_error: 1.8063\n",
      "Epoch 11/100\n",
      "80000/80000 [==============================] - 5s 59us/step - loss: 7.2495 - mean_absolute_error: 2.1227 - val_loss: 4.1966 - val_mean_absolute_error: 1.8361\n",
      "Epoch 12/100\n",
      "80000/80000 [==============================] - 5s 60us/step - loss: 7.2908 - mean_absolute_error: 2.1319 - val_loss: 4.0690 - val_mean_absolute_error: 1.8060\n",
      "Epoch 13/100\n",
      "56992/80000 [====================>.........] - ETA: 1s - loss: 7.3212 - mean_absolute_error: 2.137080000/80000 [==============================] - 5s 59us/step - loss: 7.2954 - mean_absolute_error: 2.1317 - val_loss: 4.0989 - val_mean_absolute_error: 1.8130\n",
      "Epoch 14/100\n",
      "80000/80000 [==============================] - 5s 59us/step - loss: 7.2310 - mean_absolute_error: 2.1178 - val_loss: 4.1442 - val_mean_absolute_error: 1.8235\n",
      "Epoch 15/100\n",
      "80000/80000 [==============================] - 5s 60us/step - loss: 7.2800 - mean_absolute_error: 2.1317 - val_loss: 4.0997 - val_mean_absolute_error: 1.8142\n",
      "Epoch 16/100\n",
      "56512/80000 [====================>.........] - ETA: 1s - loss: 7.2729 - mean_absolute_error: 2.125080000/80000 [==============================] - 5s 60us/step - loss: 7.2385 - mean_absolute_error: 2.1204 - val_loss: 4.0758 - val_mean_absolute_error: 1.8074\n",
      "Epoch 17/100\n",
      "80000/80000 [==============================] - 5s 60us/step - loss: 7.2825 - mean_absolute_error: 2.1293 - val_loss: 4.1363 - val_mean_absolute_error: 1.8219\n",
      "Total time :  82.57160353660583\n",
      "MAE :  4.069011389923095\n"
     ]
    }
   ],
   "source": [
    "K_LATENT = 20\n",
    "hidden_dim = 50\n",
    "do = 0.5\n",
    "ac = 'relu'\n",
    "oprimaizer_name = 'adamax'\n",
    "loss_function = 'mse'\n",
    "activ_func ='relu'\n",
    "\n",
    "NCF_model = get_ncf_model(max_userid,max_movieid,K_LATENT,hidden_dim,do,activ_func)\n",
    "NCF_model.compile(loss=loss_function,optimizer=oprimaizer_name,metrics=['mae'])\n",
    "ini = time.time()\n",
    "callbacks_ncf = [EarlyStopping('val_loss', patience=5), ModelCheckpoint(MODEL_WEIGHTS_FILE_CORE+'_ncf_'+str(do)+'_'+str(K_LATENT)+'_'+str(hidden_dim)+'.h5', save_best_only=True)]\n",
    "history = NCF_model.fit([Users, Movies], Ratings, nb_epoch=100,validation_data=([Users1,Movies1], Ratings1), validation_split=.1, verbose=1, callbacks=callbacks_ncf, batch_size = 32)\n",
    "\n",
    "end = time.time()\n",
    "print (\"Total time : \",end-ini)\n",
    "print(\"MAE : \" , min(history.history['val_loss']))                                    "
   ]
  },
  {
   "cell_type": "code",
   "execution_count": 50,
   "metadata": {
    "colab": {
     "autoexec": {
      "startup": false,
      "wait_interval": 0
     },
     "base_uri": "https://localhost:8080/",
     "height": 68
    },
    "colab_type": "code",
    "executionInfo": {
     "elapsed": 1758,
     "status": "ok",
     "timestamp": 1532962377243,
     "user": {
      "displayName": "orelie shahar",
      "photoUrl": "https://lh3.googleusercontent.com/a/default-user=s128",
      "userId": "104271544169794618728"
     },
     "user_tz": -180
    },
    "id": "rS4vHaBpiIBW",
    "outputId": "890e7847-5614-40b8-9ca5-a0f91f1da1cc"
   },
   "outputs": [
    {
     "name": "stdout",
     "output_type": "stream",
     "text": [
      "20000/20000 [==============================] - 1s 30us/step\n",
      "Test MSE: 4.136319258117676\n",
      "Test MAE: 1.8218731609344483\n"
     ]
    }
   ],
   "source": [
    "score =NCF_model.evaluate([Users1,Movies1], Ratings1,verbose=1)\n",
    "print('Test MSE:', score[0])\n",
    "print('Test MAE:', score[1])"
   ]
  },
  {
   "cell_type": "markdown",
   "metadata": {
    "colab_type": "text",
    "id": "4lZjS3K_75_H"
   },
   "source": [
    "### Size of Layer:  100"
   ]
  },
  {
   "cell_type": "code",
   "execution_count": 51,
   "metadata": {
    "colab": {
     "autoexec": {
      "startup": false,
      "wait_interval": 0
     },
     "base_uri": "https://localhost:8080/",
     "height": 615
    },
    "colab_type": "code",
    "executionInfo": {
     "elapsed": 71574,
     "status": "ok",
     "timestamp": 1532962449195,
     "user": {
      "displayName": "orelie shahar",
      "photoUrl": "https://lh3.googleusercontent.com/a/default-user=s128",
      "userId": "104271544169794618728"
     },
     "user_tz": -180
    },
    "id": "9YVp5euN7jsV",
    "outputId": "47b91388-4df1-4988-acd4-df77cdf229b6"
   },
   "outputs": [
    {
     "name": "stderr",
     "output_type": "stream",
     "text": [
      "/usr/local/lib/python3.6/dist-packages/ipykernel_launcher.py:22: UserWarning: Update your `Model` call to the Keras 2 API: `Model(inputs=[<tf.Tenso..., outputs=Tensor(\"dr...)`\n",
      "/usr/local/lib/python3.6/dist-packages/ipykernel_launcher.py:13: UserWarning: The `nb_epoch` argument in `fit` has been renamed `epochs`.\n",
      "  del sys.path[0]\n"
     ]
    },
    {
     "name": "stdout",
     "output_type": "stream",
     "text": [
      "Train on 80000 samples, validate on 20000 samples\n",
      "Epoch 1/100\n",
      "80000/80000 [==============================] - 5s 69us/step - loss: 7.6548 - mean_absolute_error: 2.2535 - val_loss: 4.3267 - val_mean_absolute_error: 1.8629\n",
      "Epoch 2/100\n",
      "80000/80000 [==============================] - 5s 61us/step - loss: 7.3637 - mean_absolute_error: 2.1698 - val_loss: 4.2469 - val_mean_absolute_error: 1.8459\n",
      "Epoch 3/100\n",
      "80000/80000 [==============================] - 5s 61us/step - loss: 7.3084 - mean_absolute_error: 2.1509 - val_loss: 4.2403 - val_mean_absolute_error: 1.8443\n",
      "Epoch 4/100\n",
      "16736/80000 [=====>........................] - ETA: 3s - loss: 7.2515 - mean_absolute_error: 2.135180000/80000 [==============================] - 5s 61us/step - loss: 7.3114 - mean_absolute_error: 2.1478 - val_loss: 4.0926 - val_mean_absolute_error: 1.8094\n",
      "Epoch 5/100\n",
      "80000/80000 [==============================] - 5s 62us/step - loss: 7.3209 - mean_absolute_error: 2.1459 - val_loss: 4.2724 - val_mean_absolute_error: 1.8529\n",
      "Epoch 6/100\n",
      "80000/80000 [==============================] - 5s 61us/step - loss: 7.3036 - mean_absolute_error: 2.1378 - val_loss: 4.1529 - val_mean_absolute_error: 1.8237\n",
      "Epoch 7/100\n",
      "45984/80000 [================>.............] - ETA: 1s - loss: 7.2755 - mean_absolute_error: 2.133680000/80000 [==============================] - 5s 61us/step - loss: 7.2873 - mean_absolute_error: 2.1342 - val_loss: 4.1243 - val_mean_absolute_error: 1.8178\n",
      "Epoch 8/100\n",
      "80000/80000 [==============================] - 5s 61us/step - loss: 7.3017 - mean_absolute_error: 2.1367 - val_loss: 4.0394 - val_mean_absolute_error: 1.7975\n",
      "Epoch 9/100\n",
      "80000/80000 [==============================] - 5s 61us/step - loss: 7.2365 - mean_absolute_error: 2.1200 - val_loss: 3.9937 - val_mean_absolute_error: 1.7866\n",
      "Epoch 10/100\n",
      "50176/80000 [=================>............] - ETA: 1s - loss: 7.3372 - mean_absolute_error: 2.139480000/80000 [==============================] - 5s 61us/step - loss: 7.3200 - mean_absolute_error: 2.1378 - val_loss: 4.0566 - val_mean_absolute_error: 1.8029\n",
      "Epoch 11/100\n",
      "80000/80000 [==============================] - 5s 62us/step - loss: 7.2474 - mean_absolute_error: 2.1222 - val_loss: 4.0501 - val_mean_absolute_error: 1.8002\n",
      "Epoch 12/100\n",
      "80000/80000 [==============================] - 5s 62us/step - loss: 7.2195 - mean_absolute_error: 2.1163 - val_loss: 4.1552 - val_mean_absolute_error: 1.8277\n",
      "Epoch 13/100\n",
      "50048/80000 [=================>............] - ETA: 1s - loss: 7.1979 - mean_absolute_error: 2.113080000/80000 [==============================] - 5s 62us/step - loss: 7.2157 - mean_absolute_error: 2.1157 - val_loss: 4.1580 - val_mean_absolute_error: 1.8290\n",
      "Epoch 14/100\n",
      "80000/80000 [==============================] - 5s 62us/step - loss: 7.2434 - mean_absolute_error: 2.1202 - val_loss: 4.1261 - val_mean_absolute_error: 1.8201\n",
      "Total time :  70.34478259086609\n",
      "MAE :  3.993658180999756\n"
     ]
    }
   ],
   "source": [
    "K_LATENT = 20\n",
    "hidden_dim = 100\n",
    "do = 0.5\n",
    "ac = 'relu'\n",
    "oprimaizer_name = 'adamax'\n",
    "loss_function = 'mse'\n",
    "activ_func ='relu'\n",
    "\n",
    "NCF_model = get_ncf_model(max_userid,max_movieid,K_LATENT,hidden_dim,do,activ_func)\n",
    "NCF_model.compile(loss=loss_function,optimizer=oprimaizer_name,metrics=['mae'])\n",
    "ini = time.time()\n",
    "callbacks_ncf = [EarlyStopping('val_loss', patience=5), ModelCheckpoint(MODEL_WEIGHTS_FILE_CORE+'_ncf_'+str(do)+'_'+str(K_LATENT)+'_'+str(hidden_dim)+'.h5', save_best_only=True)]\n",
    "history = NCF_model.fit([Users, Movies], Ratings, nb_epoch=100,validation_data=([Users1,Movies1], Ratings1), validation_split=.1, verbose=1, callbacks=callbacks_ncf, batch_size = 32)\n",
    "\n",
    "end = time.time()\n",
    "print (\"Total time : \",end-ini)\n",
    "print(\"MAE : \" , min(history.history['val_loss']))                                    "
   ]
  },
  {
   "cell_type": "code",
   "execution_count": 52,
   "metadata": {
    "colab": {
     "autoexec": {
      "startup": false,
      "wait_interval": 0
     },
     "base_uri": "https://localhost:8080/",
     "height": 68
    },
    "colab_type": "code",
    "executionInfo": {
     "elapsed": 1612,
     "status": "ok",
     "timestamp": 1532962451023,
     "user": {
      "displayName": "orelie shahar",
      "photoUrl": "https://lh3.googleusercontent.com/a/default-user=s128",
      "userId": "104271544169794618728"
     },
     "user_tz": -180
    },
    "id": "a8QI2DBTiJcY",
    "outputId": "179c6bbc-42ef-4b22-de8a-bf6d27366b73"
   },
   "outputs": [
    {
     "name": "stdout",
     "output_type": "stream",
     "text": [
      "20000/20000 [==============================] - 1s 31us/step\n",
      "Test MSE: 4.126059072113037\n",
      "Test MAE: 1.82011496257782\n"
     ]
    }
   ],
   "source": [
    "score =NCF_model.evaluate([Users1,Movies1], Ratings1,verbose=1)\n",
    "print('Test MSE:', score[0])\n",
    "print('Test MAE:', score[1])"
   ]
  },
  {
   "cell_type": "markdown",
   "metadata": {
    "colab_type": "text",
    "id": "uuwI6T_s3yDa"
   },
   "source": [
    "### Optimizer = sgd"
   ]
  },
  {
   "cell_type": "code",
   "execution_count": 175,
   "metadata": {
    "colab": {
     "autoexec": {
      "startup": false,
      "wait_interval": 0
     },
     "base_uri": "https://localhost:8080/",
     "height": 496
    },
    "colab_type": "code",
    "executionInfo": {
     "elapsed": 134189,
     "status": "ok",
     "timestamp": 1532887080175,
     "user": {
      "displayName": "orelie shahar",
      "photoUrl": "https://lh3.googleusercontent.com/a/default-user=s128",
      "userId": "104271544169794618728"
     },
     "user_tz": -180
    },
    "id": "udlG90NX3yDa",
    "outputId": "93e43491-56d5-4b8c-f427-64a7840f5f2e"
   },
   "outputs": [
    {
     "name": "stdout",
     "output_type": "stream",
     "text": [
      "Train on 80000 samples, validate on 20000 samples\n",
      "Epoch 1/100\n",
      "80000/80000 [==============================] - 18s 223us/step - loss: 7.5087 - mean_absolute_error: 2.2378 - val_loss: 4.5055 - val_mean_absolute_error: 1.8894\n",
      "Epoch 2/100\n",
      "80000/80000 [==============================] - 10s 121us/step - loss: 7.3793 - mean_absolute_error: 2.1900 - val_loss: 4.3805 - val_mean_absolute_error: 1.8686\n",
      "Epoch 3/100\n",
      "14304/80000 [====>.........................] - ETA: 7s - loss: 7.4121 - mean_absolute_error: 2.174880000/80000 [==============================] - 10s 129us/step - loss: 7.3753 - mean_absolute_error: 2.1664 - val_loss: 4.0254 - val_mean_absolute_error: 1.7876\n",
      "Epoch 4/100\n",
      "80000/80000 [==============================] - 10s 126us/step - loss: 7.3117 - mean_absolute_error: 2.1459 - val_loss: 4.1954 - val_mean_absolute_error: 1.8326\n",
      "Epoch 5/100\n",
      "33856/80000 [===========>..................] - ETA: 5s - loss: 7.3418 - mean_absolute_error: 2.148980000/80000 [==============================] - 11s 133us/step - loss: 7.2981 - mean_absolute_error: 2.1418 - val_loss: 4.1041 - val_mean_absolute_error: 1.8113\n",
      "Epoch 6/100\n",
      "80000/80000 [==============================] - 10s 125us/step - loss: 7.2703 - mean_absolute_error: 2.1354 - val_loss: 4.1953 - val_mean_absolute_error: 1.8336\n",
      "Epoch 7/100\n",
      "43488/80000 [===============>..............] - ETA: 4s - loss: 7.3297 - mean_absolute_error: 2.142780000/80000 [==============================] - 10s 123us/step - loss: 7.3176 - mean_absolute_error: 2.1406 - val_loss: 3.9717 - val_mean_absolute_error: 1.7792\n",
      "Epoch 8/100\n",
      "80000/80000 [==============================] - 9s 108us/step - loss: 7.3367 - mean_absolute_error: 2.1454 - val_loss: 4.1361 - val_mean_absolute_error: 1.8205\n",
      "Epoch 9/100\n",
      "58496/80000 [====================>.........] - ETA: 2s - loss: 7.2663 - mean_absolute_error: 2.130980000/80000 [==============================] - 9s 115us/step - loss: 7.2882 - mean_absolute_error: 2.1360 - val_loss: 4.1798 - val_mean_absolute_error: 1.8316\n",
      "Epoch 10/100\n",
      "80000/80000 [==============================] - 10s 120us/step - loss: 7.2659 - mean_absolute_error: 2.1287 - val_loss: 4.1796 - val_mean_absolute_error: 1.8309\n",
      "Epoch 11/100\n",
      "49888/80000 [=================>............] - ETA: 3s - loss: 7.2942 - mean_absolute_error: 2.133280000/80000 [==============================] - 10s 124us/step - loss: 7.2649 - mean_absolute_error: 2.1273 - val_loss: 4.1187 - val_mean_absolute_error: 1.8179\n",
      "Epoch 12/100\n",
      "80000/80000 [==============================] - 10s 123us/step - loss: 7.2729 - mean_absolute_error: 2.1316 - val_loss: 4.1744 - val_mean_absolute_error: 1.8310\n",
      "Total time :  133.4138903617859\n",
      "MAE :  3.971744386672974\n"
     ]
    }
   ],
   "source": [
    "K_LATENT = 20\n",
    "hidden_dim = 100\n",
    "do = 0.5\n",
    "oprimaizer_name = 'sgd'\n",
    "loss_function = 'mse'\n",
    "activ_func ='relu'\n",
    "\n",
    "NCF_model = get_ncf_model(max_userid,max_movieid,K_LATENT,hidden_dim,do,activ_func)\n",
    "NCF_model.compile(loss=loss_function,optimizer=oprimaizer_name,metrics=['mae'])\n",
    "ini = time.time()\n",
    "callbacks_ncf = [EarlyStopping('val_loss', patience=5), ModelCheckpoint(MODEL_WEIGHTS_FILE_CORE+'_ncf_'+str(do)+'_'+str(K_LATENT)+'_'+str(hidden_dim)+'.h5', save_best_only=True)]\n",
    "history = NCF_model.fit([Users, Movies], Ratings, nb_epoch=100,validation_data=([Users1,Movies1], Ratings1), validation_split=.1, verbose=1, callbacks=callbacks_ncf, batch_size = 32)\n",
    "\n",
    "\n",
    "end = time.time()\n",
    "print (\"Total time : \",end-ini)\n",
    "print(\"MAE : \" , min(history.history['val_loss']))                                    "
   ]
  },
  {
   "cell_type": "code",
   "execution_count": 53,
   "metadata": {
    "colab": {
     "autoexec": {
      "startup": false,
      "wait_interval": 0
     },
     "base_uri": "https://localhost:8080/",
     "height": 68
    },
    "colab_type": "code",
    "executionInfo": {
     "elapsed": 1712,
     "status": "ok",
     "timestamp": 1532962453400,
     "user": {
      "displayName": "orelie shahar",
      "photoUrl": "https://lh3.googleusercontent.com/a/default-user=s128",
      "userId": "104271544169794618728"
     },
     "user_tz": -180
    },
    "id": "q4LjVs9hiKnM",
    "outputId": "fff015a4-5067-4d1e-b4a5-e175ea8251b2"
   },
   "outputs": [
    {
     "name": "stdout",
     "output_type": "stream",
     "text": [
      "20000/20000 [==============================] - 1s 30us/step\n",
      "Test MSE: 4.126059072113037\n",
      "Test MAE: 1.82011496257782\n"
     ]
    }
   ],
   "source": [
    "score =NCF_model.evaluate([Users1,Movies1], Ratings1,verbose=1)\n",
    "print('Test MSE:', score[0])\n",
    "print('Test MAE:', score[1])"
   ]
  },
  {
   "cell_type": "markdown",
   "metadata": {
    "colab_type": "text",
    "id": "VzfkiWEq3yDc"
   },
   "source": [
    "### Optimizer = adam\n"
   ]
  },
  {
   "cell_type": "code",
   "execution_count": 54,
   "metadata": {
    "colab": {
     "autoexec": {
      "startup": false,
      "wait_interval": 0
     },
     "base_uri": "https://localhost:8080/",
     "height": 479
    },
    "colab_type": "code",
    "executionInfo": {
     "elapsed": 54817,
     "status": "ok",
     "timestamp": 1532962508375,
     "user": {
      "displayName": "orelie shahar",
      "photoUrl": "https://lh3.googleusercontent.com/a/default-user=s128",
      "userId": "104271544169794618728"
     },
     "user_tz": -180
    },
    "id": "GZJYhusu3yDd",
    "outputId": "13db3885-e34d-45da-9652-2f9d91e81718"
   },
   "outputs": [
    {
     "name": "stderr",
     "output_type": "stream",
     "text": [
      "/usr/local/lib/python3.6/dist-packages/ipykernel_launcher.py:22: UserWarning: Update your `Model` call to the Keras 2 API: `Model(inputs=[<tf.Tenso..., outputs=Tensor(\"dr...)`\n",
      "/usr/local/lib/python3.6/dist-packages/ipykernel_launcher.py:12: UserWarning: The `nb_epoch` argument in `fit` has been renamed `epochs`.\n",
      "  if sys.path[0] == '':\n"
     ]
    },
    {
     "name": "stdout",
     "output_type": "stream",
     "text": [
      "Train on 80000 samples, validate on 20000 samples\n",
      "Epoch 1/100\n",
      "80000/80000 [==============================] - 6s 73us/step - loss: 7.6052 - mean_absolute_error: 2.2394 - val_loss: 4.1331 - val_mean_absolute_error: 1.8154\n",
      "Epoch 2/100\n",
      "80000/80000 [==============================] - 5s 65us/step - loss: 7.3472 - mean_absolute_error: 2.1665 - val_loss: 4.0632 - val_mean_absolute_error: 1.8000\n",
      "Epoch 3/100\n",
      "80000/80000 [==============================] - 5s 65us/step - loss: 7.3666 - mean_absolute_error: 2.1627 - val_loss: 4.2775 - val_mean_absolute_error: 1.8525\n",
      "Epoch 4/100\n",
      " 8800/80000 [==>...........................] - ETA: 4s - loss: 7.2742 - mean_absolute_error: 2.133680000/80000 [==============================] - 5s 65us/step - loss: 7.2923 - mean_absolute_error: 2.1412 - val_loss: 4.1040 - val_mean_absolute_error: 1.8109\n",
      "Epoch 5/100\n",
      "80000/80000 [==============================] - 5s 65us/step - loss: 7.3080 - mean_absolute_error: 2.1420 - val_loss: 3.9857 - val_mean_absolute_error: 1.7822\n",
      "Epoch 6/100\n",
      "80000/80000 [==============================] - 5s 65us/step - loss: 7.3038 - mean_absolute_error: 2.1357 - val_loss: 4.0333 - val_mean_absolute_error: 1.7965\n",
      "Epoch 7/100\n",
      "35872/80000 [============>.................] - ETA: 2s - loss: 7.2498 - mean_absolute_error: 2.122780000/80000 [==============================] - 5s 65us/step - loss: 7.2324 - mean_absolute_error: 2.1212 - val_loss: 4.1942 - val_mean_absolute_error: 1.8371\n",
      "Epoch 8/100\n",
      "80000/80000 [==============================] - 5s 65us/step - loss: 7.3668 - mean_absolute_error: 2.1469 - val_loss: 4.0794 - val_mean_absolute_error: 1.8108\n",
      "Epoch 9/100\n",
      "80000/80000 [==============================] - 5s 65us/step - loss: 7.2918 - mean_absolute_error: 2.1320 - val_loss: 4.1733 - val_mean_absolute_error: 1.8316\n",
      "Epoch 10/100\n",
      "39968/80000 [=============>................] - ETA: 2s - loss: 7.3114 - mean_absolute_error: 2.132080000/80000 [==============================] - 5s 66us/step - loss: 7.2683 - mean_absolute_error: 2.1250 - val_loss: 4.1131 - val_mean_absolute_error: 1.8181\n",
      "Total time :  53.667092084884644\n",
      "MAE :  3.985742022705078\n"
     ]
    }
   ],
   "source": [
    "K_LATENT = 20\n",
    "hidden_dim = 100\n",
    "do = 0.5\n",
    "oprimaizer_name = 'adam'\n",
    "loss_function = 'mse'\n",
    "activ_func ='relu'\n",
    "\n",
    "NCF_model = get_ncf_model(max_userid,max_movieid,K_LATENT,hidden_dim,do,activ_func)\n",
    "NCF_model.compile(loss=loss_function,optimizer=oprimaizer_name,metrics=['mae'])\n",
    "ini = time.time()\n",
    "callbacks_ncf = [EarlyStopping('val_loss', patience=5), ModelCheckpoint(MODEL_WEIGHTS_FILE_CORE+'_ncf_'+str(do)+'_'+str(K_LATENT)+'_'+str(hidden_dim)+'.h5', save_best_only=True)]\n",
    "history = NCF_model.fit([Users, Movies], Ratings, nb_epoch=100,validation_data=([Users1,Movies1], Ratings1), validation_split=.1, verbose=1, callbacks=callbacks_ncf, batch_size = 32)\n",
    "\n",
    "end = time.time()\n",
    "print (\"Total time : \",end-ini)\n",
    "print(\"MAE : \" , min(history.history['val_loss']))                                    "
   ]
  },
  {
   "cell_type": "code",
   "execution_count": 55,
   "metadata": {
    "colab": {
     "autoexec": {
      "startup": false,
      "wait_interval": 0
     },
     "base_uri": "https://localhost:8080/",
     "height": 68
    },
    "colab_type": "code",
    "executionInfo": {
     "elapsed": 1595,
     "status": "ok",
     "timestamp": 1532962510017,
     "user": {
      "displayName": "orelie shahar",
      "photoUrl": "https://lh3.googleusercontent.com/a/default-user=s128",
      "userId": "104271544169794618728"
     },
     "user_tz": -180
    },
    "id": "xHdhrqkFiMUv",
    "outputId": "c4cb2857-4fa6-4bb5-c740-4c4b2a6b010f"
   },
   "outputs": [
    {
     "name": "stdout",
     "output_type": "stream",
     "text": [
      "20000/20000 [==============================] - 1s 31us/step\n",
      "Test MSE: 4.113116646957398\n",
      "Test MAE: 1.8181356285095216\n"
     ]
    }
   ],
   "source": [
    "score =NCF_model.evaluate([Users1,Movies1], Ratings1,verbose=1)\n",
    "print('Test MSE:', score[0])\n",
    "print('Test MAE:', score[1])"
   ]
  },
  {
   "cell_type": "markdown",
   "metadata": {
    "colab_type": "text",
    "id": "7JKTCUCo3yDe"
   },
   "source": [
    "### Optimizer = Nadam"
   ]
  },
  {
   "cell_type": "code",
   "execution_count": 56,
   "metadata": {
    "colab": {
     "autoexec": {
      "startup": false,
      "wait_interval": 0
     },
     "base_uri": "https://localhost:8080/",
     "height": 717
    },
    "colab_type": "code",
    "executionInfo": {
     "elapsed": 99211,
     "status": "ok",
     "timestamp": 1532962609700,
     "user": {
      "displayName": "orelie shahar",
      "photoUrl": "https://lh3.googleusercontent.com/a/default-user=s128",
      "userId": "104271544169794618728"
     },
     "user_tz": -180
    },
    "id": "tpodrqGU3yDf",
    "outputId": "2c193f72-9f4a-447f-93f1-43fc7db86313"
   },
   "outputs": [
    {
     "name": "stderr",
     "output_type": "stream",
     "text": [
      "/usr/local/lib/python3.6/dist-packages/ipykernel_launcher.py:22: UserWarning: Update your `Model` call to the Keras 2 API: `Model(inputs=[<tf.Tenso..., outputs=Tensor(\"dr...)`\n",
      "/usr/local/lib/python3.6/dist-packages/ipykernel_launcher.py:12: UserWarning: The `nb_epoch` argument in `fit` has been renamed `epochs`.\n",
      "  if sys.path[0] == '':\n"
     ]
    },
    {
     "name": "stdout",
     "output_type": "stream",
     "text": [
      "Train on 80000 samples, validate on 20000 samples\n",
      "Epoch 1/100\n",
      "80000/80000 [==============================] - 6s 79us/step - loss: 7.5317 - mean_absolute_error: 2.2220 - val_loss: 4.2492 - val_mean_absolute_error: 1.8437\n",
      "Epoch 2/100\n",
      "80000/80000 [==============================] - 6s 70us/step - loss: 7.3060 - mean_absolute_error: 2.1525 - val_loss: 4.2300 - val_mean_absolute_error: 1.8429\n",
      "Epoch 3/100\n",
      "79872/80000 [============================>.] - ETA: 0s - loss: 7.3130 - mean_absolute_error: 2.146680000/80000 [==============================] - 6s 70us/step - loss: 7.3136 - mean_absolute_error: 2.1466 - val_loss: 4.1942 - val_mean_absolute_error: 1.8328\n",
      "Epoch 4/100\n",
      "80000/80000 [==============================] - 6s 70us/step - loss: 7.3362 - mean_absolute_error: 2.1471 - val_loss: 4.1208 - val_mean_absolute_error: 1.8154\n",
      "Epoch 5/100\n",
      "80000/80000 [==============================] - 6s 70us/step - loss: 7.3350 - mean_absolute_error: 2.1466 - val_loss: 4.1088 - val_mean_absolute_error: 1.8132\n",
      "Epoch 6/100\n",
      "35712/80000 [============>.................] - ETA: 2s - loss: 7.2654 - mean_absolute_error: 2.130080000/80000 [==============================] - 6s 70us/step - loss: 7.2437 - mean_absolute_error: 2.1258 - val_loss: 4.1038 - val_mean_absolute_error: 1.8171\n",
      "Epoch 7/100\n",
      "80000/80000 [==============================] - 6s 70us/step - loss: 7.3080 - mean_absolute_error: 2.1382 - val_loss: 4.0452 - val_mean_absolute_error: 1.8042\n",
      "Epoch 8/100\n",
      "80000/80000 [==============================] - 6s 70us/step - loss: 7.2333 - mean_absolute_error: 2.1218 - val_loss: 4.0996 - val_mean_absolute_error: 1.8132\n",
      "Epoch 9/100\n",
      "29024/80000 [=========>....................] - ETA: 3s - loss: 7.2411 - mean_absolute_error: 2.119080000/80000 [==============================] - 6s 70us/step - loss: 7.2695 - mean_absolute_error: 2.1278 - val_loss: 4.0288 - val_mean_absolute_error: 1.7989\n",
      "Epoch 10/100\n",
      "80000/80000 [==============================] - 6s 69us/step - loss: 7.2931 - mean_absolute_error: 2.1316 - val_loss: 4.2056 - val_mean_absolute_error: 1.8406\n",
      "Epoch 11/100\n",
      "80000/80000 [==============================] - 6s 70us/step - loss: 7.2564 - mean_absolute_error: 2.1237 - val_loss: 4.1776 - val_mean_absolute_error: 1.8354\n",
      "Epoch 12/100\n",
      "27648/80000 [=========>....................] - ETA: 3s - loss: 7.3074 - mean_absolute_error: 2.131080000/80000 [==============================] - 6s 70us/step - loss: 7.2836 - mean_absolute_error: 2.1277 - val_loss: 3.9994 - val_mean_absolute_error: 1.7905\n",
      "Epoch 13/100\n",
      "80000/80000 [==============================] - 6s 69us/step - loss: 7.2742 - mean_absolute_error: 2.1253 - val_loss: 4.0919 - val_mean_absolute_error: 1.8108\n",
      "Epoch 14/100\n",
      "80000/80000 [==============================] - 6s 70us/step - loss: 7.2713 - mean_absolute_error: 2.1219 - val_loss: 4.0469 - val_mean_absolute_error: 1.8058\n",
      "Epoch 15/100\n",
      "28384/80000 [=========>....................] - ETA: 3s - loss: 7.2295 - mean_absolute_error: 2.112680000/80000 [==============================] - 6s 70us/step - loss: 7.2341 - mean_absolute_error: 2.1148 - val_loss: 4.2124 - val_mean_absolute_error: 1.8405\n",
      "Epoch 16/100\n",
      "80000/80000 [==============================] - 6s 71us/step - loss: 7.2641 - mean_absolute_error: 2.1189 - val_loss: 4.0321 - val_mean_absolute_error: 1.7983\n",
      "Epoch 17/100\n",
      "80000/80000 [==============================] - 6s 73us/step - loss: 7.2508 - mean_absolute_error: 2.1171 - val_loss: 4.1841 - val_mean_absolute_error: 1.8375\n",
      "Total time :  97.4659583568573\n",
      "MAE :  3.999426453781128\n"
     ]
    }
   ],
   "source": [
    "K_LATENT = 20\n",
    "hidden_dim = 100\n",
    "do = 0.5\n",
    "oprimaizer_name = 'nadam'\n",
    "loss_function = 'mse'\n",
    "activ_func ='relu'\n",
    "\n",
    "NCF_model = get_ncf_model(max_userid,max_movieid,K_LATENT,hidden_dim,do,activ_func)\n",
    "NCF_model.compile(loss=loss_function,optimizer=oprimaizer_name,metrics=['mae'])\n",
    "ini = time.time()\n",
    "callbacks_ncf = [EarlyStopping('val_loss', patience=5), ModelCheckpoint(MODEL_WEIGHTS_FILE_CORE+'_ncf_'+str(do)+'_'+str(K_LATENT)+'_'+str(hidden_dim)+'.h5', save_best_only=True)]\n",
    "history = NCF_model.fit([Users, Movies], Ratings, nb_epoch=100,validation_data=([Users1,Movies1], Ratings1), validation_split=.1, verbose=1, callbacks=callbacks_ncf, batch_size = 32)\n",
    "\n",
    "end = time.time()\n",
    "print (\"Total time : \",end-ini)\n",
    "print(\"MAE : \" , min(history.history['val_loss']))                                    "
   ]
  },
  {
   "cell_type": "code",
   "execution_count": 57,
   "metadata": {
    "colab": {
     "autoexec": {
      "startup": false,
      "wait_interval": 0
     },
     "base_uri": "https://localhost:8080/",
     "height": 68
    },
    "colab_type": "code",
    "executionInfo": {
     "elapsed": 1281,
     "status": "ok",
     "timestamp": 1532962611211,
     "user": {
      "displayName": "orelie shahar",
      "photoUrl": "https://lh3.googleusercontent.com/a/default-user=s128",
      "userId": "104271544169794618728"
     },
     "user_tz": -180
    },
    "id": "zqJk04EliN05",
    "outputId": "334e0530-91a2-43ed-979f-69d740156740"
   },
   "outputs": [
    {
     "name": "stdout",
     "output_type": "stream",
     "text": [
      "20000/20000 [==============================] - 1s 31us/step\n",
      "Test MSE: 4.184066261291504\n",
      "Test MAE: 1.8374907342910767\n"
     ]
    }
   ],
   "source": [
    "score =NCF_model.evaluate([Users1,Movies1], Ratings1,verbose=1)\n",
    "print('Test MSE:', score[0])\n",
    "print('Test MAE:', score[1])"
   ]
  },
  {
   "cell_type": "markdown",
   "metadata": {
    "colab_type": "text",
    "id": "XVQ5BtKg3yDh"
   },
   "source": [
    "### Optimizer = Adadelta"
   ]
  },
  {
   "cell_type": "code",
   "execution_count": 58,
   "metadata": {
    "colab": {
     "autoexec": {
      "startup": false,
      "wait_interval": 0
     },
     "base_uri": "https://localhost:8080/",
     "height": 615
    },
    "colab_type": "code",
    "executionInfo": {
     "elapsed": 80833,
     "status": "ok",
     "timestamp": 1532962692547,
     "user": {
      "displayName": "orelie shahar",
      "photoUrl": "https://lh3.googleusercontent.com/a/default-user=s128",
      "userId": "104271544169794618728"
     },
     "user_tz": -180
    },
    "id": "HT4_s5JF3yDi",
    "outputId": "003a5f97-5d7d-479b-ede3-36562d1ad888"
   },
   "outputs": [
    {
     "name": "stderr",
     "output_type": "stream",
     "text": [
      "/usr/local/lib/python3.6/dist-packages/ipykernel_launcher.py:22: UserWarning: Update your `Model` call to the Keras 2 API: `Model(inputs=[<tf.Tenso..., outputs=Tensor(\"dr...)`\n",
      "/usr/local/lib/python3.6/dist-packages/ipykernel_launcher.py:12: UserWarning: The `nb_epoch` argument in `fit` has been renamed `epochs`.\n",
      "  if sys.path[0] == '':\n"
     ]
    },
    {
     "name": "stdout",
     "output_type": "stream",
     "text": [
      "Train on 80000 samples, validate on 20000 samples\n",
      "Epoch 1/100\n",
      "80000/80000 [==============================] - 6s 78us/step - loss: 7.5267 - mean_absolute_error: 2.2247 - val_loss: 4.2710 - val_mean_absolute_error: 1.8481\n",
      "Epoch 2/100\n",
      "80000/80000 [==============================] - 6s 69us/step - loss: 7.3358 - mean_absolute_error: 2.1621 - val_loss: 4.2696 - val_mean_absolute_error: 1.8506\n",
      "Epoch 3/100\n",
      "80000/80000 [==============================] - 6s 69us/step - loss: 7.3378 - mean_absolute_error: 2.1545 - val_loss: 4.1682 - val_mean_absolute_error: 1.8284\n",
      "Epoch 4/100\n",
      "   32/80000 [..............................] - ETA: 14s - loss: 5.5243 - mean_absolute_error: 1.777880000/80000 [==============================] - 6s 69us/step - loss: 7.3256 - mean_absolute_error: 2.1483 - val_loss: 4.2337 - val_mean_absolute_error: 1.8427\n",
      "Epoch 5/100\n",
      "80000/80000 [==============================] - 6s 69us/step - loss: 7.3099 - mean_absolute_error: 2.1428 - val_loss: 4.2707 - val_mean_absolute_error: 1.8529\n",
      "Epoch 6/100\n",
      "80000/80000 [==============================] - 6s 69us/step - loss: 7.2981 - mean_absolute_error: 2.1375 - val_loss: 4.1928 - val_mean_absolute_error: 1.8343\n",
      "Epoch 7/100\n",
      "25600/80000 [========>.....................] - ETA: 3s - loss: 7.3927 - mean_absolute_error: 2.155580000/80000 [==============================] - 6s 69us/step - loss: 7.3313 - mean_absolute_error: 2.1426 - val_loss: 4.1551 - val_mean_absolute_error: 1.8265\n",
      "Epoch 8/100\n",
      "80000/80000 [==============================] - 5s 69us/step - loss: 7.2765 - mean_absolute_error: 2.1277 - val_loss: 4.0862 - val_mean_absolute_error: 1.8096\n",
      "Epoch 9/100\n",
      "80000/80000 [==============================] - 6s 70us/step - loss: 7.2479 - mean_absolute_error: 2.1222 - val_loss: 4.0399 - val_mean_absolute_error: 1.7979\n",
      "Epoch 10/100\n",
      "27104/80000 [=========>....................] - ETA: 3s - loss: 7.2704 - mean_absolute_error: 2.132680000/80000 [==============================] - 6s 71us/step - loss: 7.3169 - mean_absolute_error: 2.1382 - val_loss: 4.1573 - val_mean_absolute_error: 1.8267\n",
      "Epoch 11/100\n",
      "80000/80000 [==============================] - 6s 69us/step - loss: 7.2899 - mean_absolute_error: 2.1300 - val_loss: 4.0979 - val_mean_absolute_error: 1.8141\n",
      "Epoch 12/100\n",
      "80000/80000 [==============================] - 6s 69us/step - loss: 7.2873 - mean_absolute_error: 2.1292 - val_loss: 4.2079 - val_mean_absolute_error: 1.8376\n",
      "Epoch 13/100\n",
      "28704/80000 [=========>....................] - ETA: 3s - loss: 7.2335 - mean_absolute_error: 2.116380000/80000 [==============================] - 6s 69us/step - loss: 7.2749 - mean_absolute_error: 2.1261 - val_loss: 4.1088 - val_mean_absolute_error: 1.8161\n",
      "Epoch 14/100\n",
      "80000/80000 [==============================] - 6s 69us/step - loss: 7.2682 - mean_absolute_error: 2.1258 - val_loss: 4.1518 - val_mean_absolute_error: 1.8270\n",
      "Total time :  79.3800323009491\n",
      "MAE :  4.039877797698975\n"
     ]
    }
   ],
   "source": [
    "K_LATENT = 20\n",
    "hidden_dim = 100\n",
    "do = 0.5\n",
    "oprimaizer_name = 'adadelta'\n",
    "loss_function = 'mse'\n",
    "activ_func ='relu'\n",
    "\n",
    "NCF_model = get_ncf_model(max_userid,max_movieid,K_LATENT,hidden_dim,do,activ_func)\n",
    "NCF_model.compile(loss=loss_function,optimizer=oprimaizer_name,metrics=['mae'])\n",
    "ini = time.time()\n",
    "callbacks_ncf = [EarlyStopping('val_loss', patience=5), ModelCheckpoint(MODEL_WEIGHTS_FILE_CORE+'_ncf_'+str(do)+'_'+str(K_LATENT)+'_'+str(hidden_dim)+'.h5', save_best_only=True)]\n",
    "history = NCF_model.fit([Users, Movies], Ratings, nb_epoch=100,validation_data=([Users1,Movies1], Ratings1), validation_split=.1, verbose=1, callbacks=callbacks_ncf, batch_size = 32)\n",
    "\n",
    "end = time.time()\n",
    "print (\"Total time : \",end-ini)\n",
    "print(\"MAE : \" , min(history.history['val_loss']))                                    "
   ]
  },
  {
   "cell_type": "code",
   "execution_count": 59,
   "metadata": {
    "colab": {
     "autoexec": {
      "startup": false,
      "wait_interval": 0
     },
     "base_uri": "https://localhost:8080/",
     "height": 68
    },
    "colab_type": "code",
    "executionInfo": {
     "elapsed": 1725,
     "status": "ok",
     "timestamp": 1532962694592,
     "user": {
      "displayName": "orelie shahar",
      "photoUrl": "https://lh3.googleusercontent.com/a/default-user=s128",
      "userId": "104271544169794618728"
     },
     "user_tz": -180
    },
    "id": "kMS-02_oiPYq",
    "outputId": "e8165762-274b-4a42-ebac-e56e5cbadb88"
   },
   "outputs": [
    {
     "name": "stdout",
     "output_type": "stream",
     "text": [
      "20000/20000 [==============================] - 1s 31us/step\n",
      "Test MSE: 4.151777981567383\n",
      "Test MAE: 1.8270294820785522\n"
     ]
    }
   ],
   "source": [
    "score =NCF_model.evaluate([Users1,Movies1], Ratings1,verbose=1)\n",
    "print('Test MSE:', score[0])\n",
    "print('Test MAE:', score[1])"
   ]
  },
  {
   "cell_type": "markdown",
   "metadata": {
    "colab_type": "text",
    "id": "f7hVbyID3yDk"
   },
   "source": [
    "### Function Loss = mean absolute error"
   ]
  },
  {
   "cell_type": "code",
   "execution_count": 60,
   "metadata": {
    "colab": {
     "autoexec": {
      "startup": false,
      "wait_interval": 0
     },
     "base_uri": "https://localhost:8080/",
     "height": 411
    },
    "colab_type": "code",
    "executionInfo": {
     "elapsed": 48321,
     "status": "ok",
     "timestamp": 1532962743173,
     "user": {
      "displayName": "orelie shahar",
      "photoUrl": "https://lh3.googleusercontent.com/a/default-user=s128",
      "userId": "104271544169794618728"
     },
     "user_tz": -180
    },
    "id": "unvvKe5k3yDl",
    "outputId": "9fdf835a-7787-4f7b-8174-680f78b2dbf6"
   },
   "outputs": [
    {
     "name": "stderr",
     "output_type": "stream",
     "text": [
      "/usr/local/lib/python3.6/dist-packages/ipykernel_launcher.py:22: UserWarning: Update your `Model` call to the Keras 2 API: `Model(inputs=[<tf.Tenso..., outputs=Tensor(\"dr...)`\n",
      "/usr/local/lib/python3.6/dist-packages/ipykernel_launcher.py:12: UserWarning: The `nb_epoch` argument in `fit` has been renamed `epochs`.\n",
      "  if sys.path[0] == '':\n"
     ]
    },
    {
     "name": "stdout",
     "output_type": "stream",
     "text": [
      "Train on 80000 samples, validate on 20000 samples\n",
      "Epoch 1/100\n",
      "80000/80000 [==============================] - 7s 81us/step - loss: 2.2074 - mean_absolute_error: 2.2074 - val_loss: 1.7564 - val_mean_absolute_error: 1.7564\n",
      "Epoch 2/100\n",
      "80000/80000 [==============================] - 6s 70us/step - loss: 2.1653 - mean_absolute_error: 2.1653 - val_loss: 1.7788 - val_mean_absolute_error: 1.7788\n",
      "Epoch 3/100\n",
      "79744/80000 [============================>.] - ETA: 0s - loss: 2.1453 - mean_absolute_error: 2.145380000/80000 [==============================] - 6s 70us/step - loss: 2.1452 - mean_absolute_error: 2.1452 - val_loss: 1.7432 - val_mean_absolute_error: 1.7432\n",
      "Epoch 4/100\n",
      "80000/80000 [==============================] - 6s 70us/step - loss: 2.1341 - mean_absolute_error: 2.1341 - val_loss: 1.7951 - val_mean_absolute_error: 1.7951\n",
      "Epoch 5/100\n",
      "80000/80000 [==============================] - 6s 71us/step - loss: 2.1363 - mean_absolute_error: 2.1363 - val_loss: 1.7890 - val_mean_absolute_error: 1.7890\n",
      "Epoch 6/100\n",
      "34720/80000 [============>.................] - ETA: 2s - loss: 2.1181 - mean_absolute_error: 2.118180000/80000 [==============================] - 6s 71us/step - loss: 2.1196 - mean_absolute_error: 2.1196 - val_loss: 1.7866 - val_mean_absolute_error: 1.7866\n",
      "Epoch 7/100\n",
      "80000/80000 [==============================] - 6s 71us/step - loss: 2.1254 - mean_absolute_error: 2.1254 - val_loss: 1.8078 - val_mean_absolute_error: 1.8078\n",
      "Epoch 8/100\n",
      "80000/80000 [==============================] - 6s 71us/step - loss: 2.1248 - mean_absolute_error: 2.1248 - val_loss: 1.7841 - val_mean_absolute_error: 1.7841\n",
      "Total time :  47.2113094329834\n",
      "MAE :  1.7432373647689818\n"
     ]
    }
   ],
   "source": [
    "K_LATENT = 20\n",
    "hidden_dim = 100\n",
    "do = 0.5\n",
    "oprimaizer_name = 'nadam'\n",
    "loss_function = 'mae'\n",
    "activ_func ='relu'\n",
    "\n",
    "NCF_model = get_ncf_model(max_userid,max_movieid,K_LATENT,hidden_dim,do,activ_func)\n",
    "NCF_model.compile(loss=loss_function,optimizer=oprimaizer_name,metrics=['mae'])\n",
    "ini = time.time()\n",
    "callbacks_ncf = [EarlyStopping('val_loss', patience=5), ModelCheckpoint(MODEL_WEIGHTS_FILE_CORE+'_ncf_'+str(do)+'_'+str(K_LATENT)+'_'+str(hidden_dim)+'.h5', save_best_only=True)]\n",
    "history = NCF_model.fit([Users, Movies], Ratings, nb_epoch=100,validation_data=([Users1,Movies1], Ratings1), validation_split=.1, verbose=1, callbacks=callbacks_ncf, batch_size = 32)\n",
    "\n",
    "end = time.time()\n",
    "print (\"Total time : \",end-ini)\n",
    "print(\"MAE : \" , min(history.history['val_loss']))                                    "
   ]
  },
  {
   "cell_type": "code",
   "execution_count": 61,
   "metadata": {
    "colab": {
     "autoexec": {
      "startup": false,
      "wait_interval": 0
     },
     "base_uri": "https://localhost:8080/",
     "height": 68
    },
    "colab_type": "code",
    "executionInfo": {
     "elapsed": 1343,
     "status": "ok",
     "timestamp": 1532962744809,
     "user": {
      "displayName": "orelie shahar",
      "photoUrl": "https://lh3.googleusercontent.com/a/default-user=s128",
      "userId": "104271544169794618728"
     },
     "user_tz": -180
    },
    "id": "f5rKFh22iQxp",
    "outputId": "33948c7f-f2b2-422a-84e2-5aa2bf19b642"
   },
   "outputs": [
    {
     "name": "stdout",
     "output_type": "stream",
     "text": [
      "20000/20000 [==============================] - 1s 31us/step\n",
      "Test MSE: 1.7840576414108276\n",
      "Test MAE: 1.7840576414108276\n"
     ]
    }
   ],
   "source": [
    "score =NCF_model.evaluate([Users1,Movies1], Ratings1,verbose=1)\n",
    "print('Test MSE:', score[0])\n",
    "print('Test MAE:', score[1])"
   ]
  },
  {
   "cell_type": "markdown",
   "metadata": {
    "colab_type": "text",
    "id": "OqatHEFL3yDn"
   },
   "source": [
    "### Function Loss =mean squared error"
   ]
  },
  {
   "cell_type": "code",
   "execution_count": 62,
   "metadata": {
    "colab": {
     "autoexec": {
      "startup": false,
      "wait_interval": 0
     },
     "base_uri": "https://localhost:8080/",
     "height": 1057
    },
    "colab_type": "code",
    "executionInfo": {
     "elapsed": 157407,
     "status": "ok",
     "timestamp": 1532962902306,
     "user": {
      "displayName": "orelie shahar",
      "photoUrl": "https://lh3.googleusercontent.com/a/default-user=s128",
      "userId": "104271544169794618728"
     },
     "user_tz": -180
    },
    "id": "7jGKXldD3yDo",
    "outputId": "3c1bc8bb-7b3a-46bb-a1a4-5b7c58af5f21"
   },
   "outputs": [
    {
     "name": "stderr",
     "output_type": "stream",
     "text": [
      "/usr/local/lib/python3.6/dist-packages/ipykernel_launcher.py:22: UserWarning: Update your `Model` call to the Keras 2 API: `Model(inputs=[<tf.Tenso..., outputs=Tensor(\"dr...)`\n",
      "/usr/local/lib/python3.6/dist-packages/ipykernel_launcher.py:12: UserWarning: The `nb_epoch` argument in `fit` has been renamed `epochs`.\n",
      "  if sys.path[0] == '':\n"
     ]
    },
    {
     "name": "stdout",
     "output_type": "stream",
     "text": [
      "Train on 80000 samples, validate on 20000 samples\n",
      "Epoch 1/100\n",
      "80000/80000 [==============================] - 7s 82us/step - loss: 7.5195 - mean_absolute_error: 2.2189 - val_loss: 4.1183 - val_mean_absolute_error: 1.8119\n",
      "Epoch 2/100\n",
      "80000/80000 [==============================] - 6s 71us/step - loss: 7.3387 - mean_absolute_error: 2.1602 - val_loss: 4.2292 - val_mean_absolute_error: 1.8411\n",
      "Epoch 3/100\n",
      "78720/80000 [============================>.] - ETA: 0s - loss: 7.2423 - mean_absolute_error: 2.134280000/80000 [==============================] - 6s 70us/step - loss: 7.2451 - mean_absolute_error: 2.1347 - val_loss: 4.1115 - val_mean_absolute_error: 1.8129\n",
      "Epoch 4/100\n",
      "80000/80000 [==============================] - 6s 71us/step - loss: 7.2677 - mean_absolute_error: 2.1343 - val_loss: 4.1941 - val_mean_absolute_error: 1.8306\n",
      "Epoch 5/100\n",
      "80000/80000 [==============================] - 6s 71us/step - loss: 7.3219 - mean_absolute_error: 2.1439 - val_loss: 4.3846 - val_mean_absolute_error: 1.8746\n",
      "Epoch 6/100\n",
      "33952/80000 [===========>..................] - ETA: 2s - loss: 7.2808 - mean_absolute_error: 2.133280000/80000 [==============================] - 6s 71us/step - loss: 7.2794 - mean_absolute_error: 2.1357 - val_loss: 4.1323 - val_mean_absolute_error: 1.8222\n",
      "Epoch 7/100\n",
      "80000/80000 [==============================] - 6s 71us/step - loss: 7.3255 - mean_absolute_error: 2.1405 - val_loss: 4.3340 - val_mean_absolute_error: 1.8681\n",
      "Epoch 8/100\n",
      "80000/80000 [==============================] - 6s 71us/step - loss: 7.2811 - mean_absolute_error: 2.1328 - val_loss: 4.0972 - val_mean_absolute_error: 1.8157\n",
      "Epoch 9/100\n",
      "27360/80000 [=========>....................] - ETA: 3s - loss: 7.3818 - mean_absolute_error: 2.149480000/80000 [==============================] - 6s 71us/step - loss: 7.3253 - mean_absolute_error: 2.1417 - val_loss: 4.2022 - val_mean_absolute_error: 1.8415\n",
      "Epoch 10/100\n",
      "80000/80000 [==============================] - 6s 71us/step - loss: 7.2658 - mean_absolute_error: 2.1258 - val_loss: 4.2121 - val_mean_absolute_error: 1.8474\n",
      "Epoch 11/100\n",
      "80000/80000 [==============================] - 6s 70us/step - loss: 7.2752 - mean_absolute_error: 2.1265 - val_loss: 4.0830 - val_mean_absolute_error: 1.8127\n",
      "Epoch 12/100\n",
      "26720/80000 [=========>....................] - ETA: 3s - loss: 7.1798 - mean_absolute_error: 2.109680000/80000 [==============================] - 6s 70us/step - loss: 7.2874 - mean_absolute_error: 2.1297 - val_loss: 4.1910 - val_mean_absolute_error: 1.8371\n",
      "Epoch 13/100\n",
      "80000/80000 [==============================] - 6s 72us/step - loss: 7.2588 - mean_absolute_error: 2.1218 - val_loss: 4.1798 - val_mean_absolute_error: 1.8333\n",
      "Epoch 14/100\n",
      "80000/80000 [==============================] - 6s 75us/step - loss: 7.2306 - mean_absolute_error: 2.1150 - val_loss: 4.0489 - val_mean_absolute_error: 1.8044\n",
      "Epoch 15/100\n",
      "20096/80000 [======>.......................] - ETA: 4s - loss: 7.2060 - mean_absolute_error: 2.111280000/80000 [==============================] - 6s 74us/step - loss: 7.2142 - mean_absolute_error: 2.1126 - val_loss: 4.0463 - val_mean_absolute_error: 1.8004\n",
      "Epoch 16/100\n",
      "80000/80000 [==============================] - 6s 72us/step - loss: 7.2232 - mean_absolute_error: 2.1145 - val_loss: 4.1257 - val_mean_absolute_error: 1.8204\n",
      "Epoch 17/100\n",
      "80000/80000 [==============================] - 6s 71us/step - loss: 7.2671 - mean_absolute_error: 2.1209 - val_loss: 4.1706 - val_mean_absolute_error: 1.8317\n",
      "Epoch 18/100\n",
      "23392/80000 [=======>......................] - ETA: 3s - loss: 7.1992 - mean_absolute_error: 2.102880000/80000 [==============================] - 6s 71us/step - loss: 7.2338 - mean_absolute_error: 2.1136 - val_loss: 3.9736 - val_mean_absolute_error: 1.7831\n",
      "Epoch 19/100\n",
      "80000/80000 [==============================] - 6s 71us/step - loss: 7.2562 - mean_absolute_error: 2.1160 - val_loss: 4.1104 - val_mean_absolute_error: 1.8197\n",
      "Epoch 20/100\n",
      "80000/80000 [==============================] - 6s 70us/step - loss: 7.2014 - mean_absolute_error: 2.1059 - val_loss: 4.2801 - val_mean_absolute_error: 1.8597\n",
      "Epoch 21/100\n",
      "25536/80000 [========>.....................] - ETA: 3s - loss: 7.2255 - mean_absolute_error: 2.107880000/80000 [==============================] - 6s 71us/step - loss: 7.2160 - mean_absolute_error: 2.1069 - val_loss: 4.0061 - val_mean_absolute_error: 1.7914\n",
      "Epoch 22/100\n",
      "80000/80000 [==============================] - 6s 71us/step - loss: 7.2205 - mean_absolute_error: 2.1081 - val_loss: 3.9478 - val_mean_absolute_error: 1.7763\n",
      "Epoch 23/100\n",
      "80000/80000 [==============================] - 6s 71us/step - loss: 7.2334 - mean_absolute_error: 2.1075 - val_loss: 4.0857 - val_mean_absolute_error: 1.8126\n",
      "Epoch 24/100\n",
      "25152/80000 [========>.....................] - ETA: 3s - loss: 7.1767 - mean_absolute_error: 2.095980000/80000 [==============================] - 6s 72us/step - loss: 7.1923 - mean_absolute_error: 2.0992 - val_loss: 4.0379 - val_mean_absolute_error: 1.8021\n",
      "Epoch 25/100\n",
      "80000/80000 [==============================] - 6s 72us/step - loss: 7.2881 - mean_absolute_error: 2.1186 - val_loss: 4.1721 - val_mean_absolute_error: 1.8328\n",
      "Epoch 26/100\n",
      "80000/80000 [==============================] - 6s 71us/step - loss: 7.2051 - mean_absolute_error: 2.1023 - val_loss: 4.1013 - val_mean_absolute_error: 1.8152\n",
      "Epoch 27/100\n",
      "24608/80000 [========>.....................] - ETA: 3s - loss: 7.2733 - mean_absolute_error: 2.114180000/80000 [==============================] - 6s 71us/step - loss: 7.2287 - mean_absolute_error: 2.1037 - val_loss: 4.1078 - val_mean_absolute_error: 1.8211\n",
      "Total time :  156.16357374191284\n",
      "MAE :  3.947793607711792\n"
     ]
    }
   ],
   "source": [
    "K_LATENT = 20\n",
    "hidden_dim = 100\n",
    "do = 0.5\n",
    "oprimaizer_name = 'nadam'\n",
    "loss_function = 'mse'\n",
    "activ_func ='relu'\n",
    "\n",
    "NCF_model = get_ncf_model(max_userid,max_movieid,K_LATENT,hidden_dim,do,activ_func)\n",
    "NCF_model.compile(loss=loss_function,optimizer=oprimaizer_name,metrics=['mae'])\n",
    "ini = time.time()\n",
    "callbacks_ncf = [EarlyStopping('val_loss', patience=5), ModelCheckpoint(MODEL_WEIGHTS_FILE_CORE+'_ncf_'+str(do)+'_'+str(K_LATENT)+'_'+str(hidden_dim)+'.h5', save_best_only=True)]\n",
    "history = NCF_model.fit([Users, Movies], Ratings, nb_epoch=100,validation_data=([Users1,Movies1], Ratings1), validation_split=.1, verbose=1, callbacks=callbacks_ncf, batch_size = 32)\n",
    "\n",
    "end = time.time()\n",
    "print (\"Total time : \",end-ini)\n",
    "print(\"MAE : \" , min(history.history['val_loss']))                                    "
   ]
  },
  {
   "cell_type": "code",
   "execution_count": 63,
   "metadata": {
    "colab": {
     "autoexec": {
      "startup": false,
      "wait_interval": 0
     },
     "base_uri": "https://localhost:8080/",
     "height": 68
    },
    "colab_type": "code",
    "executionInfo": {
     "elapsed": 1472,
     "status": "ok",
     "timestamp": 1532962903833,
     "user": {
      "displayName": "orelie shahar",
      "photoUrl": "https://lh3.googleusercontent.com/a/default-user=s128",
      "userId": "104271544169794618728"
     },
     "user_tz": -180
    },
    "id": "DOdnjYyMiSU0",
    "outputId": "ef00edc2-2626-4083-d260-755af0983a03"
   },
   "outputs": [
    {
     "name": "stdout",
     "output_type": "stream",
     "text": [
      "20000/20000 [==============================] - 1s 32us/step\n",
      "Test MSE: 4.107815170669555\n",
      "Test MAE: 1.8211423374176026\n"
     ]
    }
   ],
   "source": [
    "score =NCF_model.evaluate([Users1,Movies1], Ratings1,verbose=1)\n",
    "print('Test MSE:', score[0])\n",
    "print('Test MAE:', score[1])"
   ]
  },
  {
   "cell_type": "markdown",
   "metadata": {
    "colab_type": "text",
    "id": "_ZRSOYWQ3yDq"
   },
   "source": [
    "### Function Loss = mean_absolute_percentage_error"
   ]
  },
  {
   "cell_type": "code",
   "execution_count": 64,
   "metadata": {
    "colab": {
     "autoexec": {
      "startup": false,
      "wait_interval": 0
     },
     "base_uri": "https://localhost:8080/",
     "height": 377
    },
    "colab_type": "code",
    "executionInfo": {
     "elapsed": 44335,
     "status": "ok",
     "timestamp": 1532962948593,
     "user": {
      "displayName": "orelie shahar",
      "photoUrl": "https://lh3.googleusercontent.com/a/default-user=s128",
      "userId": "104271544169794618728"
     },
     "user_tz": -180
    },
    "id": "VJerK9fR3yDr",
    "outputId": "ec8b52bd-7096-4e34-b18c-e818bd65c5c7"
   },
   "outputs": [
    {
     "name": "stderr",
     "output_type": "stream",
     "text": [
      "/usr/local/lib/python3.6/dist-packages/ipykernel_launcher.py:22: UserWarning: Update your `Model` call to the Keras 2 API: `Model(inputs=[<tf.Tenso..., outputs=Tensor(\"dr...)`\n",
      "/usr/local/lib/python3.6/dist-packages/ipykernel_launcher.py:12: UserWarning: The `nb_epoch` argument in `fit` has been renamed `epochs`.\n",
      "  if sys.path[0] == '':\n"
     ]
    },
    {
     "name": "stdout",
     "output_type": "stream",
     "text": [
      "Train on 80000 samples, validate on 20000 samples\n",
      "Epoch 1/100\n",
      "80000/80000 [==============================] - 7s 83us/step - loss: 66.5913 - mean_absolute_error: 2.2604 - val_loss: 53.5828 - val_mean_absolute_error: 2.0113\n",
      "Epoch 2/100\n",
      "80000/80000 [==============================] - 6s 71us/step - loss: 64.6890 - mean_absolute_error: 2.2019 - val_loss: 50.9401 - val_mean_absolute_error: 1.9170\n",
      "Epoch 3/100\n",
      "75680/80000 [===========================>..] - ETA: 0s - loss: 64.4663 - mean_absolute_error: 2.190580000/80000 [==============================] - 6s 71us/step - loss: 64.4752 - mean_absolute_error: 2.1912 - val_loss: 54.8570 - val_mean_absolute_error: 2.0620\n",
      "Epoch 4/100\n",
      "80000/80000 [==============================] - 6s 71us/step - loss: 64.3062 - mean_absolute_error: 2.1850 - val_loss: 52.8141 - val_mean_absolute_error: 1.9729\n",
      "Epoch 5/100\n",
      "80000/80000 [==============================] - 6s 71us/step - loss: 64.0132 - mean_absolute_error: 2.1697 - val_loss: 51.4745 - val_mean_absolute_error: 1.9324\n",
      "Epoch 6/100\n",
      "32672/80000 [===========>..................] - ETA: 3s - loss: 63.8563 - mean_absolute_error: 2.175580000/80000 [==============================] - 6s 71us/step - loss: 64.0983 - mean_absolute_error: 2.1796 - val_loss: 52.5889 - val_mean_absolute_error: 1.9840\n",
      "Epoch 7/100\n",
      "80000/80000 [==============================] - 6s 71us/step - loss: 63.8717 - mean_absolute_error: 2.1687 - val_loss: 52.3291 - val_mean_absolute_error: 1.9702\n",
      "Total time :  41.966135025024414\n",
      "MAE :  50.94006016845703\n"
     ]
    }
   ],
   "source": [
    "K_LATENT = 20\n",
    "hidden_dim = 100\n",
    "do = 0.5\n",
    "oprimaizer_name = 'nadam'\n",
    "loss_function = 'mean_absolute_percentage_error'\n",
    "activ_func ='relu'\n",
    "\n",
    "NCF_model = get_ncf_model(max_userid,max_movieid,K_LATENT,hidden_dim,do,activ_func)\n",
    "NCF_model.compile(loss=loss_function,optimizer=oprimaizer_name,metrics=['mae'])\n",
    "ini = time.time()\n",
    "callbacks_ncf = [EarlyStopping('val_loss', patience=5), ModelCheckpoint(MODEL_WEIGHTS_FILE_CORE+'_ncf_'+str(do)+'_'+str(K_LATENT)+'_'+str(hidden_dim)+'.h5', save_best_only=True)]\n",
    "history = NCF_model.fit([Users, Movies], Ratings, nb_epoch=100,validation_data=([Users1,Movies1], Ratings1), validation_split=.1, verbose=1, callbacks=callbacks_ncf, batch_size = 32)\n",
    "\n",
    "end = time.time()\n",
    "print (\"Total time : \",end-ini)\n",
    "print(\"MAE : \" , min(history.history['val_loss']))                                    "
   ]
  },
  {
   "cell_type": "code",
   "execution_count": 65,
   "metadata": {
    "colab": {
     "autoexec": {
      "startup": false,
      "wait_interval": 0
     },
     "base_uri": "https://localhost:8080/",
     "height": 68
    },
    "colab_type": "code",
    "executionInfo": {
     "elapsed": 1453,
     "status": "ok",
     "timestamp": 1532962950144,
     "user": {
      "displayName": "orelie shahar",
      "photoUrl": "https://lh3.googleusercontent.com/a/default-user=s128",
      "userId": "104271544169794618728"
     },
     "user_tz": -180
    },
    "id": "GteptUW1iTy7",
    "outputId": "394348a5-cf74-4ddc-d335-59d70b19041e"
   },
   "outputs": [
    {
     "name": "stdout",
     "output_type": "stream",
     "text": [
      "20000/20000 [==============================] - 1s 32us/step\n",
      "Test MSE: 52.329094750976566\n",
      "Test MAE: 1.970181530570984\n"
     ]
    }
   ],
   "source": [
    "score =NCF_model.evaluate([Users1,Movies1], Ratings1,verbose=1)\n",
    "print('Test MSE:', score[0])\n",
    "print('Test MAE:', score[1])"
   ]
  },
  {
   "cell_type": "markdown",
   "metadata": {
    "colab_type": "text",
    "id": "zGPsMxp-3yDt"
   },
   "source": [
    "### Activation Function = relu"
   ]
  },
  {
   "cell_type": "code",
   "execution_count": 66,
   "metadata": {
    "colab": {
     "autoexec": {
      "startup": false,
      "wait_interval": 0
     },
     "base_uri": "https://localhost:8080/",
     "height": 513
    },
    "colab_type": "code",
    "executionInfo": {
     "elapsed": 65903,
     "status": "ok",
     "timestamp": 1532963016177,
     "user": {
      "displayName": "orelie shahar",
      "photoUrl": "https://lh3.googleusercontent.com/a/default-user=s128",
      "userId": "104271544169794618728"
     },
     "user_tz": -180
    },
    "id": "s6sQ83Rb3yDt",
    "outputId": "e0ee1721-2688-49a3-9df8-d138112f1aa0"
   },
   "outputs": [
    {
     "name": "stderr",
     "output_type": "stream",
     "text": [
      "/usr/local/lib/python3.6/dist-packages/ipykernel_launcher.py:22: UserWarning: Update your `Model` call to the Keras 2 API: `Model(inputs=[<tf.Tenso..., outputs=Tensor(\"dr...)`\n",
      "/usr/local/lib/python3.6/dist-packages/ipykernel_launcher.py:12: UserWarning: The `nb_epoch` argument in `fit` has been renamed `epochs`.\n",
      "  if sys.path[0] == '':\n"
     ]
    },
    {
     "name": "stdout",
     "output_type": "stream",
     "text": [
      "Train on 80000 samples, validate on 20000 samples\n",
      "Epoch 1/100\n",
      "80000/80000 [==============================] - 7s 84us/step - loss: 2.2263 - mean_absolute_error: 2.2263 - val_loss: 1.7519 - val_mean_absolute_error: 1.7519\n",
      "Epoch 2/100\n",
      "80000/80000 [==============================] - 6s 71us/step - loss: 2.1659 - mean_absolute_error: 2.1659 - val_loss: 1.7864 - val_mean_absolute_error: 1.7864\n",
      "Epoch 3/100\n",
      "76576/80000 [===========================>..] - ETA: 0s - loss: 2.1411 - mean_absolute_error: 2.141180000/80000 [==============================] - 6s 71us/step - loss: 2.1405 - mean_absolute_error: 2.1405 - val_loss: 1.8066 - val_mean_absolute_error: 1.8066\n",
      "Epoch 4/100\n",
      "80000/80000 [==============================] - 6s 71us/step - loss: 2.1404 - mean_absolute_error: 2.1404 - val_loss: 1.7603 - val_mean_absolute_error: 1.7603\n",
      "Epoch 5/100\n",
      "80000/80000 [==============================] - 6s 71us/step - loss: 2.1329 - mean_absolute_error: 2.1329 - val_loss: 1.7958 - val_mean_absolute_error: 1.7958\n",
      "Epoch 6/100\n",
      "34272/80000 [===========>..................] - ETA: 2s - loss: 2.1382 - mean_absolute_error: 2.138280000/80000 [==============================] - 6s 71us/step - loss: 2.1292 - mean_absolute_error: 2.1292 - val_loss: 1.7417 - val_mean_absolute_error: 1.7417\n",
      "Epoch 7/100\n",
      "80000/80000 [==============================] - 6s 71us/step - loss: 2.1363 - mean_absolute_error: 2.1363 - val_loss: 1.7903 - val_mean_absolute_error: 1.7903\n",
      "Epoch 8/100\n",
      "80000/80000 [==============================] - 6s 72us/step - loss: 2.1265 - mean_absolute_error: 2.1265 - val_loss: 1.7918 - val_mean_absolute_error: 1.7918\n",
      "Epoch 9/100\n",
      "26912/80000 [=========>....................] - ETA: 3s - loss: 2.1137 - mean_absolute_error: 2.113780000/80000 [==============================] - 6s 72us/step - loss: 2.1186 - mean_absolute_error: 2.1186 - val_loss: 1.8020 - val_mean_absolute_error: 1.8020\n",
      "Epoch 10/100\n",
      "80000/80000 [==============================] - 6s 71us/step - loss: 2.1236 - mean_absolute_error: 2.1236 - val_loss: 1.7633 - val_mean_absolute_error: 1.7633\n",
      "Epoch 11/100\n",
      "80000/80000 [==============================] - 6s 71us/step - loss: 2.1163 - mean_absolute_error: 2.1163 - val_loss: 1.8127 - val_mean_absolute_error: 1.8127\n",
      "Total time :  64.87642097473145\n",
      "MAE :  1.7417133235931397\n"
     ]
    }
   ],
   "source": [
    "K_LATENT = 20\n",
    "hidden_dim = 100\n",
    "do = 0.5\n",
    "oprimaizer_name = 'nadam'\n",
    "loss_function = 'mae'\n",
    "activ_func ='relu'\n",
    "\n",
    "NCF_model = get_ncf_model(max_userid,max_movieid,K_LATENT,hidden_dim,do,activ_func)\n",
    "NCF_model.compile(loss=loss_function,optimizer=oprimaizer_name,metrics=['mae'])\n",
    "ini = time.time()\n",
    "callbacks_ncf = [EarlyStopping('val_loss', patience=5), ModelCheckpoint(MODEL_WEIGHTS_FILE_CORE+'_ncf_'+str(do)+'_'+str(K_LATENT)+'_'+str(hidden_dim)+'.h5', save_best_only=True)]\n",
    "history = NCF_model.fit([Users, Movies], Ratings, nb_epoch=100,validation_data=([Users1,Movies1], Ratings1), validation_split=.1, verbose=1, callbacks=callbacks_ncf, batch_size = 32)\n",
    "\n",
    "end = time.time()\n",
    "print (\"Total time : \",end-ini)\n",
    "print(\"MAE : \" , min(history.history['val_loss']))                                    "
   ]
  },
  {
   "cell_type": "code",
   "execution_count": 67,
   "metadata": {
    "colab": {
     "autoexec": {
      "startup": false,
      "wait_interval": 0
     },
     "base_uri": "https://localhost:8080/",
     "height": 68
    },
    "colab_type": "code",
    "executionInfo": {
     "elapsed": 1352,
     "status": "ok",
     "timestamp": 1532963017578,
     "user": {
      "displayName": "orelie shahar",
      "photoUrl": "https://lh3.googleusercontent.com/a/default-user=s128",
      "userId": "104271544169794618728"
     },
     "user_tz": -180
    },
    "id": "jX_96kgyiVEj",
    "outputId": "11554278-f29c-4e6f-f1ce-c63bc06627df"
   },
   "outputs": [
    {
     "name": "stdout",
     "output_type": "stream",
     "text": [
      "20000/20000 [==============================] - 1s 32us/step\n",
      "Test MSE: 1.8126866855621337\n",
      "Test MAE: 1.8126866855621337\n"
     ]
    }
   ],
   "source": [
    "score =NCF_model.evaluate([Users1,Movies1], Ratings1,verbose=1)\n",
    "print('Test MSE:', score[0])\n",
    "print('Test MAE:', score[1])"
   ]
  },
  {
   "cell_type": "markdown",
   "metadata": {
    "colab_type": "text",
    "id": "89Z8rQRU3yDv"
   },
   "source": [
    "### Activation Function = tanh"
   ]
  },
  {
   "cell_type": "code",
   "execution_count": 68,
   "metadata": {
    "colab": {
     "autoexec": {
      "startup": false,
      "wait_interval": 0
     },
     "base_uri": "https://localhost:8080/",
     "height": 751
    },
    "colab_type": "code",
    "executionInfo": {
     "elapsed": 105539,
     "status": "ok",
     "timestamp": 1532963123200,
     "user": {
      "displayName": "orelie shahar",
      "photoUrl": "https://lh3.googleusercontent.com/a/default-user=s128",
      "userId": "104271544169794618728"
     },
     "user_tz": -180
    },
    "id": "e8iq5h_c3yDv",
    "outputId": "af5b8eb2-00e9-409d-be0b-b2ec7549fc81"
   },
   "outputs": [
    {
     "name": "stderr",
     "output_type": "stream",
     "text": [
      "/usr/local/lib/python3.6/dist-packages/ipykernel_launcher.py:22: UserWarning: Update your `Model` call to the Keras 2 API: `Model(inputs=[<tf.Tenso..., outputs=Tensor(\"dr...)`\n",
      "/usr/local/lib/python3.6/dist-packages/ipykernel_launcher.py:12: UserWarning: The `nb_epoch` argument in `fit` has been renamed `epochs`.\n",
      "  if sys.path[0] == '':\n"
     ]
    },
    {
     "name": "stdout",
     "output_type": "stream",
     "text": [
      "Train on 80000 samples, validate on 20000 samples\n",
      "Epoch 1/100\n",
      "80000/80000 [==============================] - 7s 85us/step - loss: 2.6007 - mean_absolute_error: 2.6007 - val_loss: 2.5362 - val_mean_absolute_error: 2.5362\n",
      "Epoch 2/100\n",
      "80000/80000 [==============================] - 6s 71us/step - loss: 2.5903 - mean_absolute_error: 2.5903 - val_loss: 2.5359 - val_mean_absolute_error: 2.5359\n",
      "Epoch 3/100\n",
      "77600/80000 [============================>.] - ETA: 0s - loss: 2.5838 - mean_absolute_error: 2.583880000/80000 [==============================] - 6s 71us/step - loss: 2.5843 - mean_absolute_error: 2.5843 - val_loss: 2.5359 - val_mean_absolute_error: 2.5359\n",
      "Epoch 4/100\n",
      "80000/80000 [==============================] - 6s 70us/step - loss: 2.5898 - mean_absolute_error: 2.5898 - val_loss: 2.5359 - val_mean_absolute_error: 2.5359\n",
      "Epoch 5/100\n",
      "80000/80000 [==============================] - 6s 71us/step - loss: 2.5860 - mean_absolute_error: 2.5860 - val_loss: 2.5359 - val_mean_absolute_error: 2.5359\n",
      "Epoch 6/100\n",
      "35968/80000 [============>.................] - ETA: 2s - loss: 2.5846 - mean_absolute_error: 2.584680000/80000 [==============================] - 6s 71us/step - loss: 2.5882 - mean_absolute_error: 2.5882 - val_loss: 2.5359 - val_mean_absolute_error: 2.5359\n",
      "Epoch 7/100\n",
      "80000/80000 [==============================] - 6s 71us/step - loss: 2.5864 - mean_absolute_error: 2.5864 - val_loss: 2.5359 - val_mean_absolute_error: 2.5359\n",
      "Epoch 8/100\n",
      "80000/80000 [==============================] - 6s 71us/step - loss: 2.5850 - mean_absolute_error: 2.5850 - val_loss: 2.5359 - val_mean_absolute_error: 2.5359\n",
      "Epoch 9/100\n",
      "28032/80000 [=========>....................] - ETA: 3s - loss: 2.5797 - mean_absolute_error: 2.579780000/80000 [==============================] - 6s 71us/step - loss: 2.5847 - mean_absolute_error: 2.5847 - val_loss: 2.5359 - val_mean_absolute_error: 2.5359\n",
      "Epoch 10/100\n",
      "80000/80000 [==============================] - 6s 71us/step - loss: 2.5813 - mean_absolute_error: 2.5813 - val_loss: 2.5359 - val_mean_absolute_error: 2.5359\n",
      "Epoch 11/100\n",
      "80000/80000 [==============================] - 6s 71us/step - loss: 2.5825 - mean_absolute_error: 2.5825 - val_loss: 2.5359 - val_mean_absolute_error: 2.5359\n",
      "Epoch 12/100\n",
      "25536/80000 [========>.....................] - ETA: 3s - loss: 2.5726 - mean_absolute_error: 2.572680000/80000 [==============================] - 6s 71us/step - loss: 2.5824 - mean_absolute_error: 2.5824 - val_loss: 2.5359 - val_mean_absolute_error: 2.5359\n",
      "Epoch 13/100\n",
      "80000/80000 [==============================] - 6s 71us/step - loss: 2.5842 - mean_absolute_error: 2.5842 - val_loss: 2.5359 - val_mean_absolute_error: 2.5359\n",
      "Epoch 14/100\n",
      "80000/80000 [==============================] - 6s 70us/step - loss: 2.5837 - mean_absolute_error: 2.5837 - val_loss: 2.5359 - val_mean_absolute_error: 2.5359\n",
      "Epoch 15/100\n",
      "26496/80000 [========>.....................] - ETA: 3s - loss: 2.5974 - mean_absolute_error: 2.597480000/80000 [==============================] - 6s 70us/step - loss: 2.5898 - mean_absolute_error: 2.5898 - val_loss: 2.5359 - val_mean_absolute_error: 2.5359\n",
      "Epoch 16/100\n",
      "80000/80000 [==============================] - 6s 71us/step - loss: 2.5892 - mean_absolute_error: 2.5892 - val_loss: 2.5359 - val_mean_absolute_error: 2.5359\n",
      "Epoch 17/100\n",
      "80000/80000 [==============================] - 6s 71us/step - loss: 2.5835 - mean_absolute_error: 2.5835 - val_loss: 2.5359 - val_mean_absolute_error: 2.5359\n",
      "Epoch 18/100\n",
      "26624/80000 [========>.....................] - ETA: 3s - loss: 2.5887 - mean_absolute_error: 2.588780000/80000 [==============================] - 6s 71us/step - loss: 2.5903 - mean_absolute_error: 2.5903 - val_loss: 2.5383 - val_mean_absolute_error: 2.5383\n",
      "Total time :  104.33127975463867\n",
      "MAE :  2.5359\n"
     ]
    }
   ],
   "source": [
    "K_LATENT = 20\n",
    "hidden_dim = 100\n",
    "do = 0.5\n",
    "oprimaizer_name = 'nadam'\n",
    "loss_function = 'mae'\n",
    "activ_func ='tanh'\n",
    "\n",
    "NCF_model = get_ncf_model(max_userid,max_movieid,K_LATENT,hidden_dim,do,activ_func)\n",
    "NCF_model.compile(loss=loss_function,optimizer=oprimaizer_name,metrics=['mae'])\n",
    "ini = time.time()\n",
    "callbacks_ncf = [EarlyStopping('val_loss', patience=5), ModelCheckpoint(MODEL_WEIGHTS_FILE_CORE+'_ncf_'+str(do)+'_'+str(K_LATENT)+'_'+str(hidden_dim)+'.h5', save_best_only=True)]\n",
    "history = NCF_model.fit([Users, Movies], Ratings, nb_epoch=100,validation_data=([Users1,Movies1], Ratings1), validation_split=.1, verbose=1, callbacks=callbacks_ncf, batch_size = 32)\n",
    "\n",
    "end = time.time()\n",
    "print (\"Total time : \",end-ini)\n",
    "print(\"MAE : \" , min(history.history['val_loss']))                                    "
   ]
  },
  {
   "cell_type": "code",
   "execution_count": 69,
   "metadata": {
    "colab": {
     "autoexec": {
      "startup": false,
      "wait_interval": 0
     },
     "base_uri": "https://localhost:8080/",
     "height": 68
    },
    "colab_type": "code",
    "executionInfo": {
     "elapsed": 1567,
     "status": "ok",
     "timestamp": 1532963124983,
     "user": {
      "displayName": "orelie shahar",
      "photoUrl": "https://lh3.googleusercontent.com/a/default-user=s128",
      "userId": "104271544169794618728"
     },
     "user_tz": -180
    },
    "id": "S7zal6rqiXo9",
    "outputId": "ebda5858-8234-4287-a9ff-11f47fbe35f9"
   },
   "outputs": [
    {
     "name": "stdout",
     "output_type": "stream",
     "text": [
      "20000/20000 [==============================] - 1s 32us/step\n",
      "Test MSE: 2.538334713554382\n",
      "Test MAE: 2.538334713554382\n"
     ]
    }
   ],
   "source": [
    "score =NCF_model.evaluate([Users1,Movies1], Ratings1,verbose=1)\n",
    "print('Test MSE:', score[0])\n",
    "print('Test MAE:', score[1])"
   ]
  },
  {
   "cell_type": "markdown",
   "metadata": {
    "colab_type": "text",
    "id": "RAnZ-yoP3yDy"
   },
   "source": [
    "### Activation Function = linear"
   ]
  },
  {
   "cell_type": "code",
   "execution_count": 70,
   "metadata": {
    "colab": {
     "autoexec": {
      "startup": false,
      "wait_interval": 0
     },
     "base_uri": "https://localhost:8080/",
     "height": 377
    },
    "colab_type": "code",
    "executionInfo": {
     "elapsed": 43014,
     "status": "ok",
     "timestamp": 1532963168216,
     "user": {
      "displayName": "orelie shahar",
      "photoUrl": "https://lh3.googleusercontent.com/a/default-user=s128",
      "userId": "104271544169794618728"
     },
     "user_tz": -180
    },
    "id": "5GAKpMPJ3yDz",
    "outputId": "1c1fe4da-eeff-46b9-b605-552db337c5d7"
   },
   "outputs": [
    {
     "name": "stderr",
     "output_type": "stream",
     "text": [
      "/usr/local/lib/python3.6/dist-packages/ipykernel_launcher.py:22: UserWarning: Update your `Model` call to the Keras 2 API: `Model(inputs=[<tf.Tenso..., outputs=Tensor(\"dr...)`\n",
      "/usr/local/lib/python3.6/dist-packages/ipykernel_launcher.py:12: UserWarning: The `nb_epoch` argument in `fit` has been renamed `epochs`.\n",
      "  if sys.path[0] == '':\n"
     ]
    },
    {
     "name": "stdout",
     "output_type": "stream",
     "text": [
      "Train on 80000 samples, validate on 20000 samples\n",
      "Epoch 1/100\n",
      "80000/80000 [==============================] - 7s 84us/step - loss: 2.2027 - mean_absolute_error: 2.2027 - val_loss: 1.7831 - val_mean_absolute_error: 1.7831\n",
      "Epoch 2/100\n",
      "80000/80000 [==============================] - 6s 70us/step - loss: 2.1624 - mean_absolute_error: 2.1624 - val_loss: 1.7611 - val_mean_absolute_error: 1.7611\n",
      "Epoch 3/100\n",
      "79840/80000 [============================>.] - ETA: 0s - loss: 2.1444 - mean_absolute_error: 2.144480000/80000 [==============================] - 6s 70us/step - loss: 2.1446 - mean_absolute_error: 2.1446 - val_loss: 1.7871 - val_mean_absolute_error: 1.7871\n",
      "Epoch 4/100\n",
      "80000/80000 [==============================] - 6s 71us/step - loss: 2.1442 - mean_absolute_error: 2.1442 - val_loss: 1.7775 - val_mean_absolute_error: 1.7775\n",
      "Epoch 5/100\n",
      "80000/80000 [==============================] - 6s 70us/step - loss: 2.1435 - mean_absolute_error: 2.1435 - val_loss: 1.8052 - val_mean_absolute_error: 1.8052\n",
      "Epoch 6/100\n",
      "36384/80000 [============>.................] - ETA: 2s - loss: 2.1226 - mean_absolute_error: 2.122680000/80000 [==============================] - 6s 70us/step - loss: 2.1298 - mean_absolute_error: 2.1298 - val_loss: 1.8198 - val_mean_absolute_error: 1.8198\n",
      "Epoch 7/100\n",
      "80000/80000 [==============================] - 6s 70us/step - loss: 2.1366 - mean_absolute_error: 2.1366 - val_loss: 1.7661 - val_mean_absolute_error: 1.7661\n",
      "Total time :  41.99939465522766\n",
      "MAE :  1.761104874420166\n"
     ]
    }
   ],
   "source": [
    "K_LATENT = 20\n",
    "hidden_dim = 100\n",
    "do = 0.5\n",
    "oprimaizer_name = 'nadam'\n",
    "loss_function = 'mae'\n",
    "activ_func ='linear'\n",
    "\n",
    "NCF_model = get_ncf_model(max_userid,max_movieid,K_LATENT,hidden_dim,do,activ_func)\n",
    "NCF_model.compile(loss=loss_function,optimizer=oprimaizer_name,metrics=['mae'])\n",
    "ini = time.time()\n",
    "callbacks_ncf = [EarlyStopping('val_loss', patience=5), ModelCheckpoint(MODEL_WEIGHTS_FILE_CORE+'_ncf_'+str(do)+'_'+str(K_LATENT)+'_'+str(hidden_dim)+'.h5', save_best_only=True)]\n",
    "history = NCF_model.fit([Users, Movies], Ratings, nb_epoch=100,validation_data=([Users1,Movies1], Ratings1), validation_split=.1, verbose=1, callbacks=callbacks_ncf, batch_size = 32)\n",
    "\n",
    "end = time.time()\n",
    "print (\"Total time : \",end-ini)\n",
    "print(\"MAE : \" , min(history.history['val_loss']))                                    "
   ]
  },
  {
   "cell_type": "code",
   "execution_count": 71,
   "metadata": {
    "colab": {
     "autoexec": {
      "startup": false,
      "wait_interval": 0
     },
     "base_uri": "https://localhost:8080/",
     "height": 68
    },
    "colab_type": "code",
    "executionInfo": {
     "elapsed": 1323,
     "status": "ok",
     "timestamp": 1532963169591,
     "user": {
      "displayName": "orelie shahar",
      "photoUrl": "https://lh3.googleusercontent.com/a/default-user=s128",
      "userId": "104271544169794618728"
     },
     "user_tz": -180
    },
    "id": "FwsPwj-ViYyn",
    "outputId": "dcc239ab-3782-47f1-eace-7257a88c8ff4"
   },
   "outputs": [
    {
     "name": "stdout",
     "output_type": "stream",
     "text": [
      "20000/20000 [==============================] - 1s 32us/step\n",
      "Test MSE: 1.766087169647217\n",
      "Test MAE: 1.766087169647217\n"
     ]
    }
   ],
   "source": [
    "score =NCF_model.evaluate([Users1,Movies1], Ratings1,verbose=1)\n",
    "print('Test MSE:', score[0])\n",
    "print('Test MAE:', score[1])"
   ]
  },
  {
   "cell_type": "markdown",
   "metadata": {
    "colab_type": "text",
    "id": "IgZvjX8N3yD1"
   },
   "source": [
    "### Activation Function = selu"
   ]
  },
  {
   "cell_type": "code",
   "execution_count": 72,
   "metadata": {
    "colab": {
     "autoexec": {
      "startup": false,
      "wait_interval": 0
     },
     "base_uri": "https://localhost:8080/",
     "height": 377
    },
    "colab_type": "code",
    "executionInfo": {
     "elapsed": 45306,
     "status": "ok",
     "timestamp": 1532963214977,
     "user": {
      "displayName": "orelie shahar",
      "photoUrl": "https://lh3.googleusercontent.com/a/default-user=s128",
      "userId": "104271544169794618728"
     },
     "user_tz": -180
    },
    "id": "J9eTCFGj3yD1",
    "outputId": "45911f04-96e7-4478-906d-902d89ce12d5"
   },
   "outputs": [
    {
     "name": "stderr",
     "output_type": "stream",
     "text": [
      "/usr/local/lib/python3.6/dist-packages/ipykernel_launcher.py:22: UserWarning: Update your `Model` call to the Keras 2 API: `Model(inputs=[<tf.Tenso..., outputs=Tensor(\"dr...)`\n",
      "/usr/local/lib/python3.6/dist-packages/ipykernel_launcher.py:12: UserWarning: The `nb_epoch` argument in `fit` has been renamed `epochs`.\n",
      "  if sys.path[0] == '':\n"
     ]
    },
    {
     "name": "stdout",
     "output_type": "stream",
     "text": [
      "Train on 80000 samples, validate on 20000 samples\n",
      "Epoch 1/100\n",
      "80000/80000 [==============================] - 7s 89us/step - loss: 2.1927 - mean_absolute_error: 2.1927 - val_loss: 1.7881 - val_mean_absolute_error: 1.7881\n",
      "Epoch 2/100\n",
      "80000/80000 [==============================] - 6s 75us/step - loss: 2.1757 - mean_absolute_error: 2.1757 - val_loss: 1.7611 - val_mean_absolute_error: 1.7611\n",
      "Epoch 3/100\n",
      "70944/80000 [=========================>....] - ETA: 0s - loss: 2.1482 - mean_absolute_error: 2.148280000/80000 [==============================] - 6s 74us/step - loss: 2.1453 - mean_absolute_error: 2.1453 - val_loss: 1.8179 - val_mean_absolute_error: 1.8179\n",
      "Epoch 4/100\n",
      "80000/80000 [==============================] - 6s 75us/step - loss: 2.1465 - mean_absolute_error: 2.1465 - val_loss: 1.7783 - val_mean_absolute_error: 1.7783\n",
      "Epoch 5/100\n",
      "80000/80000 [==============================] - 6s 74us/step - loss: 2.1395 - mean_absolute_error: 2.1395 - val_loss: 1.8014 - val_mean_absolute_error: 1.8014\n",
      "Epoch 6/100\n",
      "28224/80000 [=========>....................] - ETA: 3s - loss: 2.1423 - mean_absolute_error: 2.142380000/80000 [==============================] - 6s 75us/step - loss: 2.1372 - mean_absolute_error: 2.1372 - val_loss: 1.8206 - val_mean_absolute_error: 1.8206\n",
      "Epoch 7/100\n",
      "80000/80000 [==============================] - 6s 74us/step - loss: 2.1434 - mean_absolute_error: 2.1434 - val_loss: 1.7997 - val_mean_absolute_error: 1.7997\n",
      "Total time :  44.308568716049194\n",
      "MAE :  1.7610852474212646\n"
     ]
    }
   ],
   "source": [
    "K_LATENT = 20\n",
    "hidden_dim = 100\n",
    "do = 0.5\n",
    "oprimaizer_name = 'nadam'\n",
    "loss_function = 'mae'\n",
    "activ_func ='selu'\n",
    "\n",
    "NCF_model = get_ncf_model(max_userid,max_movieid,K_LATENT,hidden_dim,do,activ_func)\n",
    "NCF_model.compile(loss=loss_function,optimizer=oprimaizer_name,metrics=['mae'])\n",
    "ini = time.time()\n",
    "callbacks_ncf = [EarlyStopping('val_loss', patience=5), ModelCheckpoint(MODEL_WEIGHTS_FILE_CORE+'_ncf_'+str(do)+'_'+str(K_LATENT)+'_'+str(hidden_dim)+'.h5', save_best_only=True)]\n",
    "history = NCF_model.fit([Users, Movies], Ratings, nb_epoch=100,validation_data=([Users1,Movies1], Ratings1), validation_split=.1, verbose=1, callbacks=callbacks_ncf, batch_size = 32)\n",
    "\n",
    "end = time.time()\n",
    "print (\"Total time : \",end-ini)\n",
    "print(\"MAE : \" , min(history.history['val_loss']))                                    "
   ]
  },
  {
   "cell_type": "code",
   "execution_count": 73,
   "metadata": {
    "colab": {
     "autoexec": {
      "startup": false,
      "wait_interval": 0
     },
     "base_uri": "https://localhost:8080/",
     "height": 68
    },
    "colab_type": "code",
    "executionInfo": {
     "elapsed": 1807,
     "status": "ok",
     "timestamp": 1532963216835,
     "user": {
      "displayName": "orelie shahar",
      "photoUrl": "https://lh3.googleusercontent.com/a/default-user=s128",
      "userId": "104271544169794618728"
     },
     "user_tz": -180
    },
    "id": "4udFstbAiaEc",
    "outputId": "dd8c6d73-d55c-4a9c-87d0-92e90dc34f7d"
   },
   "outputs": [
    {
     "name": "stdout",
     "output_type": "stream",
     "text": [
      "20000/20000 [==============================] - 1s 34us/step\n",
      "Test MSE: 1.7997085922241212\n",
      "Test MAE: 1.7997085922241212\n"
     ]
    }
   ],
   "source": [
    "score =NCF_model.evaluate([Users1,Movies1], Ratings1,verbose=1)\n",
    "print('Test MSE:', score[0])\n",
    "print('Test MAE:', score[1])"
   ]
  },
  {
   "cell_type": "markdown",
   "metadata": {
    "colab_type": "text",
    "id": "Hk0tiZ0A3yD3"
   },
   "source": [
    "### Dropout = 0.1\n"
   ]
  },
  {
   "cell_type": "code",
   "execution_count": 74,
   "metadata": {
    "colab": {
     "autoexec": {
      "startup": false,
      "wait_interval": 0
     },
     "base_uri": "https://localhost:8080/",
     "height": 581
    },
    "colab_type": "code",
    "executionInfo": {
     "elapsed": 78669,
     "status": "ok",
     "timestamp": 1532963295726,
     "user": {
      "displayName": "orelie shahar",
      "photoUrl": "https://lh3.googleusercontent.com/a/default-user=s128",
      "userId": "104271544169794618728"
     },
     "user_tz": -180
    },
    "id": "Gofevuo83yD4",
    "outputId": "8dff68be-eb69-460c-97f8-314b1caa67c3"
   },
   "outputs": [
    {
     "name": "stderr",
     "output_type": "stream",
     "text": [
      "/usr/local/lib/python3.6/dist-packages/ipykernel_launcher.py:22: UserWarning: Update your `Model` call to the Keras 2 API: `Model(inputs=[<tf.Tenso..., outputs=Tensor(\"dr...)`\n",
      "/usr/local/lib/python3.6/dist-packages/ipykernel_launcher.py:12: UserWarning: The `nb_epoch` argument in `fit` has been renamed `epochs`.\n",
      "  if sys.path[0] == '':\n"
     ]
    },
    {
     "name": "stdout",
     "output_type": "stream",
     "text": [
      "Train on 80000 samples, validate on 20000 samples\n",
      "Epoch 1/100\n",
      "80000/80000 [==============================] - 8s 94us/step - loss: 1.1003 - mean_absolute_error: 1.1003 - val_loss: 0.8404 - val_mean_absolute_error: 0.8404\n",
      "Epoch 2/100\n",
      "80000/80000 [==============================] - 6s 71us/step - loss: 1.0208 - mean_absolute_error: 1.0208 - val_loss: 0.8223 - val_mean_absolute_error: 0.8223\n",
      "Epoch 3/100\n",
      "75072/80000 [===========================>..] - ETA: 0s - loss: 1.0171 - mean_absolute_error: 1.017180000/80000 [==============================] - 6s 71us/step - loss: 1.0167 - mean_absolute_error: 1.0167 - val_loss: 0.8137 - val_mean_absolute_error: 0.8137\n",
      "Epoch 4/100\n",
      "80000/80000 [==============================] - 6s 72us/step - loss: 1.0101 - mean_absolute_error: 1.0101 - val_loss: 0.8464 - val_mean_absolute_error: 0.8464\n",
      "Epoch 5/100\n",
      "80000/80000 [==============================] - 6s 71us/step - loss: 1.0023 - mean_absolute_error: 1.0023 - val_loss: 0.8464 - val_mean_absolute_error: 0.8464\n",
      "Epoch 6/100\n",
      "32992/80000 [===========>..................] - ETA: 3s - loss: 0.9693 - mean_absolute_error: 0.969380000/80000 [==============================] - 6s 72us/step - loss: 0.9838 - mean_absolute_error: 0.9838 - val_loss: 0.7908 - val_mean_absolute_error: 0.7908\n",
      "Epoch 7/100\n",
      "80000/80000 [==============================] - 6s 72us/step - loss: 0.9838 - mean_absolute_error: 0.9838 - val_loss: 0.7939 - val_mean_absolute_error: 0.7939\n",
      "Epoch 8/100\n",
      "80000/80000 [==============================] - 6s 71us/step - loss: 0.9734 - mean_absolute_error: 0.9734 - val_loss: 0.7470 - val_mean_absolute_error: 0.7470\n",
      "Epoch 9/100\n",
      "26112/80000 [========>.....................] - ETA: 3s - loss: 0.9672 - mean_absolute_error: 0.967280000/80000 [==============================] - 6s 71us/step - loss: 0.9776 - mean_absolute_error: 0.9776 - val_loss: 0.7897 - val_mean_absolute_error: 0.7897\n",
      "Epoch 10/100\n",
      "80000/80000 [==============================] - 6s 71us/step - loss: 0.9656 - mean_absolute_error: 0.9656 - val_loss: 0.8196 - val_mean_absolute_error: 0.8196\n",
      "Epoch 11/100\n",
      "80000/80000 [==============================] - 6s 71us/step - loss: 0.9594 - mean_absolute_error: 0.9594 - val_loss: 0.8113 - val_mean_absolute_error: 0.8113\n",
      "Epoch 12/100\n",
      "25344/80000 [========>.....................] - ETA: 3s - loss: 0.9495 - mean_absolute_error: 0.949580000/80000 [==============================] - 6s 72us/step - loss: 0.9567 - mean_absolute_error: 0.9567 - val_loss: 0.7740 - val_mean_absolute_error: 0.7740\n",
      "Epoch 13/100\n",
      "80000/80000 [==============================] - 6s 71us/step - loss: 0.9497 - mean_absolute_error: 0.9497 - val_loss: 0.7967 - val_mean_absolute_error: 0.7967\n",
      "Total time :  77.67275476455688\n",
      "MAE :  0.7470242082118989\n"
     ]
    }
   ],
   "source": [
    "K_LATENT = 20\n",
    "hidden_dim = 100\n",
    "do = 0.1\n",
    "oprimaizer_name = 'nadam'\n",
    "loss_function = 'mae'\n",
    "activ_func ='relu'\n",
    "\n",
    "NCF_model = get_ncf_model(max_userid,max_movieid,K_LATENT,hidden_dim,do,activ_func)\n",
    "NCF_model.compile(loss=loss_function,optimizer=oprimaizer_name,metrics=['mae'])\n",
    "ini = time.time()\n",
    "callbacks_ncf = [EarlyStopping('val_loss', patience=5), ModelCheckpoint(MODEL_WEIGHTS_FILE_CORE+'_ncf_'+str(do)+'_'+str(K_LATENT)+'_'+str(hidden_dim)+'.h5', save_best_only=True)]\n",
    "history = NCF_model.fit([Users, Movies], Ratings, nb_epoch=100,validation_data=([Users1,Movies1], Ratings1), validation_split=.1, verbose=1, callbacks=callbacks_ncf, batch_size = 32)\n",
    "\n",
    "end = time.time()\n",
    "print (\"Total time : \",end-ini)\n",
    "print(\"MAE : \" , min(history.history['val_loss']))                                    "
   ]
  },
  {
   "cell_type": "code",
   "execution_count": 75,
   "metadata": {
    "colab": {
     "autoexec": {
      "startup": false,
      "wait_interval": 0
     },
     "base_uri": "https://localhost:8080/",
     "height": 68
    },
    "colab_type": "code",
    "executionInfo": {
     "elapsed": 1768,
     "status": "ok",
     "timestamp": 1532963297711,
     "user": {
      "displayName": "orelie shahar",
      "photoUrl": "https://lh3.googleusercontent.com/a/default-user=s128",
      "userId": "104271544169794618728"
     },
     "user_tz": -180
    },
    "id": "pzfByt7UibNW",
    "outputId": "0d380b1d-cfa6-40a4-c2c5-8c9f9cb9c9aa"
   },
   "outputs": [
    {
     "name": "stdout",
     "output_type": "stream",
     "text": [
      "20000/20000 [==============================] - 1s 33us/step\n",
      "Test MSE: 0.7967103713989258\n",
      "Test MAE: 0.7967103713989258\n"
     ]
    }
   ],
   "source": [
    "score =NCF_model.evaluate([Users1,Movies1], Ratings1,verbose=1)\n",
    "print('Test MSE:', score[0])\n",
    "print('Test MAE:', score[1])"
   ]
  },
  {
   "cell_type": "markdown",
   "metadata": {
    "colab_type": "text",
    "id": "veU7wgst3yD5"
   },
   "source": [
    "### Dropout = 0.5 \n"
   ]
  },
  {
   "cell_type": "code",
   "execution_count": 76,
   "metadata": {
    "colab": {
     "autoexec": {
      "startup": false,
      "wait_interval": 0
     },
     "base_uri": "https://localhost:8080/",
     "height": 343
    },
    "colab_type": "code",
    "executionInfo": {
     "elapsed": 38407,
     "status": "ok",
     "timestamp": 1532963336182,
     "user": {
      "displayName": "orelie shahar",
      "photoUrl": "https://lh3.googleusercontent.com/a/default-user=s128",
      "userId": "104271544169794618728"
     },
     "user_tz": -180
    },
    "id": "azo21uTi3yD6",
    "outputId": "49e60c43-5d98-4902-bec7-ad9227778a74"
   },
   "outputs": [
    {
     "name": "stderr",
     "output_type": "stream",
     "text": [
      "/usr/local/lib/python3.6/dist-packages/ipykernel_launcher.py:22: UserWarning: Update your `Model` call to the Keras 2 API: `Model(inputs=[<tf.Tenso..., outputs=Tensor(\"dr...)`\n",
      "/usr/local/lib/python3.6/dist-packages/ipykernel_launcher.py:12: UserWarning: The `nb_epoch` argument in `fit` has been renamed `epochs`.\n",
      "  if sys.path[0] == '':\n"
     ]
    },
    {
     "name": "stdout",
     "output_type": "stream",
     "text": [
      "Train on 80000 samples, validate on 20000 samples\n",
      "Epoch 1/100\n",
      "80000/80000 [==============================] - 7s 89us/step - loss: 2.2248 - mean_absolute_error: 2.2248 - val_loss: 1.7713 - val_mean_absolute_error: 1.7713\n",
      "Epoch 2/100\n",
      "80000/80000 [==============================] - 6s 72us/step - loss: 2.1638 - mean_absolute_error: 2.1638 - val_loss: 1.8757 - val_mean_absolute_error: 1.8757\n",
      "Epoch 3/100\n",
      "74880/80000 [===========================>..] - ETA: 0s - loss: 2.1449 - mean_absolute_error: 2.144980000/80000 [==============================] - 6s 72us/step - loss: 2.1446 - mean_absolute_error: 2.1446 - val_loss: 1.7782 - val_mean_absolute_error: 1.7782\n",
      "Epoch 4/100\n",
      "80000/80000 [==============================] - 6s 72us/step - loss: 2.1380 - mean_absolute_error: 2.1380 - val_loss: 1.7863 - val_mean_absolute_error: 1.7863\n",
      "Epoch 5/100\n",
      "80000/80000 [==============================] - 6s 72us/step - loss: 2.1348 - mean_absolute_error: 2.1348 - val_loss: 1.8550 - val_mean_absolute_error: 1.8550\n",
      "Epoch 6/100\n",
      "32608/80000 [===========>..................] - ETA: 3s - loss: 2.1341 - mean_absolute_error: 2.134180000/80000 [==============================] - 6s 72us/step - loss: 2.1290 - mean_absolute_error: 2.1290 - val_loss: 1.8372 - val_mean_absolute_error: 1.8372\n",
      "Total time :  37.401986598968506\n",
      "MAE :  1.7712967025756836\n"
     ]
    }
   ],
   "source": [
    "K_LATENT = 20\n",
    "hidden_dim = 100\n",
    "do = 0.5\n",
    "oprimaizer_name = 'nadam'\n",
    "loss_function = 'mae'\n",
    "activ_func ='relu'\n",
    "\n",
    "NCF_model = get_ncf_model(max_userid,max_movieid,K_LATENT,hidden_dim,do,activ_func)\n",
    "NCF_model.compile(loss=loss_function,optimizer=oprimaizer_name,metrics=['mae'])\n",
    "ini = time.time()\n",
    "callbacks_ncf = [EarlyStopping('val_loss', patience=5), ModelCheckpoint(MODEL_WEIGHTS_FILE_CORE+'_ncf_'+str(do)+'_'+str(K_LATENT)+'_'+str(hidden_dim)+'.h5', save_best_only=True)]\n",
    "history = NCF_model.fit([Users, Movies], Ratings, nb_epoch=100,validation_data=([Users1,Movies1], Ratings1), validation_split=.1, verbose=1, callbacks=callbacks_ncf, batch_size = 32)\n",
    "\n",
    "end = time.time()\n",
    "print (\"Total time : \",end-ini)\n",
    "print(\"MAE : \" , min(history.history['val_loss']))                                    "
   ]
  },
  {
   "cell_type": "code",
   "execution_count": 77,
   "metadata": {
    "colab": {
     "autoexec": {
      "startup": false,
      "wait_interval": 0
     },
     "base_uri": "https://localhost:8080/",
     "height": 68
    },
    "colab_type": "code",
    "executionInfo": {
     "elapsed": 1313,
     "status": "ok",
     "timestamp": 1532963337709,
     "user": {
      "displayName": "orelie shahar",
      "photoUrl": "https://lh3.googleusercontent.com/a/default-user=s128",
      "userId": "104271544169794618728"
     },
     "user_tz": -180
    },
    "id": "NT35temnicn7",
    "outputId": "c9b34312-eef1-403e-952a-90717ce853d4"
   },
   "outputs": [
    {
     "name": "stdout",
     "output_type": "stream",
     "text": [
      "20000/20000 [==============================] - 1s 32us/step\n",
      "Test MSE: 1.8371835897445679\n",
      "Test MAE: 1.8371835897445679\n"
     ]
    }
   ],
   "source": [
    "score =NCF_model.evaluate([Users1,Movies1], Ratings1,verbose=1)\n",
    "print('Test MSE:', score[0])\n",
    "print('Test MAE:', score[1])"
   ]
  },
  {
   "cell_type": "code",
   "execution_count": 108,
   "metadata": {
    "colab": {
     "autoexec": {
      "startup": false,
      "wait_interval": 0
     },
     "base_uri": "https://localhost:8080/",
     "height": 292
    },
    "colab_type": "code",
    "executionInfo": {
     "elapsed": 33420,
     "status": "ok",
     "timestamp": 1532967058343,
     "user": {
      "displayName": "orelie shahar",
      "photoUrl": "https://lh3.googleusercontent.com/a/default-user=s128",
      "userId": "104271544169794618728"
     },
     "user_tz": -180
    },
    "id": "t0j5fhkA83Uq",
    "outputId": "49165219-f742-49bb-ef81-5e825c983849"
   },
   "outputs": [
    {
     "name": "stdout",
     "output_type": "stream",
     "text": [
      "Train on 64000 samples, validate on 16000 samples\n",
      "Epoch 1/100\n",
      "64000/64000 [==============================] - 7s 103us/step - loss: 1.2530 - mean_absolute_error: 1.2530 - val_loss: 0.9445 - val_mean_absolute_error: 0.9445\n",
      "Epoch 2/100\n",
      "64000/64000 [==============================] - 5s 75us/step - loss: 1.1771 - mean_absolute_error: 1.1771 - val_loss: 0.9522 - val_mean_absolute_error: 0.9522\n",
      "Epoch 3/100\n",
      "64000/64000 [==============================] - 5s 74us/step - loss: 1.1762 - mean_absolute_error: 1.1762 - val_loss: 0.9584 - val_mean_absolute_error: 0.9584\n",
      "Epoch 4/100\n",
      "16384/64000 [======>.......................] - ETA: 3s - loss: 1.1790 - mean_absolute_error: 1.179064000/64000 [==============================] - 5s 73us/step - loss: 1.1660 - mean_absolute_error: 1.1660 - val_loss: 0.9522 - val_mean_absolute_error: 0.9522\n",
      "Epoch 5/100\n",
      "64000/64000 [==============================] - 5s 73us/step - loss: 1.1644 - mean_absolute_error: 1.1644 - val_loss: 0.9583 - val_mean_absolute_error: 0.9583\n",
      "Epoch 6/100\n",
      "64000/64000 [==============================] - 5s 73us/step - loss: 1.1737 - mean_absolute_error: 1.1737 - val_loss: 0.9513 - val_mean_absolute_error: 0.9513\n",
      "Total time :  32.61143183708191\n",
      "MAE :  0.9445111919641495\n"
     ]
    }
   ],
   "source": [
    "K_LATENT = 20\n",
    "hidden_dim = 100\n",
    "do = 0.1\n",
    "oprimaizer_name = 'adam'\n",
    "loss_function = 'mae'\n",
    "activ_func ='linear'\n",
    "\n",
    "NCF_model = get_ncf_model(max_userid,max_movieid,K_LATENT,hidden_dim,do,activ_func)\n",
    "NCF_model.compile(loss=loss_function,optimizer=oprimaizer_name,metrics=['mae'])\n",
    "ini = time.time()\n",
    "callbacks_ncf = [EarlyStopping('val_loss', patience=5), ModelCheckpoint(MODEL_WEIGHTS_FILE_CORE+'_ncf_'+str(do)+'_'+str(K_LATENT)+'_'+str(hidden_dim)+'.h5', save_best_only=True)]\n",
    "history = NCF_model.fit([Users, Movies], Ratings, nb_epoch=100,validation_data=([Users1,Movies1], Ratings1), validation_split=.1, verbose=1, callbacks=callbacks_ncf, batch_size = 32)\n",
    "\n",
    "end = time.time()\n",
    "print (\"Total time : \",end-ini)\n",
    "print(\"MAE : \" , min(history.history['val_loss']))                                    "
   ]
  },
  {
   "cell_type": "code",
   "execution_count": 109,
   "metadata": {
    "colab": {
     "autoexec": {
      "startup": false,
      "wait_interval": 0
     },
     "base_uri": "https://localhost:8080/",
     "height": 51
    },
    "colab_type": "code",
    "executionInfo": {
     "elapsed": 1672,
     "status": "ok",
     "timestamp": 1532967060072,
     "user": {
      "displayName": "orelie shahar",
      "photoUrl": "https://lh3.googleusercontent.com/a/default-user=s128",
      "userId": "104271544169794618728"
     },
     "user_tz": -180
    },
    "id": "wxRP0tx6836v",
    "outputId": "68ac9887-de9f-4947-dcaa-5d2dcac133c1"
   },
   "outputs": [
    {
     "name": "stdout",
     "output_type": "stream",
     "text": [
      "16000/16000 [==============================] - 1s 36us/step\n",
      "Test MAE: 0.9512899843454361\n"
     ]
    }
   ],
   "source": [
    "score =NCF_model.evaluate([Users1,Movies1], Ratings1,verbose=1)\n",
    "print('Test MAE:', score[1])"
   ]
  },
  {
   "cell_type": "markdown",
   "metadata": {
    "colab_type": "text",
    "id": "dMKDMUL93yD9"
   },
   "source": [
    "### End of part 2  - all result sum up are in table in the pdf."
   ]
  },
  {
   "cell_type": "markdown",
   "metadata": {
    "colab_type": "text",
    "id": "zT_jQ2IB3yD9"
   },
   "source": [
    "## Part 3 - Age and Gender as Extra feature\n"
   ]
  },
  {
   "cell_type": "code",
   "execution_count": 78,
   "metadata": {
    "colab": {
     "autoexec": {
      "startup": false,
      "wait_interval": 0
     },
     "base_uri": "https://localhost:8080/",
     "height": 204
    },
    "colab_type": "code",
    "executionInfo": {
     "elapsed": 1177,
     "status": "ok",
     "timestamp": 1532963338968,
     "user": {
      "displayName": "orelie shahar",
      "photoUrl": "https://lh3.googleusercontent.com/a/default-user=s128",
      "userId": "104271544169794618728"
     },
     "user_tz": -180
    },
    "id": "HubimtwB3yD9",
    "outputId": "5a2784d7-996f-4792-f3b6-16957c1d5443"
   },
   "outputs": [
    {
     "data": {
      "text/html": [
       "<div>\n",
       "<style scoped>\n",
       "    .dataframe tbody tr th:only-of-type {\n",
       "        vertical-align: middle;\n",
       "    }\n",
       "\n",
       "    .dataframe tbody tr th {\n",
       "        vertical-align: top;\n",
       "    }\n",
       "\n",
       "    .dataframe thead th {\n",
       "        text-align: right;\n",
       "    }\n",
       "</style>\n",
       "<table border=\"1\" class=\"dataframe\">\n",
       "  <thead>\n",
       "    <tr style=\"text-align: right;\">\n",
       "      <th></th>\n",
       "      <th>item_id</th>\n",
       "      <th>user_id</th>\n",
       "      <th>rating</th>\n",
       "      <th>age</th>\n",
       "      <th>gender</th>\n",
       "    </tr>\n",
       "  </thead>\n",
       "  <tbody>\n",
       "    <tr>\n",
       "      <th>0</th>\n",
       "      <td>1</td>\n",
       "      <td>1</td>\n",
       "      <td>5</td>\n",
       "      <td>24</td>\n",
       "      <td>M</td>\n",
       "    </tr>\n",
       "    <tr>\n",
       "      <th>1</th>\n",
       "      <td>2</td>\n",
       "      <td>1</td>\n",
       "      <td>3</td>\n",
       "      <td>24</td>\n",
       "      <td>M</td>\n",
       "    </tr>\n",
       "    <tr>\n",
       "      <th>2</th>\n",
       "      <td>3</td>\n",
       "      <td>1</td>\n",
       "      <td>4</td>\n",
       "      <td>24</td>\n",
       "      <td>M</td>\n",
       "    </tr>\n",
       "    <tr>\n",
       "      <th>3</th>\n",
       "      <td>4</td>\n",
       "      <td>1</td>\n",
       "      <td>3</td>\n",
       "      <td>24</td>\n",
       "      <td>M</td>\n",
       "    </tr>\n",
       "    <tr>\n",
       "      <th>4</th>\n",
       "      <td>5</td>\n",
       "      <td>1</td>\n",
       "      <td>3</td>\n",
       "      <td>24</td>\n",
       "      <td>M</td>\n",
       "    </tr>\n",
       "  </tbody>\n",
       "</table>\n",
       "</div>"
      ],
      "text/plain": [
       "   item_id  user_id  rating  age gender\n",
       "0        1        1       5   24      M\n",
       "1        2        1       3   24      M\n",
       "2        3        1       4   24      M\n",
       "3        4        1       3   24      M\n",
       "4        5        1       3   24      M"
      ]
     },
     "execution_count": 78,
     "metadata": {
      "tags": []
     },
     "output_type": "execute_result"
    }
   ],
   "source": [
    "import matplotlib.pyplot as plt\n",
    "from sklearn.metrics import pairwise_distances\n",
    "from scipy.spatial.distance import cosine, correlation\n",
    "from sklearn.model_selection import train_test_split\n",
    "import pandas as pd\n",
    "import numpy as np\n",
    "import matplotlib.pyplot as plt\n",
    "import warnings\n",
    "warnings.filterwarnings('ignore')\n",
    "\n",
    "\n",
    "\n",
    "# reading data and splitting in 80-20\n",
    "\n",
    "\n",
    "%matplotlib inline\n",
    "u_cols = ['user_id', 'age', 'gender', 'occupation', 'zip_code']\n",
    "users = pd.read_csv('u.user', sep='|', names=u_cols,\n",
    "                    encoding='latin-1', parse_dates=True) \n",
    "\n",
    "r_cols = ['user_id', 'item_id', 'rating', 'timestamp']\n",
    "ratings = pd.read_csv('u1.base', sep='\\t', names=r_cols,\n",
    "                      encoding='latin-1')\n",
    "\n",
    "m_cols = ['item_id', 'title', 'release_date', 'video_release_date', 'imdb_url']\n",
    "movies = pd.read_csv('u.item', sep='|', names=m_cols, usecols=range(5),\n",
    "                     encoding='latin-1')\n",
    "\n",
    "\n",
    "\n",
    "\n",
    "\n",
    "# df.drop(df.columns[[3,4,7]], axis=1, inplace=True)\n",
    "ratings.drop(\"timestamp\", inplace = True, axis = 1 ) \n",
    "movies.drop(movies.columns[[1,2,3,4]], inplace = True, axis = 1 )\n",
    "users.drop(users.columns[[3,4]], inplace = True, axis = 1 )\n",
    "\n",
    "movie_ratings = pd.merge(movies, ratings)\n",
    "movie_ratings_user = pd.merge(movie_ratings, users)\n",
    "\n",
    "movie_ratings_user.head()\n",
    "\n",
    "\n",
    "\n"
   ]
  },
  {
   "cell_type": "code",
   "execution_count": 79,
   "metadata": {
    "colab": {
     "autoexec": {
      "startup": false,
      "wait_interval": 0
     },
     "base_uri": "https://localhost:8080/",
     "height": 221
    },
    "colab_type": "code",
    "executionInfo": {
     "elapsed": 735,
     "status": "ok",
     "timestamp": 1532963340032,
     "user": {
      "displayName": "orelie shahar",
      "photoUrl": "https://lh3.googleusercontent.com/a/default-user=s128",
      "userId": "104271544169794618728"
     },
     "user_tz": -180
    },
    "id": "xZAQdla5szlS",
    "outputId": "9471ce5e-7f23-470f-fbf5-f529356717d0"
   },
   "outputs": [
    {
     "name": "stdout",
     "output_type": "stream",
     "text": [
      "80000 ratings loaded\n"
     ]
    },
    {
     "data": {
      "text/html": [
       "<div>\n",
       "<style scoped>\n",
       "    .dataframe tbody tr th:only-of-type {\n",
       "        vertical-align: middle;\n",
       "    }\n",
       "\n",
       "    .dataframe tbody tr th {\n",
       "        vertical-align: top;\n",
       "    }\n",
       "\n",
       "    .dataframe thead th {\n",
       "        text-align: right;\n",
       "    }\n",
       "</style>\n",
       "<table border=\"1\" class=\"dataframe\">\n",
       "  <thead>\n",
       "    <tr style=\"text-align: right;\">\n",
       "      <th></th>\n",
       "      <th>item_id</th>\n",
       "      <th>user_id</th>\n",
       "      <th>rating</th>\n",
       "      <th>age</th>\n",
       "      <th>gender</th>\n",
       "      <th>user_emb_id</th>\n",
       "      <th>movie_emb_id</th>\n",
       "    </tr>\n",
       "  </thead>\n",
       "  <tbody>\n",
       "    <tr>\n",
       "      <th>0</th>\n",
       "      <td>1</td>\n",
       "      <td>1</td>\n",
       "      <td>5</td>\n",
       "      <td>24</td>\n",
       "      <td>M</td>\n",
       "      <td>0</td>\n",
       "      <td>0</td>\n",
       "    </tr>\n",
       "    <tr>\n",
       "      <th>1</th>\n",
       "      <td>2</td>\n",
       "      <td>1</td>\n",
       "      <td>3</td>\n",
       "      <td>24</td>\n",
       "      <td>M</td>\n",
       "      <td>0</td>\n",
       "      <td>1</td>\n",
       "    </tr>\n",
       "    <tr>\n",
       "      <th>2</th>\n",
       "      <td>3</td>\n",
       "      <td>1</td>\n",
       "      <td>4</td>\n",
       "      <td>24</td>\n",
       "      <td>M</td>\n",
       "      <td>0</td>\n",
       "      <td>2</td>\n",
       "    </tr>\n",
       "    <tr>\n",
       "      <th>3</th>\n",
       "      <td>4</td>\n",
       "      <td>1</td>\n",
       "      <td>3</td>\n",
       "      <td>24</td>\n",
       "      <td>M</td>\n",
       "      <td>0</td>\n",
       "      <td>3</td>\n",
       "    </tr>\n",
       "    <tr>\n",
       "      <th>4</th>\n",
       "      <td>5</td>\n",
       "      <td>1</td>\n",
       "      <td>3</td>\n",
       "      <td>24</td>\n",
       "      <td>M</td>\n",
       "      <td>0</td>\n",
       "      <td>4</td>\n",
       "    </tr>\n",
       "  </tbody>\n",
       "</table>\n",
       "</div>"
      ],
      "text/plain": [
       "   item_id  user_id  rating  age gender  user_emb_id  movie_emb_id\n",
       "0        1        1       5   24      M            0             0\n",
       "1        2        1       3   24      M            0             1\n",
       "2        3        1       4   24      M            0             2\n",
       "3        4        1       3   24      M            0             3\n",
       "4        5        1       3   24      M            0             4"
      ]
     },
     "execution_count": 79,
     "metadata": {
      "tags": []
     },
     "output_type": "execute_result"
    }
   ],
   "source": [
    "max_userid = movie_ratings_user['user_id'].drop_duplicates().max()\n",
    "max_movieid = movie_ratings_user['item_id'].drop_duplicates().max()\n",
    "movie_ratings_user['user_emb_id'] = movie_ratings_user['user_id'] - 1\n",
    "movie_ratings_user['movie_emb_id'] = movie_ratings_user['item_id'] - 1\n",
    "print(str(len(movie_ratings_user))+' ratings loaded')\n",
    "\n",
    "movie_ratings_user.head()\n"
   ]
  },
  {
   "cell_type": "code",
   "execution_count": 80,
   "metadata": {
    "colab": {
     "autoexec": {
      "startup": false,
      "wait_interval": 0
     },
     "base_uri": "https://localhost:8080/",
     "height": 34
    },
    "colab_type": "code",
    "executionInfo": {
     "elapsed": 1730,
     "status": "ok",
     "timestamp": 1532963342501,
     "user": {
      "displayName": "orelie shahar",
      "photoUrl": "https://lh3.googleusercontent.com/a/default-user=s128",
      "userId": "104271544169794618728"
     },
     "user_tz": -180
    },
    "id": "Y3rrBP8Qsz35",
    "outputId": "85253ae9-5e22-4fca-d6f1-8f4bc6042194"
   },
   "outputs": [
    {
     "name": "stdout",
     "output_type": "stream",
     "text": [
      "Saved to u_genr.data\n"
     ]
    }
   ],
   "source": [
    "RATINGS_GEN_CSV_FILE = 'u_genr.data'\n",
    "movie_ratings_user.to_csv(RATINGS_GEN_CSV_FILE, \n",
    "               sep='\\t', \n",
    "               header=True, \n",
    "               encoding='latin-1', \n",
    "               columns=['user_id', 'item_id', 'rating', 'timestamp', 'gender','user_emb_id', 'movie_emb_id'])\n",
    "print('Saved to '+RATINGS_GEN_CSV_FILE)"
   ]
  },
  {
   "cell_type": "code",
   "execution_count": 0,
   "metadata": {
    "colab": {
     "autoexec": {
      "startup": false,
      "wait_interval": 0
     }
    },
    "colab_type": "code",
    "id": "zZCfOFd1tHUP"
   },
   "outputs": [],
   "source": [
    "import pandas as pd\n",
    "import numpy as np\n",
    "from sklearn.model_selection import train_test_split\n",
    "\n",
    "UsersT = movie_ratings_user['user_emb_id'].values\n",
    "MoviesT = movie_ratings_user['movie_emb_id'].values\n",
    "RatingsT = movie_ratings_user['rating'].values\n",
    "GenderT = movie_ratings_user['gender'].astype('category').cat.codes.values\n",
    "AgeT = movie_ratings_user['age'].astype('category').cat.codes.values\n",
    "\n",
    "\n",
    "\n",
    "Users, Users1 = train_test_split(UsersT, test_size=0.2)\n",
    "Movies, Movies1 = train_test_split(MoviesT, test_size=0.2)\n",
    "Ratings , Ratings1 = train_test_split(RatingsT, test_size=0.2)\n",
    "Gender, Gender1 = train_test_split(GenderT, test_size=0.2)\n",
    "Age , Age1 = train_test_split(AgeT, test_size=0.2)"
   ]
  },
  {
   "cell_type": "code",
   "execution_count": 0,
   "metadata": {
    "colab": {
     "autoexec": {
      "startup": false,
      "wait_interval": 0
     }
    },
    "colab_type": "code",
    "id": "rU7KPkuRtHMS"
   },
   "outputs": [],
   "source": [
    "#CNF and gender as feature\n",
    "def get_ncf_model_gender(num_users, num_items, latent_dim,hidden_dim,do):\n",
    "    # Input variables\n",
    "    user_input = Input(shape=(1,), dtype='int32', name = 'user_input')\n",
    "    item_input = Input(shape=(1,), dtype='int32', name = 'item_input')\n",
    "    gender_input = Input(shape=(1,), dtype='float32', name = 'gender_input')\n",
    "\n",
    "    MF_Embedding_User = Embedding(input_dim = num_users, output_dim = latent_dim, name = 'user_embedding', input_length=1)\n",
    "    MF_Embedding_Item = Embedding(input_dim = num_items, output_dim = latent_dim, name = 'item_embedding', input_length=1)   \n",
    "    \n",
    "    # Crucial to flatten an embedding vector!\n",
    "    user_latent = Flatten()(MF_Embedding_User(user_input))\n",
    "    item_latent = Flatten()(MF_Embedding_Item(item_input))\n",
    "    \n",
    "    # Concat user and item embeddings with gender\n",
    "    conc = Concatenate()([user_latent, item_latent,gender_input])\n",
    "    drop = Dropout(do)(conc)\n",
    "    hid1 = Dense(hidden_dim, activation='relu')(conc)\n",
    "    drop2  = Dropout(do)(hid1)\n",
    "    hid2 = Dense(10,activation='relu')(drop2)\n",
    "    drop3  = Dropout(do)(hid2)\n",
    "    prediction = Dense(1, activation='relu', kernel_initializer='lecun_uniform', name = 'prediction')(drop2)\n",
    "    \n",
    "    \n",
    "    model = Model(input=[user_input, item_input,gender_input], output=prediction)\n",
    "\n",
    "    return model\n",
    "  \n",
    "  \n",
    "  \n",
    "#CNF and age as feature\n",
    "def get_ncf_model_age(num_users, num_items, latent_dim,hidden_dim,do):\n",
    "    # Input variables\n",
    "    user_input = Input(shape=(1,), dtype='int32', name = 'user_input')\n",
    "    item_input = Input(shape=(1,), dtype='int32', name = 'item_input')\n",
    "    age_input = Input(shape=(1,), dtype='float32', name = 'age_input')\n",
    "\n",
    "    MF_Embedding_User = Embedding(input_dim = num_users, output_dim = latent_dim, name = 'user_embedding', input_length=1)\n",
    "    MF_Embedding_Item = Embedding(input_dim = num_items, output_dim = latent_dim, name = 'item_embedding', input_length=1)   \n",
    "    \n",
    "    # Crucial to flatten an embedding vector!\n",
    "    user_latent = Flatten()(MF_Embedding_User(user_input))\n",
    "    item_latent = Flatten()(MF_Embedding_Item(item_input))\n",
    "    \n",
    "    # Concat user and item embeddings with age\n",
    "    conc = Concatenate()([user_latent, item_latent,age_input])\n",
    "    drop = Dropout(do)(conc)\n",
    "    hid1 = Dense(hidden_dim, activation='relu')(conc)\n",
    "    drop2  = Dropout(do)(hid1)\n",
    "    #hid2 = Dense(10,activation='relu')(drop2)\n",
    "    #drop3  = Dropout(do)(hid2)\n",
    "    prediction = Dense(1, activation='relu', kernel_initializer='lecun_uniform', name = 'prediction')(drop2)\n",
    "    \n",
    "    \n",
    "    model = Model(input=[user_input, item_input,age_input], output=prediction)\n",
    "\n",
    "    return model"
   ]
  },
  {
   "cell_type": "markdown",
   "metadata": {
    "colab_type": "text",
    "id": "hZ4wu8A-fYiU"
   },
   "source": [
    "### NCF + genger as feature"
   ]
  },
  {
   "cell_type": "code",
   "execution_count": 83,
   "metadata": {
    "colab": {
     "autoexec": {
      "startup": false,
      "wait_interval": 0
     },
     "base_uri": "https://localhost:8080/",
     "height": 836
    },
    "colab_type": "code",
    "executionInfo": {
     "elapsed": 107871,
     "status": "ok",
     "timestamp": 1532963452196,
     "user": {
      "displayName": "orelie shahar",
      "photoUrl": "https://lh3.googleusercontent.com/a/default-user=s128",
      "userId": "104271544169794618728"
     },
     "user_tz": -180
    },
    "id": "_qqoP3tWtHKB",
    "outputId": "8b06fbbd-438e-437d-d682-d15ba6fc68da"
   },
   "outputs": [
    {
     "name": "stdout",
     "output_type": "stream",
     "text": [
      "Train on 64000 samples, validate on 16000 samples\n",
      "Epoch 1/100\n",
      "64000/64000 [==============================] - 6s 94us/step - loss: 0.9661 - mean_absolute_error: 0.9661 - val_loss: 0.9268 - val_mean_absolute_error: 0.9268\n",
      "Epoch 2/100\n",
      "64000/64000 [==============================] - 5s 74us/step - loss: 0.9185 - mean_absolute_error: 0.9185 - val_loss: 0.9243 - val_mean_absolute_error: 0.9243\n",
      "Epoch 3/100\n",
      "64000/64000 [==============================] - 5s 74us/step - loss: 0.9095 - mean_absolute_error: 0.9095 - val_loss: 0.9376 - val_mean_absolute_error: 0.9376\n",
      "Epoch 4/100\n",
      "16768/64000 [======>.......................] - ETA: 3s - loss: 0.8904 - mean_absolute_error: 0.890464000/64000 [==============================] - 5s 74us/step - loss: 0.9020 - mean_absolute_error: 0.9020 - val_loss: 0.9335 - val_mean_absolute_error: 0.9335\n",
      "Epoch 5/100\n",
      "64000/64000 [==============================] - 5s 74us/step - loss: 0.8930 - mean_absolute_error: 0.8930 - val_loss: 0.9369 - val_mean_absolute_error: 0.9369\n",
      "Epoch 6/100\n",
      "64000/64000 [==============================] - 5s 74us/step - loss: 0.8835 - mean_absolute_error: 0.8835 - val_loss: 0.9299 - val_mean_absolute_error: 0.9299\n",
      "Epoch 7/100\n",
      "40608/64000 [==================>...........] - ETA: 1s - loss: 0.8702 - mean_absolute_error: 0.870264000/64000 [==============================] - 5s 74us/step - loss: 0.8736 - mean_absolute_error: 0.8736 - val_loss: 0.9421 - val_mean_absolute_error: 0.9421\n",
      "Epoch 8/100\n",
      "64000/64000 [==============================] - 5s 74us/step - loss: 0.8626 - mean_absolute_error: 0.8626 - val_loss: 0.9457 - val_mean_absolute_error: 0.9457\n",
      "Epoch 9/100\n",
      "64000/64000 [==============================] - 5s 74us/step - loss: 0.8495 - mean_absolute_error: 0.8495 - val_loss: 0.9484 - val_mean_absolute_error: 0.9484\n",
      "Epoch 10/100\n",
      "44512/64000 [===================>..........] - ETA: 1s - loss: 0.8302 - mean_absolute_error: 0.830264000/64000 [==============================] - 5s 73us/step - loss: 0.8383 - mean_absolute_error: 0.8383 - val_loss: 0.9583 - val_mean_absolute_error: 0.9583\n",
      "Epoch 11/100\n",
      "64000/64000 [==============================] - 5s 74us/step - loss: 0.8290 - mean_absolute_error: 0.8290 - val_loss: 0.9670 - val_mean_absolute_error: 0.9670\n",
      "Epoch 12/100\n",
      "64000/64000 [==============================] - 5s 74us/step - loss: 0.8159 - mean_absolute_error: 0.8159 - val_loss: 0.9669 - val_mean_absolute_error: 0.9669\n",
      "Epoch 13/100\n",
      "45504/64000 [====================>.........] - ETA: 1s - loss: 0.8011 - mean_absolute_error: 0.801164000/64000 [==============================] - 5s 73us/step - loss: 0.8060 - mean_absolute_error: 0.8060 - val_loss: 0.9705 - val_mean_absolute_error: 0.9705\n",
      "Epoch 14/100\n",
      "64000/64000 [==============================] - 5s 73us/step - loss: 0.7959 - mean_absolute_error: 0.7959 - val_loss: 0.9775 - val_mean_absolute_error: 0.9775\n",
      "Epoch 15/100\n",
      "64000/64000 [==============================] - 5s 73us/step - loss: 0.7876 - mean_absolute_error: 0.7876 - val_loss: 0.9820 - val_mean_absolute_error: 0.9820\n",
      "Epoch 16/100\n",
      "45952/64000 [====================>.........] - ETA: 1s - loss: 0.7725 - mean_absolute_error: 0.772564000/64000 [==============================] - 5s 74us/step - loss: 0.7778 - mean_absolute_error: 0.7778 - val_loss: 0.9867 - val_mean_absolute_error: 0.9867\n",
      "Epoch 17/100\n",
      "64000/64000 [==============================] - 5s 73us/step - loss: 0.7698 - mean_absolute_error: 0.7698 - val_loss: 1.0006 - val_mean_absolute_error: 1.0006\n",
      "Epoch 18/100\n",
      "64000/64000 [==============================] - 5s 73us/step - loss: 0.7614 - mean_absolute_error: 0.7614 - val_loss: 0.9967 - val_mean_absolute_error: 0.9967\n",
      "Epoch 19/100\n",
      "46688/64000 [====================>.........] - ETA: 1s - loss: 0.7496 - mean_absolute_error: 0.749664000/64000 [==============================] - 5s 73us/step - loss: 0.7543 - mean_absolute_error: 0.7543 - val_loss: 1.0085 - val_mean_absolute_error: 1.0085\n",
      "Epoch 20/100\n",
      "64000/64000 [==============================] - 5s 73us/step - loss: 0.7451 - mean_absolute_error: 0.7451 - val_loss: 1.0096 - val_mean_absolute_error: 1.0096\n",
      "Epoch 21/100\n",
      "64000/64000 [==============================] - 5s 74us/step - loss: 0.7395 - mean_absolute_error: 0.7395 - val_loss: 1.0058 - val_mean_absolute_error: 1.0058\n",
      "Epoch 22/100\n",
      "45952/64000 [====================>.........] - ETA: 1s - loss: 0.7267 - mean_absolute_error: 0.726764000/64000 [==============================] - 5s 73us/step - loss: 0.7317 - mean_absolute_error: 0.7317 - val_loss: 1.0133 - val_mean_absolute_error: 1.0133\n",
      "Total time :  106.79967641830444\n",
      "MAE :  0.9243424146175384\n"
     ]
    }
   ],
   "source": [
    "K_LATENT = 20\n",
    "hidden_dim = 100\n",
    "do = 0.1\n",
    "oprimaizer_name = 'nadam'\n",
    "loss_function = 'mae'\n",
    "activ_func ='relu'\n",
    "\n",
    "\n",
    "Gender_NCFG_model = get_ncf_model_gender(max_userid,max_movieid,K_LATENT,hidden_dim,do)\n",
    "Gender_NCFG_model.compile(loss=loss_function,optimizer=oprimaizer_name,metrics=['mae'])\n",
    "ini = time.time()\n",
    "\n",
    "callbacks_ncfgender = [EarlyStopping('val_loss', patience=20), \n",
    "             ModelCheckpoint(MODEL_WEIGHTS_FILE_CORE+'_ncfg_'+str(do)+'_'+str(K_LATENT)+'.h5', save_best_only=True)]\n",
    "history = Gender_NCFG_model.fit([Users, Movies,Gender], Ratings, nb_epoch=100, validation_data=([Users1,Movies1,Gender1], Ratings1),validation_split=.2, verbose=1, callbacks=callbacks_ncfgender, batch_size = 32)\n",
    "\n",
    "\n",
    "end = time.time()\n",
    "print (\"Total time : \",end-ini)\n",
    "print(\"MAE : \" , min(history.history['val_loss']))                                    "
   ]
  },
  {
   "cell_type": "code",
   "execution_count": 84,
   "metadata": {
    "colab": {
     "autoexec": {
      "startup": false,
      "wait_interval": 0
     },
     "base_uri": "https://localhost:8080/",
     "height": 68
    },
    "colab_type": "code",
    "executionInfo": {
     "elapsed": 1363,
     "status": "ok",
     "timestamp": 1532963453612,
     "user": {
      "displayName": "orelie shahar",
      "photoUrl": "https://lh3.googleusercontent.com/a/default-user=s128",
      "userId": "104271544169794618728"
     },
     "user_tz": -180
    },
    "id": "QZPAq_UAif5m",
    "outputId": "de3f83eb-8c40-4fe8-efbd-59607a69ff6a"
   },
   "outputs": [
    {
     "name": "stdout",
     "output_type": "stream",
     "text": [
      "16000/16000 [==============================] - 1s 34us/step\n",
      "Test MSE: 1.013292018175125\n",
      "Test MAE: 1.013292018175125\n"
     ]
    }
   ],
   "source": [
    "score =Gender_NCFG_model.evaluate([Users1,Movies1,Gender1], Ratings1,verbose=1)\n",
    "print('Test MSE:', score[0])\n",
    "print('Test MAE:', score[1])"
   ]
  },
  {
   "cell_type": "markdown",
   "metadata": {
    "colab_type": "text",
    "id": "RfV-rTZNqjYQ"
   },
   "source": [
    "\n",
    "### drop-out = 0.*5*\n",
    "\n"
   ]
  },
  {
   "cell_type": "code",
   "execution_count": 85,
   "metadata": {
    "colab": {
     "autoexec": {
      "startup": false,
      "wait_interval": 0
     },
     "base_uri": "https://localhost:8080/",
     "height": 1074
    },
    "colab_type": "code",
    "executionInfo": {
     "elapsed": 139306,
     "status": "ok",
     "timestamp": 1532963593206,
     "user": {
      "displayName": "orelie shahar",
      "photoUrl": "https://lh3.googleusercontent.com/a/default-user=s128",
      "userId": "104271544169794618728"
     },
     "user_tz": -180
    },
    "id": "Ur-izL3RqmDe",
    "outputId": "f1a8958e-7c74-4cc4-8448-3fab0554ddf5"
   },
   "outputs": [
    {
     "name": "stdout",
     "output_type": "stream",
     "text": [
      "Train on 64000 samples, validate on 16000 samples\n",
      "Epoch 1/100\n",
      "64000/64000 [==============================] - 6s 95us/step - loss: 1.0307 - mean_absolute_error: 1.0307 - val_loss: 0.9410 - val_mean_absolute_error: 0.9410\n",
      "Epoch 2/100\n",
      "64000/64000 [==============================] - 5s 73us/step - loss: 0.9526 - mean_absolute_error: 0.9526 - val_loss: 0.9471 - val_mean_absolute_error: 0.9471\n",
      "Epoch 3/100\n",
      "64000/64000 [==============================] - 5s 73us/step - loss: 0.9352 - mean_absolute_error: 0.9352 - val_loss: 0.9362 - val_mean_absolute_error: 0.9362\n",
      "Epoch 4/100\n",
      "17888/64000 [=======>......................] - ETA: 3s - loss: 0.9150 - mean_absolute_error: 0.915064000/64000 [==============================] - 5s 73us/step - loss: 0.9209 - mean_absolute_error: 0.9209 - val_loss: 0.9278 - val_mean_absolute_error: 0.9278\n",
      "Epoch 5/100\n",
      "64000/64000 [==============================] - 5s 73us/step - loss: 0.9096 - mean_absolute_error: 0.9096 - val_loss: 0.9340 - val_mean_absolute_error: 0.9340\n",
      "Epoch 6/100\n",
      "64000/64000 [==============================] - 5s 73us/step - loss: 0.9021 - mean_absolute_error: 0.9021 - val_loss: 0.9283 - val_mean_absolute_error: 0.9283\n",
      "Epoch 7/100\n",
      "42976/64000 [===================>..........] - ETA: 1s - loss: 0.8931 - mean_absolute_error: 0.893164000/64000 [==============================] - 5s 73us/step - loss: 0.8936 - mean_absolute_error: 0.8936 - val_loss: 0.9371 - val_mean_absolute_error: 0.9371\n",
      "Epoch 8/100\n",
      "64000/64000 [==============================] - 5s 73us/step - loss: 0.8860 - mean_absolute_error: 0.8860 - val_loss: 0.9315 - val_mean_absolute_error: 0.9315\n",
      "Epoch 9/100\n",
      "64000/64000 [==============================] - 5s 73us/step - loss: 0.8787 - mean_absolute_error: 0.8787 - val_loss: 0.9264 - val_mean_absolute_error: 0.9264\n",
      "Epoch 10/100\n",
      "46816/64000 [====================>.........] - ETA: 1s - loss: 0.8697 - mean_absolute_error: 0.869764000/64000 [==============================] - 5s 73us/step - loss: 0.8712 - mean_absolute_error: 0.8712 - val_loss: 0.9269 - val_mean_absolute_error: 0.9269\n",
      "Epoch 11/100\n",
      "64000/64000 [==============================] - 5s 73us/step - loss: 0.8664 - mean_absolute_error: 0.8664 - val_loss: 0.9274 - val_mean_absolute_error: 0.9274\n",
      "Epoch 12/100\n",
      "64000/64000 [==============================] - 5s 73us/step - loss: 0.8594 - mean_absolute_error: 0.8594 - val_loss: 0.9285 - val_mean_absolute_error: 0.9285\n",
      "Epoch 13/100\n",
      "46848/64000 [====================>.........] - ETA: 1s - loss: 0.8552 - mean_absolute_error: 0.855264000/64000 [==============================] - 5s 73us/step - loss: 0.8539 - mean_absolute_error: 0.8539 - val_loss: 0.9320 - val_mean_absolute_error: 0.9320\n",
      "Epoch 14/100\n",
      "64000/64000 [==============================] - 5s 73us/step - loss: 0.8474 - mean_absolute_error: 0.8474 - val_loss: 0.9365 - val_mean_absolute_error: 0.9365\n",
      "Epoch 15/100\n",
      "64000/64000 [==============================] - 5s 73us/step - loss: 0.8430 - mean_absolute_error: 0.8430 - val_loss: 0.9391 - val_mean_absolute_error: 0.9391\n",
      "Epoch 16/100\n",
      "47680/64000 [=====================>........] - ETA: 1s - loss: 0.8372 - mean_absolute_error: 0.837264000/64000 [==============================] - 5s 73us/step - loss: 0.8384 - mean_absolute_error: 0.8384 - val_loss: 0.9399 - val_mean_absolute_error: 0.9399\n",
      "Epoch 17/100\n",
      "64000/64000 [==============================] - 5s 73us/step - loss: 0.8338 - mean_absolute_error: 0.8338 - val_loss: 0.9390 - val_mean_absolute_error: 0.9390\n",
      "Epoch 18/100\n",
      "64000/64000 [==============================] - 5s 73us/step - loss: 0.8301 - mean_absolute_error: 0.8301 - val_loss: 0.9459 - val_mean_absolute_error: 0.9459\n",
      "Epoch 19/100\n",
      "46816/64000 [====================>.........] - ETA: 1s - loss: 0.8234 - mean_absolute_error: 0.823464000/64000 [==============================] - 5s 73us/step - loss: 0.8247 - mean_absolute_error: 0.8247 - val_loss: 0.9485 - val_mean_absolute_error: 0.9485\n",
      "Epoch 20/100\n",
      "64000/64000 [==============================] - 5s 73us/step - loss: 0.8215 - mean_absolute_error: 0.8215 - val_loss: 0.9497 - val_mean_absolute_error: 0.9497\n",
      "Epoch 21/100\n",
      "64000/64000 [==============================] - 5s 73us/step - loss: 0.8176 - mean_absolute_error: 0.8176 - val_loss: 0.9499 - val_mean_absolute_error: 0.9499\n",
      "Epoch 22/100\n",
      "47168/64000 [=====================>........] - ETA: 1s - loss: 0.8098 - mean_absolute_error: 0.809864000/64000 [==============================] - 5s 73us/step - loss: 0.8143 - mean_absolute_error: 0.8143 - val_loss: 0.9532 - val_mean_absolute_error: 0.9532\n",
      "Epoch 23/100\n",
      "64000/64000 [==============================] - 5s 72us/step - loss: 0.8093 - mean_absolute_error: 0.8093 - val_loss: 0.9590 - val_mean_absolute_error: 0.9590\n",
      "Epoch 24/100\n",
      "64000/64000 [==============================] - 5s 73us/step - loss: 0.8061 - mean_absolute_error: 0.8061 - val_loss: 0.9519 - val_mean_absolute_error: 0.9519\n",
      "Epoch 25/100\n",
      "47872/64000 [=====================>........] - ETA: 1s - loss: 0.7980 - mean_absolute_error: 0.798064000/64000 [==============================] - 5s 73us/step - loss: 0.8026 - mean_absolute_error: 0.8026 - val_loss: 0.9560 - val_mean_absolute_error: 0.9560\n",
      "Epoch 26/100\n",
      "64000/64000 [==============================] - 5s 73us/step - loss: 0.8012 - mean_absolute_error: 0.8012 - val_loss: 0.9559 - val_mean_absolute_error: 0.9559\n",
      "Epoch 27/100\n",
      "64000/64000 [==============================] - 5s 73us/step - loss: 0.7979 - mean_absolute_error: 0.7979 - val_loss: 0.9671 - val_mean_absolute_error: 0.9671\n",
      "Epoch 28/100\n",
      "48352/64000 [=====================>........] - ETA: 1s - loss: 0.7894 - mean_absolute_error: 0.789464000/64000 [==============================] - 5s 73us/step - loss: 0.7945 - mean_absolute_error: 0.7945 - val_loss: 0.9705 - val_mean_absolute_error: 0.9705\n",
      "Epoch 29/100\n",
      "64000/64000 [==============================] - 5s 72us/step - loss: 0.7927 - mean_absolute_error: 0.7927 - val_loss: 0.9619 - val_mean_absolute_error: 0.9619\n",
      "Total time :  138.33051443099976\n",
      "MAE :  0.9263948901891709\n"
     ]
    }
   ],
   "source": [
    "K_LATENT = 20\n",
    "hidden_dim = 100\n",
    "do = 0.5\n",
    "oprimaizer_name = 'nadam'\n",
    "loss_function = 'mae'\n",
    "activ_func ='relu'\n",
    "\n",
    "\n",
    "Gender_NCFG_model = get_ncf_model_gender(max_userid,max_movieid,K_LATENT,hidden_dim,do)\n",
    "Gender_NCFG_model.compile(loss=loss_function,optimizer=oprimaizer_name,metrics=['mae'])\n",
    "ini = time.time()\n",
    "\n",
    "callbacks_ncfgender = [EarlyStopping('val_loss', patience=20), \n",
    "             ModelCheckpoint(MODEL_WEIGHTS_FILE_CORE+'_ncfg_'+str(do)+'_'+str(K_LATENT)+'.h5', save_best_only=True)]\n",
    "history = Gender_NCFG_model.fit([Users, Movies,Gender], Ratings, nb_epoch=100,validation_data=([Users1,Movies1,Gender1], Ratings1), validation_split=.2, verbose=1, callbacks=callbacks_ncfgender, batch_size = 32)\n",
    "\n",
    "\n",
    "end = time.time()\n",
    "print (\"Total time : \",end-ini)\n",
    "print(\"MAE : \" , min(history.history['val_loss']))                                    "
   ]
  },
  {
   "cell_type": "code",
   "execution_count": 86,
   "metadata": {
    "colab": {
     "autoexec": {
      "startup": false,
      "wait_interval": 0
     },
     "base_uri": "https://localhost:8080/",
     "height": 68
    },
    "colab_type": "code",
    "executionInfo": {
     "elapsed": 1373,
     "status": "ok",
     "timestamp": 1532963594798,
     "user": {
      "displayName": "orelie shahar",
      "photoUrl": "https://lh3.googleusercontent.com/a/default-user=s128",
      "userId": "104271544169794618728"
     },
     "user_tz": -180
    },
    "id": "d2uhdm7xikyf",
    "outputId": "668843c1-f066-420c-dc33-7d00832d4b16"
   },
   "outputs": [
    {
     "name": "stdout",
     "output_type": "stream",
     "text": [
      "16000/16000 [==============================] - 1s 34us/step\n",
      "Test MSE: 0.9618893321752549\n",
      "Test MAE: 0.9618893321752549\n"
     ]
    }
   ],
   "source": [
    "score =Gender_NCFG_model.evaluate([Users1,Movies1,Gender1], Ratings1,verbose=1)\n",
    "print('Test MSE:', score[0])\n",
    "print('Test MAE:', score[1])"
   ]
  },
  {
   "cell_type": "markdown",
   "metadata": {
    "colab_type": "text",
    "id": "_N1KwgecqmSH"
   },
   "source": [
    "### optimezer = adamax"
   ]
  },
  {
   "cell_type": "code",
   "execution_count": 87,
   "metadata": {
    "colab": {
     "autoexec": {
      "startup": false,
      "wait_interval": 0
     },
     "base_uri": "https://localhost:8080/",
     "height": 1312
    },
    "colab_type": "code",
    "executionInfo": {
     "elapsed": 156699,
     "status": "ok",
     "timestamp": 1532963751976,
     "user": {
      "displayName": "orelie shahar",
      "photoUrl": "https://lh3.googleusercontent.com/a/default-user=s128",
      "userId": "104271544169794618728"
     },
     "user_tz": -180
    },
    "id": "edIUvFnvqmfP",
    "outputId": "1e4eb153-707c-4291-91a7-0fd698c5316b"
   },
   "outputs": [
    {
     "name": "stdout",
     "output_type": "stream",
     "text": [
      "Train on 64000 samples, validate on 16000 samples\n",
      "Epoch 1/100\n",
      "64000/64000 [==============================] - 6s 88us/step - loss: 1.0740 - mean_absolute_error: 1.0740 - val_loss: 0.9350 - val_mean_absolute_error: 0.9350\n",
      "Epoch 2/100\n",
      "64000/64000 [==============================] - 4s 65us/step - loss: 0.9567 - mean_absolute_error: 0.9567 - val_loss: 0.9347 - val_mean_absolute_error: 0.9347\n",
      "Epoch 3/100\n",
      "64000/64000 [==============================] - 4s 65us/step - loss: 0.9462 - mean_absolute_error: 0.9462 - val_loss: 0.9262 - val_mean_absolute_error: 0.9262\n",
      "Epoch 4/100\n",
      "32256/64000 [==============>...............] - ETA: 1s - loss: 0.9386 - mean_absolute_error: 0.938664000/64000 [==============================] - 4s 66us/step - loss: 0.9377 - mean_absolute_error: 0.9377 - val_loss: 0.9324 - val_mean_absolute_error: 0.9324\n",
      "Epoch 5/100\n",
      "64000/64000 [==============================] - 4s 66us/step - loss: 0.9320 - mean_absolute_error: 0.9320 - val_loss: 0.9369 - val_mean_absolute_error: 0.9369\n",
      "Epoch 6/100\n",
      "64000/64000 [==============================] - 4s 65us/step - loss: 0.9277 - mean_absolute_error: 0.9277 - val_loss: 0.9275 - val_mean_absolute_error: 0.9275\n",
      "Epoch 7/100\n",
      "60192/64000 [===========================>..] - ETA: 0s - loss: 0.9263 - mean_absolute_error: 0.926364000/64000 [==============================] - 4s 66us/step - loss: 0.9266 - mean_absolute_error: 0.9266 - val_loss: 0.9353 - val_mean_absolute_error: 0.9353\n",
      "Epoch 8/100\n",
      "64000/64000 [==============================] - 4s 66us/step - loss: 0.9179 - mean_absolute_error: 0.9179 - val_loss: 0.9345 - val_mean_absolute_error: 0.9345\n",
      "Epoch 9/100\n",
      "64000/64000 [==============================] - 4s 66us/step - loss: 0.9134 - mean_absolute_error: 0.9134 - val_loss: 0.9301 - val_mean_absolute_error: 0.9301\n",
      "Epoch 10/100\n",
      "64000/64000 [==============================] - 4s 66us/step - loss: 0.9109 - mean_absolute_error: 0.9109 - val_loss: 0.9285 - val_mean_absolute_error: 0.9285\n",
      "Epoch 11/100\n",
      "64000/64000 [==============================] - 4s 66us/step - loss: 0.9084 - mean_absolute_error: 0.9084 - val_loss: 0.9299 - val_mean_absolute_error: 0.9299\n",
      "Epoch 12/100\n",
      "64000/64000 [==============================] - 4s 65us/step - loss: 0.9034 - mean_absolute_error: 0.9034 - val_loss: 0.9259 - val_mean_absolute_error: 0.9259\n",
      "Epoch 13/100\n",
      "64000/64000 [==============================] - 4s 65us/step - loss: 0.9007 - mean_absolute_error: 0.9007 - val_loss: 0.9249 - val_mean_absolute_error: 0.9249\n",
      "Epoch 14/100\n",
      "50816/64000 [======================>.......] - ETA: 0s - loss: 0.8921 - mean_absolute_error: 0.892164000/64000 [==============================] - 4s 66us/step - loss: 0.8942 - mean_absolute_error: 0.8942 - val_loss: 0.9291 - val_mean_absolute_error: 0.9291\n",
      "Epoch 15/100\n",
      "64000/64000 [==============================] - 4s 66us/step - loss: 0.8904 - mean_absolute_error: 0.8904 - val_loss: 0.9241 - val_mean_absolute_error: 0.9241\n",
      "Epoch 16/100\n",
      "64000/64000 [==============================] - 4s 66us/step - loss: 0.8851 - mean_absolute_error: 0.8851 - val_loss: 0.9168 - val_mean_absolute_error: 0.9168\n",
      "Epoch 17/100\n",
      "63168/64000 [============================>.] - ETA: 0s - loss: 0.8811 - mean_absolute_error: 0.881164000/64000 [==============================] - 4s 65us/step - loss: 0.8810 - mean_absolute_error: 0.8810 - val_loss: 0.9216 - val_mean_absolute_error: 0.9216\n",
      "Epoch 18/100\n",
      "64000/64000 [==============================] - 4s 66us/step - loss: 0.8762 - mean_absolute_error: 0.8762 - val_loss: 0.9215 - val_mean_absolute_error: 0.9215\n",
      "Epoch 19/100\n",
      "64000/64000 [==============================] - 4s 66us/step - loss: 0.8717 - mean_absolute_error: 0.8717 - val_loss: 0.9209 - val_mean_absolute_error: 0.9209\n",
      "Epoch 20/100\n",
      "64000/64000 [==============================] - 4s 66us/step - loss: 0.8675 - mean_absolute_error: 0.8675 - val_loss: 0.9206 - val_mean_absolute_error: 0.9206\n",
      "Epoch 21/100\n",
      "64000/64000 [==============================] - 4s 66us/step - loss: 0.8630 - mean_absolute_error: 0.8630 - val_loss: 0.9206 - val_mean_absolute_error: 0.9206\n",
      "Epoch 22/100\n",
      "64000/64000 [==============================] - 4s 66us/step - loss: 0.8596 - mean_absolute_error: 0.8596 - val_loss: 0.9169 - val_mean_absolute_error: 0.9169\n",
      "Epoch 23/100\n",
      "64000/64000 [==============================] - 4s 66us/step - loss: 0.8557 - mean_absolute_error: 0.8557 - val_loss: 0.9172 - val_mean_absolute_error: 0.9172\n",
      "Epoch 24/100\n",
      "48800/64000 [=====================>........] - ETA: 0s - loss: 0.8532 - mean_absolute_error: 0.853264000/64000 [==============================] - 4s 66us/step - loss: 0.8525 - mean_absolute_error: 0.8525 - val_loss: 0.9188 - val_mean_absolute_error: 0.9188\n",
      "Epoch 25/100\n",
      "64000/64000 [==============================] - 4s 66us/step - loss: 0.8484 - mean_absolute_error: 0.8484 - val_loss: 0.9179 - val_mean_absolute_error: 0.9179\n",
      "Epoch 26/100\n",
      "64000/64000 [==============================] - 4s 66us/step - loss: 0.8462 - mean_absolute_error: 0.8462 - val_loss: 0.9189 - val_mean_absolute_error: 0.9189\n",
      "Epoch 27/100\n",
      "60640/64000 [===========================>..] - ETA: 0s - loss: 0.8438 - mean_absolute_error: 0.843864000/64000 [==============================] - 4s 66us/step - loss: 0.8441 - mean_absolute_error: 0.8441 - val_loss: 0.9174 - val_mean_absolute_error: 0.9174\n",
      "Epoch 28/100\n",
      "64000/64000 [==============================] - 4s 66us/step - loss: 0.8447 - mean_absolute_error: 0.8447 - val_loss: 0.9204 - val_mean_absolute_error: 0.9204\n",
      "Epoch 29/100\n",
      "64000/64000 [==============================] - 4s 67us/step - loss: 0.8429 - mean_absolute_error: 0.8429 - val_loss: 0.9173 - val_mean_absolute_error: 0.9173\n",
      "Epoch 30/100\n",
      "60928/64000 [===========================>..] - ETA: 0s - loss: 0.8409 - mean_absolute_error: 0.840964000/64000 [==============================] - 4s 69us/step - loss: 0.8409 - mean_absolute_error: 0.8409 - val_loss: 0.9204 - val_mean_absolute_error: 0.9204\n",
      "Epoch 31/100\n",
      "64000/64000 [==============================] - 4s 68us/step - loss: 0.8403 - mean_absolute_error: 0.8403 - val_loss: 0.9227 - val_mean_absolute_error: 0.9227\n",
      "Epoch 32/100\n",
      "64000/64000 [==============================] - 4s 68us/step - loss: 0.8389 - mean_absolute_error: 0.8389 - val_loss: 0.9183 - val_mean_absolute_error: 0.9183\n",
      "Epoch 33/100\n",
      "59872/64000 [===========================>..] - ETA: 0s - loss: 0.8345 - mean_absolute_error: 0.834564000/64000 [==============================] - 4s 67us/step - loss: 0.8366 - mean_absolute_error: 0.8366 - val_loss: 0.9253 - val_mean_absolute_error: 0.9253\n",
      "Epoch 34/100\n",
      "64000/64000 [==============================] - 4s 66us/step - loss: 0.8363 - mean_absolute_error: 0.8363 - val_loss: 0.9243 - val_mean_absolute_error: 0.9243\n",
      "Epoch 35/100\n",
      "64000/64000 [==============================] - 4s 67us/step - loss: 0.8346 - mean_absolute_error: 0.8346 - val_loss: 0.9245 - val_mean_absolute_error: 0.9245\n",
      "Epoch 36/100\n",
      "62336/64000 [============================>.] - ETA: 0s - loss: 0.8329 - mean_absolute_error: 0.832964000/64000 [==============================] - 4s 67us/step - loss: 0.8324 - mean_absolute_error: 0.8324 - val_loss: 0.9247 - val_mean_absolute_error: 0.9247\n",
      "Total time :  155.64025020599365\n",
      "MAE :  0.9168401458859443\n"
     ]
    }
   ],
   "source": [
    "K_LATENT = 20\n",
    "hidden_dim = 100\n",
    "do = 0.5\n",
    "oprimaizer_name = 'adamax'\n",
    "loss_function = 'mae'\n",
    "activ_func ='relu'\n",
    "\n",
    "\n",
    "Gender_NCFG_model = get_ncf_model_gender(max_userid,max_movieid,K_LATENT,hidden_dim,do)\n",
    "Gender_NCFG_model.compile(loss=loss_function,optimizer=oprimaizer_name,metrics=['mae'])\n",
    "ini = time.time()\n",
    "\n",
    "callbacks_ncfgender = [EarlyStopping('val_loss', patience=20), \n",
    "             ModelCheckpoint(MODEL_WEIGHTS_FILE_CORE+'_ncfg_'+str(do)+'_'+str(K_LATENT)+'.h5', save_best_only=True)]\n",
    "history = Gender_NCFG_model.fit([Users, Movies,Gender], Ratings, nb_epoch=100,validation_data=([Users1,Movies1,Gender1], Ratings1), validation_split=.2, verbose=1, callbacks=callbacks_ncfgender, batch_size = 32)\n",
    "\n",
    "\n",
    "end = time.time()\n",
    "print (\"Total time : \",end-ini)\n",
    "print(\"MAE : \" , min(history.history['val_loss']))                                    "
   ]
  },
  {
   "cell_type": "code",
   "execution_count": 88,
   "metadata": {
    "colab": {
     "autoexec": {
      "startup": false,
      "wait_interval": 0
     },
     "base_uri": "https://localhost:8080/",
     "height": 68
    },
    "colab_type": "code",
    "executionInfo": {
     "elapsed": 1380,
     "status": "ok",
     "timestamp": 1532963753617,
     "user": {
      "displayName": "orelie shahar",
      "photoUrl": "https://lh3.googleusercontent.com/a/default-user=s128",
      "userId": "104271544169794618728"
     },
     "user_tz": -180
    },
    "id": "BffETgdyimYf",
    "outputId": "f88b2be5-c8e6-4ac4-cd98-10701f334da9"
   },
   "outputs": [
    {
     "name": "stdout",
     "output_type": "stream",
     "text": [
      "16000/16000 [==============================] - 1s 34us/step\n",
      "Test MSE: 0.9246920326948166\n",
      "Test MAE: 0.9246920326948166\n"
     ]
    }
   ],
   "source": [
    "score =Gender_NCFG_model.evaluate([Users1,Movies1,Gender1], Ratings1,verbose=1)\n",
    "print('Test MSE:', score[0])\n",
    "print('Test MAE:', score[1])"
   ]
  },
  {
   "cell_type": "markdown",
   "metadata": {
    "colab_type": "text",
    "id": "esNZ0l6Yqmza"
   },
   "source": [
    "### loss function = mse"
   ]
  },
  {
   "cell_type": "code",
   "execution_count": 89,
   "metadata": {
    "colab": {
     "autoexec": {
      "startup": false,
      "wait_interval": 0
     },
     "base_uri": "https://localhost:8080/",
     "height": 564
    },
    "colab_type": "code",
    "executionInfo": {
     "elapsed": 1182,
     "status": "ok",
     "timestamp": 1532963755188,
     "user": {
      "displayName": "orelie shahar",
      "photoUrl": "https://lh3.googleusercontent.com/a/default-user=s128",
      "userId": "104271544169794618728"
     },
     "user_tz": -180
    },
    "id": "yCZa4hzExgnu",
    "outputId": "eda22ea4-d41c-4be8-e5a7-a718e087887d"
   },
   "outputs": [
    {
     "name": "stdout",
     "output_type": "stream",
     "text": [
      "__________________________________________________________________________________________________\n",
      "Layer (type)                    Output Shape         Param #     Connected to                     \n",
      "==================================================================================================\n",
      "user_input (InputLayer)         (None, 1)            0                                            \n",
      "__________________________________________________________________________________________________\n",
      "item_input (InputLayer)         (None, 1)            0                                            \n",
      "__________________________________________________________________________________________________\n",
      "user_embedding (Embedding)      (None, 1, 20)        18860       user_input[0][0]                 \n",
      "__________________________________________________________________________________________________\n",
      "item_embedding (Embedding)      (None, 1, 20)        33640       item_input[0][0]                 \n",
      "__________________________________________________________________________________________________\n",
      "flatten_51 (Flatten)            (None, 20)           0           user_embedding[0][0]             \n",
      "__________________________________________________________________________________________________\n",
      "flatten_52 (Flatten)            (None, 20)           0           item_embedding[0][0]             \n",
      "__________________________________________________________________________________________________\n",
      "gender_input (InputLayer)       (None, 1)            0                                            \n",
      "__________________________________________________________________________________________________\n",
      "concatenate_20 (Concatenate)    (None, 41)           0           flatten_51[0][0]                 \n",
      "                                                                 flatten_52[0][0]                 \n",
      "                                                                 gender_input[0][0]               \n",
      "__________________________________________________________________________________________________\n",
      "dense_23 (Dense)                (None, 100)          4200        concatenate_20[0][0]             \n",
      "__________________________________________________________________________________________________\n",
      "dropout_65 (Dropout)            (None, 100)          0           dense_23[0][0]                   \n",
      "__________________________________________________________________________________________________\n",
      "prediction (Dense)              (None, 1)            101         dropout_65[0][0]                 \n",
      "==================================================================================================\n",
      "Total params: 56,801\n",
      "Trainable params: 56,801\n",
      "Non-trainable params: 0\n",
      "__________________________________________________________________________________________________\n"
     ]
    }
   ],
   "source": [
    "K_LATENT = 20\n",
    "hidden_dim = 100\n",
    "do = 0.5\n",
    "oprimaizer_name = 'nadam'\n",
    "loss_function = 'mse'\n",
    "activ_func ='relu'\n",
    "\n",
    "\n",
    "Gender_NCFG_model = get_ncf_model_gender(max_userid,max_movieid,K_LATENT,hidden_dim,do)\n",
    "Gender_NCFG_model.compile(loss=loss_function,optimizer=oprimaizer_name,metrics=['mae'])\n",
    "Gender_NCFG_model.summary()"
   ]
  },
  {
   "cell_type": "code",
   "execution_count": 90,
   "metadata": {
    "colab": {
     "autoexec": {
      "startup": false,
      "wait_interval": 0
     },
     "base_uri": "https://localhost:8080/",
     "height": 836
    },
    "colab_type": "code",
    "executionInfo": {
     "elapsed": 108613,
     "status": "ok",
     "timestamp": 1532963864296,
     "user": {
      "displayName": "orelie shahar",
      "photoUrl": "https://lh3.googleusercontent.com/a/default-user=s128",
      "userId": "104271544169794618728"
     },
     "user_tz": -180
    },
    "id": "Rs5p4joGqnBM",
    "outputId": "8de88baa-d6d1-429c-ca42-472470c06ff8"
   },
   "outputs": [
    {
     "name": "stdout",
     "output_type": "stream",
     "text": [
      "Train on 64000 samples, validate on 16000 samples\n",
      "Epoch 1/100\n",
      "64000/64000 [==============================] - 6s 99us/step - loss: 1.6690 - mean_absolute_error: 1.0326 - val_loss: 1.2757 - val_mean_absolute_error: 0.9520\n",
      "Epoch 2/100\n",
      "64000/64000 [==============================] - 5s 74us/step - loss: 1.3783 - mean_absolute_error: 0.9581 - val_loss: 1.2632 - val_mean_absolute_error: 0.9400\n",
      "Epoch 3/100\n",
      "64000/64000 [==============================] - 5s 74us/step - loss: 1.3134 - mean_absolute_error: 0.9381 - val_loss: 1.2692 - val_mean_absolute_error: 0.9413\n",
      "Epoch 4/100\n",
      "16224/64000 [======>.......................] - ETA: 3s - loss: 1.2617 - mean_absolute_error: 0.920164000/64000 [==============================] - 5s 74us/step - loss: 1.2743 - mean_absolute_error: 0.9269 - val_loss: 1.2738 - val_mean_absolute_error: 0.9410\n",
      "Epoch 5/100\n",
      "64000/64000 [==============================] - 5s 74us/step - loss: 1.2498 - mean_absolute_error: 0.9204 - val_loss: 1.2841 - val_mean_absolute_error: 0.9485\n",
      "Epoch 6/100\n",
      "64000/64000 [==============================] - 5s 75us/step - loss: 1.2338 - mean_absolute_error: 0.9163 - val_loss: 1.2847 - val_mean_absolute_error: 0.9493\n",
      "Epoch 7/100\n",
      "39360/64000 [=================>............] - ETA: 1s - loss: 1.2067 - mean_absolute_error: 0.903864000/64000 [==============================] - 5s 75us/step - loss: 1.2198 - mean_absolute_error: 0.9105 - val_loss: 1.2932 - val_mean_absolute_error: 0.9504\n",
      "Epoch 8/100\n",
      "64000/64000 [==============================] - 5s 75us/step - loss: 1.2083 - mean_absolute_error: 0.9068 - val_loss: 1.3131 - val_mean_absolute_error: 0.9423\n",
      "Epoch 9/100\n",
      "64000/64000 [==============================] - 5s 74us/step - loss: 1.1985 - mean_absolute_error: 0.9026 - val_loss: 1.2945 - val_mean_absolute_error: 0.9445\n",
      "Epoch 10/100\n",
      "44128/64000 [===================>..........] - ETA: 1s - loss: 1.1865 - mean_absolute_error: 0.896264000/64000 [==============================] - 5s 74us/step - loss: 1.1861 - mean_absolute_error: 0.8971 - val_loss: 1.3008 - val_mean_absolute_error: 0.9503\n",
      "Epoch 11/100\n",
      "64000/64000 [==============================] - 5s 74us/step - loss: 1.1733 - mean_absolute_error: 0.8912 - val_loss: 1.3154 - val_mean_absolute_error: 0.9462\n",
      "Epoch 12/100\n",
      "64000/64000 [==============================] - 5s 74us/step - loss: 1.1581 - mean_absolute_error: 0.8823 - val_loss: 1.3142 - val_mean_absolute_error: 0.9524\n",
      "Epoch 13/100\n",
      "44672/64000 [===================>..........] - ETA: 1s - loss: 1.1373 - mean_absolute_error: 0.871964000/64000 [==============================] - 5s 74us/step - loss: 1.1422 - mean_absolute_error: 0.8743 - val_loss: 1.3295 - val_mean_absolute_error: 0.9484\n",
      "Epoch 14/100\n",
      "64000/64000 [==============================] - 5s 74us/step - loss: 1.1241 - mean_absolute_error: 0.8651 - val_loss: 1.3468 - val_mean_absolute_error: 0.9541\n",
      "Epoch 15/100\n",
      "64000/64000 [==============================] - 5s 74us/step - loss: 1.1080 - mean_absolute_error: 0.8570 - val_loss: 1.3444 - val_mean_absolute_error: 0.9544\n",
      "Epoch 16/100\n",
      "44928/64000 [====================>.........] - ETA: 1s - loss: 1.0832 - mean_absolute_error: 0.844864000/64000 [==============================] - 5s 74us/step - loss: 1.0952 - mean_absolute_error: 0.8502 - val_loss: 1.3726 - val_mean_absolute_error: 0.9577\n",
      "Epoch 17/100\n",
      "64000/64000 [==============================] - 5s 74us/step - loss: 1.0811 - mean_absolute_error: 0.8436 - val_loss: 1.3565 - val_mean_absolute_error: 0.9540\n",
      "Epoch 18/100\n",
      "64000/64000 [==============================] - 5s 74us/step - loss: 1.0658 - mean_absolute_error: 0.8361 - val_loss: 1.3771 - val_mean_absolute_error: 0.9587\n",
      "Epoch 19/100\n",
      "45440/64000 [====================>.........] - ETA: 1s - loss: 1.0474 - mean_absolute_error: 0.826964000/64000 [==============================] - 5s 74us/step - loss: 1.0566 - mean_absolute_error: 0.8317 - val_loss: 1.4023 - val_mean_absolute_error: 0.9652\n",
      "Epoch 20/100\n",
      "64000/64000 [==============================] - 5s 74us/step - loss: 1.0429 - mean_absolute_error: 0.8252 - val_loss: 1.3837 - val_mean_absolute_error: 0.9615\n",
      "Epoch 21/100\n",
      "64000/64000 [==============================] - 5s 74us/step - loss: 1.0352 - mean_absolute_error: 0.8217 - val_loss: 1.3899 - val_mean_absolute_error: 0.9639\n",
      "Epoch 22/100\n",
      "43680/64000 [===================>..........] - ETA: 1s - loss: 1.0129 - mean_absolute_error: 0.810164000/64000 [==============================] - 5s 74us/step - loss: 1.0232 - mean_absolute_error: 0.8150 - val_loss: 1.3918 - val_mean_absolute_error: 0.9613\n",
      "Total time :  107.70748281478882\n",
      "MAE :  1.263207060456276\n"
     ]
    }
   ],
   "source": [
    "K_LATENT = 20\n",
    "hidden_dim = 100\n",
    "do = 0.5\n",
    "oprimaizer_name = 'nadam'\n",
    "loss_function = 'mse'\n",
    "activ_func ='relu'\n",
    "\n",
    "\n",
    "Gender_NCFG_model = get_ncf_model_gender(max_userid,max_movieid,K_LATENT,hidden_dim,do)\n",
    "Gender_NCFG_model.compile(loss=loss_function,optimizer=oprimaizer_name,metrics=['mae'])\n",
    "ini = time.time()\n",
    "\n",
    "callbacks_ncfgender = [EarlyStopping('val_loss', patience=20), \n",
    "             ModelCheckpoint(MODEL_WEIGHTS_FILE_CORE+'_ncfg_'+str(do)+'_'+str(K_LATENT)+'.h5', save_best_only=True)]\n",
    "history = Gender_NCFG_model.fit([Users, Movies,Gender], Ratings, nb_epoch=100,validation_data=([Users1,Movies1,Gender1], Ratings1), validation_split=.2, verbose=1, callbacks=callbacks_ncfgender, batch_size = 32)\n",
    "\n",
    "\n",
    "end = time.time()\n",
    "print (\"Total time : \",end-ini)\n",
    "print(\"MAE : \" , min(history.history['val_loss']))                                    "
   ]
  },
  {
   "cell_type": "code",
   "execution_count": 91,
   "metadata": {
    "colab": {
     "autoexec": {
      "startup": false,
      "wait_interval": 0
     },
     "base_uri": "https://localhost:8080/",
     "height": 68
    },
    "colab_type": "code",
    "executionInfo": {
     "elapsed": 1337,
     "status": "ok",
     "timestamp": 1532963865684,
     "user": {
      "displayName": "orelie shahar",
      "photoUrl": "https://lh3.googleusercontent.com/a/default-user=s128",
      "userId": "104271544169794618728"
     },
     "user_tz": -180
    },
    "id": "swYtX1Y_ipix",
    "outputId": "352edea3-545a-4880-93fe-56b36bce9be3"
   },
   "outputs": [
    {
     "name": "stdout",
     "output_type": "stream",
     "text": [
      "16000/16000 [==============================] - 1s 34us/step\n",
      "Test MSE: 1.3917988891601563\n",
      "Test MAE: 0.9613025593757629\n"
     ]
    }
   ],
   "source": [
    "score =Gender_NCFG_model.evaluate([Users1,Movies1,Gender1], Ratings1,verbose=1)\n",
    "print('Test MSE:', score[0])\n",
    "print('Test MAE:', score[1])"
   ]
  },
  {
   "cell_type": "markdown",
   "metadata": {
    "colab_type": "text",
    "id": "nXYQhK7OqnIb"
   },
   "source": [
    "### activation function = selu and layer size = 50"
   ]
  },
  {
   "cell_type": "code",
   "execution_count": 92,
   "metadata": {
    "colab": {
     "autoexec": {
      "startup": false,
      "wait_interval": 0
     },
     "base_uri": "https://localhost:8080/",
     "height": 836
    },
    "colab_type": "code",
    "executionInfo": {
     "elapsed": 105845,
     "status": "ok",
     "timestamp": 1532963971885,
     "user": {
      "displayName": "orelie shahar",
      "photoUrl": "https://lh3.googleusercontent.com/a/default-user=s128",
      "userId": "104271544169794618728"
     },
     "user_tz": -180
    },
    "id": "3Rx3FqJLqnW_",
    "outputId": "5539d0ca-5802-4370-e1d6-6a2bec555a99"
   },
   "outputs": [
    {
     "name": "stdout",
     "output_type": "stream",
     "text": [
      "Train on 64000 samples, validate on 16000 samples\n",
      "Epoch 1/100\n",
      "64000/64000 [==============================] - 6s 96us/step - loss: 1.5600 - mean_absolute_error: 1.0033 - val_loss: 1.2811 - val_mean_absolute_error: 0.9281\n",
      "Epoch 2/100\n",
      "64000/64000 [==============================] - 5s 72us/step - loss: 1.2972 - mean_absolute_error: 0.9365 - val_loss: 1.2667 - val_mean_absolute_error: 0.9423\n",
      "Epoch 3/100\n",
      "64000/64000 [==============================] - 5s 72us/step - loss: 1.2756 - mean_absolute_error: 0.9265 - val_loss: 1.2830 - val_mean_absolute_error: 0.9462\n",
      "Epoch 4/100\n",
      "19872/64000 [========>.....................] - ETA: 2s - loss: 1.2558 - mean_absolute_error: 0.917664000/64000 [==============================] - 5s 72us/step - loss: 1.2552 - mean_absolute_error: 0.9184 - val_loss: 1.2968 - val_mean_absolute_error: 0.9474\n",
      "Epoch 5/100\n",
      "64000/64000 [==============================] - 5s 72us/step - loss: 1.2338 - mean_absolute_error: 0.9091 - val_loss: 1.2960 - val_mean_absolute_error: 0.9432\n",
      "Epoch 6/100\n",
      "64000/64000 [==============================] - 5s 72us/step - loss: 1.2112 - mean_absolute_error: 0.8987 - val_loss: 1.3203 - val_mean_absolute_error: 0.9511\n",
      "Epoch 7/100\n",
      "44256/64000 [===================>..........] - ETA: 1s - loss: 1.1720 - mean_absolute_error: 0.882364000/64000 [==============================] - 5s 72us/step - loss: 1.1828 - mean_absolute_error: 0.8864 - val_loss: 1.3526 - val_mean_absolute_error: 0.9525\n",
      "Epoch 8/100\n",
      "64000/64000 [==============================] - 5s 73us/step - loss: 1.1528 - mean_absolute_error: 0.8720 - val_loss: 1.3570 - val_mean_absolute_error: 0.9583\n",
      "Epoch 9/100\n",
      "64000/64000 [==============================] - 5s 72us/step - loss: 1.1259 - mean_absolute_error: 0.8599 - val_loss: 1.3727 - val_mean_absolute_error: 0.9529\n",
      "Epoch 10/100\n",
      "49248/64000 [======================>.......] - ETA: 0s - loss: 1.0917 - mean_absolute_error: 0.843064000/64000 [==============================] - 5s 72us/step - loss: 1.0991 - mean_absolute_error: 0.8465 - val_loss: 1.4116 - val_mean_absolute_error: 0.9529\n",
      "Epoch 11/100\n",
      "64000/64000 [==============================] - 5s 72us/step - loss: 1.0718 - mean_absolute_error: 0.8346 - val_loss: 1.4272 - val_mean_absolute_error: 0.9679\n",
      "Epoch 12/100\n",
      "64000/64000 [==============================] - 5s 72us/step - loss: 1.0487 - mean_absolute_error: 0.8235 - val_loss: 1.4457 - val_mean_absolute_error: 0.9741\n",
      "Epoch 13/100\n",
      "49184/64000 [======================>.......] - ETA: 0s - loss: 1.0212 - mean_absolute_error: 0.810564000/64000 [==============================] - 5s 73us/step - loss: 1.0287 - mean_absolute_error: 0.8142 - val_loss: 1.4570 - val_mean_absolute_error: 0.9725\n",
      "Epoch 14/100\n",
      "64000/64000 [==============================] - 5s 72us/step - loss: 1.0126 - mean_absolute_error: 0.8060 - val_loss: 1.4726 - val_mean_absolute_error: 0.9771\n",
      "Epoch 15/100\n",
      "64000/64000 [==============================] - 5s 72us/step - loss: 0.9974 - mean_absolute_error: 0.7987 - val_loss: 1.4799 - val_mean_absolute_error: 0.9915\n",
      "Epoch 16/100\n",
      "49856/64000 [======================>.......] - ETA: 0s - loss: 0.9742 - mean_absolute_error: 0.786864000/64000 [==============================] - 5s 72us/step - loss: 0.9821 - mean_absolute_error: 0.7906 - val_loss: 1.4953 - val_mean_absolute_error: 0.9888\n",
      "Epoch 17/100\n",
      "64000/64000 [==============================] - 5s 72us/step - loss: 0.9649 - mean_absolute_error: 0.7831 - val_loss: 1.5005 - val_mean_absolute_error: 0.9908\n",
      "Epoch 18/100\n",
      "64000/64000 [==============================] - 5s 72us/step - loss: 0.9533 - mean_absolute_error: 0.7779 - val_loss: 1.5202 - val_mean_absolute_error: 1.0021\n",
      "Epoch 19/100\n",
      "49952/64000 [======================>.......] - ETA: 0s - loss: 0.9274 - mean_absolute_error: 0.765064000/64000 [==============================] - 5s 72us/step - loss: 0.9381 - mean_absolute_error: 0.7703 - val_loss: 1.5315 - val_mean_absolute_error: 1.0020\n",
      "Epoch 20/100\n",
      "64000/64000 [==============================] - 5s 72us/step - loss: 0.9274 - mean_absolute_error: 0.7643 - val_loss: 1.5406 - val_mean_absolute_error: 1.0012\n",
      "Epoch 21/100\n",
      "64000/64000 [==============================] - 5s 72us/step - loss: 0.9117 - mean_absolute_error: 0.7577 - val_loss: 1.5498 - val_mean_absolute_error: 1.0069\n",
      "Epoch 22/100\n",
      "50208/64000 [======================>.......] - ETA: 0s - loss: 0.8951 - mean_absolute_error: 0.748864000/64000 [==============================] - 5s 72us/step - loss: 0.9016 - mean_absolute_error: 0.7524 - val_loss: 1.5497 - val_mean_absolute_error: 1.0013\n",
      "Total time :  104.81774139404297\n",
      "MAE :  1.2667341699004173\n"
     ]
    }
   ],
   "source": [
    "K_LATENT = 20\n",
    "hidden_dim = 50\n",
    "do = 0.1\n",
    "oprimaizer_name = 'nadam'\n",
    "loss_function = 'mse'\n",
    "activ_func ='selu'\n",
    "\n",
    "\n",
    "Gender_NCFG_model = get_ncf_model_gender(max_userid,max_movieid,K_LATENT,hidden_dim,do)\n",
    "Gender_NCFG_model.compile(loss=loss_function,optimizer=oprimaizer_name,metrics=['mae'])\n",
    "ini = time.time()\n",
    "\n",
    "callbacks_ncfgender = [EarlyStopping('val_loss', patience=20), \n",
    "             ModelCheckpoint(MODEL_WEIGHTS_FILE_CORE+'_ncfg_'+str(do)+'_'+str(K_LATENT)+'.h5', save_best_only=True)]\n",
    "history = Gender_NCFG_model.fit([Users, Movies,Gender], Ratings, nb_epoch=100,validation_data=([Users1,Movies1,Gender1], Ratings1), validation_split=.2, verbose=1, callbacks=callbacks_ncfgender, batch_size = 32)\n",
    "\n",
    "\n",
    "end = time.time()\n",
    "print (\"Total time : \",end-ini)\n",
    "print(\"MAE : \" , min(history.history['val_loss']))                                    "
   ]
  },
  {
   "cell_type": "code",
   "execution_count": 93,
   "metadata": {
    "colab": {
     "autoexec": {
      "startup": false,
      "wait_interval": 0
     },
     "base_uri": "https://localhost:8080/",
     "height": 68
    },
    "colab_type": "code",
    "executionInfo": {
     "elapsed": 1379,
     "status": "ok",
     "timestamp": 1532963973317,
     "user": {
      "displayName": "orelie shahar",
      "photoUrl": "https://lh3.googleusercontent.com/a/default-user=s128",
      "userId": "104271544169794618728"
     },
     "user_tz": -180
    },
    "id": "hawa4pSairgP",
    "outputId": "00086c72-abe8-44a9-9bb3-d7a69cd6b819"
   },
   "outputs": [
    {
     "name": "stdout",
     "output_type": "stream",
     "text": [
      "16000/16000 [==============================] - 1s 35us/step\n",
      "Test MSE: 1.5497420881986619\n",
      "Test MAE: 1.001318374276161\n"
     ]
    }
   ],
   "source": [
    "score =Gender_NCFG_model.evaluate([Users1,Movies1,Gender1], Ratings1,verbose=1)\n",
    "print('Test MSE:', score[0])\n",
    "print('Test MAE:', score[1])"
   ]
  },
  {
   "cell_type": "markdown",
   "metadata": {
    "colab_type": "text",
    "id": "XPH1zs-FqnlB"
   },
   "source": [
    "### activation function = linear"
   ]
  },
  {
   "cell_type": "code",
   "execution_count": 94,
   "metadata": {
    "colab": {
     "autoexec": {
      "startup": false,
      "wait_interval": 0
     },
     "base_uri": "https://localhost:8080/",
     "height": 870
    },
    "colab_type": "code",
    "executionInfo": {
     "elapsed": 114273,
     "status": "ok",
     "timestamp": 1532964088319,
     "user": {
      "displayName": "orelie shahar",
      "photoUrl": "https://lh3.googleusercontent.com/a/default-user=s128",
      "userId": "104271544169794618728"
     },
     "user_tz": -180
    },
    "id": "jT1v3Sk_qnxl",
    "outputId": "b059cfa1-87af-45f2-fa1e-86d9561fc6ff"
   },
   "outputs": [
    {
     "name": "stdout",
     "output_type": "stream",
     "text": [
      "Train on 64000 samples, validate on 16000 samples\n",
      "Epoch 1/100\n",
      "64000/64000 [==============================] - 6s 100us/step - loss: 1.6485 - mean_absolute_error: 1.0297 - val_loss: 1.2936 - val_mean_absolute_error: 0.9581\n",
      "Epoch 2/100\n",
      "64000/64000 [==============================] - 5s 75us/step - loss: 1.3758 - mean_absolute_error: 0.9568 - val_loss: 1.2719 - val_mean_absolute_error: 0.9478\n",
      "Epoch 3/100\n",
      "64000/64000 [==============================] - 5s 75us/step - loss: 1.3141 - mean_absolute_error: 0.9371 - val_loss: 1.2701 - val_mean_absolute_error: 0.9434\n",
      "Epoch 4/100\n",
      "15232/64000 [======>.......................] - ETA: 3s - loss: 1.2728 - mean_absolute_error: 0.922264000/64000 [==============================] - 5s 75us/step - loss: 1.2751 - mean_absolute_error: 0.9265 - val_loss: 1.2731 - val_mean_absolute_error: 0.9404\n",
      "Epoch 5/100\n",
      "64000/64000 [==============================] - 5s 75us/step - loss: 1.2494 - mean_absolute_error: 0.9216 - val_loss: 1.2821 - val_mean_absolute_error: 0.9474\n",
      "Epoch 6/100\n",
      "64000/64000 [==============================] - 5s 75us/step - loss: 1.2306 - mean_absolute_error: 0.9147 - val_loss: 1.2876 - val_mean_absolute_error: 0.9372\n",
      "Epoch 7/100\n",
      "39712/64000 [=================>............] - ETA: 1s - loss: 1.2099 - mean_absolute_error: 0.905864000/64000 [==============================] - 5s 74us/step - loss: 1.2174 - mean_absolute_error: 0.9101 - val_loss: 1.2894 - val_mean_absolute_error: 0.9424\n",
      "Epoch 8/100\n",
      "64000/64000 [==============================] - 5s 74us/step - loss: 1.2033 - mean_absolute_error: 0.9046 - val_loss: 1.2950 - val_mean_absolute_error: 0.9498\n",
      "Epoch 9/100\n",
      "64000/64000 [==============================] - 5s 75us/step - loss: 1.1909 - mean_absolute_error: 0.8993 - val_loss: 1.3082 - val_mean_absolute_error: 0.9415\n",
      "Epoch 10/100\n",
      "43616/64000 [===================>..........] - ETA: 1s - loss: 1.1668 - mean_absolute_error: 0.887164000/64000 [==============================] - 5s 75us/step - loss: 1.1761 - mean_absolute_error: 0.8924 - val_loss: 1.3185 - val_mean_absolute_error: 0.9465\n",
      "Epoch 11/100\n",
      "64000/64000 [==============================] - 5s 75us/step - loss: 1.1608 - mean_absolute_error: 0.8851 - val_loss: 1.3222 - val_mean_absolute_error: 0.9494\n",
      "Epoch 12/100\n",
      "64000/64000 [==============================] - 5s 75us/step - loss: 1.1457 - mean_absolute_error: 0.8772 - val_loss: 1.3390 - val_mean_absolute_error: 0.9561\n",
      "Epoch 13/100\n",
      "44416/64000 [===================>..........] - ETA: 1s - loss: 1.1172 - mean_absolute_error: 0.862264000/64000 [==============================] - 5s 74us/step - loss: 1.1272 - mean_absolute_error: 0.8669 - val_loss: 1.3570 - val_mean_absolute_error: 0.9540\n",
      "Epoch 14/100\n",
      "64000/64000 [==============================] - 5s 74us/step - loss: 1.1081 - mean_absolute_error: 0.8573 - val_loss: 1.3572 - val_mean_absolute_error: 0.9566\n",
      "Epoch 15/100\n",
      "64000/64000 [==============================] - 5s 75us/step - loss: 1.0943 - mean_absolute_error: 0.8501 - val_loss: 1.3632 - val_mean_absolute_error: 0.9568\n",
      "Epoch 16/100\n",
      "43584/64000 [===================>..........] - ETA: 1s - loss: 1.0665 - mean_absolute_error: 0.836864000/64000 [==============================] - 5s 74us/step - loss: 1.0787 - mean_absolute_error: 0.8428 - val_loss: 1.3738 - val_mean_absolute_error: 0.9627\n",
      "Epoch 17/100\n",
      "64000/64000 [==============================] - 5s 74us/step - loss: 1.0683 - mean_absolute_error: 0.8374 - val_loss: 1.3732 - val_mean_absolute_error: 0.9593\n",
      "Epoch 18/100\n",
      "64000/64000 [==============================] - 5s 75us/step - loss: 1.0539 - mean_absolute_error: 0.8311 - val_loss: 1.3912 - val_mean_absolute_error: 0.9657\n",
      "Epoch 19/100\n",
      "44032/64000 [===================>..........] - ETA: 1s - loss: 1.0364 - mean_absolute_error: 0.822464000/64000 [==============================] - 5s 75us/step - loss: 1.0438 - mean_absolute_error: 0.8250 - val_loss: 1.4149 - val_mean_absolute_error: 0.9679\n",
      "Epoch 20/100\n",
      "64000/64000 [==============================] - 5s 75us/step - loss: 1.0371 - mean_absolute_error: 0.8223 - val_loss: 1.4086 - val_mean_absolute_error: 0.9689\n",
      "Epoch 21/100\n",
      "64000/64000 [==============================] - 5s 75us/step - loss: 1.0233 - mean_absolute_error: 0.8144 - val_loss: 1.4293 - val_mean_absolute_error: 0.9710\n",
      "Epoch 22/100\n",
      "43488/64000 [===================>..........] - ETA: 1s - loss: 1.0045 - mean_absolute_error: 0.806764000/64000 [==============================] - 5s 75us/step - loss: 1.0158 - mean_absolute_error: 0.8116 - val_loss: 1.4327 - val_mean_absolute_error: 0.9755\n",
      "Epoch 23/100\n",
      "64000/64000 [==============================] - 5s 75us/step - loss: 1.0102 - mean_absolute_error: 0.8094 - val_loss: 1.4337 - val_mean_absolute_error: 0.9757\n",
      "Total time :  113.36257100105286\n",
      "MAE :  1.2700539621710778\n"
     ]
    }
   ],
   "source": [
    "K_LATENT = 20\n",
    "hidden_dim = 100\n",
    "do = 0.5\n",
    "oprimaizer_name = 'nadam'\n",
    "loss_function = 'mse'\n",
    "activ_func ='linear'\n",
    "\n",
    "\n",
    "Gender_NCFG_model = get_ncf_model_gender(max_userid,max_movieid,K_LATENT,hidden_dim,do)\n",
    "Gender_NCFG_model.compile(loss=loss_function,optimizer=oprimaizer_name,metrics=['mae'])\n",
    "ini = time.time()\n",
    "\n",
    "callbacks_ncfgender = [EarlyStopping('val_loss', patience=20), \n",
    "             ModelCheckpoint(MODEL_WEIGHTS_FILE_CORE+'_ncfg_'+str(do)+'_'+str(K_LATENT)+'.h5', save_best_only=True)]\n",
    "history = Gender_NCFG_model.fit([Users, Movies,Gender], Ratings, nb_epoch=100,validation_data=([Users1,Movies1,Gender1], Ratings1), validation_split=.2, verbose=1, callbacks=callbacks_ncfgender, batch_size = 32)\n",
    "\n",
    "\n",
    "end = time.time()\n",
    "print (\"Total time : \",end-ini)\n",
    "print(\"MAE : \" , min(history.history['val_loss']))                                    "
   ]
  },
  {
   "cell_type": "code",
   "execution_count": 95,
   "metadata": {
    "colab": {
     "autoexec": {
      "startup": false,
      "wait_interval": 0
     },
     "base_uri": "https://localhost:8080/",
     "height": 68
    },
    "colab_type": "code",
    "executionInfo": {
     "elapsed": 1426,
     "status": "ok",
     "timestamp": 1532964089796,
     "user": {
      "displayName": "orelie shahar",
      "photoUrl": "https://lh3.googleusercontent.com/a/default-user=s128",
      "userId": "104271544169794618728"
     },
     "user_tz": -180
    },
    "id": "1WTdCML8itBu",
    "outputId": "d6d45076-6655-48cf-e1fa-5e65dd73b7a1"
   },
   "outputs": [
    {
     "name": "stdout",
     "output_type": "stream",
     "text": [
      "16000/16000 [==============================] - 1s 35us/step\n",
      "Test MSE: 1.4337351348400116\n",
      "Test MAE: 0.9757064599990845\n"
     ]
    }
   ],
   "source": [
    "score =Gender_NCFG_model.evaluate([Users1,Movies1,Gender1], Ratings1,verbose=1)\n",
    "print('Test MSE:', score[0])\n",
    "print('Test MAE:', score[1])"
   ]
  },
  {
   "cell_type": "markdown",
   "metadata": {
    "colab_type": "text",
    "id": "PL8oyK3ti21i"
   },
   "source": [
    "### NCF and age as feature"
   ]
  },
  {
   "cell_type": "code",
   "execution_count": 96,
   "metadata": {
    "colab": {
     "autoexec": {
      "startup": false,
      "wait_interval": 0
     },
     "base_uri": "https://localhost:8080/",
     "height": 802
    },
    "colab_type": "code",
    "executionInfo": {
     "elapsed": 106080,
     "status": "ok",
     "timestamp": 1532964196230,
     "user": {
      "displayName": "orelie shahar",
      "photoUrl": "https://lh3.googleusercontent.com/a/default-user=s128",
      "userId": "104271544169794618728"
     },
     "user_tz": -180
    },
    "id": "9OyyU8JotHHa",
    "outputId": "63e773e8-eee0-4d52-de7f-c4ec063c4380"
   },
   "outputs": [
    {
     "name": "stdout",
     "output_type": "stream",
     "text": [
      "Train on 64000 samples, validate on 16000 samples\n",
      "Epoch 1/100\n",
      "64000/64000 [==============================] - 6s 101us/step - loss: 1.0096 - mean_absolute_error: 1.0096 - val_loss: 0.9127 - val_mean_absolute_error: 0.9127\n",
      "Epoch 2/100\n",
      "64000/64000 [==============================] - 5s 75us/step - loss: 0.9310 - mean_absolute_error: 0.9310 - val_loss: 0.9271 - val_mean_absolute_error: 0.9271\n",
      "Epoch 3/100\n",
      "64000/64000 [==============================] - 5s 75us/step - loss: 0.9198 - mean_absolute_error: 0.9198 - val_loss: 0.9197 - val_mean_absolute_error: 0.9197\n",
      "Epoch 4/100\n",
      "15136/64000 [======>.......................] - ETA: 3s - loss: 0.9067 - mean_absolute_error: 0.906764000/64000 [==============================] - 5s 76us/step - loss: 0.9100 - mean_absolute_error: 0.9100 - val_loss: 0.9319 - val_mean_absolute_error: 0.9319\n",
      "Epoch 5/100\n",
      "64000/64000 [==============================] - 5s 76us/step - loss: 0.8999 - mean_absolute_error: 0.8999 - val_loss: 0.9352 - val_mean_absolute_error: 0.9352\n",
      "Epoch 6/100\n",
      "64000/64000 [==============================] - 5s 75us/step - loss: 0.8923 - mean_absolute_error: 0.8923 - val_loss: 0.9290 - val_mean_absolute_error: 0.9290\n",
      "Epoch 7/100\n",
      "38144/64000 [================>.............] - ETA: 1s - loss: 0.8806 - mean_absolute_error: 0.880664000/64000 [==============================] - 5s 76us/step - loss: 0.8847 - mean_absolute_error: 0.8847 - val_loss: 0.9324 - val_mean_absolute_error: 0.9324\n",
      "Epoch 8/100\n",
      "64000/64000 [==============================] - 5s 76us/step - loss: 0.8767 - mean_absolute_error: 0.8767 - val_loss: 0.9393 - val_mean_absolute_error: 0.9393\n",
      "Epoch 9/100\n",
      "64000/64000 [==============================] - 5s 76us/step - loss: 0.8682 - mean_absolute_error: 0.8682 - val_loss: 0.9429 - val_mean_absolute_error: 0.9429\n",
      "Epoch 10/100\n",
      "41440/64000 [==================>...........] - ETA: 1s - loss: 0.8557 - mean_absolute_error: 0.855764000/64000 [==============================] - 5s 75us/step - loss: 0.8597 - mean_absolute_error: 0.8597 - val_loss: 0.9461 - val_mean_absolute_error: 0.9461\n",
      "Epoch 11/100\n",
      "64000/64000 [==============================] - 5s 75us/step - loss: 0.8523 - mean_absolute_error: 0.8523 - val_loss: 0.9430 - val_mean_absolute_error: 0.9430\n",
      "Epoch 12/100\n",
      "64000/64000 [==============================] - 5s 76us/step - loss: 0.8453 - mean_absolute_error: 0.8453 - val_loss: 0.9453 - val_mean_absolute_error: 0.9453\n",
      "Epoch 13/100\n",
      "42176/64000 [==================>...........] - ETA: 1s - loss: 0.8360 - mean_absolute_error: 0.836064000/64000 [==============================] - 5s 76us/step - loss: 0.8376 - mean_absolute_error: 0.8376 - val_loss: 0.9576 - val_mean_absolute_error: 0.9576\n",
      "Epoch 14/100\n",
      "64000/64000 [==============================] - 5s 77us/step - loss: 0.8303 - mean_absolute_error: 0.8303 - val_loss: 0.9505 - val_mean_absolute_error: 0.9505\n",
      "Epoch 15/100\n",
      "64000/64000 [==============================] - 5s 75us/step - loss: 0.8249 - mean_absolute_error: 0.8249 - val_loss: 0.9565 - val_mean_absolute_error: 0.9565\n",
      "Epoch 16/100\n",
      "42688/64000 [===================>..........] - ETA: 1s - loss: 0.8158 - mean_absolute_error: 0.815864000/64000 [==============================] - 5s 75us/step - loss: 0.8181 - mean_absolute_error: 0.8181 - val_loss: 0.9740 - val_mean_absolute_error: 0.9740\n",
      "Epoch 17/100\n",
      "64000/64000 [==============================] - 5s 75us/step - loss: 0.8132 - mean_absolute_error: 0.8132 - val_loss: 0.9580 - val_mean_absolute_error: 0.9580\n",
      "Epoch 18/100\n",
      "64000/64000 [==============================] - 5s 74us/step - loss: 0.8074 - mean_absolute_error: 0.8074 - val_loss: 0.9693 - val_mean_absolute_error: 0.9693\n",
      "Epoch 19/100\n",
      "44128/64000 [===================>..........] - ETA: 1s - loss: 0.8001 - mean_absolute_error: 0.800164000/64000 [==============================] - 5s 75us/step - loss: 0.8022 - mean_absolute_error: 0.8022 - val_loss: 0.9663 - val_mean_absolute_error: 0.9663\n",
      "Epoch 20/100\n",
      "64000/64000 [==============================] - 5s 75us/step - loss: 0.7974 - mean_absolute_error: 0.7974 - val_loss: 0.9691 - val_mean_absolute_error: 0.9691\n",
      "Epoch 21/100\n",
      "64000/64000 [==============================] - 5s 75us/step - loss: 0.7930 - mean_absolute_error: 0.7930 - val_loss: 0.9670 - val_mean_absolute_error: 0.9670\n",
      "Total time :  104.79256510734558\n",
      "MAE :  0.9127242756485939\n"
     ]
    }
   ],
   "source": [
    "###K_LATENT = 20\n",
    "hidden_dim = 100\n",
    "do = 0.1\n",
    "oprimaizer_name = 'nadam'\n",
    "loss_function = 'mae'\n",
    "activ_func ='relu'\n",
    "\n",
    "\n",
    "Age_NCFG_model = get_ncf_model_age(max_userid,max_movieid,K_LATENT,hidden_dim,do)\n",
    "Age_NCFG_model.compile(loss=loss_function,optimizer=oprimaizer_name,metrics=['mae'])\n",
    "ini = time.time()\n",
    "\n",
    "callbacks_ncfAge = [EarlyStopping('val_loss', patience=20), \n",
    "             ModelCheckpoint(MODEL_WEIGHTS_FILE_CORE+'_ncfg_'+str(do)+'_'+str(K_LATENT)+'.h5', save_best_only=True)]\n",
    "history = Age_NCFG_model.fit([Users, Movies,Age], Ratings, nb_epoch=100, validation_split=.2,validation_data=([Users1,Movies1,Age1], Ratings1), verbose=1, callbacks=callbacks_ncfAge, batch_size = 32)\n",
    "\n",
    "\n",
    "end = time.time()\n",
    "print (\"Total time : \",end-ini)\n",
    "print(\"MAE : \" , min(history.history['val_loss']))                                    "
   ]
  },
  {
   "cell_type": "code",
   "execution_count": 97,
   "metadata": {
    "colab": {
     "autoexec": {
      "startup": false,
      "wait_interval": 0
     },
     "base_uri": "https://localhost:8080/",
     "height": 68
    },
    "colab_type": "code",
    "executionInfo": {
     "elapsed": 1420,
     "status": "ok",
     "timestamp": 1532964197703,
     "user": {
      "displayName": "orelie shahar",
      "photoUrl": "https://lh3.googleusercontent.com/a/default-user=s128",
      "userId": "104271544169794618728"
     },
     "user_tz": -180
    },
    "id": "W-39rl0giunt",
    "outputId": "e4c2d24c-b72e-4a69-bc7f-d1070dcf00f0"
   },
   "outputs": [
    {
     "name": "stdout",
     "output_type": "stream",
     "text": [
      "16000/16000 [==============================] - 1s 36us/step\n",
      "Test MSE: 0.9669711590409279\n",
      "Test MAE: 0.9669711590409279\n"
     ]
    }
   ],
   "source": [
    "score =Age_NCFG_model.evaluate([Users1,Movies1,Age1], Ratings1,verbose=1)\n",
    "print('Test MSE:', score[0])\n",
    "print('Test MAE:', score[1])"
   ]
  },
  {
   "cell_type": "markdown",
   "metadata": {
    "colab_type": "text",
    "id": "b98tN-eeqoBu"
   },
   "source": [
    "### drop-out = 0.5"
   ]
  },
  {
   "cell_type": "code",
   "execution_count": 98,
   "metadata": {
    "colab": {
     "autoexec": {
      "startup": false,
      "wait_interval": 0
     },
     "base_uri": "https://localhost:8080/",
     "height": 1006
    },
    "colab_type": "code",
    "executionInfo": {
     "elapsed": 135149,
     "status": "ok",
     "timestamp": 1532964333275,
     "user": {
      "displayName": "orelie shahar",
      "photoUrl": "https://lh3.googleusercontent.com/a/default-user=s128",
      "userId": "104271544169794618728"
     },
     "user_tz": -180
    },
    "id": "xMk6OM2gqoLN",
    "outputId": "940fab10-a189-4bc2-8567-a8fef75a4d25"
   },
   "outputs": [
    {
     "name": "stdout",
     "output_type": "stream",
     "text": [
      "Train on 64000 samples, validate on 16000 samples\n",
      "Epoch 1/100\n",
      "64000/64000 [==============================] - 7s 103us/step - loss: 1.0808 - mean_absolute_error: 1.0808 - val_loss: 0.9465 - val_mean_absolute_error: 0.9465\n",
      "Epoch 2/100\n",
      "64000/64000 [==============================] - 5s 75us/step - loss: 0.9520 - mean_absolute_error: 0.9520 - val_loss: 0.9391 - val_mean_absolute_error: 0.9391\n",
      "Epoch 3/100\n",
      "64000/64000 [==============================] - 5s 75us/step - loss: 0.9288 - mean_absolute_error: 0.9288 - val_loss: 0.9212 - val_mean_absolute_error: 0.9212\n",
      "Epoch 4/100\n",
      "14400/64000 [=====>........................] - ETA: 3s - loss: 0.9179 - mean_absolute_error: 0.917964000/64000 [==============================] - 5s 75us/step - loss: 0.9161 - mean_absolute_error: 0.9161 - val_loss: 0.9216 - val_mean_absolute_error: 0.9216\n",
      "Epoch 5/100\n",
      "64000/64000 [==============================] - 5s 75us/step - loss: 0.9042 - mean_absolute_error: 0.9042 - val_loss: 0.9210 - val_mean_absolute_error: 0.9210\n",
      "Epoch 6/100\n",
      "64000/64000 [==============================] - 5s 75us/step - loss: 0.8937 - mean_absolute_error: 0.8937 - val_loss: 0.9104 - val_mean_absolute_error: 0.9104\n",
      "Epoch 7/100\n",
      "39328/64000 [=================>............] - ETA: 1s - loss: 0.8838 - mean_absolute_error: 0.883864000/64000 [==============================] - 5s 75us/step - loss: 0.8831 - mean_absolute_error: 0.8831 - val_loss: 0.9039 - val_mean_absolute_error: 0.9039\n",
      "Epoch 8/100\n",
      "64000/64000 [==============================] - 5s 75us/step - loss: 0.8739 - mean_absolute_error: 0.8739 - val_loss: 0.9069 - val_mean_absolute_error: 0.9069\n",
      "Epoch 9/100\n",
      "64000/64000 [==============================] - 5s 76us/step - loss: 0.8685 - mean_absolute_error: 0.8685 - val_loss: 0.9091 - val_mean_absolute_error: 0.9091\n",
      "Epoch 10/100\n",
      "42048/64000 [==================>...........] - ETA: 1s - loss: 0.8629 - mean_absolute_error: 0.862964000/64000 [==============================] - 5s 76us/step - loss: 0.8648 - mean_absolute_error: 0.8648 - val_loss: 0.9086 - val_mean_absolute_error: 0.9086\n",
      "Epoch 11/100\n",
      "64000/64000 [==============================] - 5s 76us/step - loss: 0.8616 - mean_absolute_error: 0.8616 - val_loss: 0.9122 - val_mean_absolute_error: 0.9122\n",
      "Epoch 12/100\n",
      "64000/64000 [==============================] - 5s 75us/step - loss: 0.8585 - mean_absolute_error: 0.8585 - val_loss: 0.9120 - val_mean_absolute_error: 0.9120\n",
      "Epoch 13/100\n",
      "42112/64000 [==================>...........] - ETA: 1s - loss: 0.8533 - mean_absolute_error: 0.853364000/64000 [==============================] - 5s 76us/step - loss: 0.8562 - mean_absolute_error: 0.8562 - val_loss: 0.9157 - val_mean_absolute_error: 0.9157\n",
      "Epoch 14/100\n",
      "64000/64000 [==============================] - 5s 75us/step - loss: 0.8533 - mean_absolute_error: 0.8533 - val_loss: 0.9203 - val_mean_absolute_error: 0.9203\n",
      "Epoch 15/100\n",
      "64000/64000 [==============================] - 5s 75us/step - loss: 0.8500 - mean_absolute_error: 0.8500 - val_loss: 0.9134 - val_mean_absolute_error: 0.9134\n",
      "Epoch 16/100\n",
      "43232/64000 [===================>..........] - ETA: 1s - loss: 0.8483 - mean_absolute_error: 0.848364000/64000 [==============================] - 5s 75us/step - loss: 0.8482 - mean_absolute_error: 0.8482 - val_loss: 0.9169 - val_mean_absolute_error: 0.9169\n",
      "Epoch 17/100\n",
      "64000/64000 [==============================] - 5s 75us/step - loss: 0.8458 - mean_absolute_error: 0.8458 - val_loss: 0.9204 - val_mean_absolute_error: 0.9204\n",
      "Epoch 18/100\n",
      "64000/64000 [==============================] - 5s 76us/step - loss: 0.8434 - mean_absolute_error: 0.8434 - val_loss: 0.9204 - val_mean_absolute_error: 0.9204\n",
      "Epoch 19/100\n",
      "42304/64000 [==================>...........] - ETA: 1s - loss: 0.8420 - mean_absolute_error: 0.842064000/64000 [==============================] - 5s 76us/step - loss: 0.8413 - mean_absolute_error: 0.8413 - val_loss: 0.9238 - val_mean_absolute_error: 0.9238\n",
      "Epoch 20/100\n",
      "64000/64000 [==============================] - 5s 75us/step - loss: 0.8400 - mean_absolute_error: 0.8400 - val_loss: 0.9255 - val_mean_absolute_error: 0.9255\n",
      "Epoch 21/100\n",
      "64000/64000 [==============================] - 5s 75us/step - loss: 0.8391 - mean_absolute_error: 0.8391 - val_loss: 0.9173 - val_mean_absolute_error: 0.9173\n",
      "Epoch 22/100\n",
      "43136/64000 [===================>..........] - ETA: 1s - loss: 0.8358 - mean_absolute_error: 0.835864000/64000 [==============================] - 5s 75us/step - loss: 0.8365 - mean_absolute_error: 0.8365 - val_loss: 0.9268 - val_mean_absolute_error: 0.9268\n",
      "Epoch 23/100\n",
      "64000/64000 [==============================] - 5s 75us/step - loss: 0.8350 - mean_absolute_error: 0.8350 - val_loss: 0.9275 - val_mean_absolute_error: 0.9275\n",
      "Epoch 24/100\n",
      "64000/64000 [==============================] - 5s 75us/step - loss: 0.8346 - mean_absolute_error: 0.8346 - val_loss: 0.9220 - val_mean_absolute_error: 0.9220\n",
      "Epoch 25/100\n",
      "43200/64000 [===================>..........] - ETA: 1s - loss: 0.8332 - mean_absolute_error: 0.833264000/64000 [==============================] - 5s 76us/step - loss: 0.8337 - mean_absolute_error: 0.8337 - val_loss: 0.9251 - val_mean_absolute_error: 0.9251\n",
      "Epoch 26/100\n",
      "64000/64000 [==============================] - 5s 76us/step - loss: 0.8316 - mean_absolute_error: 0.8316 - val_loss: 0.9195 - val_mean_absolute_error: 0.9195\n",
      "Epoch 27/100\n",
      "64000/64000 [==============================] - 5s 75us/step - loss: 0.8303 - mean_absolute_error: 0.8303 - val_loss: 0.9248 - val_mean_absolute_error: 0.9248\n",
      "Total time :  134.13435792922974\n",
      "MAE :  0.9039143357872963\n"
     ]
    }
   ],
   "source": [
    "k_LATENT = 20\n",
    "hidden_dim = 100\n",
    "do = 0.5\n",
    "oprimaizer_name = 'nadam'\n",
    "loss_function = 'mae'\n",
    "activ_func ='relu'\n",
    "\n",
    "\n",
    "Age_NCFG_model = get_ncf_model_age(max_userid,max_movieid,K_LATENT,hidden_dim,do)\n",
    "Age_NCFG_model.compile(loss=loss_function,optimizer=oprimaizer_name,metrics=['mae'])\n",
    "ini = time.time()\n",
    "\n",
    "callbacks_ncfAge = [EarlyStopping('val_loss', patience=20), \n",
    "             ModelCheckpoint(MODEL_WEIGHTS_FILE_CORE+'_ncfg_'+str(do)+'_'+str(K_LATENT)+'.h5', save_best_only=True)]\n",
    "history = Age_NCFG_model.fit([Users, Movies,Age], Ratings, nb_epoch=100, validation_split=.2,validation_data=([Users1,Movies1,Age1], Ratings1), verbose=1, callbacks=callbacks_ncfAge, batch_size = 32)\n",
    "\n",
    "\n",
    "end = time.time()\n",
    "print (\"Total time : \",end-ini)\n",
    "print(\"MAE : \" , min(history.history['val_loss']))                                    "
   ]
  },
  {
   "cell_type": "code",
   "execution_count": 99,
   "metadata": {
    "colab": {
     "autoexec": {
      "startup": false,
      "wait_interval": 0
     },
     "base_uri": "https://localhost:8080/",
     "height": 68
    },
    "colab_type": "code",
    "executionInfo": {
     "elapsed": 1384,
     "status": "ok",
     "timestamp": 1532964334712,
     "user": {
      "displayName": "orelie shahar",
      "photoUrl": "https://lh3.googleusercontent.com/a/default-user=s128",
      "userId": "104271544169794618728"
     },
     "user_tz": -180
    },
    "id": "QZCSuWEZizzZ",
    "outputId": "e89380ed-8661-493e-c9c9-152f348093da"
   },
   "outputs": [
    {
     "name": "stdout",
     "output_type": "stream",
     "text": [
      "16000/16000 [==============================] - 1s 35us/step\n",
      "Test MSE: 0.9247584543228149\n",
      "Test MAE: 0.9247584543228149\n"
     ]
    }
   ],
   "source": [
    "score =Age_NCFG_model.evaluate([Users1,Movies1,Age1], Ratings1,verbose=1)\n",
    "print('Test MSE:', score[0])\n",
    "print('Test MAE:', score[1])"
   ]
  },
  {
   "cell_type": "markdown",
   "metadata": {
    "colab_type": "text",
    "id": "rkdHupAmqoW1"
   },
   "source": [
    "### optimezer = adamax"
   ]
  },
  {
   "cell_type": "code",
   "execution_count": 100,
   "metadata": {
    "colab": {
     "autoexec": {
      "startup": false,
      "wait_interval": 0
     },
     "base_uri": "https://localhost:8080/",
     "height": 836
    },
    "colab_type": "code",
    "executionInfo": {
     "elapsed": 100229,
     "status": "ok",
     "timestamp": 1532964435336,
     "user": {
      "displayName": "orelie shahar",
      "photoUrl": "https://lh3.googleusercontent.com/a/default-user=s128",
      "userId": "104271544169794618728"
     },
     "user_tz": -180
    },
    "id": "bnD4szP2qokK",
    "outputId": "681e2dde-68dc-4a02-bb94-389925c7e116"
   },
   "outputs": [
    {
     "name": "stdout",
     "output_type": "stream",
     "text": [
      "Train on 64000 samples, validate on 16000 samples\n",
      "Epoch 1/100\n",
      "64000/64000 [==============================] - 6s 96us/step - loss: 1.0944 - mean_absolute_error: 1.0944 - val_loss: 0.9317 - val_mean_absolute_error: 0.9317\n",
      "Epoch 2/100\n",
      "64000/64000 [==============================] - 4s 68us/step - loss: 0.9278 - mean_absolute_error: 0.9278 - val_loss: 0.9138 - val_mean_absolute_error: 0.9138\n",
      "Epoch 3/100\n",
      "64000/64000 [==============================] - 4s 67us/step - loss: 0.9188 - mean_absolute_error: 0.9188 - val_loss: 0.9158 - val_mean_absolute_error: 0.9158\n",
      "Epoch 4/100\n",
      "28896/64000 [============>.................] - ETA: 2s - loss: 0.9106 - mean_absolute_error: 0.910664000/64000 [==============================] - 4s 68us/step - loss: 0.9155 - mean_absolute_error: 0.9155 - val_loss: 0.9227 - val_mean_absolute_error: 0.9227\n",
      "Epoch 5/100\n",
      "64000/64000 [==============================] - 4s 67us/step - loss: 0.9130 - mean_absolute_error: 0.9130 - val_loss: 0.9359 - val_mean_absolute_error: 0.9359\n",
      "Epoch 6/100\n",
      "64000/64000 [==============================] - 4s 67us/step - loss: 0.9067 - mean_absolute_error: 0.9067 - val_loss: 0.9520 - val_mean_absolute_error: 0.9520\n",
      "Epoch 7/100\n",
      "56896/64000 [=========================>....] - ETA: 0s - loss: 0.9027 - mean_absolute_error: 0.902764000/64000 [==============================] - 4s 68us/step - loss: 0.9028 - mean_absolute_error: 0.9028 - val_loss: 0.9300 - val_mean_absolute_error: 0.9300\n",
      "Epoch 8/100\n",
      "64000/64000 [==============================] - 4s 68us/step - loss: 0.8989 - mean_absolute_error: 0.8989 - val_loss: 0.9374 - val_mean_absolute_error: 0.9374\n",
      "Epoch 9/100\n",
      "64000/64000 [==============================] - 4s 68us/step - loss: 0.8947 - mean_absolute_error: 0.8947 - val_loss: 0.9281 - val_mean_absolute_error: 0.9281\n",
      "Epoch 10/100\n",
      "60352/64000 [===========================>..] - ETA: 0s - loss: 0.8909 - mean_absolute_error: 0.890964000/64000 [==============================] - 4s 68us/step - loss: 0.8925 - mean_absolute_error: 0.8925 - val_loss: 0.9324 - val_mean_absolute_error: 0.9324\n",
      "Epoch 11/100\n",
      "64000/64000 [==============================] - 4s 67us/step - loss: 0.8883 - mean_absolute_error: 0.8883 - val_loss: 0.9358 - val_mean_absolute_error: 0.9358\n",
      "Epoch 12/100\n",
      "64000/64000 [==============================] - 4s 68us/step - loss: 0.8861 - mean_absolute_error: 0.8861 - val_loss: 0.9277 - val_mean_absolute_error: 0.9277\n",
      "Epoch 13/100\n",
      "59488/64000 [==========================>...] - ETA: 0s - loss: 0.8832 - mean_absolute_error: 0.883264000/64000 [==============================] - 4s 68us/step - loss: 0.8838 - mean_absolute_error: 0.8838 - val_loss: 0.9312 - val_mean_absolute_error: 0.9312\n",
      "Epoch 14/100\n",
      "64000/64000 [==============================] - 4s 67us/step - loss: 0.8834 - mean_absolute_error: 0.8834 - val_loss: 0.9333 - val_mean_absolute_error: 0.9333\n",
      "Epoch 15/100\n",
      "64000/64000 [==============================] - 4s 67us/step - loss: 0.8789 - mean_absolute_error: 0.8789 - val_loss: 0.9332 - val_mean_absolute_error: 0.9332\n",
      "Epoch 16/100\n",
      "60960/64000 [===========================>..] - ETA: 0s - loss: 0.8784 - mean_absolute_error: 0.878464000/64000 [==============================] - 4s 68us/step - loss: 0.8775 - mean_absolute_error: 0.8775 - val_loss: 0.9277 - val_mean_absolute_error: 0.9277\n",
      "Epoch 17/100\n",
      "64000/64000 [==============================] - 4s 68us/step - loss: 0.8746 - mean_absolute_error: 0.8746 - val_loss: 0.9323 - val_mean_absolute_error: 0.9323\n",
      "Epoch 18/100\n",
      "64000/64000 [==============================] - 4s 68us/step - loss: 0.8693 - mean_absolute_error: 0.8693 - val_loss: 0.9362 - val_mean_absolute_error: 0.9362\n",
      "Epoch 19/100\n",
      "59520/64000 [==========================>...] - ETA: 0s - loss: 0.8671 - mean_absolute_error: 0.867164000/64000 [==============================] - 4s 68us/step - loss: 0.8680 - mean_absolute_error: 0.8680 - val_loss: 0.9434 - val_mean_absolute_error: 0.9434\n",
      "Epoch 20/100\n",
      "64000/64000 [==============================] - 4s 68us/step - loss: 0.8658 - mean_absolute_error: 0.8658 - val_loss: 0.9433 - val_mean_absolute_error: 0.9433\n",
      "Epoch 21/100\n",
      "64000/64000 [==============================] - 4s 68us/step - loss: 0.8642 - mean_absolute_error: 0.8642 - val_loss: 0.9418 - val_mean_absolute_error: 0.9418\n",
      "Epoch 22/100\n",
      "60608/64000 [===========================>..] - ETA: 0s - loss: 0.8601 - mean_absolute_error: 0.860164000/64000 [==============================] - 4s 67us/step - loss: 0.8614 - mean_absolute_error: 0.8614 - val_loss: 0.9385 - val_mean_absolute_error: 0.9385\n",
      "Total time :  99.2087197303772\n",
      "MAE :  0.9138222988843918\n"
     ]
    }
   ],
   "source": [
    "K_LATENT = 20\n",
    "hidden_dim = 100\n",
    "do = 0.1\n",
    "oprimaizer_name = 'adamax'\n",
    "loss_function = 'mae'\n",
    "activ_func ='relu'\n",
    "\n",
    "\n",
    "Age_NCFG_model = get_ncf_model_age(max_userid,max_movieid,K_LATENT,hidden_dim,do)\n",
    "Age_NCFG_model.compile(loss=loss_function,optimizer=oprimaizer_name,metrics=['mae'])\n",
    "ini = time.time()\n",
    "\n",
    "callbacks_ncfAge = [EarlyStopping('val_loss', patience=20), \n",
    "             ModelCheckpoint(MODEL_WEIGHTS_FILE_CORE+'_ncfg_'+str(do)+'_'+str(K_LATENT)+'.h5', save_best_only=True)]\n",
    "history = Age_NCFG_model.fit([Users, Movies,Age], Ratings, nb_epoch=100, validation_split=.2,validation_data=([Users1,Movies1,Age1], Ratings1), verbose=1, callbacks=callbacks_ncfAge, batch_size = 32)\n",
    "\n",
    "\n",
    "end = time.time()\n",
    "print (\"Total time : \",end-ini)\n",
    "print(\"MAE : \" , min(history.history['val_loss']))                                    "
   ]
  },
  {
   "cell_type": "code",
   "execution_count": 101,
   "metadata": {
    "colab": {
     "autoexec": {
      "startup": false,
      "wait_interval": 0
     },
     "base_uri": "https://localhost:8080/",
     "height": 68
    },
    "colab_type": "code",
    "executionInfo": {
     "elapsed": 1305,
     "status": "ok",
     "timestamp": 1532964436694,
     "user": {
      "displayName": "orelie shahar",
      "photoUrl": "https://lh3.googleusercontent.com/a/default-user=s128",
      "userId": "104271544169794618728"
     },
     "user_tz": -180
    },
    "id": "kY07BydYi1DB",
    "outputId": "24d1b334-5c65-45c0-a8c5-b6666d92d15c"
   },
   "outputs": [
    {
     "name": "stdout",
     "output_type": "stream",
     "text": [
      "16000/16000 [==============================] - 1s 35us/step\n",
      "Test MSE: 0.9384622576236725\n",
      "Test MAE: 0.9384622576236725\n"
     ]
    }
   ],
   "source": [
    "score =Age_NCFG_model.evaluate([Users1,Movies1,Age1], Ratings1,verbose=1)\n",
    "print('Test MSE:', score[0])\n",
    "print('Test MAE:', score[1])"
   ]
  },
  {
   "cell_type": "markdown",
   "metadata": {
    "colab_type": "text",
    "id": "kObgrBJ4qo0-"
   },
   "source": [
    "### loss function = mse"
   ]
  },
  {
   "cell_type": "code",
   "execution_count": 102,
   "metadata": {
    "colab": {
     "autoexec": {
      "startup": false,
      "wait_interval": 0
     },
     "base_uri": "https://localhost:8080/",
     "height": 802
    },
    "colab_type": "code",
    "executionInfo": {
     "elapsed": 107384,
     "status": "ok",
     "timestamp": 1532964544498,
     "user": {
      "displayName": "orelie shahar",
      "photoUrl": "https://lh3.googleusercontent.com/a/default-user=s128",
      "userId": "104271544169794618728"
     },
     "user_tz": -180
    },
    "id": "MvrwZGeKqpCD",
    "outputId": "d512e9b2-aa33-402e-efa3-285b16a6cccf"
   },
   "outputs": [
    {
     "name": "stdout",
     "output_type": "stream",
     "text": [
      "Train on 64000 samples, validate on 16000 samples\n",
      "Epoch 1/100\n",
      "64000/64000 [==============================] - 7s 105us/step - loss: 1.5982 - mean_absolute_error: 1.0216 - val_loss: 1.2663 - val_mean_absolute_error: 0.9489\n",
      "Epoch 2/100\n",
      "64000/64000 [==============================] - 5s 76us/step - loss: 1.2940 - mean_absolute_error: 0.9376 - val_loss: 1.3182 - val_mean_absolute_error: 0.9604\n",
      "Epoch 3/100\n",
      "64000/64000 [==============================] - 5s 76us/step - loss: 1.2723 - mean_absolute_error: 0.9281 - val_loss: 1.2746 - val_mean_absolute_error: 0.9398\n",
      "Epoch 4/100\n",
      "14336/64000 [=====>........................] - ETA: 3s - loss: 1.2331 - mean_absolute_error: 0.911464000/64000 [==============================] - 5s 76us/step - loss: 1.2543 - mean_absolute_error: 0.9197 - val_loss: 1.2985 - val_mean_absolute_error: 0.9350\n",
      "Epoch 5/100\n",
      "64000/64000 [==============================] - 5s 76us/step - loss: 1.2382 - mean_absolute_error: 0.9132 - val_loss: 1.3301 - val_mean_absolute_error: 0.9634\n",
      "Epoch 6/100\n",
      "64000/64000 [==============================] - 5s 76us/step - loss: 1.2194 - mean_absolute_error: 0.9042 - val_loss: 1.2998 - val_mean_absolute_error: 0.9482\n",
      "Epoch 7/100\n",
      "37408/64000 [================>.............] - ETA: 1s - loss: 1.1875 - mean_absolute_error: 0.889164000/64000 [==============================] - 5s 76us/step - loss: 1.2034 - mean_absolute_error: 0.8974 - val_loss: 1.3160 - val_mean_absolute_error: 0.9446\n",
      "Epoch 8/100\n",
      "64000/64000 [==============================] - 5s 76us/step - loss: 1.1873 - mean_absolute_error: 0.8893 - val_loss: 1.3545 - val_mean_absolute_error: 0.9417\n",
      "Epoch 9/100\n",
      "64000/64000 [==============================] - 5s 76us/step - loss: 1.1716 - mean_absolute_error: 0.8815 - val_loss: 1.3390 - val_mean_absolute_error: 0.9511\n",
      "Epoch 10/100\n",
      "41056/64000 [==================>...........] - ETA: 1s - loss: 1.1449 - mean_absolute_error: 0.869564000/64000 [==============================] - 5s 76us/step - loss: 1.1511 - mean_absolute_error: 0.8724 - val_loss: 1.3841 - val_mean_absolute_error: 0.9746\n",
      "Epoch 11/100\n",
      "64000/64000 [==============================] - 5s 76us/step - loss: 1.1343 - mean_absolute_error: 0.8653 - val_loss: 1.4221 - val_mean_absolute_error: 0.9845\n",
      "Epoch 12/100\n",
      "64000/64000 [==============================] - 5s 77us/step - loss: 1.1171 - mean_absolute_error: 0.8568 - val_loss: 1.3909 - val_mean_absolute_error: 0.9499\n",
      "Epoch 13/100\n",
      "41120/64000 [==================>...........] - ETA: 1s - loss: 1.0850 - mean_absolute_error: 0.842464000/64000 [==============================] - 5s 76us/step - loss: 1.1006 - mean_absolute_error: 0.8489 - val_loss: 1.4027 - val_mean_absolute_error: 0.9608\n",
      "Epoch 14/100\n",
      "64000/64000 [==============================] - 5s 76us/step - loss: 1.0896 - mean_absolute_error: 0.8440 - val_loss: 1.4387 - val_mean_absolute_error: 0.9657\n",
      "Epoch 15/100\n",
      "64000/64000 [==============================] - 5s 77us/step - loss: 1.0711 - mean_absolute_error: 0.8348 - val_loss: 1.4509 - val_mean_absolute_error: 0.9648\n",
      "Epoch 16/100\n",
      "39360/64000 [=================>............] - ETA: 1s - loss: 1.0509 - mean_absolute_error: 0.825964000/64000 [==============================] - 5s 78us/step - loss: 1.0587 - mean_absolute_error: 0.8293 - val_loss: 1.4087 - val_mean_absolute_error: 0.9667\n",
      "Epoch 17/100\n",
      "64000/64000 [==============================] - 5s 77us/step - loss: 1.0456 - mean_absolute_error: 0.8231 - val_loss: 1.4487 - val_mean_absolute_error: 0.9731\n",
      "Epoch 18/100\n",
      "64000/64000 [==============================] - 5s 77us/step - loss: 1.0351 - mean_absolute_error: 0.8185 - val_loss: 1.4566 - val_mean_absolute_error: 0.9767\n",
      "Epoch 19/100\n",
      "39584/64000 [=================>............] - ETA: 1s - loss: 1.0179 - mean_absolute_error: 0.808964000/64000 [==============================] - 5s 77us/step - loss: 1.0211 - mean_absolute_error: 0.8118 - val_loss: 1.4596 - val_mean_absolute_error: 0.9795\n",
      "Epoch 20/100\n",
      "64000/64000 [==============================] - 5s 77us/step - loss: 1.0093 - mean_absolute_error: 0.8062 - val_loss: 1.4698 - val_mean_absolute_error: 0.9835\n",
      "Epoch 21/100\n",
      "64000/64000 [==============================] - 5s 76us/step - loss: 0.9959 - mean_absolute_error: 0.7993 - val_loss: 1.4982 - val_mean_absolute_error: 0.9899\n",
      "Total time :  106.48287749290466\n",
      "MAE :  1.2662757230997086\n"
     ]
    }
   ],
   "source": [
    "K_LATENT = 20\n",
    "hidden_dim = 100\n",
    "do = 0.1\n",
    "oprimaizer_name = 'nadam'\n",
    "loss_function = 'mse'\n",
    "activ_func ='relu'\n",
    "\n",
    "\n",
    "Age_NCFG_model = get_ncf_model_age(max_userid,max_movieid,K_LATENT,hidden_dim,do)\n",
    "Age_NCFG_model.compile(loss=loss_function,optimizer=oprimaizer_name,metrics=['mae'])\n",
    "ini = time.time()\n",
    "\n",
    "callbacks_ncfAge = [EarlyStopping('val_loss', patience=20), \n",
    "             ModelCheckpoint(MODEL_WEIGHTS_FILE_CORE+'_ncfg_'+str(do)+'_'+str(K_LATENT)+'.h5', save_best_only=True)]\n",
    "history = Age_NCFG_model.fit([Users, Movies,Age], Ratings, nb_epoch=100,validation_data=([Users1,Movies1,Age1], Ratings1), validation_split=.2, verbose=1, callbacks=callbacks_ncfAge, batch_size = 32)\n",
    "\n",
    "\n",
    "end = time.time()\n",
    "print (\"Total time : \",end-ini)\n",
    "print(\"MAE : \" , min(history.history['val_loss']))                                    "
   ]
  },
  {
   "cell_type": "code",
   "execution_count": 103,
   "metadata": {
    "colab": {
     "autoexec": {
      "startup": false,
      "wait_interval": 0
     },
     "base_uri": "https://localhost:8080/",
     "height": 68
    },
    "colab_type": "code",
    "executionInfo": {
     "elapsed": 1396,
     "status": "ok",
     "timestamp": 1532964545948,
     "user": {
      "displayName": "orelie shahar",
      "photoUrl": "https://lh3.googleusercontent.com/a/default-user=s128",
      "userId": "104271544169794618728"
     },
     "user_tz": -180
    },
    "id": "0Yf3laMgi2SJ",
    "outputId": "6ea7423a-f69b-43b2-a745-8d82d91c22c3"
   },
   "outputs": [
    {
     "name": "stdout",
     "output_type": "stream",
     "text": [
      "16000/16000 [==============================] - 1s 36us/step\n",
      "Test MSE: 1.4981908673048019\n",
      "Test MAE: 0.9899061049222946\n"
     ]
    }
   ],
   "source": [
    "score =Age_NCFG_model.evaluate([Users1,Movies1,Age1], Ratings1,verbose=1)\n",
    "print('Test MSE:', score[0])\n",
    "print('Test MAE:', score[1])"
   ]
  },
  {
   "cell_type": "markdown",
   "metadata": {
    "colab_type": "text",
    "id": "sRATlnDYsmhB"
   },
   "source": [
    "### activation function = selu layer size 20"
   ]
  },
  {
   "cell_type": "code",
   "execution_count": 104,
   "metadata": {
    "colab": {
     "autoexec": {
      "startup": false,
      "wait_interval": 0
     },
     "base_uri": "https://localhost:8080/",
     "height": 1142
    },
    "colab_type": "code",
    "executionInfo": {
     "elapsed": 152041,
     "status": "ok",
     "timestamp": 1532964698393,
     "user": {
      "displayName": "orelie shahar",
      "photoUrl": "https://lh3.googleusercontent.com/a/default-user=s128",
      "userId": "104271544169794618728"
     },
     "user_tz": -180
    },
    "id": "rW3R0OfWsmx9",
    "outputId": "bb47aae8-0eb7-40ae-f84a-cd1f799fbd26"
   },
   "outputs": [
    {
     "name": "stdout",
     "output_type": "stream",
     "text": [
      "Train on 64000 samples, validate on 16000 samples\n",
      "Epoch 1/100\n",
      "64000/64000 [==============================] - 7s 103us/step - loss: 1.0893 - mean_absolute_error: 1.0893 - val_loss: 0.9270 - val_mean_absolute_error: 0.9270\n",
      "Epoch 2/100\n",
      "64000/64000 [==============================] - 5s 74us/step - loss: 0.9290 - mean_absolute_error: 0.9290 - val_loss: 0.9208 - val_mean_absolute_error: 0.9208\n",
      "Epoch 3/100\n",
      "64000/64000 [==============================] - 5s 73us/step - loss: 0.9225 - mean_absolute_error: 0.9225 - val_loss: 0.9230 - val_mean_absolute_error: 0.9230\n",
      "Epoch 4/100\n",
      "17600/64000 [=======>......................] - ETA: 3s - loss: 0.9181 - mean_absolute_error: 0.918164000/64000 [==============================] - 5s 74us/step - loss: 0.9134 - mean_absolute_error: 0.9134 - val_loss: 0.9377 - val_mean_absolute_error: 0.9377\n",
      "Epoch 5/100\n",
      "64000/64000 [==============================] - 5s 74us/step - loss: 0.9054 - mean_absolute_error: 0.9054 - val_loss: 0.9123 - val_mean_absolute_error: 0.9123\n",
      "Epoch 6/100\n",
      "64000/64000 [==============================] - 5s 73us/step - loss: 0.8959 - mean_absolute_error: 0.8959 - val_loss: 0.9183 - val_mean_absolute_error: 0.9183\n",
      "Epoch 7/100\n",
      "42944/64000 [===================>..........] - ETA: 1s - loss: 0.8877 - mean_absolute_error: 0.887764000/64000 [==============================] - 5s 73us/step - loss: 0.8878 - mean_absolute_error: 0.8878 - val_loss: 0.9199 - val_mean_absolute_error: 0.9199\n",
      "Epoch 8/100\n",
      "64000/64000 [==============================] - 5s 74us/step - loss: 0.8791 - mean_absolute_error: 0.8791 - val_loss: 0.9231 - val_mean_absolute_error: 0.9231\n",
      "Epoch 9/100\n",
      "64000/64000 [==============================] - 5s 74us/step - loss: 0.8711 - mean_absolute_error: 0.8711 - val_loss: 0.9143 - val_mean_absolute_error: 0.9143\n",
      "Epoch 10/100\n",
      "46816/64000 [====================>.........] - ETA: 1s - loss: 0.8618 - mean_absolute_error: 0.861864000/64000 [==============================] - 5s 73us/step - loss: 0.8635 - mean_absolute_error: 0.8635 - val_loss: 0.9118 - val_mean_absolute_error: 0.9118\n",
      "Epoch 11/100\n",
      "64000/64000 [==============================] - 5s 73us/step - loss: 0.8578 - mean_absolute_error: 0.8578 - val_loss: 0.9105 - val_mean_absolute_error: 0.9105\n",
      "Epoch 12/100\n",
      "64000/64000 [==============================] - 5s 74us/step - loss: 0.8529 - mean_absolute_error: 0.8529 - val_loss: 0.9109 - val_mean_absolute_error: 0.9109\n",
      "Epoch 13/100\n",
      "46432/64000 [====================>.........] - ETA: 1s - loss: 0.8466 - mean_absolute_error: 0.846664000/64000 [==============================] - 5s 74us/step - loss: 0.8510 - mean_absolute_error: 0.8510 - val_loss: 0.9120 - val_mean_absolute_error: 0.9120\n",
      "Epoch 14/100\n",
      "64000/64000 [==============================] - 5s 73us/step - loss: 0.8485 - mean_absolute_error: 0.8485 - val_loss: 0.9205 - val_mean_absolute_error: 0.9205\n",
      "Epoch 15/100\n",
      "64000/64000 [==============================] - 5s 74us/step - loss: 0.8456 - mean_absolute_error: 0.8456 - val_loss: 0.9227 - val_mean_absolute_error: 0.9227\n",
      "Epoch 16/100\n",
      "44480/64000 [===================>..........] - ETA: 1s - loss: 0.8401 - mean_absolute_error: 0.840164000/64000 [==============================] - 5s 77us/step - loss: 0.8441 - mean_absolute_error: 0.8441 - val_loss: 0.9149 - val_mean_absolute_error: 0.9149\n",
      "Epoch 17/100\n",
      "64000/64000 [==============================] - 5s 77us/step - loss: 0.8412 - mean_absolute_error: 0.8412 - val_loss: 0.9144 - val_mean_absolute_error: 0.9144\n",
      "Epoch 18/100\n",
      "64000/64000 [==============================] - 5s 77us/step - loss: 0.8392 - mean_absolute_error: 0.8392 - val_loss: 0.9185 - val_mean_absolute_error: 0.9185\n",
      "Epoch 19/100\n",
      "41888/64000 [==================>...........] - ETA: 1s - loss: 0.8332 - mean_absolute_error: 0.833264000/64000 [==============================] - 5s 75us/step - loss: 0.8358 - mean_absolute_error: 0.8358 - val_loss: 0.9164 - val_mean_absolute_error: 0.9164\n",
      "Epoch 20/100\n",
      "64000/64000 [==============================] - 5s 74us/step - loss: 0.8345 - mean_absolute_error: 0.8345 - val_loss: 0.9270 - val_mean_absolute_error: 0.9270\n",
      "Epoch 21/100\n",
      "64000/64000 [==============================] - 5s 74us/step - loss: 0.8327 - mean_absolute_error: 0.8327 - val_loss: 0.9223 - val_mean_absolute_error: 0.9223\n",
      "Epoch 22/100\n",
      "44608/64000 [===================>..........] - ETA: 1s - loss: 0.8301 - mean_absolute_error: 0.830164000/64000 [==============================] - 5s 74us/step - loss: 0.8301 - mean_absolute_error: 0.8301 - val_loss: 0.9254 - val_mean_absolute_error: 0.9254\n",
      "Epoch 23/100\n",
      "64000/64000 [==============================] - 5s 74us/step - loss: 0.8296 - mean_absolute_error: 0.8296 - val_loss: 0.9220 - val_mean_absolute_error: 0.9220\n",
      "Epoch 24/100\n",
      "64000/64000 [==============================] - 5s 74us/step - loss: 0.8271 - mean_absolute_error: 0.8271 - val_loss: 0.9273 - val_mean_absolute_error: 0.9273\n",
      "Epoch 25/100\n",
      "45952/64000 [====================>.........] - ETA: 1s - loss: 0.8222 - mean_absolute_error: 0.822264000/64000 [==============================] - 5s 73us/step - loss: 0.8257 - mean_absolute_error: 0.8257 - val_loss: 0.9288 - val_mean_absolute_error: 0.9288\n",
      "Epoch 26/100\n",
      "64000/64000 [==============================] - 5s 74us/step - loss: 0.8233 - mean_absolute_error: 0.8233 - val_loss: 0.9298 - val_mean_absolute_error: 0.9298\n",
      "Epoch 27/100\n",
      "64000/64000 [==============================] - 5s 74us/step - loss: 0.8224 - mean_absolute_error: 0.8224 - val_loss: 0.9278 - val_mean_absolute_error: 0.9278\n",
      "Epoch 28/100\n",
      "45664/64000 [====================>.........] - ETA: 1s - loss: 0.8205 - mean_absolute_error: 0.820564000/64000 [==============================] - 5s 74us/step - loss: 0.8207 - mean_absolute_error: 0.8207 - val_loss: 0.9251 - val_mean_absolute_error: 0.9251\n",
      "Epoch 29/100\n",
      "64000/64000 [==============================] - 5s 75us/step - loss: 0.8194 - mean_absolute_error: 0.8194 - val_loss: 0.9287 - val_mean_absolute_error: 0.9287\n",
      "Epoch 30/100\n",
      "64000/64000 [==============================] - 5s 74us/step - loss: 0.8192 - mean_absolute_error: 0.8192 - val_loss: 0.9324 - val_mean_absolute_error: 0.9324\n",
      "Epoch 31/100\n",
      "44448/64000 [===================>..........] - ETA: 1s - loss: 0.8144 - mean_absolute_error: 0.814464000/64000 [==============================] - 5s 74us/step - loss: 0.8172 - mean_absolute_error: 0.8172 - val_loss: 0.9299 - val_mean_absolute_error: 0.9299\n",
      "Total time :  150.90897822380066\n",
      "MAE :  0.9104601082801819\n"
     ]
    }
   ],
   "source": [
    "###K_LATENT = 20\n",
    "hidden_dim = 20\n",
    "do = 0.1\n",
    "oprimaizer_name = 'nadam'\n",
    "loss_function = 'mae'\n",
    "activ_func ='selu'\n",
    "\n",
    "\n",
    "Age_NCFG_model = get_ncf_model_age(max_userid,max_movieid,K_LATENT,hidden_dim,do)\n",
    "Age_NCFG_model.compile(loss=loss_function,optimizer=oprimaizer_name,metrics=['mae'])\n",
    "ini = time.time()\n",
    "\n",
    "callbacks_ncfAge = [EarlyStopping('val_loss', patience=20), \n",
    "             ModelCheckpoint(MODEL_WEIGHTS_FILE_CORE+'_ncfg_'+str(do)+'_'+str(K_LATENT)+'.h5', save_best_only=True)]\n",
    "history = Age_NCFG_model.fit([Users, Movies,Age], Ratings, nb_epoch=100,validation_data=([Users1,Movies1,Age1], Ratings1), validation_split=.2, verbose=1, callbacks=callbacks_ncfAge, batch_size = 32)\n",
    "\n",
    "\n",
    "end = time.time()\n",
    "print (\"Total time : \",end-ini)\n",
    "print(\"MAE : \" , min(history.history['val_loss']))                                    "
   ]
  },
  {
   "cell_type": "code",
   "execution_count": 105,
   "metadata": {
    "colab": {
     "autoexec": {
      "startup": false,
      "wait_interval": 0
     },
     "base_uri": "https://localhost:8080/",
     "height": 68
    },
    "colab_type": "code",
    "executionInfo": {
     "elapsed": 1701,
     "status": "ok",
     "timestamp": 1532964700311,
     "user": {
      "displayName": "orelie shahar",
      "photoUrl": "https://lh3.googleusercontent.com/a/default-user=s128",
      "userId": "104271544169794618728"
     },
     "user_tz": -180
    },
    "id": "hqhRoraJi4WC",
    "outputId": "29684afa-99e7-4dd4-99ee-af4ef9eb2fa4"
   },
   "outputs": [
    {
     "name": "stdout",
     "output_type": "stream",
     "text": [
      "16000/16000 [==============================] - 1s 36us/step\n",
      "Test MSE: 0.9298802262544632\n",
      "Test MAE: 0.9298802262544632\n"
     ]
    }
   ],
   "source": [
    "score =Age_NCFG_model.evaluate([Users1,Movies1,Age1], Ratings1,verbose=1)\n",
    "print('Test MSE:', score[0])\n",
    "print('Test MAE:', score[1])"
   ]
  },
  {
   "cell_type": "markdown",
   "metadata": {
    "colab_type": "text",
    "id": "0epyhyldsm6n"
   },
   "source": [
    "### activation function = linear"
   ]
  },
  {
   "cell_type": "code",
   "execution_count": 106,
   "metadata": {
    "colab": {
     "autoexec": {
      "startup": false,
      "wait_interval": 0
     },
     "base_uri": "https://localhost:8080/",
     "height": 836
    },
    "colab_type": "code",
    "executionInfo": {
     "elapsed": 113424,
     "status": "ok",
     "timestamp": 1532964813964,
     "user": {
      "displayName": "orelie shahar",
      "photoUrl": "https://lh3.googleusercontent.com/a/default-user=s128",
      "userId": "104271544169794618728"
     },
     "user_tz": -180
    },
    "id": "2Y8o0PJwsnE_",
    "outputId": "77c51aa4-5b12-460e-83e0-b6bd3ada72d2"
   },
   "outputs": [
    {
     "name": "stdout",
     "output_type": "stream",
     "text": [
      "Train on 64000 samples, validate on 16000 samples\n",
      "Epoch 1/100\n",
      "64000/64000 [==============================] - 7s 107us/step - loss: 1.0132 - mean_absolute_error: 1.0132 - val_loss: 0.9418 - val_mean_absolute_error: 0.9418\n",
      "Epoch 2/100\n",
      "64000/64000 [==============================] - 5s 76us/step - loss: 0.9257 - mean_absolute_error: 0.9257 - val_loss: 0.9179 - val_mean_absolute_error: 0.9179\n",
      "Epoch 3/100\n",
      "64000/64000 [==============================] - 5s 76us/step - loss: 0.9166 - mean_absolute_error: 0.9166 - val_loss: 0.9223 - val_mean_absolute_error: 0.9223\n",
      "Epoch 4/100\n",
      "13312/64000 [=====>........................] - ETA: 3s - loss: 0.9006 - mean_absolute_error: 0.900664000/64000 [==============================] - 5s 77us/step - loss: 0.9077 - mean_absolute_error: 0.9077 - val_loss: 0.9248 - val_mean_absolute_error: 0.9248\n",
      "Epoch 5/100\n",
      "64000/64000 [==============================] - 5s 76us/step - loss: 0.8989 - mean_absolute_error: 0.8989 - val_loss: 0.9368 - val_mean_absolute_error: 0.9368\n",
      "Epoch 6/100\n",
      "64000/64000 [==============================] - 5s 76us/step - loss: 0.8912 - mean_absolute_error: 0.8912 - val_loss: 0.9340 - val_mean_absolute_error: 0.9340\n",
      "Epoch 7/100\n",
      "37408/64000 [================>.............] - ETA: 1s - loss: 0.8797 - mean_absolute_error: 0.879764000/64000 [==============================] - 5s 76us/step - loss: 0.8827 - mean_absolute_error: 0.8827 - val_loss: 0.9361 - val_mean_absolute_error: 0.9361\n",
      "Epoch 8/100\n",
      "64000/64000 [==============================] - 5s 77us/step - loss: 0.8742 - mean_absolute_error: 0.8742 - val_loss: 0.9439 - val_mean_absolute_error: 0.9439\n",
      "Epoch 9/100\n",
      "64000/64000 [==============================] - 5s 77us/step - loss: 0.8639 - mean_absolute_error: 0.8639 - val_loss: 0.9452 - val_mean_absolute_error: 0.9452\n",
      "Epoch 10/100\n",
      "39968/64000 [=================>............] - ETA: 1s - loss: 0.8479 - mean_absolute_error: 0.847964000/64000 [==============================] - 5s 78us/step - loss: 0.8544 - mean_absolute_error: 0.8544 - val_loss: 0.9440 - val_mean_absolute_error: 0.9440\n",
      "Epoch 11/100\n",
      "64000/64000 [==============================] - 5s 77us/step - loss: 0.8465 - mean_absolute_error: 0.8465 - val_loss: 0.9493 - val_mean_absolute_error: 0.9493\n",
      "Epoch 12/100\n",
      "64000/64000 [==============================] - 5s 76us/step - loss: 0.8390 - mean_absolute_error: 0.8390 - val_loss: 0.9546 - val_mean_absolute_error: 0.9546\n",
      "Epoch 13/100\n",
      "40192/64000 [=================>............] - ETA: 1s - loss: 0.8225 - mean_absolute_error: 0.822564000/64000 [==============================] - 5s 77us/step - loss: 0.8297 - mean_absolute_error: 0.8297 - val_loss: 0.9589 - val_mean_absolute_error: 0.9589\n",
      "Epoch 14/100\n",
      "64000/64000 [==============================] - 5s 77us/step - loss: 0.8223 - mean_absolute_error: 0.8223 - val_loss: 0.9656 - val_mean_absolute_error: 0.9656\n",
      "Epoch 15/100\n",
      "64000/64000 [==============================] - 5s 77us/step - loss: 0.8149 - mean_absolute_error: 0.8149 - val_loss: 0.9627 - val_mean_absolute_error: 0.9627\n",
      "Epoch 16/100\n",
      "39776/64000 [=================>............] - ETA: 1s - loss: 0.8051 - mean_absolute_error: 0.805164000/64000 [==============================] - 5s 77us/step - loss: 0.8096 - mean_absolute_error: 0.8096 - val_loss: 0.9669 - val_mean_absolute_error: 0.9669\n",
      "Epoch 17/100\n",
      "64000/64000 [==============================] - 5s 77us/step - loss: 0.8040 - mean_absolute_error: 0.8040 - val_loss: 0.9670 - val_mean_absolute_error: 0.9670\n",
      "Epoch 18/100\n",
      "64000/64000 [==============================] - 5s 79us/step - loss: 0.7981 - mean_absolute_error: 0.7981 - val_loss: 0.9735 - val_mean_absolute_error: 0.9735\n",
      "Epoch 19/100\n",
      "38720/64000 [=================>............] - ETA: 1s - loss: 0.7879 - mean_absolute_error: 0.787964000/64000 [==============================] - 5s 77us/step - loss: 0.7927 - mean_absolute_error: 0.7927 - val_loss: 0.9637 - val_mean_absolute_error: 0.9637\n",
      "Epoch 20/100\n",
      "64000/64000 [==============================] - 5s 78us/step - loss: 0.7876 - mean_absolute_error: 0.7876 - val_loss: 0.9700 - val_mean_absolute_error: 0.9700\n",
      "Epoch 21/100\n",
      "64000/64000 [==============================] - 5s 79us/step - loss: 0.7826 - mean_absolute_error: 0.7826 - val_loss: 0.9754 - val_mean_absolute_error: 0.9754\n",
      "Epoch 22/100\n",
      "37504/64000 [================>.............] - ETA: 1s - loss: 0.7720 - mean_absolute_error: 0.772064000/64000 [==============================] - 5s 77us/step - loss: 0.7779 - mean_absolute_error: 0.7779 - val_loss: 0.9873 - val_mean_absolute_error: 0.9873\n",
      "Total time :  112.5583815574646\n",
      "MAE :  0.9179192156791687\n"
     ]
    }
   ],
   "source": [
    "###K_LATENT = 20\n",
    "hidden_dim = 100\n",
    "do = 0.1\n",
    "oprimaizer_name = 'nadam'\n",
    "loss_function = 'mae'\n",
    "activ_func ='linear'\n",
    "\n",
    "\n",
    "Age_NCFG_model = get_ncf_model_age(max_userid,max_movieid,K_LATENT,hidden_dim,do)\n",
    "Age_NCFG_model.compile(loss=loss_function,optimizer=oprimaizer_name,metrics=['mae'])\n",
    "ini = time.time()\n",
    "\n",
    "callbacks_ncfAge = [EarlyStopping('val_loss', patience=20), \n",
    "             ModelCheckpoint(MODEL_WEIGHTS_FILE_CORE+'_ncfg_'+str(do)+'_'+str(K_LATENT)+'.h5', save_best_only=True)]\n",
    "history = Age_NCFG_model.fit([Users, Movies,Age], Ratings, nb_epoch=100,validation_data=([Users1,Movies1,Age1], Ratings1), validation_split=.2, verbose=1, callbacks=callbacks_ncfAge, batch_size = 32)\n",
    "\n",
    "\n",
    "end = time.time()\n",
    "print (\"Total time : \",end-ini)\n",
    "print(\"MAE : \" , min(history.history['val_loss']))                                    "
   ]
  },
  {
   "cell_type": "code",
   "execution_count": 107,
   "metadata": {
    "colab": {
     "autoexec": {
      "startup": false,
      "wait_interval": 0
     },
     "base_uri": "https://localhost:8080/",
     "height": 68
    },
    "colab_type": "code",
    "executionInfo": {
     "elapsed": 1390,
     "status": "ok",
     "timestamp": 1532964815404,
     "user": {
      "displayName": "orelie shahar",
      "photoUrl": "https://lh3.googleusercontent.com/a/default-user=s128",
      "userId": "104271544169794618728"
     },
     "user_tz": -180
    },
    "id": "IgTO2TE-i7j1",
    "outputId": "d33ae7ec-2f2b-4d34-a417-ada7bcf22f1f"
   },
   "outputs": [
    {
     "name": "stdout",
     "output_type": "stream",
     "text": [
      "16000/16000 [==============================] - 1s 37us/step\n",
      "Test MSE: 0.9872714752554893\n",
      "Test MAE: 0.9872714752554893\n"
     ]
    }
   ],
   "source": [
    "score =Age_NCFG_model.evaluate([Users1,Movies1,Age1], Ratings1,verbose=1)\n",
    "print('Test MSE:', score[0])\n",
    "print('Test MAE:', score[1])"
   ]
  },
  {
   "cell_type": "code",
   "execution_count": 0,
   "metadata": {
    "colab": {
     "autoexec": {
      "startup": false,
      "wait_interval": 0
     }
    },
    "colab_type": "code",
    "id": "_UwCMei_tG8Y"
   },
   "outputs": [],
   "source": []
  },
  {
   "cell_type": "code",
   "execution_count": 0,
   "metadata": {
    "colab": {
     "autoexec": {
      "startup": false,
      "wait_interval": 0
     }
    },
    "colab_type": "code",
    "id": "8Wc6Ge8GtG4F"
   },
   "outputs": [],
   "source": []
  },
  {
   "cell_type": "code",
   "execution_count": 0,
   "metadata": {
    "colab": {
     "autoexec": {
      "startup": false,
      "wait_interval": 0
     }
    },
    "colab_type": "code",
    "id": "81dJSk12tGxS"
   },
   "outputs": [],
   "source": []
  }
 ],
 "metadata": {
  "colab": {
   "collapsed_sections": [
    "HwMSFzzv3yDG",
    "dMKDMUL93yD9"
   ],
   "default_view": {},
   "name": "Final project - Orelie Shahar - 305077901 .ipynb",
   "provenance": [],
   "version": "0.3.2",
   "views": {}
  },
  "kernelspec": {
   "display_name": "Python 3",
   "language": "python",
   "name": "python3"
  },
  "language_info": {
   "codemirror_mode": {
    "name": "ipython",
    "version": 3
   },
   "file_extension": ".py",
   "mimetype": "text/x-python",
   "name": "python",
   "nbconvert_exporter": "python",
   "pygments_lexer": "ipython3",
   "version": "3.6.6"
  }
 },
 "nbformat": 4,
 "nbformat_minor": 1
}
